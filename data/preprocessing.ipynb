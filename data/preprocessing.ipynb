{
  "nbformat": 4,
  "nbformat_minor": 0,
  "metadata": {
    "colab": {
      "name": "preprocessing.ipynb",
      "provenance": []
    },
    "kernelspec": {
      "name": "python3",
      "display_name": "Python 3"
    },
    "language_info": {
      "name": "python"
    }
  },
  "cells": [
    {
      "cell_type": "code",
      "source": [
        "from google.colab import drive\n",
        "drive.mount('/content/drive')"
      ],
      "metadata": {
        "id": "Y7GHSrF6Mif7"
      },
      "execution_count": null,
      "outputs": []
    },
    {
      "cell_type": "code",
      "source": [
        "!pip install pyvi"
      ],
      "metadata": {
        "id": "Y2wcWunEMlPS"
      },
      "execution_count": null,
      "outputs": []
    },
    {
      "cell_type": "code",
      "source": [
        "import pandas as pd\n",
        "import numpy as np\n",
        "import matplotlib.pyplot as plt\n",
        "import seaborn as sns\n",
        "import re\n",
        "from pyvi import ViTokenizer"
      ],
      "metadata": {
        "id": "WyZxTcI9MmqC"
      },
      "execution_count": null,
      "outputs": []
    },
    {
      "cell_type": "code",
      "execution_count": null,
      "metadata": {
        "id": "BoikBrW_MY_O"
      },
      "outputs": [],
      "source": [
        "data = pd.read_json('/content/drive/MyDrive/Colab Notebooks/sentiment-analysis/data/data_coment_tiki.json')"
      ]
    },
    {
      "cell_type": "code",
      "source": [
        "data = data.rename(columns={\"content\": \"comment\"})"
      ],
      "metadata": {
        "id": "c4GKfTJxMoqG"
      },
      "execution_count": null,
      "outputs": []
    },
    {
      "cell_type": "code",
      "source": [
        "np.random.seed(10)\n",
        "remove_n = 25000\n",
        "drop_indices = np.random.choice(data[data['rating'] == 5].index, remove_n, replace=False)\n",
        "scaled_data = data.drop(drop_indices)"
      ],
      "metadata": {
        "id": "I1UlOu10MvFm"
      },
      "execution_count": null,
      "outputs": []
    },
    {
      "cell_type": "code",
      "source": [
        "contents = []\n",
        "file_stars = []\n",
        "file_comments = []\n",
        "with open('/content/drive/MyDrive/Colab Notebooks/sentiment-analysis/data/train.txt', encoding='utf-8') as f:\n",
        "    contents = f.readlines()\n",
        "    for content in contents:\n",
        "        file_stars.append(content[0])\n",
        "        file_comments.append(content[2:-2])\n",
        "\n",
        "dictionary = {}\n",
        "dictionary['comment'] = file_comments\n",
        "dictionary['rating'] = file_stars\n",
        "_df = pd.DataFrame(data=dictionary)\n",
        "scaled_data.append(_df)\n",
        "scaled_data"
      ],
      "metadata": {
        "id": "X7neZxCIMwF4"
      },
      "execution_count": null,
      "outputs": []
    },
    {
      "cell_type": "code",
      "source": [
        "import re\n",
        "def remove_html(txt):\n",
        "    return re.sub(r'<[^>]*>', '', txt)\n",
        " \n",
        "txt = \"<p class=\\\"par\\\">This is an example</p>\"\n",
        "remove_html(txt)"
      ],
      "metadata": {
        "id": "3NzSbDqYM96c"
      },
      "execution_count": null,
      "outputs": []
    },
    {
      "cell_type": "code",
      "source": [
        "# Chuẩn hóa unicode sang chuẩn unicode dựng sẵn\n",
        "def loaddicchar():\n",
        "    dic = {}\n",
        "    char1252 = 'à|á|ả|ã|ạ|ầ|ấ|ẩ|ẫ|ậ|ằ|ắ|ẳ|ẵ|ặ|è|é|ẻ|ẽ|ẹ|ề|ế|ể|ễ|ệ|ì|í|ỉ|ĩ|ị|ò|ó|ỏ|õ|ọ|ồ|ố|ổ|ỗ|ộ|ờ|ớ|ở|ỡ|ợ|ù|ú|ủ|ũ|ụ|ừ|ứ|ử|ữ|ự|ỳ|ý|ỷ|ỹ|ỵ|À|Á|Ả|Ã|Ạ|Ầ|Ấ|Ẩ|Ẫ|Ậ|Ằ|Ắ|Ẳ|Ẵ|Ặ|È|É|Ẻ|Ẽ|Ẹ|Ề|Ế|Ể|Ễ|Ệ|Ì|Í|Ỉ|Ĩ|Ị|Ò|Ó|Ỏ|Õ|Ọ|Ồ|Ố|Ổ|Ỗ|Ộ|Ờ|Ớ|Ở|Ỡ|Ợ|Ù|Ú|Ủ|Ũ|Ụ|Ừ|Ứ|Ử|Ữ|Ự|Ỳ|Ý|Ỷ|Ỹ|Ỵ'.split(\n",
        "        '|')\n",
        "    charutf8 = \"à|á|ả|ã|ạ|ầ|ấ|ẩ|ẫ|ậ|ằ|ắ|ẳ|ẵ|ặ|è|é|ẻ|ẽ|ẹ|ề|ế|ể|ễ|ệ|ì|í|ỉ|ĩ|ị|ò|ó|ỏ|õ|ọ|ồ|ố|ổ|ỗ|ộ|ờ|ớ|ở|ỡ|ợ|ù|ú|ủ|ũ|ụ|ừ|ứ|ử|ữ|ự|ỳ|ý|ỷ|ỹ|ỵ|À|Á|Ả|Ã|Ạ|Ầ|Ấ|Ẩ|Ẫ|Ậ|Ằ|Ắ|Ẳ|Ẵ|Ặ|È|É|Ẻ|Ẽ|Ẹ|Ề|Ế|Ể|Ễ|Ệ|Ì|Í|Ỉ|Ĩ|Ị|Ò|Ó|Ỏ|Õ|Ọ|Ồ|Ố|Ổ|Ỗ|Ộ|Ờ|Ớ|Ở|Ỡ|Ợ|Ù|Ú|Ủ|Ũ|Ụ|Ừ|Ứ|Ử|Ữ|Ự|Ỳ|Ý|Ỷ|Ỹ|Ỵ\".split(\n",
        "        '|')\n",
        "    for i in range(len(char1252)):\n",
        "        dic[char1252[i]] = charutf8[i]\n",
        "    return dic\n",
        "\n",
        "\n",
        "dicchar = loaddicchar()\n",
        "\n",
        "\n",
        "def covert_unicode(txt):\n",
        "    return re.sub(\n",
        "        r'à|á|ả|ã|ạ|ầ|ấ|ẩ|ẫ|ậ|ằ|ắ|ẳ|ẵ|ặ|è|é|ẻ|ẽ|ẹ|ề|ế|ể|ễ|ệ|ì|í|ỉ|ĩ|ị|ò|ó|ỏ|õ|ọ|ồ|ố|ổ|ỗ|ộ|ờ|ớ|ở|ỡ|ợ|ù|ú|ủ|ũ|ụ|ừ|ứ|ử|ữ|ự|ỳ|ý|ỷ|ỹ|ỵ|À|Á|Ả|Ã|Ạ|Ầ|Ấ|Ẩ|Ẫ|Ậ|Ằ|Ắ|Ẳ|Ẵ|Ặ|È|É|Ẻ|Ẽ|Ẹ|Ề|Ế|Ể|Ễ|Ệ|Ì|Í|Ỉ|Ĩ|Ị|Ò|Ó|Ỏ|Õ|Ọ|Ồ|Ố|Ổ|Ỗ|Ộ|Ờ|Ớ|Ở|Ỡ|Ợ|Ù|Ú|Ủ|Ũ|Ụ|Ừ|Ứ|Ử|Ữ|Ự|Ỳ|Ý|Ỷ|Ỹ|Ỵ',\n",
        "        lambda x: dicchar[x.group()], txt)"
      ],
      "metadata": {
        "id": "bKODvQPjM_MQ"
      },
      "execution_count": null,
      "outputs": []
    },
    {
      "cell_type": "code",
      "source": [
        "acronym_words = []\n",
        "acronym_words_dict = []\n",
        "acronym_words = open('/content/drive/MyDrive/Colab Notebooks/sentiment-analysis/data/acronym_word.txt','r', encoding='utf-8')\n",
        "acronym_words = acronym_words.readlines()\n",
        "for i in range(len(acronym_words)):\n",
        "  acronym_words_split = acronym_words[i].split(\"\\t\")\n",
        "  for j in range(len(acronym_words_split)):\n",
        "    acronym_words_split[j] = re.sub(\"[\\n\\ufeff]\",'',acronym_words_split[j])\n",
        "  try:\n",
        "    acronym_words_dict.append({acronym_words_split[0]:acronym_words_split[1]})\n",
        "  except: \n",
        "    pass\n",
        "\n",
        "acronym_words_dict[:5]"
      ],
      "metadata": {
        "id": "hQAtllrrNC4W"
      },
      "execution_count": null,
      "outputs": []
    },
    {
      "cell_type": "code",
      "source": [
        "# Sử dụng bộ từ điển để thay thế các kiểu gõ dấu và viết tắt\n",
        "def replace_acronyms(text):\n",
        "  text_list = text.split(\" \");\n",
        "  for i in range(len(text_list)):\n",
        "    for j in range(len(acronym_words_dict)):\n",
        "      key = list(acronym_words_dict[j].keys())[0]\n",
        "      value = list(acronym_words_dict[j].values())[0]\n",
        "      if text_list[i] == key:\n",
        "        text_list[i] = value\n",
        "  return \" \".join(text_list)"
      ],
      "metadata": {
        "id": "-kITEoMsNEkd"
      },
      "execution_count": null,
      "outputs": []
    },
    {
      "cell_type": "code",
      "source": [
        "def standardize_data(row):\n",
        "    # Xóa dấu chấm, phẩy, hỏi ở cuối câu\n",
        "    row = re.sub(r\"[\\.,\\?]+$-\", \"\", row)\n",
        "\n",
        "    # Xóa tất cả dấu chấm, phẩy, chấm phẩy, chấm thang, dấu gạch dưới ... trong câu\n",
        "    row = row.replace(\",\", \" \").replace(\".\", \" \") \\\n",
        "        .replace(\";\", \" \").replace(\"“\", \" \") \\\n",
        "        .replace(\":\", \" \").replace(\"”\", \" \") \\\n",
        "        .replace('\"', \" \").replace(\"'\", \" \") \\\n",
        "        .replace(\"!\", \" \").replace(\"?\", \" \") \\\n",
        "        .replace(\"-\", \" \").replace(\"?\", \" \").replace(\"_\", \" \")\n",
        "    \n",
        "    # Xóa các kí tự đặc biệt\n",
        "    row = re.sub(\"\\W\",' ', row) \n",
        "\n",
        "    # Xóa các đường link\n",
        "    row = re.sub('https?://\\S+|www\\.\\S+', ' ', row)\n",
        "\n",
        "    # Xóa các số\n",
        "    row = re.sub('\\w*\\d\\w*', '', row)\n",
        "\n",
        "    #Xóa các kí tự xuống dòng\n",
        "    row = \" \".join(re.sub(\"\\n\", \" \", row).split())\n",
        "\n",
        "    row = row.strip().lower()\n",
        "    \n",
        "    return row"
      ],
      "metadata": {
        "id": "Eyg8nq1qNGME"
      },
      "execution_count": null,
      "outputs": []
    },
    {
      "cell_type": "code",
      "source": [
        "def remove_loop_char(text):\n",
        "  text = re.sub(r'([A-Z])\\1+', lambda m: m.group(1).upper(), str(text), flags=re.IGNORECASE)\n",
        "  text = re.sub(r'[^\\s\\wáàảãạăắằẳẵặâấầẩẫậéèẻẽẹêếềểễệóòỏõọôốồổỗộơớờởỡợíìỉĩịúùủũụưứừửữựýỳỷỹỵđ_]',' ',text)\n",
        "  return text"
      ],
      "metadata": {
        "id": "shG83yRwNH0A"
      },
      "execution_count": null,
      "outputs": []
    },
    {
      "cell_type": "code",
      "source": [
        "\"\"\"**Tiền xử lý dữ liệu**\"\"\"\n",
        "# Làm sạch dữ liệu\n",
        "def text_prosessing(text):\n",
        "    # Chuyển đổi thành chữ thường\n",
        "    text = text.lower() \n",
        "\n",
        "    # Xóa các đoạn mã HTML\n",
        "    text = remove_html(text)\n",
        "\n",
        "    # chuyển unicode tổ hợp sang chuẩn unicode dựng sẵn\n",
        "    text = covert_unicode(text)\n",
        "\n",
        "    # Thay thế từ viết tắt\n",
        "    text = replace_acronyms(text)\n",
        "\n",
        "    # Xóa từ dừng\n",
        "    # text = remove_stop_word(text)\n",
        "\n",
        "    # Chuẩn hóa câu\n",
        "    text = standardize_data(text)\n",
        "\n",
        "    # Xử lý các từ viết trùng lắp\n",
        "    text = remove_loop_char(text)\n",
        "\n",
        "    # tách từ\n",
        "    # text = sementation(text)\n",
        "\n",
        "    return text"
      ],
      "metadata": {
        "id": "fHqfZYd8NJaC"
      },
      "execution_count": null,
      "outputs": []
    },
    {
      "cell_type": "code",
      "source": [
        "# Apply vào data\n",
        "scaled_data['comment'] = scaled_data['comment'].apply(text_prosessing)"
      ],
      "metadata": {
        "id": "-lIf0h-aNLVB"
      },
      "execution_count": null,
      "outputs": []
    },
    {
      "cell_type": "code",
      "source": [
        "# scaled_data['rating'] = scaled_data[\"rating\"].map({1:-1, 2:-1, 3:0, 4:1, 5:1})\n",
        "X = scaled_data['comment']\n",
        "y = scaled_data['rating']"
      ],
      "metadata": {
        "id": "uVUGPe80NMvp"
      },
      "execution_count": null,
      "outputs": []
    },
    {
      "cell_type": "code",
      "source": [
        "_data = scaled_data.copy()\n",
        "# _data[\"rating\"] = _data[\"rating\"].map({1:-1, 2:-1, 3:0, 4:1, 5:1})\n",
        "_data.to_csv(\"/content/drive/MyDrive/Colab Notebooks/sentiment analysis/data/processed_data.csv\")"
      ],
      "metadata": {
        "id": "BNjYk7cUNOR5"
      },
      "execution_count": null,
      "outputs": []
    }
  ]
}