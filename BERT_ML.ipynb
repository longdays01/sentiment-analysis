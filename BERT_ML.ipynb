{
  "cells": [
    {
      "cell_type": "markdown",
      "metadata": {
        "id": "view-in-github",
        "colab_type": "text"
      },
      "source": [
        "<a href=\"https://colab.research.google.com/github/longddaays/sentiment-analysis/blob/main/BERT_ML.ipynb\" target=\"_parent\"><img src=\"https://colab.research.google.com/assets/colab-badge.svg\" alt=\"Open In Colab\"/></a>"
      ]
    },
    {
      "cell_type": "markdown",
      "metadata": {
        "id": "ovKXZ4rc08MS"
      },
      "source": [
        "# all"
      ]
    },
    {
      "cell_type": "code",
      "execution_count": null,
      "metadata": {
        "colab": {
          "base_uri": "https://localhost:8080/"
        },
        "id": "aWLehrqRj9hg",
        "outputId": "03f01a1a-0989-4e6d-9104-17cbf786a41a"
      },
      "outputs": [
        {
          "name": "stdout",
          "output_type": "stream",
          "text": [
            "Mounted at /content/drive/\n"
          ]
        }
      ],
      "source": [
        "from google.colab import drive\n",
        "import os\n",
        "\n",
        "drive.mount('/content/drive/')\n",
        "os.chdir('/content/drive/My Drive/BERT/SA')"
      ]
    },
    {
      "cell_type": "code",
      "execution_count": null,
      "metadata": {
        "colab": {
          "base_uri": "https://localhost:8080/"
        },
        "id": "_B8N9cq4oI40",
        "outputId": "b4dcd73d-f490-4313-9892-f2fa529abff1"
      },
      "outputs": [
        {
          "output_type": "stream",
          "name": "stdout",
          "text": [
            "NVIDIA-SMI has failed because it couldn't communicate with the NVIDIA driver. Make sure that the latest NVIDIA driver is installed and running.\n",
            "\n"
          ]
        }
      ],
      "source": [
        "!nvidia-smi"
      ]
    },
    {
      "cell_type": "code",
      "execution_count": null,
      "metadata": {
        "colab": {
          "base_uri": "https://localhost:8080/"
        },
        "id": "rk6hNyeykc8o",
        "outputId": "f25198c6-487f-4599-8bcb-d3ce5426d946"
      },
      "outputs": [
        {
          "output_type": "stream",
          "name": "stdout",
          "text": [
            "Looking in indexes: https://pypi.org/simple, https://us-python.pkg.dev/colab-wheels/public/simple/\n",
            "Collecting transformers\n",
            "  Downloading transformers-4.20.1-py3-none-any.whl (4.4 MB)\n",
            "\u001b[K     |████████████████████████████████| 4.4 MB 13.7 MB/s \n",
            "\u001b[?25hRequirement already satisfied: regex!=2019.12.17 in /usr/local/lib/python3.7/dist-packages (from transformers) (2022.6.2)\n",
            "Collecting pyyaml>=5.1\n",
            "  Downloading PyYAML-6.0-cp37-cp37m-manylinux_2_5_x86_64.manylinux1_x86_64.manylinux_2_12_x86_64.manylinux2010_x86_64.whl (596 kB)\n",
            "\u001b[K     |████████████████████████████████| 596 kB 34.2 MB/s \n",
            "\u001b[?25hRequirement already satisfied: requests in /usr/local/lib/python3.7/dist-packages (from transformers) (2.23.0)\n",
            "Requirement already satisfied: importlib-metadata in /usr/local/lib/python3.7/dist-packages (from transformers) (4.11.4)\n",
            "Requirement already satisfied: filelock in /usr/local/lib/python3.7/dist-packages (from transformers) (3.7.1)\n",
            "Requirement already satisfied: numpy>=1.17 in /usr/local/lib/python3.7/dist-packages (from transformers) (1.21.6)\n",
            "Requirement already satisfied: packaging>=20.0 in /usr/local/lib/python3.7/dist-packages (from transformers) (21.3)\n",
            "Collecting huggingface-hub<1.0,>=0.1.0\n",
            "  Downloading huggingface_hub-0.8.1-py3-none-any.whl (101 kB)\n",
            "\u001b[K     |████████████████████████████████| 101 kB 11.3 MB/s \n",
            "\u001b[?25hRequirement already satisfied: tqdm>=4.27 in /usr/local/lib/python3.7/dist-packages (from transformers) (4.64.0)\n",
            "Collecting tokenizers!=0.11.3,<0.13,>=0.11.1\n",
            "  Downloading tokenizers-0.12.1-cp37-cp37m-manylinux_2_12_x86_64.manylinux2010_x86_64.whl (6.6 MB)\n",
            "\u001b[K     |████████████████████████████████| 6.6 MB 44.0 MB/s \n",
            "\u001b[?25hRequirement already satisfied: typing-extensions>=3.7.4.3 in /usr/local/lib/python3.7/dist-packages (from huggingface-hub<1.0,>=0.1.0->transformers) (4.1.1)\n",
            "Requirement already satisfied: pyparsing!=3.0.5,>=2.0.2 in /usr/local/lib/python3.7/dist-packages (from packaging>=20.0->transformers) (3.0.9)\n",
            "Requirement already satisfied: zipp>=0.5 in /usr/local/lib/python3.7/dist-packages (from importlib-metadata->transformers) (3.8.0)\n",
            "Requirement already satisfied: chardet<4,>=3.0.2 in /usr/local/lib/python3.7/dist-packages (from requests->transformers) (3.0.4)\n",
            "Requirement already satisfied: idna<3,>=2.5 in /usr/local/lib/python3.7/dist-packages (from requests->transformers) (2.10)\n",
            "Requirement already satisfied: urllib3!=1.25.0,!=1.25.1,<1.26,>=1.21.1 in /usr/local/lib/python3.7/dist-packages (from requests->transformers) (1.24.3)\n",
            "Requirement already satisfied: certifi>=2017.4.17 in /usr/local/lib/python3.7/dist-packages (from requests->transformers) (2022.6.15)\n",
            "Installing collected packages: pyyaml, tokenizers, huggingface-hub, transformers\n",
            "  Attempting uninstall: pyyaml\n",
            "    Found existing installation: PyYAML 3.13\n",
            "    Uninstalling PyYAML-3.13:\n",
            "      Successfully uninstalled PyYAML-3.13\n",
            "Successfully installed huggingface-hub-0.8.1 pyyaml-6.0 tokenizers-0.12.1 transformers-4.20.1\n"
          ]
        }
      ],
      "source": [
        "pip install transformers"
      ]
    },
    {
      "cell_type": "code",
      "execution_count": null,
      "metadata": {
        "colab": {
          "base_uri": "https://localhost:8080/"
        },
        "id": "6EByjn5nkhVt",
        "outputId": "44913b27-12f0-4b97-cf27-742ec39caaef"
      },
      "outputs": [
        {
          "output_type": "stream",
          "name": "stdout",
          "text": [
            "Looking in indexes: https://pypi.org/simple, https://us-python.pkg.dev/colab-wheels/public/simple/\n",
            "Collecting fairseq\n",
            "  Downloading fairseq-0.12.2-cp37-cp37m-manylinux_2_5_x86_64.manylinux1_x86_64.whl (11.0 MB)\n",
            "\u001b[K     |████████████████████████████████| 11.0 MB 11.1 MB/s \n",
            "\u001b[?25hRequirement already satisfied: tqdm in /usr/local/lib/python3.7/dist-packages (from fairseq) (4.64.0)\n",
            "Requirement already satisfied: cython in /usr/local/lib/python3.7/dist-packages (from fairseq) (0.29.30)\n",
            "Collecting sacrebleu>=1.4.12\n",
            "  Downloading sacrebleu-2.1.0-py3-none-any.whl (92 kB)\n",
            "\u001b[K     |████████████████████████████████| 92 kB 12.4 MB/s \n",
            "\u001b[?25hRequirement already satisfied: torchaudio>=0.8.0 in /usr/local/lib/python3.7/dist-packages (from fairseq) (0.11.0+cu113)\n",
            "Requirement already satisfied: regex in /usr/local/lib/python3.7/dist-packages (from fairseq) (2022.6.2)\n",
            "Requirement already satisfied: numpy in /usr/local/lib/python3.7/dist-packages (from fairseq) (1.21.6)\n",
            "Collecting bitarray\n",
            "  Downloading bitarray-2.5.1-cp37-cp37m-manylinux_2_17_x86_64.manylinux2014_x86_64.whl (236 kB)\n",
            "\u001b[K     |████████████████████████████████| 236 kB 56.5 MB/s \n",
            "\u001b[?25hRequirement already satisfied: torch in /usr/local/lib/python3.7/dist-packages (from fairseq) (1.11.0+cu113)\n",
            "Requirement already satisfied: cffi in /usr/local/lib/python3.7/dist-packages (from fairseq) (1.15.0)\n",
            "Collecting omegaconf<2.1\n",
            "  Downloading omegaconf-2.0.6-py3-none-any.whl (36 kB)\n",
            "Collecting hydra-core<1.1,>=1.0.7\n",
            "  Downloading hydra_core-1.0.7-py3-none-any.whl (123 kB)\n",
            "\u001b[K     |████████████████████████████████| 123 kB 53.4 MB/s \n",
            "\u001b[?25hCollecting antlr4-python3-runtime==4.8\n",
            "  Downloading antlr4-python3-runtime-4.8.tar.gz (112 kB)\n",
            "\u001b[K     |████████████████████████████████| 112 kB 58.9 MB/s \n",
            "\u001b[?25hRequirement already satisfied: importlib-resources in /usr/local/lib/python3.7/dist-packages (from hydra-core<1.1,>=1.0.7->fairseq) (5.7.1)\n",
            "Requirement already satisfied: PyYAML>=5.1.* in /usr/local/lib/python3.7/dist-packages (from omegaconf<2.1->fairseq) (6.0)\n",
            "Requirement already satisfied: typing-extensions in /usr/local/lib/python3.7/dist-packages (from omegaconf<2.1->fairseq) (4.1.1)\n",
            "Collecting portalocker\n",
            "  Downloading portalocker-2.4.0-py2.py3-none-any.whl (16 kB)\n",
            "Requirement already satisfied: tabulate>=0.8.9 in /usr/local/lib/python3.7/dist-packages (from sacrebleu>=1.4.12->fairseq) (0.8.9)\n",
            "Collecting colorama\n",
            "  Downloading colorama-0.4.5-py2.py3-none-any.whl (16 kB)\n",
            "Requirement already satisfied: pycparser in /usr/local/lib/python3.7/dist-packages (from cffi->fairseq) (2.21)\n",
            "Requirement already satisfied: zipp>=3.1.0 in /usr/local/lib/python3.7/dist-packages (from importlib-resources->hydra-core<1.1,>=1.0.7->fairseq) (3.8.0)\n",
            "Building wheels for collected packages: antlr4-python3-runtime\n",
            "  Building wheel for antlr4-python3-runtime (setup.py) ... \u001b[?25l\u001b[?25hdone\n",
            "  Created wheel for antlr4-python3-runtime: filename=antlr4_python3_runtime-4.8-py3-none-any.whl size=141230 sha256=a9a5883ab546e1d3866205cb808b13d4ca11d74758646d86111e95c552fd31ce\n",
            "  Stored in directory: /root/.cache/pip/wheels/ca/33/b7/336836125fc9bb4ceaa4376d8abca10ca8bc84ddc824baea6c\n",
            "Successfully built antlr4-python3-runtime\n",
            "Installing collected packages: portalocker, omegaconf, colorama, antlr4-python3-runtime, sacrebleu, hydra-core, bitarray, fairseq\n",
            "Successfully installed antlr4-python3-runtime-4.8 bitarray-2.5.1 colorama-0.4.5 fairseq-0.12.2 hydra-core-1.0.7 omegaconf-2.0.6 portalocker-2.4.0 sacrebleu-2.1.0\n"
          ]
        }
      ],
      "source": [
        "pip install fairseq"
      ]
    },
    {
      "cell_type": "code",
      "execution_count": null,
      "metadata": {
        "colab": {
          "base_uri": "https://localhost:8080/"
        },
        "id": "ktphV-hfmh4L",
        "outputId": "ffd377d0-195e-45c1-e5c6-033126ac6984"
      },
      "outputs": [
        {
          "output_type": "stream",
          "name": "stdout",
          "text": [
            "Looking in indexes: https://pypi.org/simple, https://us-python.pkg.dev/colab-wheels/public/simple/\n",
            "Collecting fastBPE\n",
            "  Downloading fastBPE-0.1.0.tar.gz (35 kB)\n",
            "Building wheels for collected packages: fastBPE\n",
            "  Building wheel for fastBPE (setup.py) ... \u001b[?25l\u001b[?25hdone\n",
            "  Created wheel for fastBPE: filename=fastBPE-0.1.0-cp37-cp37m-linux_x86_64.whl size=483892 sha256=856a5d6fa38046f804b224444018c24a40ba19772a8cb1c2fccb56f4e46f972d\n",
            "  Stored in directory: /root/.cache/pip/wheels/bd/d4/0e/0d317a65f77d3f8049fedd8a2ee0519164cf3e6bd77ef886f1\n",
            "Successfully built fastBPE\n",
            "Installing collected packages: fastBPE\n",
            "Successfully installed fastBPE-0.1.0\n"
          ]
        }
      ],
      "source": [
        "!pip install fastBPE"
      ]
    },
    {
      "cell_type": "code",
      "execution_count": null,
      "metadata": {
        "colab": {
          "base_uri": "https://localhost:8080/"
        },
        "id": "2O_2E0CzklbJ",
        "outputId": "d11aff13-a248-4e17-8cd4-a97eb176afc4"
      },
      "outputs": [
        {
          "output_type": "stream",
          "name": "stdout",
          "text": [
            "Looking in indexes: https://pypi.org/simple, https://us-python.pkg.dev/colab-wheels/public/simple/\n",
            "Collecting vncorenlp\n",
            "  Downloading vncorenlp-1.0.3.tar.gz (2.6 MB)\n",
            "\u001b[K     |████████████████████████████████| 2.6 MB 10.0 MB/s \n",
            "\u001b[?25hRequirement already satisfied: requests in /usr/local/lib/python3.7/dist-packages (from vncorenlp) (2.23.0)\n",
            "Requirement already satisfied: chardet<4,>=3.0.2 in /usr/local/lib/python3.7/dist-packages (from requests->vncorenlp) (3.0.4)\n",
            "Requirement already satisfied: urllib3!=1.25.0,!=1.25.1,<1.26,>=1.21.1 in /usr/local/lib/python3.7/dist-packages (from requests->vncorenlp) (1.24.3)\n",
            "Requirement already satisfied: certifi>=2017.4.17 in /usr/local/lib/python3.7/dist-packages (from requests->vncorenlp) (2022.6.15)\n",
            "Requirement already satisfied: idna<3,>=2.5 in /usr/local/lib/python3.7/dist-packages (from requests->vncorenlp) (2.10)\n",
            "Building wheels for collected packages: vncorenlp\n",
            "  Building wheel for vncorenlp (setup.py) ... \u001b[?25l\u001b[?25hdone\n",
            "  Created wheel for vncorenlp: filename=vncorenlp-1.0.3-py3-none-any.whl size=2645951 sha256=cb5aeb6f628b31d2f93c8099673326ac3a7477a580890fcb320d8d71bf20b224\n",
            "  Stored in directory: /root/.cache/pip/wheels/0c/d8/f2/d28d97379b4f6479bf51247c8dfd57fa00932fa7a74b6aab29\n",
            "Successfully built vncorenlp\n",
            "Installing collected packages: vncorenlp\n",
            "Successfully installed vncorenlp-1.0.3\n"
          ]
        }
      ],
      "source": [
        "pip install vncorenlp\n"
      ]
    },
    {
      "cell_type": "code",
      "execution_count": null,
      "metadata": {
        "id": "DBQNJ7qFksRX"
      },
      "outputs": [],
      "source": [
        "# %mkdir -p vncorenlp/models/wordsegmenter"
      ]
    },
    {
      "cell_type": "code",
      "execution_count": null,
      "metadata": {
        "id": "haJOU-KRk2Ov"
      },
      "outputs": [],
      "source": [
        "# !wget https://raw.githubusercontent.com/vncorenlp/VnCoreNLP/master/VnCoreNLP-1.1.1.jar\n",
        "# !wget https://raw.githubusercontent.com/vncorenlp/VnCoreNLP/master/models/wordsegmenter/vi-vocab\n",
        "# !wget https://raw.githubusercontent.com/vncorenlp/VnCoreNLP/master/models/wordsegmenter/wordsegmenter.rdr"
      ]
    },
    {
      "cell_type": "code",
      "execution_count": null,
      "metadata": {
        "id": "R-Z1SC-Bk73Y"
      },
      "outputs": [],
      "source": [
        "# !mv VnCoreNLP-1.1.1.jar vncorenlp/ \n",
        "# !mv vi-vocab vncorenlp/models/wordsegmenter/\n",
        "# !mv wordsegmenter.rdr vncorenlp/models/wordsegmenter/"
      ]
    },
    {
      "cell_type": "code",
      "execution_count": null,
      "metadata": {
        "id": "khbrWb28lbDL"
      },
      "outputs": [],
      "source": [
        "# !wget https://public.vinai.io/PhoBERT_base_transformers.tar.gz\n",
        "# !tar -xzvf PhoBERT_base_transformers.tar.gz"
      ]
    },
    {
      "cell_type": "code",
      "execution_count": null,
      "metadata": {
        "colab": {
          "base_uri": "https://localhost:8080/"
        },
        "id": "6re9tnDJlQ2r",
        "outputId": "574efb53-38c2-4dff-ffca-7acbf6015ef5"
      },
      "outputs": [
        {
          "name": "stderr",
          "output_type": "stream",
          "text": [
            "2022-06-29 20:47:54 | INFO | fairseq.tasks.text_to_speech | Please install tensorboardX: pip install tensorboardX\n"
          ]
        }
      ],
      "source": [
        "from fairseq.data.encoders.fastbpe import fastBPE\n",
        "from fairseq.data import Dictionary\n",
        "import argparse\n",
        "\n",
        "parser = argparse.ArgumentParser()\n",
        "parser.add_argument('--bpe-codes', \n",
        "    default=\"/content/drive/MyDrive/BERT/SA/PhoBERT_base_transformers/bpe.codes\",\n",
        "    required=False,\n",
        "    type=str,\n",
        "    help='path to fastBPE BPE'\n",
        ")\n",
        "args, unknown = parser.parse_known_args()\n",
        "bpe = fastBPE(args)\n",
        "\n",
        "# Load the dictionary\n",
        "vocab = Dictionary()\n",
        "vocab.add_from_file(\"/content/drive/MyDrive/BERT/SA/PhoBERT_base_transformers/dict.txt\")"
      ]
    },
    {
      "cell_type": "code",
      "execution_count": null,
      "metadata": {
        "colab": {
          "base_uri": "https://localhost:8080/"
        },
        "id": "RJg1iscomo4y",
        "outputId": "f99054d6-dd0b-4bad-904b-cf4cb36b77c9"
      },
      "outputs": [
        {
          "data": {
            "text/plain": [
              "tensor([    0,  3791,  1027,   898,   204,    77,    70,    25,    69,   467,\n",
              "         3696, 16856,   381,     2,     2], dtype=torch.int32)"
            ]
          },
          "execution_count": 19,
          "metadata": {},
          "output_type": "execute_result"
        }
      ],
      "source": [
        "bpe.encode('Hôm_nay trời nóng quá nên tôi ở nhà viết Viblo!')\n",
        "# >>> Output: 'Hôm_nay trời nóng quá nên tôi ở nhà viết Vi@@ blo@@ !'\n",
        "\n",
        "vocab.encode_line('<s> ' + 'Hôm_nay trời nóng quá nên tôi ở nhà viết Vi@@ blo@@ !' + ' </s>')\n",
        "\n",
        "# >>> Output: tensor([0, 3791, 1027, 898, 204, 77, 70, 25, 69, 467, 3696, 16856, 381, 2, 2], dtype=torch.int32)"
      ]
    },
    {
      "cell_type": "code",
      "execution_count": null,
      "metadata": {
        "id": "FoWVGndmVIfY"
      },
      "outputs": [],
      "source": [
        "from sklearn.model_selection import train_test_split\n",
        "\n",
        "train_sents, val_sents, train_labels, val_labels = train_test_split(train_text, train_labels, test_size=0.1)\n"
      ]
    },
    {
      "cell_type": "code",
      "execution_count": null,
      "metadata": {
        "id": "bYZCbIUVm_Nb"
      },
      "outputs": [],
      "source": [
        "from tensorflow.keras.preprocessing.sequence import pad_sequences\n",
        "MAX_LEN = 125\n",
        "\n",
        "train_ids = []\n",
        "for sent in train_sents:\n",
        "    subwords = '<s> ' + bpe.encode(sent) + ' </s>'\n",
        "    encoded_sent = vocab.encode_line(subwords, append_eos=True, add_if_not_exist=False).long().tolist()\n",
        "    train_ids.append(encoded_sent)\n",
        "\n",
        "val_ids = []\n",
        "for sent in val_sents:\n",
        "    subwords = '<s> ' + bpe.encode(sent) + ' </s>'\n",
        "    encoded_sent = vocab.encode_line(subwords, append_eos=True, add_if_not_exist=False).long().tolist()\n",
        "    val_ids.append(encoded_sent)\n",
        "    \n",
        "train_ids = pad_sequences(train_ids, maxlen=MAX_LEN, dtype=\"long\", value=0, truncating=\"post\", padding=\"post\")\n",
        "val_ids = pad_sequences(val_ids, maxlen=MAX_LEN, dtype=\"long\", value=0, truncating=\"post\", padding=\"post\")\n"
      ]
    },
    {
      "cell_type": "code",
      "execution_count": null,
      "metadata": {
        "colab": {
          "base_uri": "https://localhost:8080/"
        },
        "id": "Ixlf33Z6qqI4",
        "outputId": "d7bc5b51-fc8a-4324-cb31-d5857c8c7d2f"
      },
      "outputs": [
        {
          "data": {
            "text/plain": [
              "array([[    0,    58,  7821, ...,     0,     0,     0],\n",
              "       [    0,   154,    11, ...,     0,     0,     0],\n",
              "       [    0,  4723,   258, ...,     0,     0,     0],\n",
              "       ...,\n",
              "       [    0,  1329,    17, ...,     0,     0,     0],\n",
              "       [    0, 54848,     2, ...,     0,     0,     0],\n",
              "       [    0,  9291,  1325, ...,     0,     0,     0]])"
            ]
          },
          "execution_count": 23,
          "metadata": {},
          "output_type": "execute_result"
        }
      ],
      "source": [
        "train_ids"
      ]
    },
    {
      "cell_type": "code",
      "execution_count": null,
      "metadata": {
        "id": "QFKXunj613FQ"
      },
      "outputs": [],
      "source": [
        ""
      ]
    },
    {
      "cell_type": "code",
      "execution_count": null,
      "metadata": {
        "id": "n-lAuZZ8nGzn"
      },
      "outputs": [],
      "source": [
        "train_masks = []\n",
        "for sent in train_ids:\n",
        "    mask = [int(token_id > 0) for token_id in sent]\n",
        "    train_masks.append(mask)\n",
        "\n",
        "val_masks = []\n",
        "for sent in val_ids:\n",
        "    mask = [int(token_id > 0) for token_id in sent]\n",
        "\n",
        "    val_masks.append(mask)\n"
      ]
    },
    {
      "cell_type": "code",
      "execution_count": null,
      "metadata": {
        "id": "LqKGyX2fmQEh"
      },
      "outputs": [],
      "source": [
        "import numpy as np\n",
        "# my_list = [2,4,6,8,10]\n",
        "train_labels = np.array(train_labels)\n",
        "val_labels = np.array(val_labels)\n",
        "# printing my_array\n",
        "train_masks = np.array(train_masks)\n",
        "val_masks = np.array(val_masks)"
      ]
    },
    {
      "cell_type": "code",
      "execution_count": null,
      "metadata": {
        "colab": {
          "base_uri": "https://localhost:8080/"
        },
        "id": "Z_x6Kia72Ehy",
        "outputId": "7a617750-8970-479a-a832-82077c36890b"
      },
      "outputs": [
        {
          "data": {
            "text/plain": [
              "array([[0, 1, 1, ..., 0, 0, 0],\n",
              "       [0, 1, 1, ..., 0, 0, 0],\n",
              "       [0, 1, 1, ..., 0, 0, 0],\n",
              "       ...,\n",
              "       [0, 1, 1, ..., 0, 0, 0],\n",
              "       [0, 1, 1, ..., 0, 0, 0],\n",
              "       [0, 1, 1, ..., 0, 0, 0]])"
            ]
          },
          "execution_count": 26,
          "metadata": {},
          "output_type": "execute_result"
        }
      ],
      "source": [
        "train_masks"
      ]
    },
    {
      "cell_type": "code",
      "execution_count": null,
      "metadata": {
        "id": "tWEI-cXCnKmm"
      },
      "outputs": [],
      "source": [
        "from torch.utils.data import TensorDataset, DataLoader, RandomSampler, SequentialSampler\n",
        "import torch\n",
        "\n",
        "train_inputs = torch.tensor(train_ids)\n",
        "val_inputs = torch.tensor(val_ids)\n",
        "train_labels = torch.tensor(train_labels)\n",
        "val_labels = torch.tensor(val_labels)\n",
        "train_masks = torch.tensor(train_masks)\n",
        "val_masks = torch.tensor(val_masks)\n",
        "\n",
        "train_data = TensorDataset(train_inputs, train_masks, train_labels)\n",
        "train_sampler = SequentialSampler(train_data)\n",
        "train_dataloader = DataLoader(train_data, sampler=train_sampler, batch_size=32)\n",
        "\n",
        "val_data = TensorDataset(val_inputs, val_masks, val_labels)\n",
        "val_sampler = SequentialSampler(val_data)\n",
        "val_dataloader = DataLoader(val_data, sampler=val_sampler, batch_size=32)"
      ]
    },
    {
      "cell_type": "code",
      "execution_count": null,
      "metadata": {
        "id": "kxwxGAY9N8V5"
      },
      "outputs": [],
      "source": [
        ""
      ]
    },
    {
      "cell_type": "code",
      "execution_count": null,
      "metadata": {
        "colab": {
          "base_uri": "https://localhost:8080/"
        },
        "id": "fsU4_e8jqbNv",
        "outputId": "433d8531-cd0b-4ee7-a6a1-13324773980c"
      },
      "outputs": [
        {
          "data": {
            "text/plain": [
              "tensor([[    0,    58,  7821,  ...,     0,     0,     0],\n",
              "        [    0,   154,    11,  ...,     0,     0,     0],\n",
              "        [    0,  4723,   258,  ...,     0,     0,     0],\n",
              "        ...,\n",
              "        [    0,  1329,    17,  ...,     0,     0,     0],\n",
              "        [    0, 54848,     2,  ...,     0,     0,     0],\n",
              "        [    0,  9291,  1325,  ...,     0,     0,     0]])"
            ]
          },
          "execution_count": 28,
          "metadata": {},
          "output_type": "execute_result"
        }
      ],
      "source": [
        "train_inputs"
      ]
    },
    {
      "cell_type": "code",
      "execution_count": null,
      "metadata": {
        "colab": {
          "base_uri": "https://localhost:8080/"
        },
        "id": "_22hJ2E8qfZ3",
        "outputId": "68e06f13-0a51-4c24-e54a-c399b0d7380b"
      },
      "outputs": [
        {
          "data": {
            "text/plain": [
              "tensor([[    0,    59,  1580,  ...,     0,     0,     0],\n",
              "        [    0,  3421,  3852,  ...,     0,     0,     0],\n",
              "        [    0,  5717,  8410,  ...,     0,     0,     0],\n",
              "        ...,\n",
              "        [    0, 11685,   957,  ...,     0,     0,     0],\n",
              "        [    0,  1828,   482,  ...,     0,     0,     0],\n",
              "        [    0,   574,   119,  ...,     0,     0,     0]])"
            ]
          },
          "execution_count": 29,
          "metadata": {},
          "output_type": "execute_result"
        }
      ],
      "source": [
        "val_inputs"
      ]
    },
    {
      "cell_type": "code",
      "execution_count": null,
      "metadata": {
        "colab": {
          "base_uri": "https://localhost:8080/"
        },
        "id": "vW_lrPYh4csm",
        "outputId": "e062556a-3179-4fb5-e792-6ee3365a83e2"
      },
      "outputs": [
        {
          "data": {
            "text/plain": [
              "tensor([2, 3, 4,  ..., 3, 4, 4])"
            ]
          },
          "execution_count": 30,
          "metadata": {},
          "output_type": "execute_result"
        }
      ],
      "source": [
        "train_labels"
      ]
    },
    {
      "cell_type": "code",
      "execution_count": null,
      "metadata": {
        "colab": {
          "base_uri": "https://localhost:8080/"
        },
        "id": "6w8rwPeY4hlb",
        "outputId": "95e8e6ec-d8ae-41cb-f70f-1625ffe4e865"
      },
      "outputs": [
        {
          "data": {
            "text/plain": [
              "tensor([3, 4, 2, 4, 4, 3, 3, 4, 0, 4, 3, 4, 0, 4, 4, 4, 4, 4, 4, 4, 2, 4, 4, 1,\n",
              "        4, 4, 4, 0, 4, 4, 3, 4, 2, 2, 4, 3, 4, 3, 4, 4, 4, 3, 3, 3, 3, 3, 3, 4,\n",
              "        3, 4, 4, 2, 4, 3, 1, 3, 4, 2, 4, 0, 3, 4, 4, 3, 4, 4, 4, 3, 1, 3, 4, 3,\n",
              "        4, 4, 4, 4, 4, 2, 4, 2, 1, 3, 3, 4, 0, 4, 4, 4, 3, 2, 2, 4, 4, 4, 4, 3,\n",
              "        4, 4, 4, 3, 4, 4, 2, 4, 2, 4, 4, 3, 3, 4, 4, 3, 2, 2, 4, 3, 3, 0, 4, 4,\n",
              "        4, 2])"
            ]
          },
          "execution_count": 31,
          "metadata": {},
          "output_type": "execute_result"
        }
      ],
      "source": [
        "val_labels"
      ]
    },
    {
      "cell_type": "code",
      "execution_count": null,
      "metadata": {
        "colab": {
          "base_uri": "https://localhost:8080/"
        },
        "id": "idznoSd04lqC",
        "outputId": "e1890ccb-383b-4df6-aed1-46443846e51a"
      },
      "outputs": [
        {
          "data": {
            "text/plain": [
              "tensor([[0, 1, 1,  ..., 0, 0, 0],\n",
              "        [0, 1, 1,  ..., 0, 0, 0],\n",
              "        [0, 1, 1,  ..., 0, 0, 0],\n",
              "        ...,\n",
              "        [0, 1, 1,  ..., 0, 0, 0],\n",
              "        [0, 1, 1,  ..., 0, 0, 0],\n",
              "        [0, 1, 1,  ..., 0, 0, 0]])"
            ]
          },
          "execution_count": 32,
          "metadata": {},
          "output_type": "execute_result"
        }
      ],
      "source": [
        "train_masks"
      ]
    },
    {
      "cell_type": "code",
      "execution_count": null,
      "metadata": {
        "colab": {
          "base_uri": "https://localhost:8080/"
        },
        "id": "9AJ5QXSYnOIU",
        "outputId": "63cb69ae-54e9-4df8-d1ea-d74745ab2450"
      },
      "outputs": [
        {
          "name": "stderr",
          "output_type": "stream",
          "text": [
            "You are using a model of type bert to instantiate a model of type roberta. This is not supported for all configurations of models and can yield errors.\n",
            "Some weights of the model checkpoint at /content/drive/My Drive/BERT/SA/PhoBERT_base_transformers/model.bin were not used when initializing RobertaForSequenceClassification: ['roberta.pooler.dense.weight', 'lm_head.dense.weight', 'lm_head.layer_norm.bias', 'roberta.pooler.dense.bias', 'lm_head.decoder.weight', 'lm_head.layer_norm.weight', 'lm_head.decoder.bias', 'lm_head.bias', 'lm_head.dense.bias']\n",
            "- This IS expected if you are initializing RobertaForSequenceClassification from the checkpoint of a model trained on another task or with another architecture (e.g. initializing a BertForSequenceClassification model from a BertForPreTraining model).\n",
            "- This IS NOT expected if you are initializing RobertaForSequenceClassification from the checkpoint of a model that you expect to be exactly identical (initializing a BertForSequenceClassification model from a BertForSequenceClassification model).\n",
            "Some weights of RobertaForSequenceClassification were not initialized from the model checkpoint at /content/drive/My Drive/BERT/SA/PhoBERT_base_transformers/model.bin and are newly initialized: ['classifier.out_proj.bias', 'classifier.out_proj.weight', 'classifier.dense.bias', 'classifier.dense.weight']\n",
            "You should probably TRAIN this model on a down-stream task to be able to use it for predictions and inference.\n"
          ]
        }
      ],
      "source": [
        "from transformers import RobertaForSequenceClassification, RobertaConfig, AdamW\n",
        "\n",
        "config = RobertaConfig.from_pretrained(\n",
        "    \"/content/drive/My Drive/BERT/SA/PhoBERT_base_transformers/config.json\", from_tf=False, num_labels = 5, output_hidden_states=False,\n",
        ")\n",
        "BERT_SA = RobertaForSequenceClassification.from_pretrained(\n",
        "    \"/content/drive/My Drive/BERT/SA/PhoBERT_base_transformers/model.bin\",\n",
        "    config=config\n",
        ")\n"
      ]
    },
    {
      "cell_type": "code",
      "execution_count": null,
      "metadata": {
        "colab": {
          "base_uri": "https://localhost:8080/"
        },
        "id": "OCJTg1fGoZFc",
        "outputId": "de2046a9-3012-4ef1-8d1a-022396920a67"
      },
      "outputs": [
        {
          "name": "stdout",
          "output_type": "stream",
          "text": [
            "Done\n"
          ]
        }
      ],
      "source": [
        "BERT_SA.cuda()\n",
        "print('Done')"
      ]
    },
    {
      "cell_type": "code",
      "execution_count": null,
      "metadata": {
        "id": "gwHCgV7Lq6Z7"
      },
      "outputs": [],
      "source": [
        "import numpy as np\n",
        "from sklearn.metrics import f1_score, accuracy_score\n",
        "\n",
        "def flat_accuracy(preds, labels):\n",
        "    pred_flat = np.argmax(preds, axis=1).flatten()\n",
        "    labels_flat = labels.flatten()\n",
        "    \n",
        "    F1_score = f1_score(pred_flat, labels_flat, average='macro')\n",
        "    \n",
        "    return accuracy_score(pred_flat, labels_flat), F1_score"
      ]
    },
    {
      "cell_type": "markdown",
      "metadata": {
        "id": "8snopvQQEi9Q"
      },
      "source": [
        "# tét"
      ]
    },
    {
      "cell_type": "code",
      "execution_count": null,
      "metadata": {
        "colab": {
          "base_uri": "https://localhost:8080/"
        },
        "id": "AiF_mH59EkNQ",
        "outputId": "df4e312c-5ac4-4178-90fd-0fee92eb1a19"
      },
      "outputs": [
        {
          "data": {
            "text/plain": [
              "tensor([2, 3, 4,  ..., 3, 4, 4])"
            ]
          },
          "execution_count": 36,
          "metadata": {},
          "output_type": "execute_result"
        }
      ],
      "source": [
        "train_labels"
      ]
    },
    {
      "cell_type": "markdown",
      "metadata": {
        "id": "zmHnSme01DiP"
      },
      "source": [
        "\n",
        "\n",
        "# train "
      ]
    },
    {
      "cell_type": "code",
      "execution_count": null,
      "metadata": {
        "colab": {
          "base_uri": "https://localhost:8080/",
          "height": 1000,
          "referenced_widgets": [
            "a02dde1df7fb4b80988c2eb75f117020",
            "8b883dbe2af24908985da08a762536bd",
            "20bd6b5e8a394dcd9a1e776bc50f8d53",
            "38ccfa33000545c899aedfd2d055832a",
            "edf1095849f84c92803f96d0635cf4ad",
            "6949cc2658ec465ab009ed5595b54bd4",
            "9e14eecdfb69421789e7f3ac4f75358a",
            "f13c4f39f4e7473e81170e4f8891cfb0",
            "d3068c089352472d9beb220e52f11473",
            "fcc3fb767dc0407fbfb4398a24fec6b7",
            "47f3668117b947dfb00af8d95554558c",
            "846948c328774409ab51f0843f288b0a",
            "cbeae56bafd3450289550bfe023d69c4",
            "ead4f6397ac64da09f65ca194573ed71",
            "5abf211a57a34009af6e5ce37ec06ac8",
            "25001255de4d43d1ac5fcfc659595f2e",
            "d50d3fffab864a5db20f2df0fe458349",
            "5654e3e100f2422fbc927f5811c7d5f1",
            "9eac2e1b748f496783916e390353f8ea",
            "c5ea4b323b61402e9eebb18d6bf9eba8",
            "bfc41b61805347b0b899112019bad6b6",
            "42c867e189154ec3a296a5fb03299285",
            "4bdfa88f587c47af9b7d39b97e2edffb",
            "5d10a280956e427a818b3f5db65b1ca2",
            "70279f1b646d46efafb7c6d2688d5997",
            "b8a9e44cfad549c1b51d0df5385f1605",
            "e8298cdca3ef42f09bdc50ca20c2ce3e",
            "55ee3c12c0ba405baac1463910fbba4c",
            "5aa9c859f9d041f2ae257ccab1cbd54a",
            "dc0ead94413044b8a1ed2ba08b964618",
            "22ea7f77a2ef4161b77d84a58d258f5e",
            "9348ff83b4274101bd3d725a10a0e1e6",
            "c8a438860f4e4579b99783a797023781",
            "14dc2507566e4e6ea064ec916fffa03d",
            "0442b14c719844bfa3816e0fbe1e8e32",
            "a0ad6048a57b4535a757e8364454063f",
            "575abe1259dd4feebcbffbdb63ac4f4f",
            "535578d493604efe8846059c51c2f643",
            "b0b7f60b516d409c895e2a64906e131c",
            "f27362e834754caa9334f3c5fa124fbb",
            "afbaac64b417432da1dc5859aaca6572",
            "6d3bcb449f66413496c4acccbc5ef488",
            "a8d5b4ff302c4758a7b798136208d776",
            "ad1a0375503949e5ae9a5f01130683c5",
            "1bc8b540206b4047b7b525e349adee12",
            "05bd70e9944749c7adc6f499d8183ebc",
            "f66881a401ec478a81d9fd800e71b391",
            "fd6278951b3f4b648c38003de8a16f67",
            "1a6f2f735c0a4c0d8d45fb1c708e3704",
            "c7b1a591ebc74e4c9258ce5b2b969308",
            "84837bb6b5654874881fa63b1eaae768",
            "e15fb858c1f743e991a5792d9589b5f2",
            "ece26e6cff54445d94247855b8fa785d",
            "b102e9044ef84be58cecc188c92f3434",
            "31c60e12ea5b47b2879c59650d3f3471",
            "3658ad6606e246a1bf9ed666ee261b73",
            "14b12ffc207740eb95b51633762400a1",
            "7d87959a7e504f15be6e07479285524c",
            "cc118dd741754ece902b550999b59538",
            "432d4354a0e94044b4ab7965e8bcdb4b",
            "88323369a3734ec789e3d82926e0ca80",
            "5b73c52eae5d45d9b82aef9c82650c0b",
            "24201e54d9bf48b1a5bed86fb8ba87e4",
            "08f420271a164d8dbd1f5679b8a3628f",
            "021ce889c15c41018ec390b8b9e9a5d7",
            "7f14fe880bcc4bc69593cb28fbc8f9b7",
            "8481aae59ffb4368afb5c7cd51be3cc4",
            "8ae51380753141d7a7706ee9aacdfd84",
            "947e6085d2b241a9a5ccfbef19483a43",
            "7a7ce0525dfe4a54a2bb33d923acbd1e",
            "70ce73a6bc8a4fd685cab22c5b8ea1e0",
            "329b6008f30a414db7a8406f5000d778",
            "2fc88596deaa4ba6abf20311eb621c1e",
            "f9c9b62ada264baf8df3a74e02ba9bae",
            "5266eb7c643f41b9906161b1eae3e211",
            "a02e802162bf41f68ef2ef5299d7c2bb",
            "53b9488921184548b4dcfb25341b640f",
            "8cfc0cc953d4424e8fd0731e082b2aa9",
            "703a963f462e4f0b9f14618462a15837",
            "4c3cd3e5ef27442da38f1a43a31af3b7",
            "521350b6887249b298bec20075a2fe6a",
            "057acadb1828485d8f35263b6dd0b7c2",
            "bfc25adbb9c34bc7b5365907ab8634f7",
            "fd3d900fdac94a1fb2545cc7c9d14ff3",
            "aad31cf9f05f4604baafae4072da4dfe",
            "304621b4a3934208833a153a9da1044a",
            "1d012f8d3cfc4542a55e2939acdd5382",
            "fcf5349cae3b4816b225b5564d28de6a",
            "64f6902c348948ba952293d766efe26d",
            "ac1a2dbc61c548638cde7a4e5bb57f23",
            "ebc3e4b3586b45efa95796d7cac79b08",
            "875c31a369504e8dad3becc904d786b0",
            "890d1cb1151e44fdb79631d81bfddebf",
            "117f8ebb970f4d718514ddc5c475497d",
            "b106f308c5ef4d75b5b46691193fc6f9",
            "f751b7ed81f743fc853408f06e78e463",
            "df2f139e86124f7180f215a6637b2a06",
            "3dd44bca932f424b8a11d62fa52683c3",
            "38ecfb4b218543548eb985c9da6064bb",
            "db434763a05f47c481380ee059a7bbb5",
            "fbd62c0a16844bc88da1dd7458685748",
            "7b43cea3579a4a8697c5b28efa68912b",
            "7b7ac86c73584e0b89c8b80f4b670393",
            "a5f8d699cf9d4eeda2dd919c11c328bc",
            "c6ccf247322f4559b90939e31d0c02e4",
            "82800cfcd5a549f49d0a55cefff149d5",
            "c01a28d6620540ca9b121f6972f4dc96",
            "cbef9066485848c9b4fd17e1cd99f9b7",
            "4cf9207a0e644a4caea8138ff352afb4",
            "ea362ddf3091425bb9fe4f621b5e591b"
          ]
        },
        "id": "qG9qUNWBM1ox",
        "outputId": "d056f336-137d-415c-c1bd-83bdc1abaed8"
      },
      "outputs": [
        {
          "name": "stdout",
          "output_type": "stream",
          "text": [
            "======== Epoch 1 / 10 ========\n",
            "Training...\n"
          ]
        },
        {
          "name": "stderr",
          "output_type": "stream",
          "text": [
            "/usr/local/lib/python3.7/dist-packages/transformers/optimization.py:310: FutureWarning: This implementation of AdamW is deprecated and will be removed in a future version. Use the PyTorch implementation torch.optim.AdamW instead, or set `no_deprecation_warning=True` to disable this warning\n",
            "  FutureWarning,\n",
            "/usr/local/lib/python3.7/dist-packages/ipykernel_launcher.py:27: TqdmDeprecationWarning: This function will be removed in tqdm==5.0.0\n",
            "Please use `tqdm.notebook.tqdm` instead of `tqdm.tqdm_notebook`\n"
          ]
        },
        {
          "data": {
            "application/vnd.jupyter.widget-view+json": {
              "model_id": "a02dde1df7fb4b80988c2eb75f117020",
              "version_major": 2,
              "version_minor": 0
            },
            "text/plain": [
              "0it [00:00, ?it/s]"
            ]
          },
          "metadata": {},
          "output_type": "display_data"
        },
        {
          "name": "stdout",
          "output_type": "stream",
          "text": [
            " Accuracy: 0.5482\n",
            " F1 score: 0.1903\n",
            " Average training loss: 1.2079\n",
            "======== Epoch 2 / 10 ========\n",
            "Training...\n"
          ]
        },
        {
          "name": "stderr",
          "output_type": "stream",
          "text": [
            "/usr/local/lib/python3.7/dist-packages/ipykernel_launcher.py:27: TqdmDeprecationWarning: This function will be removed in tqdm==5.0.0\n",
            "Please use `tqdm.notebook.tqdm` instead of `tqdm.tqdm_notebook`\n"
          ]
        },
        {
          "data": {
            "application/vnd.jupyter.widget-view+json": {
              "model_id": "846948c328774409ab51f0843f288b0a",
              "version_major": 2,
              "version_minor": 0
            },
            "text/plain": [
              "0it [00:00, ?it/s]"
            ]
          },
          "metadata": {},
          "output_type": "display_data"
        },
        {
          "name": "stdout",
          "output_type": "stream",
          "text": [
            " Accuracy: 0.5687\n",
            " F1 score: 0.2124\n",
            " Average training loss: 1.1366\n",
            "======== Epoch 3 / 10 ========\n",
            "Training...\n"
          ]
        },
        {
          "name": "stderr",
          "output_type": "stream",
          "text": [
            "/usr/local/lib/python3.7/dist-packages/ipykernel_launcher.py:27: TqdmDeprecationWarning: This function will be removed in tqdm==5.0.0\n",
            "Please use `tqdm.notebook.tqdm` instead of `tqdm.tqdm_notebook`\n"
          ]
        },
        {
          "data": {
            "application/vnd.jupyter.widget-view+json": {
              "model_id": "4bdfa88f587c47af9b7d39b97e2edffb",
              "version_major": 2,
              "version_minor": 0
            },
            "text/plain": [
              "0it [00:00, ?it/s]"
            ]
          },
          "metadata": {},
          "output_type": "display_data"
        },
        {
          "name": "stdout",
          "output_type": "stream",
          "text": [
            " Accuracy: 0.5848\n",
            " F1 score: 0.2680\n",
            " Average training loss: 1.0602\n",
            "======== Epoch 4 / 10 ========\n",
            "Training...\n"
          ]
        },
        {
          "name": "stderr",
          "output_type": "stream",
          "text": [
            "/usr/local/lib/python3.7/dist-packages/ipykernel_launcher.py:27: TqdmDeprecationWarning: This function will be removed in tqdm==5.0.0\n",
            "Please use `tqdm.notebook.tqdm` instead of `tqdm.tqdm_notebook`\n"
          ]
        },
        {
          "data": {
            "application/vnd.jupyter.widget-view+json": {
              "model_id": "14dc2507566e4e6ea064ec916fffa03d",
              "version_major": 2,
              "version_minor": 0
            },
            "text/plain": [
              "0it [00:00, ?it/s]"
            ]
          },
          "metadata": {},
          "output_type": "display_data"
        },
        {
          "name": "stdout",
          "output_type": "stream",
          "text": [
            " Accuracy: 0.6312\n",
            " F1 score: 0.3855\n",
            " Average training loss: 0.9555\n",
            "======== Epoch 5 / 10 ========\n",
            "Training...\n"
          ]
        },
        {
          "name": "stderr",
          "output_type": "stream",
          "text": [
            "/usr/local/lib/python3.7/dist-packages/ipykernel_launcher.py:27: TqdmDeprecationWarning: This function will be removed in tqdm==5.0.0\n",
            "Please use `tqdm.notebook.tqdm` instead of `tqdm.tqdm_notebook`\n"
          ]
        },
        {
          "data": {
            "application/vnd.jupyter.widget-view+json": {
              "model_id": "1bc8b540206b4047b7b525e349adee12",
              "version_major": 2,
              "version_minor": 0
            },
            "text/plain": [
              "0it [00:00, ?it/s]"
            ]
          },
          "metadata": {},
          "output_type": "display_data"
        },
        {
          "name": "stdout",
          "output_type": "stream",
          "text": [
            " Accuracy: 0.6955\n",
            " F1 score: 0.5025\n",
            " Average training loss: 0.8423\n",
            "======== Epoch 6 / 10 ========\n",
            "Training...\n"
          ]
        },
        {
          "name": "stderr",
          "output_type": "stream",
          "text": [
            "/usr/local/lib/python3.7/dist-packages/ipykernel_launcher.py:27: TqdmDeprecationWarning: This function will be removed in tqdm==5.0.0\n",
            "Please use `tqdm.notebook.tqdm` instead of `tqdm.tqdm_notebook`\n"
          ]
        },
        {
          "data": {
            "application/vnd.jupyter.widget-view+json": {
              "model_id": "3658ad6606e246a1bf9ed666ee261b73",
              "version_major": 2,
              "version_minor": 0
            },
            "text/plain": [
              "0it [00:00, ?it/s]"
            ]
          },
          "metadata": {},
          "output_type": "display_data"
        },
        {
          "name": "stdout",
          "output_type": "stream",
          "text": [
            " Accuracy: 0.7312\n",
            " F1 score: 0.5697\n",
            " Average training loss: 0.7544\n",
            "======== Epoch 7 / 10 ========\n",
            "Training...\n"
          ]
        },
        {
          "name": "stderr",
          "output_type": "stream",
          "text": [
            "/usr/local/lib/python3.7/dist-packages/ipykernel_launcher.py:27: TqdmDeprecationWarning: This function will be removed in tqdm==5.0.0\n",
            "Please use `tqdm.notebook.tqdm` instead of `tqdm.tqdm_notebook`\n"
          ]
        },
        {
          "data": {
            "application/vnd.jupyter.widget-view+json": {
              "model_id": "8481aae59ffb4368afb5c7cd51be3cc4",
              "version_major": 2,
              "version_minor": 0
            },
            "text/plain": [
              "0it [00:00, ?it/s]"
            ]
          },
          "metadata": {},
          "output_type": "display_data"
        },
        {
          "name": "stdout",
          "output_type": "stream",
          "text": [
            " Accuracy: 0.7607\n",
            " F1 score: 0.6104\n",
            " Average training loss: 0.6800\n",
            "======== Epoch 8 / 10 ========\n",
            "Training...\n"
          ]
        },
        {
          "name": "stderr",
          "output_type": "stream",
          "text": [
            "/usr/local/lib/python3.7/dist-packages/ipykernel_launcher.py:27: TqdmDeprecationWarning: This function will be removed in tqdm==5.0.0\n",
            "Please use `tqdm.notebook.tqdm` instead of `tqdm.tqdm_notebook`\n"
          ]
        },
        {
          "data": {
            "application/vnd.jupyter.widget-view+json": {
              "model_id": "8cfc0cc953d4424e8fd0731e082b2aa9",
              "version_major": 2,
              "version_minor": 0
            },
            "text/plain": [
              "0it [00:00, ?it/s]"
            ]
          },
          "metadata": {},
          "output_type": "display_data"
        },
        {
          "name": "stdout",
          "output_type": "stream",
          "text": [
            " Accuracy: 0.7955\n",
            " F1 score: 0.6528\n",
            " Average training loss: 0.6179\n",
            "======== Epoch 9 / 10 ========\n",
            "Training...\n"
          ]
        },
        {
          "name": "stderr",
          "output_type": "stream",
          "text": [
            "/usr/local/lib/python3.7/dist-packages/ipykernel_launcher.py:27: TqdmDeprecationWarning: This function will be removed in tqdm==5.0.0\n",
            "Please use `tqdm.notebook.tqdm` instead of `tqdm.tqdm_notebook`\n"
          ]
        },
        {
          "data": {
            "application/vnd.jupyter.widget-view+json": {
              "model_id": "64f6902c348948ba952293d766efe26d",
              "version_major": 2,
              "version_minor": 0
            },
            "text/plain": [
              "0it [00:00, ?it/s]"
            ]
          },
          "metadata": {},
          "output_type": "display_data"
        },
        {
          "name": "stdout",
          "output_type": "stream",
          "text": [
            " Accuracy: 0.8036\n",
            " F1 score: 0.6796\n",
            " Average training loss: 0.5724\n",
            "======== Epoch 10 / 10 ========\n",
            "Training...\n"
          ]
        },
        {
          "name": "stderr",
          "output_type": "stream",
          "text": [
            "/usr/local/lib/python3.7/dist-packages/ipykernel_launcher.py:27: TqdmDeprecationWarning: This function will be removed in tqdm==5.0.0\n",
            "Please use `tqdm.notebook.tqdm` instead of `tqdm.tqdm_notebook`\n"
          ]
        },
        {
          "data": {
            "application/vnd.jupyter.widget-view+json": {
              "model_id": "db434763a05f47c481380ee059a7bbb5",
              "version_major": 2,
              "version_minor": 0
            },
            "text/plain": [
              "0it [00:00, ?it/s]"
            ]
          },
          "metadata": {},
          "output_type": "display_data"
        },
        {
          "name": "stdout",
          "output_type": "stream",
          "text": [
            " Accuracy: 0.8446\n",
            " F1 score: 0.7250\n",
            " Average training loss: 0.4933\n"
          ]
        }
      ],
      "source": [
        "import random\n",
        "from tqdm import tqdm_notebook\n",
        "device = 'cuda'\n",
        "epochs = 10\n",
        "\n",
        "param_optimizer = list(BERT_SA.named_parameters())\n",
        "\n",
        "no_decay = ['bias', 'LayerNorm.bias', 'LayerNorm.weight']\n",
        "optimizer_grouped_parameters = [\n",
        "    {'params': [p for n, p in param_optimizer if not any(nd in n for nd in no_decay)], 'weight_decay': 0.01},\n",
        "    {'params': [p for n, p in param_optimizer if any(nd in n for nd in no_decay)], 'weight_decay': 0.0}\n",
        "]\n",
        "\n",
        "optimizer = AdamW(optimizer_grouped_parameters, lr=1e-5, correct_bias=False)\n",
        "\n",
        "\n",
        "for epoch_i in range(0, epochs):\n",
        "    print('======== Epoch {:} / {:} ========'.format(epoch_i + 1, epochs))\n",
        "    print('Training...')\n",
        "\n",
        "    total_loss = 0\n",
        "    BERT_SA.train()\n",
        "    train_accuracy = 0\n",
        "    nb_train_steps = 0\n",
        "    train_f1 = 0\n",
        "    a = 0\n",
        "    for step, batch in tqdm_notebook(enumerate(train_dataloader)):\n",
        "        b_input_ids = batch[0].to(device)\n",
        "        b_input_mask = batch[1].to(device)\n",
        "        b_labels = batch[2].to(device)\n",
        "        # if a ==0:\n",
        "        #   print(step)\n",
        "        #   a = 1 -> all\n",
        "\n",
        "        BERT_SA.zero_grad()\n",
        "        outputs = BERT_SA(b_input_ids, \n",
        "            token_type_ids=None, \n",
        "            attention_mask=b_input_mask, \n",
        "            labels=b_labels)\n",
        "        loss = outputs[0]\n",
        "        total_loss += loss.item()\n",
        "        \n",
        "        logits = outputs[1].detach().cpu().numpy()\n",
        "        label_ids = b_labels.to('cpu').numpy()\n",
        "        tmp_train_accuracy, tmp_train_f1 = flat_accuracy(logits, label_ids)\n",
        "        train_accuracy += tmp_train_accuracy\n",
        "        train_f1 += tmp_train_f1\n",
        "        nb_train_steps += 1\n",
        "        \n",
        "        loss.backward()\n",
        "        torch.nn.utils.clip_grad_norm_(BERT_SA.parameters(), 1.0)\n",
        "        optimizer.step()\n",
        "        \n",
        "    avg_train_loss = total_loss / len(train_dataloader)\n",
        "    print(\" Accuracy: {0:.4f}\".format(train_accuracy/nb_train_steps))\n",
        "    print(\" F1 score: {0:.4f}\".format(train_f1/nb_train_steps))\n",
        "    print(\" Average training loss: {0:.4f}\".format(avg_train_loss))"
      ]
    },
    {
      "cell_type": "markdown",
      "metadata": {
        "id": "fYSosFDPl93G"
      },
      "source": [
        "# BERT Embedding"
      ]
    },
    {
      "cell_type": "code",
      "source": [
        "from google.colab import drive\n",
        "drive.mount('/content/drive')"
      ],
      "metadata": {
        "colab": {
          "base_uri": "https://localhost:8080/"
        },
        "id": "u-VqcT3W8buI",
        "outputId": "479340bb-3f7a-46e0-922f-5938cde25db2"
      },
      "execution_count": null,
      "outputs": [
        {
          "output_type": "stream",
          "name": "stdout",
          "text": [
            "Mounted at /content/drive\n"
          ]
        }
      ]
    },
    {
      "cell_type": "code",
      "execution_count": null,
      "metadata": {
        "id": "zm8mi8yBLnFP"
      },
      "outputs": [],
      "source": [
        "import csv\n",
        "\n",
        "with open('/content/train_clean.txt', 'r') as in_file:\n",
        "    stripped = (line.strip() for line in in_file)\n",
        "    lines = (line.split(\" \", 1) for line in stripped if line)\n",
        "    with open('/content/drive/MyDrive/Colab Notebooks/sentiment analysis/data/train_clean.csv', 'w') as out_file:\n",
        "        writer = csv.writer(out_file)\n",
        "        writer.writerow(('label', 'combine'))\n",
        "        writer.writerows(lines)"
      ]
    },
    {
      "cell_type": "code",
      "source": [
        "import csv\n",
        "\n",
        "with open('/content/crawl_lazada_clean1.txt', 'r') as in_file:\n",
        "    stripped = (line.strip() for line in in_file)\n",
        "    lines = (line.split(\",\", 1) for line in stripped if line)\n",
        "    with open('/content/drive/MyDrive/Colab Notebooks/sentiment analysis/data/train_lazada.csv', 'w') as out_file:\n",
        "        writer = csv.writer(out_file)\n",
        "        writer.writerow(('label', 'combine'))\n",
        "        writer.writerows(lines)"
      ],
      "metadata": {
        "id": "WxYEdbAcHx8U"
      },
      "execution_count": null,
      "outputs": []
    },
    {
      "cell_type": "code",
      "source": [
        "!pip install transformers\n",
        "!pip install pyvi"
      ],
      "metadata": {
        "colab": {
          "base_uri": "https://localhost:8080/"
        },
        "id": "Oq__Zxz-8ZfD",
        "outputId": "2cd015cc-5488-45f4-fdee-cb833258f837"
      },
      "execution_count": null,
      "outputs": [
        {
          "output_type": "stream",
          "name": "stdout",
          "text": [
            "Looking in indexes: https://pypi.org/simple, https://us-python.pkg.dev/colab-wheels/public/simple/\n",
            "Requirement already satisfied: transformers in /usr/local/lib/python3.7/dist-packages (4.20.1)\n",
            "Requirement already satisfied: tqdm>=4.27 in /usr/local/lib/python3.7/dist-packages (from transformers) (4.64.0)\n",
            "Requirement already satisfied: filelock in /usr/local/lib/python3.7/dist-packages (from transformers) (3.7.1)\n",
            "Requirement already satisfied: regex!=2019.12.17 in /usr/local/lib/python3.7/dist-packages (from transformers) (2022.6.2)\n",
            "Requirement already satisfied: requests in /usr/local/lib/python3.7/dist-packages (from transformers) (2.23.0)\n",
            "Requirement already satisfied: importlib-metadata in /usr/local/lib/python3.7/dist-packages (from transformers) (4.11.4)\n",
            "Requirement already satisfied: packaging>=20.0 in /usr/local/lib/python3.7/dist-packages (from transformers) (21.3)\n",
            "Requirement already satisfied: tokenizers!=0.11.3,<0.13,>=0.11.1 in /usr/local/lib/python3.7/dist-packages (from transformers) (0.12.1)\n",
            "Requirement already satisfied: pyyaml>=5.1 in /usr/local/lib/python3.7/dist-packages (from transformers) (6.0)\n",
            "Requirement already satisfied: numpy>=1.17 in /usr/local/lib/python3.7/dist-packages (from transformers) (1.21.6)\n",
            "Requirement already satisfied: huggingface-hub<1.0,>=0.1.0 in /usr/local/lib/python3.7/dist-packages (from transformers) (0.8.1)\n",
            "Requirement already satisfied: typing-extensions>=3.7.4.3 in /usr/local/lib/python3.7/dist-packages (from huggingface-hub<1.0,>=0.1.0->transformers) (4.1.1)\n",
            "Requirement already satisfied: pyparsing!=3.0.5,>=2.0.2 in /usr/local/lib/python3.7/dist-packages (from packaging>=20.0->transformers) (3.0.9)\n",
            "Requirement already satisfied: zipp>=0.5 in /usr/local/lib/python3.7/dist-packages (from importlib-metadata->transformers) (3.8.0)\n",
            "Requirement already satisfied: chardet<4,>=3.0.2 in /usr/local/lib/python3.7/dist-packages (from requests->transformers) (3.0.4)\n",
            "Requirement already satisfied: idna<3,>=2.5 in /usr/local/lib/python3.7/dist-packages (from requests->transformers) (2.10)\n",
            "Requirement already satisfied: urllib3!=1.25.0,!=1.25.1,<1.26,>=1.21.1 in /usr/local/lib/python3.7/dist-packages (from requests->transformers) (1.24.3)\n",
            "Requirement already satisfied: certifi>=2017.4.17 in /usr/local/lib/python3.7/dist-packages (from requests->transformers) (2022.6.15)\n",
            "Looking in indexes: https://pypi.org/simple, https://us-python.pkg.dev/colab-wheels/public/simple/\n",
            "Requirement already satisfied: pyvi in /usr/local/lib/python3.7/dist-packages (0.1.1)\n",
            "Requirement already satisfied: sklearn-crfsuite in /usr/local/lib/python3.7/dist-packages (from pyvi) (0.3.6)\n",
            "Requirement already satisfied: scikit-learn in /usr/local/lib/python3.7/dist-packages (from pyvi) (1.0.2)\n",
            "Requirement already satisfied: joblib>=0.11 in /usr/local/lib/python3.7/dist-packages (from scikit-learn->pyvi) (1.1.0)\n",
            "Requirement already satisfied: scipy>=1.1.0 in /usr/local/lib/python3.7/dist-packages (from scikit-learn->pyvi) (1.4.1)\n",
            "Requirement already satisfied: threadpoolctl>=2.0.0 in /usr/local/lib/python3.7/dist-packages (from scikit-learn->pyvi) (3.1.0)\n",
            "Requirement already satisfied: numpy>=1.14.6 in /usr/local/lib/python3.7/dist-packages (from scikit-learn->pyvi) (1.21.6)\n",
            "Requirement already satisfied: tqdm>=2.0 in /usr/local/lib/python3.7/dist-packages (from sklearn-crfsuite->pyvi) (4.64.0)\n",
            "Requirement already satisfied: tabulate in /usr/local/lib/python3.7/dist-packages (from sklearn-crfsuite->pyvi) (0.8.9)\n",
            "Requirement already satisfied: python-crfsuite>=0.8.3 in /usr/local/lib/python3.7/dist-packages (from sklearn-crfsuite->pyvi) (0.9.8)\n",
            "Requirement already satisfied: six in /usr/local/lib/python3.7/dist-packages (from sklearn-crfsuite->pyvi) (1.15.0)\n"
          ]
        }
      ]
    },
    {
      "cell_type": "code",
      "execution_count": null,
      "metadata": {
        "id": "5aV9Vz5LLk_9"
      },
      "outputs": [],
      "source": [
        "import numpy as np\n",
        "import pandas as pd\n",
        "from sklearn.model_selection import train_test_split\n",
        "from sklearn.linear_model import LogisticRegression\n",
        "from sklearn.model_selection import GridSearchCV\n",
        "from sklearn.model_selection import cross_val_score\n",
        "import torch\n",
        "import transformers\n",
        "from transformers import BertModel, BertTokenizer"
      ]
    },
    {
      "cell_type": "code",
      "execution_count": null,
      "metadata": {
        "id": "i4MMOaOXLN8Q"
      },
      "outputs": [],
      "source": [
        "train_path = '/content/drive/MyDrive/Colab Notebooks/sentiment analysis/data/tu_sua_tay_data_train.csv'\n",
        "test_path = '/content/drive/MyDrive/Colab Notebooks/sentiment analysis/data/tu_sua_tay_data_test.csv'"
      ]
    },
    {
      "cell_type": "code",
      "execution_count": null,
      "metadata": {
        "colab": {
          "base_uri": "https://localhost:8080/",
          "height": 206
        },
        "id": "oOW3-qFaArPO",
        "outputId": "52371b9d-a08e-4cf1-8604-b64074673faf"
      },
      "outputs": [
        {
          "output_type": "execute_result",
          "data": {
            "text/plain": [
              "   label                               combine\n",
              "0      4  bốn sao  mẫu mã và chất lượng y hình\n",
              "1      5                          năm sao  đẹp\n",
              "2      5          năm sau  very nice i love it\n",
              "3      5       tot  san pham giong hinh da dep\n",
              "4      5                           năm sao đẹp"
            ],
            "text/html": [
              "\n",
              "  <div id=\"df-b89bb5d4-b34f-44b1-bb91-db481e22871b\">\n",
              "    <div class=\"colab-df-container\">\n",
              "      <div>\n",
              "<style scoped>\n",
              "    .dataframe tbody tr th:only-of-type {\n",
              "        vertical-align: middle;\n",
              "    }\n",
              "\n",
              "    .dataframe tbody tr th {\n",
              "        vertical-align: top;\n",
              "    }\n",
              "\n",
              "    .dataframe thead th {\n",
              "        text-align: right;\n",
              "    }\n",
              "</style>\n",
              "<table border=\"1\" class=\"dataframe\">\n",
              "  <thead>\n",
              "    <tr style=\"text-align: right;\">\n",
              "      <th></th>\n",
              "      <th>label</th>\n",
              "      <th>combine</th>\n",
              "    </tr>\n",
              "  </thead>\n",
              "  <tbody>\n",
              "    <tr>\n",
              "      <th>0</th>\n",
              "      <td>4</td>\n",
              "      <td>bốn sao  mẫu mã và chất lượng y hình</td>\n",
              "    </tr>\n",
              "    <tr>\n",
              "      <th>1</th>\n",
              "      <td>5</td>\n",
              "      <td>năm sao  đẹp</td>\n",
              "    </tr>\n",
              "    <tr>\n",
              "      <th>2</th>\n",
              "      <td>5</td>\n",
              "      <td>năm sau  very nice i love it</td>\n",
              "    </tr>\n",
              "    <tr>\n",
              "      <th>3</th>\n",
              "      <td>5</td>\n",
              "      <td>tot  san pham giong hinh da dep</td>\n",
              "    </tr>\n",
              "    <tr>\n",
              "      <th>4</th>\n",
              "      <td>5</td>\n",
              "      <td>năm sao đẹp</td>\n",
              "    </tr>\n",
              "  </tbody>\n",
              "</table>\n",
              "</div>\n",
              "      <button class=\"colab-df-convert\" onclick=\"convertToInteractive('df-b89bb5d4-b34f-44b1-bb91-db481e22871b')\"\n",
              "              title=\"Convert this dataframe to an interactive table.\"\n",
              "              style=\"display:none;\">\n",
              "        \n",
              "  <svg xmlns=\"http://www.w3.org/2000/svg\" height=\"24px\"viewBox=\"0 0 24 24\"\n",
              "       width=\"24px\">\n",
              "    <path d=\"M0 0h24v24H0V0z\" fill=\"none\"/>\n",
              "    <path d=\"M18.56 5.44l.94 2.06.94-2.06 2.06-.94-2.06-.94-.94-2.06-.94 2.06-2.06.94zm-11 1L8.5 8.5l.94-2.06 2.06-.94-2.06-.94L8.5 2.5l-.94 2.06-2.06.94zm10 10l.94 2.06.94-2.06 2.06-.94-2.06-.94-.94-2.06-.94 2.06-2.06.94z\"/><path d=\"M17.41 7.96l-1.37-1.37c-.4-.4-.92-.59-1.43-.59-.52 0-1.04.2-1.43.59L10.3 9.45l-7.72 7.72c-.78.78-.78 2.05 0 2.83L4 21.41c.39.39.9.59 1.41.59.51 0 1.02-.2 1.41-.59l7.78-7.78 2.81-2.81c.8-.78.8-2.07 0-2.86zM5.41 20L4 18.59l7.72-7.72 1.47 1.35L5.41 20z\"/>\n",
              "  </svg>\n",
              "      </button>\n",
              "      \n",
              "  <style>\n",
              "    .colab-df-container {\n",
              "      display:flex;\n",
              "      flex-wrap:wrap;\n",
              "      gap: 12px;\n",
              "    }\n",
              "\n",
              "    .colab-df-convert {\n",
              "      background-color: #E8F0FE;\n",
              "      border: none;\n",
              "      border-radius: 50%;\n",
              "      cursor: pointer;\n",
              "      display: none;\n",
              "      fill: #1967D2;\n",
              "      height: 32px;\n",
              "      padding: 0 0 0 0;\n",
              "      width: 32px;\n",
              "    }\n",
              "\n",
              "    .colab-df-convert:hover {\n",
              "      background-color: #E2EBFA;\n",
              "      box-shadow: 0px 1px 2px rgba(60, 64, 67, 0.3), 0px 1px 3px 1px rgba(60, 64, 67, 0.15);\n",
              "      fill: #174EA6;\n",
              "    }\n",
              "\n",
              "    [theme=dark] .colab-df-convert {\n",
              "      background-color: #3B4455;\n",
              "      fill: #D2E3FC;\n",
              "    }\n",
              "\n",
              "    [theme=dark] .colab-df-convert:hover {\n",
              "      background-color: #434B5C;\n",
              "      box-shadow: 0px 1px 3px 1px rgba(0, 0, 0, 0.15);\n",
              "      filter: drop-shadow(0px 1px 2px rgba(0, 0, 0, 0.3));\n",
              "      fill: #FFFFFF;\n",
              "    }\n",
              "  </style>\n",
              "\n",
              "      <script>\n",
              "        const buttonEl =\n",
              "          document.querySelector('#df-b89bb5d4-b34f-44b1-bb91-db481e22871b button.colab-df-convert');\n",
              "        buttonEl.style.display =\n",
              "          google.colab.kernel.accessAllowed ? 'block' : 'none';\n",
              "\n",
              "        async function convertToInteractive(key) {\n",
              "          const element = document.querySelector('#df-b89bb5d4-b34f-44b1-bb91-db481e22871b');\n",
              "          const dataTable =\n",
              "            await google.colab.kernel.invokeFunction('convertToInteractive',\n",
              "                                                     [key], {});\n",
              "          if (!dataTable) return;\n",
              "\n",
              "          const docLinkHtml = 'Like what you see? Visit the ' +\n",
              "            '<a target=\"_blank\" href=https://colab.research.google.com/notebooks/data_table.ipynb>data table notebook</a>'\n",
              "            + ' to learn more about interactive tables.';\n",
              "          element.innerHTML = '';\n",
              "          dataTable['output_type'] = 'display_data';\n",
              "          await google.colab.output.renderOutput(dataTable, element);\n",
              "          const docLink = document.createElement('div');\n",
              "          docLink.innerHTML = docLinkHtml;\n",
              "          element.appendChild(docLink);\n",
              "        }\n",
              "      </script>\n",
              "    </div>\n",
              "  </div>\n",
              "  "
            ]
          },
          "metadata": {},
          "execution_count": 28
        }
      ],
      "source": [
        "data_embedding = pd.read_csv(\"/content/drive/MyDrive/Colab Notebooks/sentiment analysis/data/train_clean.csv\")\n",
        "data_embedding.head()"
      ]
    },
    {
      "cell_type": "code",
      "execution_count": null,
      "metadata": {
        "colab": {
          "base_uri": "https://localhost:8080/",
          "height": 315
        },
        "id": "rbPIlIbjoPmu",
        "outputId": "41fc5208-d499-4f35-bf79-40acfcda06cd"
      },
      "outputs": [
        {
          "output_type": "execute_result",
          "data": {
            "text/html": [
              "<div>\n",
              "<style scoped>\n",
              "    .dataframe tbody tr th:only-of-type {\n",
              "        vertical-align: middle;\n",
              "    }\n",
              "\n",
              "    .dataframe tbody tr th {\n",
              "        vertical-align: top;\n",
              "    }\n",
              "\n",
              "    .dataframe thead th {\n",
              "        text-align: right;\n",
              "    }\n",
              "</style>\n",
              "<table border=\"1\" class=\"dataframe\">\n",
              "  <thead>\n",
              "    <tr style=\"text-align: right;\">\n",
              "      <th></th>\n",
              "      <th>label</th>\n",
              "      <th>combine</th>\n",
              "    </tr>\n",
              "  </thead>\n",
              "  <tbody>\n",
              "    <tr>\n",
              "      <th>0</th>\n",
              "      <td>4</td>\n",
              "      <td>bốn sao  mẫu mã và chất lượng y hình</td>\n",
              "    </tr>\n",
              "    <tr>\n",
              "      <th>1</th>\n",
              "      <td>5</td>\n",
              "      <td>năm sao  đẹp</td>\n",
              "    </tr>\n",
              "    <tr>\n",
              "      <th>2</th>\n",
              "      <td>5</td>\n",
              "      <td>năm sau  very nice i love it</td>\n",
              "    </tr>\n",
              "    <tr>\n",
              "      <th>3</th>\n",
              "      <td>5</td>\n",
              "      <td>tot  san pham giong hinh da dep</td>\n",
              "    </tr>\n",
              "    <tr>\n",
              "      <th>4</th>\n",
              "      <td>5</td>\n",
              "      <td>năm sao đẹp</td>\n",
              "    </tr>\n",
              "    <tr>\n",
              "      <th>...</th>\n",
              "      <td>...</td>\n",
              "      <td>...</td>\n",
              "    </tr>\n",
              "    <tr>\n",
              "      <th>493</th>\n",
              "      <td>5</td>\n",
              "      <td>chat luong tot</td>\n",
              "    </tr>\n",
              "    <tr>\n",
              "      <th>494</th>\n",
              "      <td>5</td>\n",
              "      <td>năm sao  túi y hìnhđa mềm hợp túi tiền giao hà...</td>\n",
              "    </tr>\n",
              "    <tr>\n",
              "      <th>495</th>\n",
              "      <td>5</td>\n",
              "      <td>rẻ đẹp  mình mua đúng hôm giảm còn 99k nay nhậ...</td>\n",
              "    </tr>\n",
              "    <tr>\n",
              "      <th>496</th>\n",
              "      <td>4</td>\n",
              "      <td>sản phẩm tốt  sản phẩm tốt</td>\n",
              "    </tr>\n",
              "    <tr>\n",
              "      <th>497</th>\n",
              "      <td>4</td>\n",
              "      <td>đánh giá sản phẩm  nhìn chung thì lazada cũng ...</td>\n",
              "    </tr>\n",
              "  </tbody>\n",
              "</table>\n",
              "<p>498 rows × 2 columns</p>\n",
              "</div>"
            ],
            "application/vnd.google.colaboratory.module+javascript": "\n      import \"https://ssl.gstatic.com/colaboratory/data_table/f872b2c2305463fd/data_table.js\";\n\n      window.createDataTable({\n        data: [[{\n            'v': 4,\n            'f': \"4\",\n        },\n\"b\\u1ed1n sao  m\\u1eabu m\\u00e3 v\\u00e0 ch\\u1ea5t l\\u01b0\\u1ee3ng y h\\u00ecnh\"],\n [{\n            'v': 5,\n            'f': \"5\",\n        },\n\"n\\u0103m sao  \\u0111\\u1eb9p\"],\n [{\n            'v': 5,\n            'f': \"5\",\n        },\n\"n\\u0103m sau  very nice i love it\"],\n [{\n            'v': 5,\n            'f': \"5\",\n        },\n\"tot  san pham giong hinh da dep\"],\n [{\n            'v': 5,\n            'f': \"5\",\n        },\n\"n\\u0103m sao \\u0111\\u1eb9p\"],\n [{\n            'v': 5,\n            'f': \"5\",\n        },\n\"tuy\\u1ec7t  ch\\u1ec9 1 ng\\u00e0y m\\u00e0 m\\u00ecnh \\u0111\\u00e3 nh\\u1eadn \\u0111\\u01b0\\u1ee3c h\\u00e0ng h\\u00e0ng r\\u1ea5t \\u0111\\u1eb9p m\\u00ecnh th\\u00edch l\\u1eafm lun \\u00e1\"],\n [{\n            'v': 3,\n            'f': \"3\",\n        },\n\"5 sao  t\\u00f4i r\\u1ea5t h\\u00e0i l\\u00f2ng v\\u1ec1 s\\u1ea3n ph\\u1ea9m c\\u1ea3m \\u01a1n lazada\"],\n [{\n            'v': 5,\n            'f': \"5\",\n        },\n\"t\\u00fai  \\u0111\\u1eb9p v\\u00e0 ti\\u1ec7n d\\u1ee5ng \\u0111\\u00e3 mua th\\u00eam 1 c\\u00e1i n\\u1eefa v\\u00e0 c\\u00f2n mua th\\u00eam n\\u1eefa\"],\n [{\n            'v': 4,\n            'f': \"4\",\n        },\n\"t\\u00fai \\u0111\\u1eb9p  c\\u00f3 v\\u00e0i ch\\u1ed7 \\u0111\\u01b0\\u1eddng ch\\u1ec9 b\\u1ecb may ch\\u1ed3ng l\\u00ean nhau nh\\u01b0ng nh\\u00ecn chung t\\u00fai \\u0111\\u1eb9p ch\\u1eafc ch\\u1eafn gi\\u00e1 r\\u1ebb so v\\u1edbi ch\\u1ea5t l\\u01b0\\u1ee3ng m\\u00ecnh r\\u1ea5t th\\u00edch sp n\\u00e0y\"],\n [{\n            'v': 5,\n            'f': \"5\",\n        },\n\"t\\u1ed1t  s\\u1ea3n ph\\u1ea9m v\\u1eeba t\\u1ea7m gi\\u00e1 ch\\u1ea5t l\\u01b0\\u1ee3ng t\\u1ed1t\"],\n [{\n            'v': 4,\n            'f': \"4\",\n        },\n\"danh gia  \\u0111\\u1eb9p nh\\u01b0ng t\\u00fai h\\u01a1i nh\\u1ecf\"],\n [{\n            'v': 5,\n            'f': \"5\",\n        },\n\"n\\u0103m sao  \\u0111\\u1eb9p l\\u1eafm r\\u1ea5t th\\u00edch\"],\n [{\n            'v': 3,\n            'f': \"3\",\n        },\n\"ba sao  h\\u00e0i l\\u00f2ng v\\u1edbi s\\u1ea3n ph\\u1ea9m n\\u00e0y c\\u1ef1c k\\u1ef3 l\\u1ea7n sau s\\u1ebd mua h\\u00e0ng tr\\u00ean lazada ti\\u1ebfp\"],\n [{\n            'v': 5,\n            'f': \"5\",\n        },\n\"tui xach lata minh mua ve rat hai long  chat lieu da tot ma lai vua tui tien nha minh rat thich sp nay\"],\n [{\n            'v': 5,\n            'f': \"5\",\n        },\n\"hang dep nhu hinh nhu chac chan ben dep  ok\"],\n [{\n            'v': 1,\n            'f': \"1\",\n        },\n\"h\\u00e0ng \\u0111\\u00fang nh\\u01b0 h\\u00ecnh nh\\u01b0ng tr\\u00ean website c\\u00f3 t\\u1eb7ng k\\u00e8m v\\u00ed m\\u00e0 nh\\u1eadn ko c\\u00f3\"],\n [{\n            'v': 5,\n            'f': \"5\",\n        },\n\"n\\u0103m sao  h\\u00e0ng \\u0111\\u1eb9p t\\u1ed1t\"],\n [{\n            'v': 5,\n            'f': \"5\",\n        },\n\"r\\u1ea5t t\\u1ed1t  h\\u00e0ng nh\\u1eadn gi\\u1ed1ng h\\u00ecnh ch\\u1ea5t li\\u1ec7u \\u0111\\u1eb9p ph\\u00f9 h\\u1ee3p v\\u1edbi gi\\u00e1 ti\\u1ec1n\"],\n [{\n            'v': 5,\n            'f': \"5\",\n        },\n\"qu\\u00e1 \\u0111\\u1eb9p  \\u0111\\u00e3 nh\\u1eadn \\u0111c h\\u00e0ng qu\\u00e1 \\u0111\\u1eb9p ph\\u1ea3i \\u0111\\u1eb7t th\\u00eam c\\u00e1i n\\u1eefa cho 5 sao\"],\n [{\n            'v': 4,\n            'f': \"4\",\n        },\n\"san pham dep  san pham dep so voi gia\"],\n [{\n            'v': 5,\n            'f': \"5\",\n        },\n\"n\\u0103m sao  r\\u1ea5t h\\u00e0i l\\u00f2ng v\\u1ec1 s\\u1ea3n ph\\u1ea9m da \\u0111\\u1eb9p t\\u1ec9 m\\u1ec9 c\\u1ea9n th\\u1eadn \\u0111\\u1ebfn t\\u1eebng \\u0111\\u01b0\\u1eddng may m\\u00e0 gi\\u00e1 l\\u1ea1i si\\u00eau m\\u1ec1m c\\u1ea3m \\u01a1n lazada r\\u1ea5t nhi\\u1ec1u nh\\u00e9\"],\n [{\n            'v': 3,\n            'f': \"3\",\n        },\n\"t\\u1ed1t  s\\u1ea3n ph\\u1ea9m t\\u1ed1t trong t\\u1ea7m gi\\u00e1\"],\n [{\n            'v': 5,\n            'f': \"5\",\n        },\n\"n\\u0103m sao  tui dep va re\"],\n [{\n            'v': 5,\n            'f': \"5\",\n        },\n\"mik \\u0111ang d\\u00f9ng t\\u00fai n\\u00e0y th\\u1ea5y thik l\\u1eafm m\\u00e0 gi\\u00e1 c\\u1ea3 ph\\u1ea3i ch\\u0103ng  t\\u00fai nh\\u01b0 qu\\u1ea3ng c\\u00e1o\"],\n [{\n            'v': 5,\n            'f': \"5\",\n        },\n\"tuy\\u1ec7t v\\u1eddi  t\\u00fai da m\\u1ec1m \\u0111\\u01b0\\u1eddng may \\u0111\\u1eb9p gi\\u00e1 qu\\u00e1 r\\u1ebb m\\u00ecnh mua l\\u00fac 105k \\u0111ang \\u0111\\u1ecbnh \\u0111\\u1eb7t th\\u00eam mang \\u0111i l\\u00e0m hay \\u0111i ch\\u01a1i \\u0111\\u1ec1u \\u0111c nh\\u00e9 r\\u1ea5t tr\\u1ebb trung\"],\n [{\n            'v': 4,\n            'f': \"4\",\n        },\n\"b\\u1ed1n sao  t\\u00fai \\u0111\\u1eb9p da m\\u1ec1m m\\u1ecbn gi\\u00e1 r\\u1ebb t\\u00f4i r\\u1ea5t h\\u00e0i l\\u00f2ng v\\u1ec1 s\\u1ea3n ph\\u1ea9m tuy nhi\\u00ean giao h\\u00e0ng c\\u00f2n ch\\u1eadm \\u0111\\u1ee3i \\u0111\\u1ebfn 10 ng\\u00e0y th\\u00ec qu\\u00e1 l\\u00e2u\"],\n [{\n            'v': 5,\n            'f': \"5\",\n        },\n\"n\\u0103m sao  m\\u00ecnh r\\u1ea5t h\\u00e0i l\\u00f2ng\"],\n [{\n            'v': 5,\n            'f': \"5\",\n        },\n\"n\\u0103m sao  h\\u00e0ng ok r\\u1ea5t th\\u00edch\"],\n [{\n            'v': 1,\n            'f': \"1\",\n        },\n\"e \\u0111\\u1eb7t t\\u00fai n\\u00e0y sao m\\u00e3i k th\\u1ea5y ibox v\\u1eady\"],\n [{\n            'v': 5,\n            'f': \"5\",\n        },\n\"5 sao  t\\u00f4i thi\\u0301ch sa\\u0309n ph\\u00e2\\u0309m \\u0111a\\u0303 mua\"],\n [{\n            'v': 5,\n            'f': \"5\",\n        },\n\"ch\\u1ea5t l\\u01b0\\u1ee3ng t\\u1ed1t  gi\\u00e1 v\\u1eady l\\u00e0 qu\\u00e1 ok so v\\u1edbi h\\u00e0ng\"],\n [{\n            'v': 5,\n            'f': \"5\",\n        },\n\"hai long ve sp va dich vu cua lazada  tui xach nhu hinh anh gia re giao hang nhanh tuyet voi lazada\"],\n [{\n            'v': 3,\n            'f': \"3\",\n        },\n\"very good  t\\u00f4i h\\u00e0i l\\u00f2ng v\\u1ec1 s\\u1ea3n ph\\u1ea9m c\\u1ee7a c\\u00e1c b\\u1ea1n m\\u1eabu m\\u00e3 \\u0111\\u1eb9p t\\u1eebng \\u0111\\u01b0\\u1eddng ch\\u1ec9 r\\u1ea5t chu\\u1ea9n x\\u00e1c kh\\u00f4ng c\\u00f3 l\\u1ed7i gi\\u00e1 c\\u1ea3 c\\u1ef1c k\\u00ec h\\u1ee3p l\\u00fd c\\u00e1m \\u01a1n lazada v\\u00e0 latashop\"],\n [{\n            'v': 5,\n            'f': \"5\",\n        },\n\"\\u0111\\u1eb9p r\\u1ea5t \\u01b0ng \\u00fd  mua l\\u00fac \\u0111ang gi\\u1ea3m gi\\u00e1 92k s\\u1ea3n ph\\u1ea9m r\\u1ea5t \\u0111\\u1eb9p da m\\u1ecbn d\\u00e0y d\\u1eb7n quai \\u0111eo ch\\u1eafc ch\\u1eafn khuy n\\u00fat d\\u00e2y k\\u00e9o \\u0111\\u1eb9p\"],\n [{\n            'v': 5,\n            'f': \"5\",\n        },\n\"ch\\u1ea5t l\\u01b0\\u1ee3ng t\\u1ed1t  h\\u00e0ng giao trong 24h th\\u00ec chi\\u1ec1u h\\u00f4m trc \\u0111\\u1eb7t 10h t\\u1ed1i h\\u00f4m sau d\\u1eady \\u0111i nh\\u1eadn h\\u00e0ng ch\\u1ea5t l\\u01b0\\u1ee3ng h\\u00e0ng t\\u1ed1t ch\\u1ea5t li\\u1ec7u da t\\u1ed1t ch\\u1ec9 may \\u0111\\u1eb9p m\\u00e0u s\\u1eafc v\\u1eeba m\\u1eaft quan tr\\u1ecdng v\\u1ee3 m\\u00ecnh vui c\\u00e1m \\u01a1n shop v\\u00e0 lazada\"],\n [{\n            'v': 1,\n            'f': \"1\",\n        },\n\"g\\u1ecdi ng\\u01b0\\u1eddi b\\u00e1n kh\\u00f4ng b\\u1eaft m\\u1ea5y s\\u1ea3n ph\\u1ea9m th\\u00ec kh\\u00f4ng nh\\u01b0 \\u00fd gi\\u00e1 b\\u00e1n kh\\u00f4ng \\u0111\\u00fang\"],\n [{\n            'v': 5,\n            'f': \"5\",\n        },\n\"h\\u00e0i l\\u00f2ng\"],\n [{\n            'v': 4,\n            'f': \"4\",\n        },\n\"b\\u1ed1n sao  \\u0111\\u1eb9p nh\\u01b0ng h\\u01a1i nh\\u1ecf\"],\n [{\n            'v': 1,\n            'f': \"1\",\n        },\n\"kh\\u00f4ng h\\u00e0i l\\u00f2ng t\\u00f4i v\\u1eeba nh\\u1eadn \\u0111\\u01b0\\u1ee3c t\\u00fai x\\u00e1ch ch\\u1ea5t li\\u1ec7u t\\u00fai nh\\u00e3o form t\\u00fai th\\u00ec b\\u1ecb m\\u00e9o nh\\u00ecn s\\u1ea3n ph\\u1ea9m kh\\u00f4ng ch\\u1eafc ch\\u1eafn\"],\n [{\n            'v': 3,\n            'f': \"3\",\n        },\n\"t\\u1ea1m\"],\n [{\n            'v': 3,\n            'f': \"3\",\n        },\n\"t\\u00fai t\\u1ed1t  ch\\u1ea5t li\\u1ec7u th\\u00edch gi\\u1ecf g\\u1ecdn ti\\u1ec7n d\\u1ee5ng n\\u00f3i chung th\\u00edch\"],\n [{\n            'v': 5,\n            'f': \"5\",\n        },\n\"t\\u00fai x\\u00e1ch  \\u0111\\u1eb9p g\\u1ecdn nh\\u1eb9 m\\u00ecnh r\\u1ea5t th\\u00edch\"],\n [{\n            'v': 5,\n            'f': \"5\",\n        },\n\"tuy\\u1ec7t  h\\u00e0ng y h\\u00ecnh ok t\\u00fai r\\u1ea5t \\u0111\\u1eb9p v\\u00e0 qu\\u00e1 r\\u1ebb so v\\u1edbi gi\\u00e1 ti\\u1ec1n h\\u00e0i l\\u00f2ng tuy\\u1ec7t \\u0111\\u1ed1i cho 5 sao\"],\n [{\n            'v': 1,\n            'f': \"1\",\n        },\n\"t\\u00fai x\\u1ea5u\"],\n [{\n            'v': 1,\n            'f': \"1\",\n        },\n\"h\\u00e0ng v\\u00e0ng m\\u00e3 h\\u00e0ng qu\\u00e1 x\\u1ea5u so v\\u1edbi \\u1ea3nh nh\\u01b0 \\u0111\\u1ed3 v\\u00e0ng m\\u00e3\"],\n [{\n            'v': 4,\n            'f': \"4\",\n        },\n\"t\\u00fai h\\u01a1i b\\u00e9  h\\u00e0ng t\\u1ed1t ch\\u1ea5t l\\u01b0\\u1ee3ng tr\\u1eeb m\\u1ed7i \\u0111i\\u1ec3m t\\u00fai h\\u01a1i b\\u00e9\"],\n [{\n            'v': 3,\n            'f': \"3\",\n        },\n\"t\\u00fai x\\u00e1ch  ok rat thik\"],\n [{\n            'v': 4,\n            'f': \"4\",\n        },\n\"hai long  hang giong hinh dep gia re dinh lua nua ma het hang\"],\n [{\n            'v': 5,\n            'f': \"5\",\n        },\n\"n\\u0103m sao r\\u1ea5t \\u01b0ng\"],\n [{\n            'v': 5,\n            'f': \"5\",\n        },\n\"n\\u0103m sao  da cung dep duong may tot\"],\n [{\n            'v': 4,\n            'f': \"4\",\n        },\n\"dep  chat lieu tot dep nhu hinh 39 lata\"],\n [{\n            'v': 4,\n            'f': \"4\",\n        },\n\"b\\u1ed1n sao  m\\u1edbi nh\\u1eadn h\\u00e0ng h\\u00f4m nay v\\u1edbi gi\\u00e1 77k d\\u00f9ng \\u0111\\u1ef1ng \\u0111\\u1ed3 ch\\u01a1i ch\\u01a1i c\\u0169ng \\u1ed5n gi\\u1ed1ng h\\u00ecnh da c\\u1ee9ng c\\u00e1p\"],\n [{\n            'v': 5,\n            'f': \"5\",\n        },\n\"s\\u1ea3n ph\\u1ea9m t\\u1ed1t  s\\u1ea3n ph\\u1ea9m t\\u1ed1t \\u0111\\u00f3ng g\\u00f3i c\\u1ea9n th\\u1eadn\"],\n [{\n            'v': 5,\n            'f': \"5\",\n        },\n\"t\\u00fai \\u0111eo da m\\u1ec1m e th\\u00edch vi nho bo dien tho\\u1ea1i v\\u00f4 vua  t\\u00fai \\u0111eo ch\\u00e9o\"],\n [{\n            'v': 4,\n            'f': \"4\",\n        },\n\"s\\u1ea3n ph\\u1ea9m ch\\u1ea5p nh\\u1eadn \\u0111\\u01b0\\u1ee3c so v\\u1edbi m\\u00f4 t\\u1ea3 v\\u00e0 m\\u1ee9c gi\\u00e1\"],\n [{\n            'v': 1,\n            'f': \"1\",\n        },\n\"m\\u1ed9t sao\"],\n [{\n            'v': 5,\n            'f': \"5\",\n        },\n\"t\\u00fai \\u0111eo ch\\u00e9o lata  h\\u00e0ng \\u0111\\u1eb9p \\u0111\\u00fang v\\u1edbi qu\\u1ea3ng c\\u00e1o giao h\\u00e0ng nhanh th\\u00e2n thi\\u1ec7n r\\u1ea5t h\\u00e0i l\\u00f2ng thank laza\"],\n [{\n            'v': 4,\n            'f': \"4\",\n        },\n\"x\\u00e0i \\u00eam \\u0111\\u1eb9p \\u0111c\"],\n [{\n            'v': 5,\n            'f': \"5\",\n        },\n\"dep  nhu hinh\"],\n [{\n            'v': 4,\n            'f': \"4\",\n        },\n\"b\\u1ed1n sao  ch\\u1ea5t l\\u01b0\\u1ee3ng s\\u1ea3n ph\\u1ea9m t\\u1ed1t h\\u01a1n mong \\u0111\\u1ee3i\"],\n [{\n            'v': 5,\n            'f': \"5\",\n        },\n\"s\\u1ea3n ph\\u1ea9m t\\u1ed1t  s\\u1ea3n ph\\u1ea9m t\\u1ed1t \\u0111\\u00f3ng g\\u00f3i c\\u1ea9n th\\u1eadn\"],\n [{\n            'v': 4,\n            'f': \"4\",\n        },\n\"t\\u1ed1t  s\\u1ea3n ph\\u1ea9m d\\u00f9ng ok v\\u1edbi t\\u1ea7m gi\\u00e1 n\\u00e0y th\\u00ec ch\\u1ea5t l\\u01b0\\u1ee3ng r\\u1ea5t t\\u1ed1t\"],\n [{\n            'v': 3,\n            'f': \"3\",\n        },\n\"ba sao  h\\u00e0ng ph\\u00f9 h\\u1ee3p v\\u1edbi gi\\u00e1 ti\\u1ec1n\"],\n [{\n            'v': 5,\n            'f': \"5\",\n        },\n\"tuy\\u1ec7t v\\u1eddi  m\\u00f9a r\\u1ea5t \\u01b0ng \\u00fd\"],\n [{\n            'v': 5,\n            'f': \"5\",\n        },\n\"tuy\\u1ec7t v\\u1eddi  s\\u1ea3n ph\\u1ea9m \\u0111\\u1eb9p giao h\\u00e0ng nhanh gi\\u00e1 c\\u1ea3 c\\u0169ng h\\u1ee3p l\\u00fd\"],\n [{\n            'v': 5,\n            'f': \"5\",\n        },\n\"t\\u00f4\\u0301t  mua \\u0111\\u01b0\\u01a1\\u0323c gia\\u0301 re\\u0309 100k ha\\u0300i lo\\u0300ng da m\\u00ea\\u0300m ch\\u0103\\u0301c go\\u0323n nhe\\u0323 \\u0111\\u00ea\\u0309 vi\\u0301 bo\\u0301p va\\u0300 \\u0111i\\u00ea\\u0323n thoa\\u0323i v\\u01b0\\u0300a pha\\u0309i kh\\u00f4ng c\\u00f4\\u0300ng k\\u00ea\\u0300nh ti\\u00ea\\u0323n l\\u01a1\\u0323i\"],\n [{\n            'v': 5,\n            'f': \"5\",\n        },\n\"ha\\u0300ng \\u0111e\\u0323p du\\u0300ng ok  r\\u00e2\\u0301t ha\\u0300i lo\\u0300ng v\\u00ea\\u0300 sa\\u0309n ph\\u00e2\\u0309m\"],\n [{\n            'v': 1,\n            'f': \"1\",\n        },\n\"m\\u1ed9t sao  mi\\u0300nh ha\\u0300i lo\\u0300ng v\\u01a1\\u0301i sp v\\u01a1\\u0301i gia\\u0301 ti\\u00ea\\u0300n nh\\u01b0 v\\u00e2\\u0323y thi\\u0300 sp \\u00f4\\u0309n ru\\u0300i\"],\n [{\n            'v': 5,\n            'f': \"5\",\n        },\n\"dich vu tuong doi tot  dat hang nhanh\"],\n [{\n            'v': 4,\n            'f': \"4\",\n        },\n\"t\\u1ed1t  giao h\\u00e0ng nhanh h\\u00e0ng r\\u1ea5t \\u0111\\u1eb9p m\\u00ecnh r\\u1ea5t h\\u00e0i l\\u00f2ng v\\u1edbi s\\u1ea3n ph\\u1ea9m nh\\u01b0ng khi giao h\\u00e0ng m\\u00ecnh kh\\u00f4ng th\\u1ea5y c\\u00f3 h\\u00f3a \\u0111\\u01a1n giao h\\u00e0ng\"],\n [{\n            'v': 4,\n            'f': \"4\",\n        },\n\"dep moi toi hoi nho neu ban la nam gioi\"],\n [{\n            'v': 2,\n            'f': \"2\",\n        },\n\"t\\u00fai nh\\u1ecf xinh ph\\u00f9 h\\u1ee3p v\\u1edbi gi\\u00e1 ti\\u1ec1n \\u0111\\u00e3 gi\\u1ea3m nh\\u01b0ng ko h\\u00e0i l\\u00f2ng \\u1edf m\\u00f9i c\\u1ee7a da t\\u00fai m\\u00e3i ko th\\u1ea5y bay h\\u1ebft m\\u00f9i hic\"],\n [{\n            'v': 5,\n            'f': \"5\",\n        },\n\"n\\u0103m sao  ok h\\u00e0i l\\u00f2ng v\\u1ec1 s\\u1ea3n ph\\u1ea9m\"],\n [{\n            'v': 5,\n            'f': \"5\",\n        },\n\"tuy\\u1ec7t  t\\u00fai da gi\\u1ed1ng y h\\u00ecnh da r\\u1ea5t \\u0111\\u1eb9p r\\u1ea5t \\u0111\\u00e1ng \\u0111\\u1ec3 mua s\\u1ea3n ph\\u1ea9m r\\u1ea5t \\u01b0ng \\u00fd\"],\n [{\n            'v': 5,\n            'f': \"5\",\n        },\n\"t\\u00fai \\u0111\\u1eb9p  t\\u00fai \\u0111\\u1eb9p 5 sao\"],\n [{\n            'v': 3,\n            'f': \"3\",\n        },\n\"ba sao  v\\u00ed da c\\u0169ng r\\u1ea5t ok nh\\u00e9 nh\\u1eefng v\\u00ed t\\u1eb7ng th\\u00ec h\\u01a1i k\\u1ef3\"],\n [{\n            'v': 1,\n            'f': \"1\",\n        },\n\"robert s rep m\\u1ed9t sao\"],\n [{\n            'v': 2,\n            'f': \"2\",\n        },\n\"h\\u00e0ng r\\u1ebb m\\u00e0 \\u0111\\u1eb9p  size ok\"],\n [{\n            'v': 3,\n            'f': \"3\",\n        },\n\"h\\u00e0i l\\u00f2ng m\\u00ecnh r\\u1ea5t th\\u00edch t\\u00fai ch\\u1ea5t \\u0111\\u1eb9p h\\u00e0ng \\u0111\\u1eb9p tuy m\\u00e0u kh\\u00f4ng \\u0111\\u01b0\\u1ee3c \\u0111\\u1eadm nh\\u01b0 h\\u00ecnh\"],\n [{\n            'v': 3,\n            'f': \"3\",\n        },\n\"t\\u1ed1t  h\\u00e0ng \\u0111\\u1eb9p ch\\u1ea5t li\\u1ec7u t\\u1ed1t d\\u00e0y d\\u1eb7n r\\u1ea5t v\\u1eeba \\u00fd\"],\n [{\n            'v': 2,\n            'f': \"2\",\n        },\n\"nh\\u00ecn \\u0111\\u1eb9p nh\\u00ecn \\u0111\\u1eb9p nh\\u01b0ng ko b\\u1ec1n \\u0111eo v\\u00e0o th\\u00ec r\\u1edbt d\\u00e2y r\\u1edbt kh\\u00f3a t\\u00f9m lum\"],\n [{\n            'v': 4,\n            'f': \"4\",\n        },\n\"tot ok  kich thuoc nho hon mau dam hom da mem duong chi chac chan noi tom lai hai long\"],\n [{\n            'v': 4,\n            'f': \"4\",\n        },\n\"h\\u00e0ng ok  t\\u00fai \\u0111eo ch\\u00e9o\"],\n [{\n            'v': 1,\n            'f': \"1\",\n        },\n\"d\\u1edfm ti\\u1ec1n n\\u00e0o c\\u1ee7a n\\u1ea5y c\\u0169ng t\\u1ea1m \\u0111c th\\u00f4i\"],\n [{\n            'v': 5,\n            'f': \"5\",\n        },\n\"s\\u1ea3n ph\\u1ea9m \\u0111\\u1eb9p  h\\u00e0ng \\u0111\\u1eb9p da s\\u1edd m\\u1ec1m th\\u00edch g\\u00f3i h\\u00e0ng th\\u00ec c\\u1ea9n th\\u1eadn vote 5 sao\"],\n [{\n            'v': 4,\n            'f': \"4\",\n        },\n\"b\\u1ed1n sao  t\\u00fai \\u0111\\u1eb9p gi\\u00e1 r\\u1ebb nh\\u01b0ng m\\u00e0u h\\u01a1i \\u0111\\u1eadm h\\u01a1n so v\\u1edbi trong h\\u00ecnh\"],\n [{\n            'v': 3,\n            'f': \"3\",\n        },\n\"ba sao  da \\u0111\\u1eb9p\"],\n [{\n            'v': 5,\n            'f': \"5\",\n        },\n\"t\\u1ed1t  th\\u1ef1c s\\u1ef1 h\\u00e0i l\\u00f2ng s\\u1ea3n ph\\u1ea9m t\\u1ed1t gi\\u00e1 th\\u00e0nh r\\u1ebb 79k\"],\n [{\n            'v': 3,\n            'f': \"3\",\n        },\n\"ki\\u0301nh ma\\u0301t nam  ch\\u1ea5t l\\u01b0\\u1ee3ng ch\\u01b0a \\u0111\\u01b0\\u01a1\\u0323c t\\u1ed1t\"],\n [{\n            'v': 5,\n            'f': \"5\",\n        },\n\"t\\u00fai \\u0111eo ch\\u00e9o lata hn00 1 m\\u00ecnh m\\u1edbi nh\\u1eadn \\u0111\\u01b0\\u1ee3c sp s\\u00e1ng nay r\\u1ea5t \\u01b0ng \\u00fd sp nh\\u00ecn ngo\\u00e0i r\\u1ea5t \\u0111\\u1eb9p\"],\n [{\n            'v': 5,\n            'f': \"5\",\n        },\n\"tuy\\u1ec7t v\\u1eddi  t\\u00fai r\\u1ea5t \\u0111\\u1eb9p v\\u00e0 ch\\u1eafc ch\\u1eafn gi\\u00e1 l\\u1ea1i r\\u1ebb s\\u1ebd mua ti\\u1ebfp\"],\n [{\n            'v': 3,\n            'f': \"3\",\n        },\n\"ba sao  t\\u00fai \\u0111\\u1eb9p\"],\n [{\n            'v': 5,\n            'f': \"5\",\n        },\n\"n\\u0103m sao  t\\u00fai \\u0111\\u1eb9p da m\\u1ec1m ch\\u1ea5t l\\u01b0\\u1ee3ng t\\u1ed1t h\\u00e0i l\\u00f2ng v\\u1edbi s\\u1ea3n ph\\u1ea9m\"],\n [{\n            'v': 5,\n            'f': \"5\",\n        },\n\"giao h\\u00e0ng nhanh s\\u1ea3n ph\\u1ea9m \\u0111\\u1eb9p gi\\u00e1 r\\u1ebb  r\\u1ea5t \\u01b0ng \\u00fd v\\u1edbi t\\u1ea5t c\\u1ea3 4 sp m\\u00ecnh \\u0111\\u00e3 mua\"],\n [{\n            'v': 3,\n            'f': \"3\",\n        },\n\"ba sao h\\u00e0ng d\\u00f9ng \\u0111\\u01b0\\u1ee3c nh\\u01b0ng h\\u01a1i \\u0111\\u1eaft so v\\u1edbi th\\u1ef1c t\\u1ebf\"],\n [{\n            'v': 4,\n            'f': \"4\",\n        },\n\"good\"],\n [{\n            'v': 4,\n            'f': \"4\",\n        },\n\"ch\\u1ea5t l\\u01b0\\u1ee3ng ok\"],\n [{\n            'v': 4,\n            'f': \"4\",\n        },\n\"ch\\u1ea5t l\\u01b0\\u1ee3ng  t\\u00fai d\\u00e0y d\\u1eb7n ch\\u1eafc ch\\u1eafn \\u0111\\u01b0\\u1eddng may \\u0111\\u1eb9p kh\\u00e1 h\\u00e0i l\\u00f2ng v\\u1edbi sp n\\u00e0y\"],\n [{\n            'v': 5,\n            'f': \"5\",\n        },\n\"n\\u0103m sao\"],\n [{\n            'v': 5,\n            'f': \"5\",\n        },\n\"t\\u00fai \\u0111\\u1eb9p \\u0111\\u01b0\\u1eddng may c\\u0169ng ch\\u1eafc ch\\u1eafn c\\u00e1m \\u01a1n lata c\\u00e1m \\u01a1n lazada  5 sao so v\\u1edbi gi\\u00e1 ti\\u1ec1n\"],\n [{\n            'v': 3,\n            'f': \"3\",\n        },\n\"ba sao  r\\u1ea5t t\\u1ed1t\"],\n [{\n            'v': 3,\n            'f': \"3\",\n        },\n\"ba sao  em r\\u1ea5t \\u1ee9ng s\\u1ea3n ph\\u1ea9m r\\u1ea5t \\u0111\\u00fang m\\u1ee5c \\u0111\\u00edch c\\u1ee7a e\"],\n [{\n            'v': 3,\n            'f': \"3\",\n        },\n\"ba sao ok\"],\n [{\n            'v': 3,\n            'f': \"3\",\n        },\n\"ba sao  t\\u1ed1t giao h\\u00e0ng nhanh h\\u00e0ng \\u01b0ng \\u00fd\"],\n [{\n            'v': 5,\n            'f': \"5\",\n        },\n\"t\\u00fai \\u0111\\u1eb9p t\\u01b0\\u01a1ng \\u1ee9ng v\\u1edbi gi\\u00e1 m\\u00ecnh r\\u1ea5t h\\u00e0i l\\u00f2ng\"],\n [{\n            'v': 5,\n            'f': \"5\",\n        },\n\"h\\u00e0i l\\u00f2ng v\\u1edbi sp n\\u00e0y  sp c\\u00f3 th\\u01b0\\u01a1ng hi\\u1ec7u ch\\u1ea5t li\\u1ec7u t\\u1ed1t gi\\u00e1 gi\\u1ea3m r\\u1ebb qu\\u00e1 m\\u00ecnh mua lu\\u00f4n 6 c\\u00e1i\"],\n [{\n            'v': 5,\n            'f': \"5\",\n        },\n\"qu\\u00e1 s\\u1ee9c h\\u00e0i l\\u00f2ng  c\\u1ef1c k\\u00ec h\\u00e0i l\\u00f2ng khi nh\\u1eadn \\u0111\\u01b0\\u1ee3c s\\u1ea3n ph\\u1ea9m r\\u1ea5t \\u0111\\u1eb9p m\\u00ecnh r\\u1ea5t r\\u1ea5t th\\u00edch lu\\u00f4n l\\u1ea1i c\\u00f2n \\u0111\\u01b0\\u1ee3c b\\u1ea3o h\\u00e0nh n\\u1eefa <3\"],\n [{\n            'v': 5,\n            'f': \"5\",\n        },\n\"h\\u00e0ng ch\\u1ea5t l\\u01b0\\u1ee3ng y trong h\\u00ecnh  h\\u00e0ng \\u0111\\u1eb9p \\u0111\\u01b0\\u1eddng may \\u0111\\u1eb9p l\\u1ea7n \\u0111\\u1ea7u mua m\\u00e0 \\u01b0ng \\u00fd l\\u1eafm lun\"],\n [{\n            'v': 4,\n            'f': \"4\",\n        },\n\"th\\u00edch  m\\u00ecnh \\u0111\\u00e3 \\u0111\\u1eb7t mua v\\u00e0 d\\u00f9ng \\u0111\\u01b0\\u1ee3c m\\u1ed9t th\\u1eddi gian t\\u00fai kh\\u00e1 ch\\u1ea5t l\\u01b0\\u1ee3ng t\\u00fai \\u0111\\u1eb9p \\u0111eo c\\u0169ng kh\\u00e1 b\\u1ec1n v\\u1edbi gi\\u00e1 c\\u1ea3 nh\\u01b0 v\\u1eady r\\u1ea5t ph\\u00f9 h\\u1ee3p\"],\n [{\n            'v': 5,\n            'f': \"5\",\n        },\n\"n\\u0103m sao  spham dep dung nhu trong hinh anh dang ban minh mua tang sinh nhat nguoi duoc tang rat thich va khen gio tot duong chi may chac minh se tiep tuc ung ho thuong hieu lata nay\"],\n [{\n            'v': 5,\n            'f': \"5\",\n        },\n\"n\\u0103m sao\"],\n [{\n            'v': 5,\n            'f': \"5\",\n        },\n\"t\\u00fai x\\u00e1ch  t\\u00fai x\\u00e1ch m\\u1ec1m \\u00eam gi\\u1ed1ng nh\\u01b0 lazada da gioi thieu toi rat hai long\"],\n [{\n            'v': 4,\n            'f': \"4\",\n        },\n\"b\\u1ed1n sao  ok ngon b\\u1ed5 r\\u1ebb\"],\n [{\n            'v': 5,\n            'f': \"5\",\n        },\n\"n\\u0103m sao  gi\\u00e1 c\\u1ea3 ph\\u1ea3i ch\\u0103ng t\\u00fai gi\\u1ed1ng h\\u00ecnh n\\u00f3i chung ok\"],\n [{\n            'v': 5,\n            'f': \"5\",\n        },\n\"n\\u0103m sao 1 n\\u0103m tr\\u01b0\\u1edbc h\\u00e0ng \\u0111\\u1eb9p b\\u1ec1n m\\u00ecnh r\\u1ea5t \\u01b0ng \\u00fd\"],\n [{\n            'v': 5,\n            'f': \"5\",\n        },\n\"\\u0111\\u00e1nh gi\\u00e1  v\\u1eeba \\u00fd khi nh\\u1eadn s\\u1ea3n ph\\u1ea9m\"],\n [{\n            'v': 5,\n            'f': \"5\",\n        },\n\"n\\u0103m sao\"],\n [{\n            'v': 5,\n            'f': \"5\",\n        },\n\"t\\u00fai \\u0111eo ch\\u00e9o lata  h\\u00e0ng r\\u1ea5t chi l\\u00e0 oke thanks lazada nh\\u00e9\"],\n [{\n            'v': 5,\n            'f': \"5\",\n        },\n\"da \\u0111\\u1eb9p \\u01b0ng \\u00fd l\\u1eafm\"],\n [{\n            'v': 4,\n            'f': \"4\",\n        },\n\"h\\u00e0ng \\u0111\\u01b0\\u1ee3c mua \\u0111\\u1ec3 t\\u1eb7ng n\\u00f3i t\\u00fai x\\u00e1ch 99000\\u0111 ng\\u01b0\\u1eddi \\u0111\\u01b0\\u1ee3c t\\u1eb7ng kh\\u00f4ng tin ph\\u1ea3i cao gi\\u00e1 h\\u01a1n v\\u00e0 c\\u1ea3m \\u01a1n\"],\n [{\n            'v': 3,\n            'f': \"3\",\n        },\n\"t\\u00fai ch\\u00e9o  ok v\\u1ea3i \\u0111\\u1eb9p h\\u1ee3p t\\u00fai ti\\u1ec1n\"],\n [{\n            'v': 5,\n            'f': \"5\",\n        },\n\"n\\u0103m sao  d\\u00e0y d\\u1eb7n \\u0111\\u1eb9p nh\\u01b0 h\\u00ecnh r\\u1ea5t th\\u00edch\"],\n [{\n            'v': 5,\n            'f': \"5\",\n        },\n\"n\\u0103m sao  t\\u00fai r\\u1ea5t \\u0111\\u1eb9p y nh\\u01b0 h\\u00ecnh \\u0111\\u1ea7y \\u0111\\u1eb7n \\u0111\\u01b0\\u1eddng ch\\u1ec9 ch\\u1eafc ch\\u1eafn giao h\\u00e0ng r\\u1ea5t nhanh\"],\n [{\n            'v': 1,\n            'f': \"1\",\n        },\n\"giao h\\u00e0ng ch\\u1eadm qu\\u00e1 7 h\\u00f4m r\\u1ed3i m\\u00ecnh v\\u1eabn ch\\u01b0a nh\\u1eadn \\u0111\\u01b0\\u1ee3c khi n\\u00e0o h\\u00e0ng v\\u1ec1 m\\u00ecnh s\\u1ebd ho\\u00e0n tr\\u1ea3 l\\u1ea1i shop\"],\n [{\n            'v': 1,\n            'f': \"1\",\n        },\n\"m\\u1ed9t sao 1 n\\u0103m tr\\u01b0\\u1edbc ch\\u1ea5t l\\u01b0\\u1ee3ng t\\u1ed1t\"],\n [{\n            'v': 5,\n            'f': \"5\",\n        },\n\"n\\u0103m sao  ch\\u1ea5t l\\u01b0\\u1ee3ng \\u0111\\u00fang nh\\u01b0 th\\u00f4ng tin sp oke\"],\n [{\n            'v': 5,\n            'f': \"5\",\n        },\n\"t\\u1ed1t  sp t\\u1ed1t v\\u00e0 \\u0111\\u1eb9p nh\\u01b0 \\u0111\\u00fang cam k\\u1ebft\"],\n [{\n            'v': 4,\n            'f': \"4\",\n        },\n\"tot\"],\n [{\n            'v': 5,\n            'f': \"5\",\n        },\n\"\\u0111\\u1eb9p v\\u00e0 r\\u1ebb  d\\u00f9ng ok so v\\u1edbi gi\\u00e1 l\\u00e0 qu\\u00e1 \\u1ed5n mua \\u1edf ngo\\u00e0i c\\u00f9ng lo\\u1ea1i ph\\u1ea3i tr\\u00ean 300k c\\u00e1m \\u01a1n shop v\\u00e0 lazada\"],\n [{\n            'v': 5,\n            'f': \"5\",\n        },\n\"t\\u00fai da \\u0111\\u1eb9p  t\\u00fai \\u0111\\u1eb9p da t\\u1ed1t r\\u1ea5t \\u01b0ng \\u00fd tuy nhi\\u00ean mong lazada giao h\\u00e0ng nhanh h\\u01a1n n\\u1eefa\"],\n [{\n            'v': 4,\n            'f': \"4\",\n        },\n\"b\\u1ed1n sao 1 n\\u0103m tr\\u01b0\\u1edbc lan dau tien mua hang tren lazada hang giong nhu hinh moi rat dep\"],\n [{\n            'v': 5,\n            'f': \"5\",\n        },\n\"n\\u0103m sao cung dc\"],\n [{\n            'v': 2,\n            'f': \"2\",\n        },\n\"t\\u1ea1m \\u1ed5n\"],\n [{\n            'v': 4,\n            'f': \"4\",\n        },\n\"h\\u1ecfi h\\u00f4m tr\\u01b0\\u1edbc c\\u00f3 \\u0111\\u0103ng k\\u00fd mua 1 t\\u00fai x\\u00e1ch da b\\u00f2 th\\u1ebf n\\u00e0y m\\u00e0 ko th\\u1ea5y li\\u00ean h\\u1ec7 n\\u00ean h\\u1ecfi th\\u1eed c\\u00f3 h\\u00e0ng n\\u00e0y ko \\u1ea1\"],\n [{\n            'v': 5,\n            'f': \"5\",\n        },\n\"\\u0111\\u1eb9p  t\\u00fai \\u0111\\u1eb9p h\\u01a1n m\\u1ea5y m\\u1eabu kh\\u00e1c c\\u1ee7a lata \\u0111\\u01b0\\u1eddng may s\\u1eafc s\\u1ea3o x\\u00e0i r\\u1ea5t b\\u1ec1n\"],\n [{\n            'v': 1,\n            'f': \"1\",\n        },\n\"mua t\\u1eb7ng b\\u1ea1n x\\u00e0i ch\\u01b0a bao l\\u00e2u \\u0111\\u00e3 \\u0111\\u1ee9t h\\u00e0ng v\\u00e0ng m\\u00e3\"],\n [{\n            'v': 2,\n            'f': \"2\",\n        },\n\"m\\u00ecnh nh\\u1eadn \\u0111\\u01b0\\u1ee3c h\\u00e0ng r\\u1ed3i t\\u00fai so v\\u1edbi h\\u00ecnh ko gi\\u1ed1ng l\\u1eafm v\\u1ec1 k\\u00edch th\\u01b0\\u1edbc\"],\n [{\n            'v': 5,\n            'f': \"5\",\n        },\n\"r\\u1ebb \\u0111\\u1eb9p  m\\u00e0u s\\u1eafc \\u0111\\u01b0\\u1eddng may \\u0111\\u1eb9p v\\u1ea3i l\\u00f3t trong c\\u0169ng r\\u1ea5t t\\u1ed1t giao h\\u00e0ng l\\u1ea1i nhanh r\\u1ea5t v\\u1eeba \\u00fd\"],\n [{\n            'v': 4,\n            'f': \"4\",\n        },\n\"\\u01b0ng \\u00fd  s\\u1ea3n ph\\u1ea9m \\u0111\\u1eb9p so v\\u1edbi gi\\u00e1 nh\\u1eefng logo n\\u00f3 k \\u1edf ch\\u00ednh gi\\u1eefa s\\u1ea3n ph\\u1ea9m m\\u00e0 \\u1edf 1 g\\u00f3c sp k gi\\u1ed1ng tr\\u00ean h\\u00ecnh nh\\u1ec9 n\\u00f3i chung l\\u00e0 \\u01b0ng\"],\n [{\n            'v': 5,\n            'f': \"5\",\n        },\n\"n\\u0103m sao  t\\u1ed1t\"],\n [{\n            'v': 5,\n            'f': \"5\",\n        },\n\"n\\u0103m sao  nh\\u00e2\\u0323n ha\\u0300ng h\\u01a1i tr\\u00ea\\u0303 nh\\u01b0ng ch\\u00e2\\u0301t l\\u01b0\\u01a1\\u0323ng ok gi\\u00f4\\u0301ng m\\u00e2\\u0303u \\u0111\\u01b0\\u01a1\\u0300ng may ngay ng\\u0103\\u0301n l\\u01a1\\u0301p lo\\u0301t b\\u00ean trong \\u0111e\\u0323p ha\\u0300i lo\\u0300ng v\\u00ea\\u0300 sa\\u0309n ph\\u00e2\\u0309m\"],\n [{\n            'v': 4,\n            'f': \"4\",\n        },\n\"t\\u1ed1t  h\\u00e0ng gi\\u1ed1ng h\\u00ecnh h\\u00e0i l\\u00f2ng\"],\n [{\n            'v': 5,\n            'f': \"5\",\n        },\n\"n\\u0103m sao  h\\u00e0ng \\u0111\\u1eb9p da m\\u1ec1m c\\u1ea3m \\u01a1n lazada\"],\n [{\n            'v': 3,\n            'f': \"3\",\n        },\n\"\\u0111\\u1eb9p  t\\u00fai may ch\\u1eafc ch\\u1eafn y h\\u00ecnh\"],\n [{\n            'v': 2,\n            'f': \"2\",\n        },\n\"hai sao\"],\n [{\n            'v': 4,\n            'f': \"4\",\n        },\n\"b\\u1ed1n sao  s\\u1ea3n ph\\u1ea9m \\u1ed5n ngo\\u00e0i vi\\u1ec7c m\\u00e0u \\u0111\\u1eadm h\\u01a1n so v\\u1edbi h\\u00ecnh th\\u00ec c\\u00f2n l\\u1ea1i t\\u1ed1t da m\\u1ec1m \\u0111\\u01b0\\u1eddng may ch\\u1eafc ch\\u1eafn\"],\n [{\n            'v': 5,\n            'f': \"5\",\n        },\n\"h\\u00e0i l\\u00f2ng  sp \\u0111\\u1eb9p ch\\u1eafc ch\\u1eafn gi\\u00e1 r\\u1ebb c\\u1ea3m \\u01a1n lata v\\u00e0 lazada\"],\n [{\n            'v': 5,\n            'f': \"5\",\n        },\n\"r\\u1ea5t \\u0111\\u00e1ng \\u0111\\u1ed3ng ti\\u1ec1n\"],\n [{\n            'v': 4,\n            'f': \"4\",\n        },\n\"b\\u00f3p \\u0111eo  s\\u1ea3n ph\\u1ea9m \\u0111\\u1eb9p gi\\u00e1 t\\u1ed1t\"],\n [{\n            'v': 5,\n            'f': \"5\",\n        },\n\"r\\u1ea5t \\u0111\\u1eb9p  c\\u1ea3m \\u01a1n lata v\\u00e0 lazada t\\u00fai may r\\u1ea5t \\u0111\\u1eb9p t\\u00f4i kh\\u00f4ng ngh\\u0129 h\\u00e0ng vn h\\u01a1n tr\\u0103m b\\u1ea1c m\\u00e0 l\\u1ea1i \\u0111\\u1eb9p \\u0111\\u1ebfn v\\u1eady trong t\\u01b0\\u01a1ng lai s\\u1ebd ti\\u1ebfp t\\u1ee5c mua \\u0111\\u1ed3 c\\u1ee7a c\\u00e1c b\\u1ea1n\"],\n [{\n            'v': 1,\n            'f': \"1\",\n        },\n\"h\\u00e0ng may b\\u1ecb l\\u1ed7i b\\u1edfi v\\u1eady n\\u00ean m\\u1edbi b\\u00e1n gi\\u00e1 do\"],\n [{\n            'v': 4,\n            'f': \"4\",\n        },\n\"hang tot lam  toi da mua va cong nhan hang rat tot\"],\n [{\n            'v': 5,\n            'f': \"5\",\n        },\n\"n\\u0103m sao  r\\u1ea5t \\u0111\\u1eb9p\"],\n [{\n            'v': 1,\n            'f': \"1\",\n        },\n\"kh\\u00f4ng bao gi\\u1edd mua n\\u1eefa\"],\n [{\n            'v': 5,\n            'f': \"5\",\n        },\n\"ch\\u1ea5t l\\u01b0\\u1ee3ng c\\u1ef1c k\\u1ef3 \\u0111a mua \\u0111c g\\u1ea7n 1 th\\u00e1ng r  m\\u00ecnh th\\u1ea5y lata r\\u1ea5t c\\u00f3 uy t\\u00edn v\\u00e0 h\\u00e0ng r\\u1ea5t b\\u1ec1n \\u0111\\u1eb9p tuy nhi\\u00ean theo m\\u00ecnh n\\u1ebfu mu\\u1ed1n t\\u01b0\\u01a1ng lai s\\u1ebd c\\u00f2n \\u0111c bi\\u1ebft \\u0111\\u1ebfn r\\u1ed9ng r\\u00e3i h\\u01a1n nx lata n\\u00ean \\u0111\\u1ea7u t\\u01b0 \\u0111a d\\u1ea1ng m\\u1eabu t\\u00fai cho ch\\u1ecb em ph\\u1ee5 n\\u1eef v\\u00ec ch\\u1ecb em t\\u00fai x\\u00e1ch l\\u00e0 m\\u1ed9t ph\\u1ea7n c\\u00f3 r\\u1ed3i n\\u00ean s\\u1ebd \\u0111\\u1ea7u t\\u01b0 cho t\\u00fai \\u0111\\u1eb9p v\\u00e0 n\\u1ebfu r\\u1ebb m\\u00e0 b\\u1ec1n th\\u00ec c\\u00e0ng t\\u1ed1t \\u0111\\u1eb7c bi\\u1ec7t \\u0111a d\\u1ea1ng m\\u00e0u h\\u01a1n nh\\u00e9 lata c\\u00e1c m\\u00e0u nh\\u01b0 \\u0111\\u1ecf xanh h\\u1ed3ng b\\u1edfi theo m\\u00ecnh bi\\u1ebft th\\u00ec da c\\u00f3 th\\u1ec3 nhu\\u1ed9m \\u0111c m\\u00e0u n\\u00e2u v\\u00e0 \\u0111en tr\\u00f4ng ko h\\u00fat m\\u1eaft l\\u1eafm\"],\n [{\n            'v': 5,\n            'f': \"5\",\n        },\n\"h\\u00e0ng \\u0111\\u1eb9p v\\u00e0 r\\u1ebb h\\u01a1n mong \\u0111\\u1ee3i  m\\u00ecnh mua khi s\\u1ea3n ph\\u1ea9m sale off nh\\u01b0ng kh\\u00f4ng th\\u1ec3 tin \\u0111\\u01b0\\u1ee3c l\\u00e0 t\\u00fai \\u0111\\u1eb9p \\u0111\\u1ebfn th\\u1ebf ch\\u1eafc ch\\u1eafn d\\u00e0y d\\u1eb7n \\u0111\\u01b0\\u1eddng may r\\u1ea5t c\\u1ea9n th\\u1eadn m\\u00ecnh c\\u00f3 nhi\\u1ec1u t\\u00fai qc \\u0111\\u1eaft ti\\u1ec1n g\\u1ea5p ch\\u1ee5c l\\u1ea7n m\\u00e0 c\\u0169ng ko \\u0111\\u01b0\\u1ee3c nh\\u01b0 v\\u1eady \\u1ee7ng h\\u1ed9 lata d\\u00e0i d\\u00e0i\"],\n [{\n            'v': 3,\n            'f': \"3\",\n        },\n\"ba sao  t\\u00fai r\\u1ea5t \\u0111\\u1eb9p gi\\u1ed1ng h\\u1ec7t tr\\u00ean \\u1ea3nh t r\\u1ea5t th\\u00edch\"],\n [{\n            'v': 5,\n            'f': \"5\",\n        },\n\"t\\u00fai  t\\u00fai \\u0111\\u1eb9p ch\\u1ea5t li\\u1ec7u \\u1ed5n m\\u1ea7u \\u0111\\u1eb9p <3\"],\n [{\n            'v': 5,\n            'f': \"5\",\n        },\n\"t\\u00fai \\u0111eo ch\\u00e9o lata hn08 da b\\u00f2 nh\\u1ea1t  m\\u00ecnh r\\u1ea5t h\\u00e0i l\\u00f2ng v\\u1ec1 ch\\u1ea5t l\\u01b0\\u1ee3ng c\\u1ee7a t\\u00fai v\\u00e0 c\\u00e1ch l\\u00e0m vi\\u1ec7c c\\u1ee7a lazada t\\u1eb7ng 5 sao\"],\n [{\n            'v': 5,\n            'f': \"5\",\n        },\n\"r\\u1ea5t h\\u00e0i l\\u00f2ng v\\u1ec1 s\\u1ea3n ph\\u1ea9m  hii  hi\"],\n [{\n            'v': 5,\n            'f': \"5\",\n        },\n\"la m\\u00f9i  t\\u00fai \\u0111\\u1eb9p\"],\n [{\n            'v': 5,\n            'f': \"5\",\n        },\n\"r\\u1ea5t ok  ok\"],\n [{\n            'v': 4,\n            'f': \"4\",\n        },\n\"b\\u1ed1n sao  ch\\u1ea5t l\\u01b0\\u1ee3ng t\\u00fai t\\u1ed1t h\\u01a1n nhi\\u1ec1u so v\\u1edbi m\\u00ecnh ngh\\u0129 khi mua v\\u1edbi gi\\u00e1 \\u0111\\u00f3 \\u0111\\u01b0\\u1eddng may ch\\u1eafc ch\\u1eafn m\\u00e0u y nh\\u01b0 h\\u00ecnh h\\u00e0i l\\u00f2ng v\\u1ec1 s\\u1ea3n ph\\u1ea9m\"],\n [{\n            'v': 5,\n            'f': \"5\",\n        },\n\"h\\u00e0ng qu\\u00e1 \\u0111\\u1eb9p  \\u0111\\u00fang l\\u00e0 h\\u00e0ng vn ch\\u1ea5t l\\u01b0\\u1ee3ng cao t\\u00fai da kh\\u00e1 d\\u00e0y v\\u00e0 m\\u1ec1m \\u0111\\u01b0\\u1eddng may ch\\u1eafc ch\\u1eafn m\\u00ecnh mua chi\\u1ebfc m\\u00e0u v\\u00e0ng nh\\u1ea1t nh\\u00ecn r\\u1ea5t \\u0111\\u1eb9p d\\u1ec5 ph\\u1ed1i \\u0111\\u1ed3 c\\u00f3 \\u0111i\\u1ec1u k\\u00edch th\\u01b0\\u1edbc h\\u01a1i nh\\u1ecf k \\u0111\\u1ee7 ch\\u1ed7 \\u0111\\u1ef1ng v\\u1edf \\u0111i h\\u1ecdc n\\u00ean ch\\u1ec9 th\\u00edch h\\u1ee3p \\u0111eo \\u0111i ch\\u01a1i th\\u00f4i\"],\n [{\n            'v': 5,\n            'f': \"5\",\n        },\n\"t\\u1ed1t h\\u00e0i l\\u00f2ng\"],\n [{\n            'v': 5,\n            'f': \"5\",\n        },\n\"good  qu\\u00e1 b\\u1ea5t ng\\u1edd khi nh\\u1eadn \\u0111c h\\u00e0ng gi\\u00e1 ch\\u1ec9 99k theo t\\u00f4i ch\\u1ec9 ti\\u1ec1n c\\u00f4ng may l\\u00e0 d\\u01b0 r\\u1ed3i may r\\u1ea5t \\u0111\\u1eb9p \\u0111\\u01b0\\u1eddng may s\\u1eafc n\\u00e9t t\\u00fai th\\u00ec ch\\u1ec9 1 t\\u1eeb \\u0111\\u1eb9p tuy\\u1ec7t v\\u1eddi \\u00f4ng m\\u1eb7t tr\\u1eddi h\\u01a1n nh\\u1eefng g\\u00ec m\\u00ecnh t\\u01b0\\u1edfng tr\\u01b0\\u1edbc gi\\u1edd mua h\\u00e0ng ch\\u01b0a sp n\\u00e0o r\\u1ebb m\\u00e0 t\\u1ed1t ntn th\\u1eadt ko th\\u1ec3 tin n\\u1ed5i s\\u1ebd \\u0111\\u1eb7t th\\u00eam 10sp n\\u1eefa l\\u00e0m qu\\u00e0 bi\\u1ebfu ace tks nh\\u00e0 ph\\u00e2n ph\\u1ed1i sp n\\u00e0y ch\\u00fac b\\u1ea1n mua may b\\u00e1n \\u0111\\u1eaft\"],\n [{\n            'v': 5,\n            'f': \"5\",\n        },\n\"t\\u00fai da b\\u00f2 n\\u00e2u nh\\u1ea1t h\\u00e0i l\\u00f2ng  s\\u1ea3n ph\\u1ea9m \\u0111\\u1eb9p \\u0111\\u01b0\\u1eddng may v\\u00e0 kh\\u00f3a r\\u1ea5t ch\\u1eafc ch\\u1eafn k\\u00edch th\\u01b0\\u1edbc chu\\u1ea9n gi\\u1ed1ng nh\\u01b0 th\\u00f4ng tin \\u0111\\u00e3 cung c\\u1ea5p m\\u00e0u t\\u00fai \\u0111\\u1eadm h\\u01a1n so v\\u1edbi \\u1ea3nh ch\\u1ee5p m\\u1ed9t ch\\u00fat giao h\\u00e0ng \\u0111\\u00f3ng g\\u00f3i s\\u1ea3n ph\\u1ea9m c\\u1ea9n th\\u1eadn m\\u00ecnh r\\u1ea5t \\u01b0ng \\u00fd c\\u00e1m \\u01a1n lazada\"],\n [{\n            'v': 5,\n            'f': \"5\",\n        },\n\"\\u0111\\u1eb9p v\\u00e0 ch\\u1ea5t  s\\u1ea3n ph\\u1ea9m \\u0111\\u1eb9p h\\u01a1n h\\u00ecnh lu\\u00f4n l\\u1ea7n \\u0111\\u1ea7u ti\\u00ean mua c\\u00e1i t\\u00fai da m\\u00e0 th\\u1ea5y h\\u00e0i l\\u00f2ng ch\\u1eafc ch\\u1eafn d\\u00e0y d\\u1eb7n\"],\n [{\n            'v': 5,\n            'f': \"5\",\n        },\n\"ok  m\\u00ecnh m\\u1edbi nh\\u1eadn s\\u1ea3n ph\\u1ea9m gi\\u1ecf \\u0111\\u1eb9p \\u0111\\u01b0\\u1eddng may r\\u1ea5t \\u0111\\u1ec1u v\\u00e0 \\u0111\\u1eb9p da d\\u00e0y m\\u1ec1m ok gi\\u00e1 r\\u1ebb\"],\n [{\n            'v': 5,\n            'f': \"5\",\n        },\n\"good  r\\u1ea5t v\\u1eeba \\u00fd h\\u00e0ng \\u0111\\u1eb9p\"],\n [{\n            'v': 4,\n            'f': \"4\",\n        },\n\"b\\u1ed1n sao  da mem giong y chang nhu hinh noi chung vua tui tien\"],\n [{\n            'v': 5,\n            'f': \"5\",\n        },\n\"t\\u00fai \\u0111\\u1eb9p  t\\u00fai \\u0111\\u1eb9p gi\\u1ed1ng h\\u00ecnh \\u1ee7ng h\\u1ed9 lazada nhi\\u1ec1u h\\u01a1n n\\u1eefa c\\u1ea3m \\u01a1n lazada\"],\n [{\n            'v': 4,\n            'f': \"4\",\n        },\n\"nice  \\u0111\\u1eb9p h\\u00e0i l\\u00f2ng\"],\n [{\n            'v': 5,\n            'f': \"5\",\n        },\n\"n\\u0103m sao t\\u00fai \\u0111\\u1eb9p nh\\u01b0 h\\u00ecnh \\u0111\\u01b0\\u1eddng may kh\\u00e1 \\u0111\\u1eb9p da m\\u1ec1m t\\u00fai k\\u00edch th\\u01b0\\u1edbc v\\u1eeba v\\u1eb7n d\\u1ec5 k\\u1ebft h\\u1ee3p \\u0111\\u1ed3 m\\u00e0u h\\u01a1i \\u0111\\u1eadm so v\\u1edbi \\u1ea3nh nh\\u01b0ng r\\u1ea5t \\u0111\\u1eb9p\"],\n [{\n            'v': 4,\n            'f': \"4\",\n        },\n\"b\\u1ed1n sao  gi\\u00e1 t\\u1ed1t s\\u1ea3n ph\\u1ea9m t\\u1ed1t \\u0111\\u01b0\\u1eddng may \\u0111\\u1eb9p ch\\u1ea5t li\\u1ec7u da \\u1ed5n v\\u1ea3i l\\u00f3t d\\u00e0y k\\u00edch th\\u01b0\\u1edbc t\\u00fai h\\u01a1i nh\\u1ecf\"],\n [{\n            'v': 1,\n            'f': \"1\",\n        },\n\"t\\u00fai da  \\u01b0ng l\\u1eafm \\u0111i ch\\u01a1i th\\u1eadt tuy\\u1ec7t c\\u00e1m \\u01a1n lazada\"],\n [{\n            'v': 4,\n            'f': \"4\",\n        },\n\"b\\u1ed1n sao  \\u0111epch\\u1ea5t da kh\\u00e1 t\\u1ed1t\"],\n [{\n            'v': 4,\n            'f': \"4\",\n        },\n\"t\\u1ed1t trong t\\u1ea7m gi\\u00e1  t\\u00fai \\u0111\\u1eb9p da t\\u1ed1t l\\u1edbp l\\u00f3t \\u00eam \\u00e1i kh\\u00f3a k\\u00e9o ch\\u1eafc ch\\u1eafn nh\\u01b0ng h\\u01a1i nh\\u1ecf ch\\u1ec9 \\u0111\\u1ee7 b\\u1ecf v\\u00ed ti\\u1ec1n v\\u00e0 \\u0111i\\u1ec7n tho\\u1ea1i th\\u00f4i\"],\n [{\n            'v': 5,\n            'f': \"5\",\n        },\n\"t\\u00fai \\u0111eo ch\\u00e9o lata hn08 da b\\u00f2 nh\\u1ea1t  m\\u00ecnh r\\u1ea5t h\\u00e0i l\\u00f2ng v\\u1ec1 ch\\u1ea5t l\\u01b0\\u1ee3ng c\\u1ee7a t\\u00fai v\\u00e0 c\\u00e1ch l\\u00e0m vi\\u1ec7c c\\u1ee7a lazada t\\u1eb7ng 5 sao\"],\n [{\n            'v': 5,\n            'f': \"5\",\n        },\n\"n\\u0103m sao  t\\u00fai \\u0111\\u1eb9p y h\\u00ecnh r\\u1ea5t h\\u00e0i l\\u00f2ng\"],\n [{\n            'v': 5,\n            'f': \"5\",\n        },\n\"t\\u1ed1t  s\\u1ea3n ph\\u1ea9m \\u0111\\u1eb9p v\\u00e0 t\\u1ed1t nh\\u01b0 h\\u00ecnh\"],\n [{\n            'v': 3,\n            'f': \"3\",\n        },\n\"ba sao  t\\u00fai \\u0111\\u1eb9p ch\\u1ea5t l\\u01b0\\u1ee3ng \\u0111\\u01b0\\u1eddng m\\u00e2y \\u01b0ng \\u00fd ok\"],\n [{\n            'v': 4,\n            'f': \"4\",\n        },\n\"b\\u1ed1n sao  t\\u00fai may ch\\u1eafc ch\\u1eafn r\\u1ea5t th\\u00edch m\\u1ed7i t\\u1ed9i m\\u00e0u \\u0111\\u1eadm h\\u01a1n so v\\u1edbi h\\u00ecnh\"],\n [{\n            'v': 4,\n            'f': \"4\",\n        },\n\"good  s\\u1ea3n ph\\u1ea9m t\\u1ed1t\"],\n [{\n            'v': 3,\n            'f': \"3\",\n        },\n\"kh\\u00e1 h\\u00e0i l\\u00f2ng v\\u1ec1 s\\u1ea3n ph\\u1ea9m  m\\u00ecnh c\\u0169ng l\\u00e0 ng\\u01b0\\u1eddi hay mua h\\u00e0ng online c\\u0169ng mua nhi\\u1ec1u shop nh\\u01b0ng \\u0111\\u00e2y l\\u00e0 l\\u1ea7n \\u0111\\u1ea7u ti\\u00ean m\\u00ecnh mua tr\\u00ean lazada m\\u00ecnh m\\u1edbi \\u0111\\u1eb7t h\\u00e0ng chi\\u1ec1u h\\u00f4m qua th\\u00ec chi\\u1ec1u h\\u00f4m nay \\u0111\\u00e3 nh\\u1eadn \\u0111\\u01b0\\u1ee3c h\\u00e0ng ph\\u1ea3i c\\u00f4ng nh\\u1eadn lazada g\\u00f3i h\\u00e0ng r\\u1ea5t k\\u0129 m\\u00ecnh r\\u1ea5t th\\u00edch v\\u00e0 h\\u00e0ng nh\\u1eadn \\u0111\\u01b0\\u1ee3c th\\u00ec m\\u00e0u s\\u1eafc nh\\u01b0 h\\u00ecnh \\u0111\\u01b0\\u1eddng mau kh\\u00e1 ch\\u1eafc n\\u00f3i chung nh\\u00ecn th\\u00edch c\\u00f2n k\\u00edch th\\u01b0\\u1edbc th\\u00ec \\u0111\\u1ef1ng \\u0111\\u01b0\\u1ee3c quy\\u00ean v\\u1edb kh\\u00e1 l\\u00e0 ok v\\u00e0 m\\u00ecnh c\\u0169ng h\\u00e0i l\\u00f2ng v\\u1ec1 c\\u00e1ch x\\u00e1c nh\\u1eadn \\u0111\\u01a1n h\\u00e0ng hy v\\u1ecdng lazada s\\u1ebd nhi\\u1ec1u s\\u1ea3n ph\\u1ea9m gi\\u00e1 c\\u1ea3 h\\u1ee3p l\\u00fd v\\u00e0 ch\\u1ea5t l\\u01b0\\u1ee3ng t\\u1ed1t \\u0111\\u1ec3 ph\\u1ee5c v\\u1ee5 kh\\u00e1ch h\\u00e0ng\"],\n [{\n            'v': 5,\n            'f': \"5\",\n        },\n\"h\\u1ea3i long  h\\u1ea3i l\\u00f2ng\"],\n [{\n            'v': 4,\n            'f': \"4\",\n        },\n\"ok 1 n\\u0103m tr\\u01b0\\u1edbc ch\\u1ea5t li\\u1ec7u c\\u1ee9ng h\\u01a1n m\\u00ecnh ngh\\u0129 ko m\\u1ec1m l\\u1eafm m\\u00e0u s\\u1eafc \\u0111\\u00fang nh\\u01b0 h\\u00ecnh d\\u00f9ng m\\u1ea5y th\\u00e1ng r\\u1ed3i ch\\u01b0a th\\u1ea5y bong tr\\u00f3c s\\u1ee9t ch\\u1ec9 d\\u00f9ng c\\u0169ng \\u0111\\u01b0\\u1ee3c\"],\n [{\n            'v': 4,\n            'f': \"4\",\n        },\n\"good  m\\u00faa ng\\u00e0y gi\\u1ea3m gi\\u00e1 c\\u00f2n 91km h r\\u1ea5t h\\u00e0i l\\u00f2ng v\\u1ec1 ch\\u1ea5t l\\u01b0\\u1ee3ng \\u0111\\u01b0\\u1eddng may \\u0111\\u1eb9p ch\\u1eafc ch\\u1eafn t\\u00fai \\u0111\\u1ec3 \\u0111c v\\u00ed v\\u00e0 \\u0111t m\\u00e0u th\\u00ec nh\\u1ea1t h\\u01a1n so v\\u1edbi h\\u00ecnh chung l\\u00e0 ok\"],\n [{\n            'v': 5,\n            'f': \"5\",\n        },\n\"h\\u00e0ng \\u0111\\u1eb9p  \\u0111\\u01b0\\u1eddng may ch\\u1eafc gi\\u00e1 r\\u1ebb\"],\n [{\n            'v': 4,\n            'f': \"4\",\n        },\n\"kh\\u00e1 t\\u1ed1t  m\\u1edbi nh\\u1eadn h\\u00e0ng h\\u00f4m nay da b\\u00f2 m\\u1ec1m m\\u00e0u kh\\u00f4ng chu\\u1ea9n nh\\u01b0 h\\u00ecnh l\\u1eafm m\\u00e0u nh\\u01b0 da b\\u00f2 nh\\u1ea1t l\\u1edbp l\\u00f3t \\u0111\\u1eb9p \\u0111\\u01b0\\u1eddng may ch\\u1eafc ch\\u1eafn k\\u00edch th\\u01b0\\u1edbc h\\u01a1i nh\\u1ecf ch\\u1ec9 \\u0111\\u1ec3 \\u0111\\u01b0\\u1ee3c ipad mini \\u0111\\u1ec3 d\\u00f9ng l\\u00e2u coi c\\u00f3 b\\u1ec1n kh\\u00f4ng\"],\n [{\n            'v': 5,\n            'f': \"5\",\n        },\n\"qu\\u00e1 ch\\u1ea5t l\\u01b0\\u1ee3ng  gi\\u00e1 r\\u1ebb m\\u00e0 ch\\u1ea5t l\\u01b0\\u1ee3ng th\\u00ec qu\\u00e1 t\\u1ed1t da m\\u1ec1m \\u0111\\u01b0\\u1eddng may ch\\u1eafc ch\\u1eafn ki\\u1ec3u d\\u00e1ng y nh\\u01b0 h\\u00ecnh r\\u1ea5t \\u0111\\u00e1ng \\u0111\\u1ec3 mua giao h\\u00e0ng r\\u1ea5t nhanh s\\u1ebd lu\\u00f4n \\u1ee7ng h\\u1ed9 lata v\\u00e0 lazada\"],\n [{\n            'v': 2,\n            'f': \"2\",\n        },\n\"hai sao  t\\u1ed1t\"],\n [{\n            'v': 1,\n            'f': \"1\",\n        },\n\"m\\u1ed9t sao  good\"],\n [{\n            'v': 5,\n            'f': \"5\",\n        },\n\"hai long  mau ma dep chat lieu tot\"],\n [{\n            'v': 2,\n            'f': \"2\",\n        },\n\"k\\u00e9m da x\\u1ea5u nh\\u00e0u giao h\\u00e0ng b\\u1ecb l\\u1ed7i tr\\u00f3c da ngay g\\u1ea7n n\\u00fat g\\u00e0i\"],\n [{\n            'v': 5,\n            'f': \"5\",\n        },\n\"m\\u00ecnh nh\\u1eadn \\u0111k h\\u00e0ng t\\u1eeb lazada h\\u00e0ng r\\u1ea5t t\\u1ed1t d\"],\n [{\n            'v': 5,\n            'f': \"5\",\n        },\n\"t\\u00fai \\u0111eo ch\\u00e9o  h\\u00e0ng ch\\u1ea5t l\\u01b0\\u1ee3ng\"],\n [{\n            'v': 4,\n            'f': \"4\",\n        },\n\"h\\u00e0i l\\u00f2ng v\\u1ec1 s\\u1ea3n ph\\u1ea9m  da m\\u1ec1m \\u0111\\u01b0\\u1eddng ch\\u1ec9 ch\\u1eafc ch\\u1eafn thi\\u1ebft k\\u1ebf ph\\u00f9 h\\u1ee3p v\\u1edbi nhu c\\u1ea7u c\\u1ee7a minh\"],\n [{\n            'v': 1,\n            'f': \"1\",\n        },\n\"s\\u1ea3n ph\\u1ea9m b\\u1ecb l\\u1ed7i d\\u00e2y \\u0111eo thi\\u1ebfu m\\u00f3c\"],\n [{\n            'v': 5,\n            'f': \"5\",\n        },\n\"n\\u0103m sao  t\\u00fai \\u0111\\u1eb9p m\\u00ecnh mua \\u0111\\u1ee3t sale 70k th\\u1ea5y t\\u00fai qu\\u00e1 th\\u00edch lu\\u00f4n h\\u1ee3p \\u0111i ch\\u01a1i\"],\n [{\n            'v': 5,\n            'f': \"5\",\n        },\n\"b  n\\u0103m sao  h\\u00e0ng \\u0111\\u1eb9p r\\u1ea5t h\\u00e0i l\\u00f2ng\"],\n [{\n            'v': 1,\n            'f': \"1\",\n        },\n\"m\\u1ed9t sao 1 n\\u0103m tr\\u01b0\\u1edbc toi rat hai long ve sp mjh mua tren lazada\"],\n [{\n            'v': 3,\n            'f': \"3\",\n        },\n\"s\\u1ea3n ph\\u1ea9m \\u0111\\u1eb9p nh\\u01b0ng k\\u00edch th\\u01b0\\u1edbc nh\\u1ecf h\\u01a1n lazada \\u0111\\u00e3 m\\u00f4 t\\u1ea3 ch\\u1ea5t li\\u1ec7u t\\u1ed1t \\u0111\\u01b0\\u1eddng may \\u0111\\u1eb9p nh\\u01b0ng giao cho m\\u00ecnh nh\\u1ea7m m\\u00e0u m\\u00ecnh \\u0111\\u1eb7t m\\u00e0u da b\\u00f2 nh\\u1ea1t nh\\u01b0ng nh\\u1eadn m\\u00e0u da b\\u00f2 \\u0111\\u1eadm\"],\n [{\n            'v': 5,\n            'f': \"5\",\n        },\n\"t\\u1ed1t  h\\u00e0ng rat tot duong may chac chan cam on lazada\"],\n [{\n            'v': 5,\n            'f': \"5\",\n        },\n\"r\\u1ea5t \\u0111\\u1eb9p ah\"],\n [{\n            'v': 3,\n            'f': \"3\",\n        },\n\"dep\"],\n [{\n            'v': 4,\n            'f': \"4\",\n        },\n\"b\\u1ed1n sao  s\\u1ea3n ph\\u1ea9m \\u0111\\u1eb9p ch\\u1ea5t l\\u01b0\\u1ee3ng t\\u1ed1t gi\\u00e1 c\\u1ea3 h\\u1ee3p l\\u00fd\"],\n [{\n            'v': 5,\n            'f': \"5\",\n        },\n\"s\\u1ea3n ph\\u1ea9m t\\u1ed1t  s\\u1ea3n ph\\u1ea9m \\u0111\\u1eb9p v\\u00e0 ch\\u1ea5t l\\u01b0\\u1ee3ng so v\\u1edbi gi\\u00e1 \\u0111\\u00f3\"],\n [{\n            'v': 5,\n            'f': \"5\",\n        },\n\"n\\u0103m sao  t\\u00fai kh\\u00e1 \\u0111\\u1eb9p gi\\u1ed1ng h\\u00ecnh tr\\u00ean trang kh\\u00e1 h\\u00e0i l\\u00f2ng\"],\n [{\n            'v': 4,\n            'f': \"4\",\n        },\n\"t\\u00fai \\u0111\\u1eb9p h\\u00e0i l\\u00f2ng v\\u1edbi s\\u1ea3n ph\\u1ea9m  ok\"],\n [{\n            'v': 5,\n            'f': \"5\",\n        },\n\"t\\u1ed1t  giao h\\u00e0ng nhanh h\\u00e0ng \\u0111\\u00fang m\\u1eabu\"],\n [{\n            'v': 5,\n            'f': \"5\",\n        },\n\"n\\u0103m sao\"],\n [{\n            'v': 4,\n            'f': \"4\",\n        },\n\"b\\u1ed1n sao  da mem nhung tui hoi nho dang mua\"],\n [{\n            'v': 4,\n            'f': \"4\",\n        },\n\"t\\u00fai \\u0111eo ch\\u00e9o  \\u0111\\u01b0\\u1eddng may kh\\u00e1 ch\\u1eafc ch\\u1eafn m\\u00e0u t\\u00fai ok ch\\u1ec9 l\\u00e0 g\\u00f3i h\\u00e0ng b\\u1eb1ng m\\u1ed9t t\\u1edd gi\\u1ea5y c\\u00f3 nhi\\u1ec1u ng ko \\u0111\\u1ec3 \\u00fd l\\u1ea5y dao r\\u1ecdc gi\\u1ea5y m\\u1edf s\\u1eb9c c\\u00e1i l\\u00e0 \\u0111i lu\\u00f4n c\\u00e1i t\\u00fai n\\u00ean g\\u00f3i cho c\\u1ea9n th\\u1eadn b\\u1eb1ng 2 ba l\\u1edbp \\u0111\\u1ec3 tr\\u00e1nh tr\\u01b0\\u1eddng h\\u1ee3p tr\\u00ean\"],\n [{\n            'v': 5,\n            'f': \"5\",\n        },\n\"n\\u0103m sao  t\\u00fai \\u0111\\u1eb9p ch\\u1ea5t l\\u01b0\\u1ee3ng t\\u1ed1t t\\u00f4i \\u0111\\u00e3 \\u0111\\u1eb7t mua t\\u1ed5ng c\\u1ed9ng 9 c\\u00e1i v\\u1edbi gi\\u00e1 99k c\\u00e1i c\\u1ea3m \\u01a1n lzd\"],\n [{\n            'v': 5,\n            'f': \"5\",\n        },\n\"th\\u00edch  qu\\u00e1 b\\u1ea5t ng\\u1edd v\\u1ec1 s\\u1ea3n ph\\u1ea9m gi\\u00e1 r\\u1ea5t r\\u1ebb ch\\u1ea5t l\\u01b0\\u1ee3ng l\\u1ea1i mi\\u1ec5n ch\\u00ea m\\u00ecnh s\\u1ebd gi\\u1edbi thi\\u1ec7u nhi\\u1ec1u ng mua ch\\u1ebf \\u0111\\u1ed9 b\\u1ea3o h\\u00e0nh c\\u0169ng r\\u1ea5t ok \\u0111\\u1eb7c bi\\u1ec7t giao h\\u00e0ng c\\u1ef1c nhanh\"],\n [{\n            'v': 4,\n            'f': \"4\",\n        },\n\"ghia nguyen t\\u00fai da m\\u1ec1m \\u0111\\u01b0\\u1eddng may s\\u1eafc s\\u1ea3o\"],\n [{\n            'v': 5,\n            'f': \"5\",\n        },\n\"t\\u00fai c\\u1ee7a lata \\u0111\\u00e3 mua v\\u00e0 \\u0111\\u00e3 s\\u1eed d\\u1ee5ng  t\\u00fai y h\\u00ecnh \\u0111\\u01b0\\u1eddng may \\u0111\\u1eb9p th\\u01b0\\u01a1ng hi\\u1ec7u lata t\\u00f4i ngh\\u0129 m\\u1ecdi ng\\u01b0\\u1eddi n\\u00ean s\\u1eed d\\u1ee5ng\"],\n [{\n            'v': 5,\n            'f': \"5\",\n        },\n\"t\\u00fai full \\u0111\\u1eb9p l\\u00f9n l\\u1ea1i \\u0111c gi\\u1ea3m gi\\u00e1 tuy\\u1ec7t v\\u1eddi  t\\u00fai \\u0111\\u1eb9p c\\u1ea3 trong l\\u1eabn ngo\\u00e0i\"],\n [{\n            'v': 3,\n            'f': \"3\",\n        },\n\"ba sao  m\\u00ecnh th\\u1ea5y r\\u1ea5t h\\u00e0i l\\u00f2ng\"],\n [{\n            'v': 4,\n            'f': \"4\",\n        },\n\"gi\\u1ecf x\\u00e1ch lata  hang nhu anh rat tot 1kg nh\\u1ef1a qu\\u1ea3ng c\\u00e1o c\\u00f3 m\\u1ed7i 1 ng\\u0103n c\\u00f3 m\\u1ed7i 1 ng\\u0103n l\\u00e0m qu\\u00e1i g\\u00ec c\\u00f3 ng\\u0103n kho\\u00e1 nh\\u01b0 h\\u00ecnh qu\\u1ea3ng c\\u00e1o\"],\n [{\n            'v': 5,\n            'f': \"5\",\n        },\n\"t\\u1ed1t  \\u0111\\u00e3 nh\\u1eadn h\\u00e0ng nhanh h\\u01a1n k\\u1ebf ho\\u1ea1ch h\\u00e0ng \\u0111\\u1eb9p th\\u00edch\"],\n [{\n            'v': 5,\n            'f': \"5\",\n        },\n\"t\\u00fai \\u0111\\u1eb9p  t\\u1ed1t m r\\u1ea5t h\\u00e0i l\\u00f2ng\"],\n [{\n            'v': 5,\n            'f': \"5\",\n        },\n\"ph\\u01b0\\u01a1ng  ok\"],\n [{\n            'v': 5,\n            'f': \"5\",\n        },\n\"n\\u0103m sao  dankieu deu rat dep va vua y vua rat vua y\"],\n [{\n            'v': 4,\n            'f': \"4\",\n        },\n\"b\\u1ed1n sao  s\\u1ea3n ph\\u1ea9m \\u1ed5n m\\u00e0u da gi\\u1ed1ng h\\u00ecnh ch\\u1ec9 may t\\u1ed1t b\\u00ean trong v\\u1ea3i n\\u1ec9 n\\u00ean b\\u1ea5t ng\\u1edd ch\\u00fat\"],\n [{\n            'v': 5,\n            'f': \"5\",\n        },\n\"good  m\\u00ecnh h\\u00e0i l\\u00f2ng v\\u1ec1 ch\\u1ea5t l\\u01b0\\u1ee3ng v\\u00ec kh\\u00f4ng ngh\\u0129 gi\\u00e1 nh\\u01b0 v\\u1eady m\\u00e0 \\u0111\\u01b0\\u1ee3c h\\u00e0ng t\\u1ed1t m\\u1ed7i t\\u1ed9i giao h\\u00e0ng ch\\u1eadm qu\\u00e1\"],\n [{\n            'v': 4,\n            'f': \"4\",\n        },\n\"h\\u00e0i l\\u00f2ng  giao h\\u00e0ng nhanh g\\u00f3i h\\u00e0ng c\\u0169ng \\u0111\\u1eb9p n\\u1eefa v\\u1ec1 chi\\u1ebfc t\\u00fai th\\u00ec m\\u1eabu m\\u00e3 gi\\u1ed1ng trong m\\u00f4 t\\u1ea3 d\\u00e2y \\u0111eo ch\\u1eafc ch\\u1eafn nh\\u01b0ng c\\u00f3 \\u0111i\\u1ec1u m\\u00e0u h\\u01a1i nh\\u1ea1t h\\u01a1n so v\\u1edbi trong h\\u00ecnh t\\u00ed nh\\u01b0ng s\\u1ea3n ph\\u1ea9m ch\\u1ea5t l\\u01b0\\u1ee3ng r\\u1ea5t ok\"],\n [{\n            'v': 5,\n            'f': \"5\",\n        },\n\"\\u0111\\u1eb9p  ch\\u1ea5t li\\u1ec7u b\\u00ean trong m\\u1ec1m m\\u1ea1i r\\u1ea5t \\u01b0ng \\u00fd sp n\\u00e0y m\\u00ecnh ph\\u1ea3i mua th\\u00eam 1 c\\u00e1i d\\u00f9m ch\\u1ecb h\\u00e0ng x\\u00f3m \\u0111\\u00f3\"],\n [{\n            'v': 3,\n            'f': \"3\",\n        },\n\"ba sao  t\\u00fai \\u0111eo gi\\u1ed1ng nh\\u01b0 h\\u00ecnh \\u0111\\u1eb9p nh\\u01b0ng h\\u01a1i nh\\u1ecf\"],\n [{\n            'v': 3,\n            'f': \"3\",\n        },\n\"ba sao  gio dep gia ca vua tui tien cong nhan\"],\n [{\n            'v': 4,\n            'f': \"4\",\n        },\n\"b\\u1ed1n sao  s\\u1ea3n ph\\u1ea9m nh\\u01b0 m\\u00f4 t\\u1ea3 \\u0111\\u01b0\\u1eddng may c\\u1ea9n th\\u1eadn h\\u00e0i l\\u00f2ng v\\u1edbi s\\u1ea3n ph\\u1ea9m\"],\n [{\n            'v': 5,\n            'f': \"5\",\n        },\n\"t\\u00fai \\u0111eo ch\\u00e9o  h\\u00e0ng ch\\u1ea5t l\\u01b0\\u1ee3ng b\\u1ec1n \\u0111\\u1eb9p\"],\n [{\n            'v': 5,\n            'f': \"5\",\n        },\n\"tuy\\u1ec7t v\\u1eddi  ch\\u1ea5t l\\u01b0\\u1ee3ng ok 5 sao\"],\n [{\n            'v': 5,\n            'f': \"5\",\n        },\n\"n\\u0103m sao  minh rat hai long ve san pham\"],\n [{\n            'v': 5,\n            'f': \"5\",\n        },\n\"ch\\u1ea5t l\\u01b0\\u1ee3ng t\\u1ed1t gi\\u00e1 r\\u1ebb  em n\\u00e0y \\u0111\\u1eb9p nh\\u01b0 h\\u00ecnh \\u0111\\u01b0\\u1eddng may ch\\u1eafc ch\\u1eafn da m\\u1ec1m n\\u00ean \\u0111eo r\\u1ea5t tho\\u1ea3i m\\u00e1i b\\u00ean trong l\\u00f3t v\\u1ea3i c\\u0169ng m\\u1ec1m nch l\\u00e0 r\\u1ea5t \\u01b0ng \\u00fd ch\\u1eafc ph\\u1ea3i mua th\\u00eam c\\u00e1i n\\u1eefa 33\"],\n [{\n            'v': 4,\n            'f': \"4\",\n        },\n\"b\\u1ed1n sao  t\\u00fai \\u0111\\u1eb9p \\u0111\\u00fang nh\\u01b0 th\\u00f4ng tin s\\u1ea3n ph\\u1ea9m\"],\n [{\n            'v': 4,\n            'f': \"4\",\n        },\n\"b\\u1ed1n sao 1 n\\u0103m tr\\u01b0\\u1edbc \\u0111\\u1eb9p gi\\u1ed1ng h\\u00ecnh l\\u1edbp v\\u1ea3i b\\u00ean trong ok gi\\u00e1 m\\u1ec1m\"],\n [{\n            'v': 5,\n            'f': \"5\",\n        },\n\"n\\u0103m sao  \\u0111\\u00e3 nh\\u1eadn \\u0111\\u01b0\\u1ee3c s\\u1ea3n ph\\u1ea9m v\\u00f4 c\\u00f9ng \\u01b0ng \\u00fd\"],\n [{\n            'v': 1,\n            'f': \"1\",\n        },\n\"m\\u1ed9t sao  gia tot kieu dep depok\"],\n [{\n            'v': 2,\n            'f': \"2\",\n        },\n\"t\\u1ea1m \\u0111\\u01b0\\u1ee3c h\\u01a1i nh\\u1ecf  l\\u00fac mua ko \\u0111\\u1ec3 \\u00fd k\\u00edch c\\u1ee1 mua v\\u1ec1 th\\u00ec c\\u1ea3m gi\\u00e1c t\\u00fai nh\\u1ecf l\\u00e0 nam \\u0111eo th\\u00ec h\\u01a1i d\\u1edf nh\\u00ecn tr\\u00f4ng \\u00e1i \\u00e1i th\\u00edch h\\u1ee3p v\\u1edbi n\\u1eef h\\u01a1n\"],\n [{\n            'v': 5,\n            'f': \"5\",\n        },\n\"n\\u0103m sao  s\\u1ea3n ph\\u1ea9m n\\u00e0y nh\\u00ecn kh\\u00e1 th\\u1eddi trang b\\u1eaft m\\u1eaft nh\\u00e9 m\\u00ecnh mua cho em n\\u00f3 d\\u00f9ng r\\u1ea5t t\\u1ed1t v\\u00ec d\\u00f9ng l\\u00e2u r\\u1ed3i m\\u00e0 c\\u00f2n nh\\u01b0 m\\u1edbi lu\\u00f4n h\\u00e9\"],\n [{\n            'v': 4,\n            'f': \"4\",\n        },\n\"b\\u1ed1n sao  duoc gia tot chat luong\"],\n [{\n            'v': 5,\n            'f': \"5\",\n        },\n\"r\\u1ea5t h\\u00e0i l\\u00f2ng  t\\u00fai \\u0111\\u1eb9p ngo\\u00e0i s\\u1ef1 mong \\u0111\\u1ee3i c\\u1ee7a m\\u00ecnh qu\\u00e1 r\\u1ebb cho 1 sp ch\\u1ea5t l\\u01b0\\u1ee3ng giao h\\u00e0ng nhanh ngo\\u00e0i d\\u1ef1 ki\\u1ebfn\"],\n [{\n            'v': 5,\n            'f': \"5\",\n        },\n\"ok tui dep vua y\"],\n [{\n            'v': 4,\n            'f': \"4\",\n        },\n\"b\\u1ed1n sao  good\"],\n [{\n            'v': 5,\n            'f': \"5\",\n        },\n\"n\\u0103m sao  t\\u00fai \\u0111\\u1ee9ng h\\u00ecnh da m\\u1ec1m \\u0111\\u1eb9p thik\"],\n [{\n            'v': 5,\n            'f': \"5\",\n        },\n\"n\\u0103m sao  san pham tuyet voi day duong may chac chan toi rat thich nen mua them 2 cai nua tang cho ban\"],\n [{\n            'v': 5,\n            'f': \"5\",\n        },\n\"s\\u1ea3n ph\\u1ea9m nh\\u01b0 h\\u00ecnh  s\\u1ea3n ph\\u1ea9m \\u0111\\u1eb9p \\u0111\\u01b0\\u1eddng may t\\u1ec9 m\\u1ea9n \\u0111\\u00e1ng ti\\u1ec1n ui moa\"],\n [{\n            'v': 1,\n            'f': \"1\",\n        },\n\"n\\u00f3i chung th\\u00ec v\\u1edbi gi\\u00e1 ti\\u1ec1n n\\u00e0y t\\u00fai l\\u00e0 ph\\u00f9 h\\u1ee3p ch\\u1ee9 c\\u0169ng ch\\u1eb3ng sale v\\u1edbi kh\\u00f4ng sale g\\u00ec nh\\u00ecn th\\u00ec \\u0111\\u1eb9p m\\u00e0 nh\\u1eadn th\\u00ec ch\\u1ea5t l\\u01b0\\u1ee3ng h\\u01a1i ch\\u00e1n d\\u00e2y \\u0111eo d\\u00e0i qu\\u00e1 b\\u00e2y gi\\u1edd l\\u00e0m th\\u1ebf n\\u00e0o \\u0111\\u1ec3 th\\u00e1o ra \\u0111\\u00e2y\"],\n [{\n            'v': 4,\n            'f': \"4\",\n        },\n\"t\\u00fai quai ch\\u00e9o  c\\u1ea3m \\u01a1n lazada m\\u00ecnh nh\\u1eadn \\u0111\\u01b0\\u1ee3c h\\u00e0ng s\\u1edbm h\\u01a1n nhi\\u1ec1u so v\\u1edbi d\\u1ef1 ki\\u1ebfn t\\u00fai \\u0111\\u1eb9p tuy nhi\\u00ean m\\u00e0u \\u0111\\u1eadm h\\u01a1n so v\\u1edbi \\u1ea3nh\"],\n [{\n            'v': 4,\n            'f': \"4\",\n        },\n\"b\\u1ed1n sao  s\\u1ea3n ph\\u1ea9m t\\u1ed1t \\u0111\\u00fang nh\\u01b0 h\\u00ecnh\"],\n [{\n            'v': 4,\n            'f': \"4\",\n        },\n\"chi\\u1ebfc t\\u00fai r\\u1ea5t \\u0111\\u1eb9p  chi\\u1ebfc t\\u00fai r\\u1ea5t \\u0111\\u1eb9p th\\u00edch h\\u1ee3p \\u0111i ch\\u01a1i \\u0111i h\\u1ecdc th\\u00eam v\\u00ec n\\u1ebfu b\\u1ecf t\\u1eadp ch\\u1ec9 b\\u1ecf \\u0111\\u01b0\\u1ee3c 12 quy\\u1ec3n n\\u00f3i chung \\u0111\\u00e2y l\\u00e0 m\\u1ed9t s\\u1ea3n ph\\u1ea9m kh\\u00e1 t\\u1ed1t v\\u1edbi gi\\u00e1 c\\u1ef1c k\\u00ec ph\\u1ea3i ch\\u0103ng mong l\\u00e0 s\\u1ebd mau ch\\u00f3ng c\\u00f3 th\\u00eam nhi\\u1ec1u m\\u1eabu m\\u1edbi v\\u1edbi ch\\u1ea5t l\\u01b0\\u1ee3ng ng\\u00e0y c\\u00e0ng t\\u1ed1t h\\u01a1n c\\u1ea3m \\u01a1n lazada\"],\n [{\n            'v': 3,\n            'f': \"3\",\n        },\n\"ba sao  m\\u00ecnh \\u01b0ng \\u00fd v\\u1edbi s\\u1ea3n ph\\u1ea9m \\u0111\\u00e3 mua\"],\n [{\n            'v': 5,\n            'f': \"5\",\n        },\n\"r\\u1ea5t h\\u00e0i l\\u00f2ng  mua b\\u1eefa gi\\u00e1 69k da \\u0111\\u1eb9p r\\u1ea5t ch\\u1eafc ch\\u1eafn m\\u00ecnh c\\u1ef1c th\\u00edch\"],\n [{\n            'v': 5,\n            'f': \"5\",\n        },\n\"n\\u0103m sao  giao h\\u00e0ng nhanh h\\u01a1n d\\u1ef1 ki\\u1ebfn sp \\u0111c \\u0111\\u00f3ng g\\u00f3i t\\u1ed1t ch\\u1ea5t l\\u01b0\\u1ee3ng sp r\\u1ea5t ok d\\u00e2y \\u0111eo kh\\u00e1 ch\\u1eafc ch\\u1eafn gi\\u1ea3 r\\u1ebb n\\u1eefa n\\u00ean mua c\\u00e1c b\\u1ea1n \\u1ea1\"],\n [{\n            'v': 4,\n            'f': \"4\",\n        },\n\"r\\u1ea5t th\\u00edch  m\\u00ecnh r\\u1ea5t vui v\\u1ec1 chi\\u1ebfc t\\u00fai n\\u00e0y m\\u1edbi mang con b\\u1ea1n th\\u1ea5y c\\u0169ng mu\\u1ed1n mua m\\u1ed9t chi\\u1ebfc gi\\u00e1 th\\u00ec c\\u0169ng kh\\u00e1 l\\u00e0 h\\u1ee3p l\\u00fd v\\u00e0 h\\u1ee3p v\\u1edbi t\\u00fai ti\\u1ec1n c\\u1ee7a m\\u00ecnh \\u0111\\u01b0\\u1eddng may ch\\u1eafc ch\\u1eafn kh\\u00f4ng b\\u1ecb l\\u1ed7i 1 ch\\u00fat n\\u00e0o h\\u1ebft b\\u00ean trong \\u0111\\u01b0\\u1ee3c may b\\u1eb1ng v\\u1ea3i nhung r\\u1ea5t \\u00eam kh\\u00f4ng lo b\\u1ecb th\\u1ee7ng x\\u01b0\\u1edbc khi \\u0111\\u1ec3 v\\u1eadt nh\\u1ecdn s\\u1eafc b\\u00e9n v\\u00e0 c\\u00f3 nhi\\u1ec1u ng\\u0103n nh\\u1ecf\"],\n [{\n            'v': 4,\n            'f': \"4\",\n        },\n\"s\\u1ea3n ph\\u1ea9m \\u0111\\u1eb9p\"],\n [{\n            'v': 4,\n            'f': \"4\",\n        },\n\"t\\u1ed1t  t\\u00fai d\\u00e0y d\\u1eb7n \\u0111\\u01b0\\u1eddng may ch\\u1eafc ch\\u1eafn v\\u00e0 da \\u0111\\u1eb9p h\\u01a1n so suy ngh\\u0129 c\\u1ee7a m\\u00ecnh nh\\u01b0ng m\\u00e0u \\u0111\\u1eadm h\\u01a1n trong h\\u00ecnh 1 ch\\u00fat\"],\n [{\n            'v': 5,\n            'f': \"5\",\n        },\n\"h\\u00e0ng d\\u00f9ng \\u1ed5n  ch\\u1ea5t li\\u1ec7u \\u0111\\u1eb9p ch\\u00fa \\u00fd l\\u00e0 h\\u00e0ng cho n\\u1eef nam d\\u00f9ng k h\\u1ee3p l\\u1eafm\"],\n [{\n            'v': 5,\n            'f': \"5\",\n        },\n\"n\\u0103m sao t\\u00fai da b\\u00f2 nh\\u00ecn ch\\u1eafc ch\\u1eafn \\u0111\\u01b0\\u1eddng may tinh x\\u1ea3o \\u0111eo l\\u00ean nh\\u00ecn r\\u1ea5t \\u0111\\u1eb9p \\u0111\\u1ef1ng \\u0111\\u01b0\\u1ee3c kh\\u00e1 nhi\\u1ec1u \\u0111\\u1ed3 giao h\\u00e0ng nhanh ch\\u00f3ng \\u0111\\u00fang l\\u00fac c\\u1ea7n c\\u1ea3m \\u01a1n lazada nh\\u00e9\"],\n [{\n            'v': 4,\n            'f': \"4\",\n        },\n\"b\\u1ed1n sao  s\\u1ea3n ph\\u1ea9m \\u0111\\u1eb9p nh\\u01b0 h\\u00ecnh\"],\n [{\n            'v': 5,\n            'f': \"5\",\n        },\n\"t\\u1ed1t  t\\u1ed1t giao h\\u00e0ng nhanh h\\u00e0ng ch\\u1ea5t l\\u01b0\\u1ee3ng t\\u1ed1t r\\u1ea5t h\\u00e0i l\\u00f2ng v\\u1ec1 sp n\\u00e0y\"],\n [{\n            'v': 5,\n            'f': \"5\",\n        },\n\"4 sao r\\u01b0\\u1ee1i  t\\u00fai to h\\u01a1n h\\u00ecnh t\\u00ed nh\\u01b0ng c\\u0169ng ok ai th\\u00edch \\u0111\\u01a1n gi\\u1ea3n th\\u00ec ch\\u1ecdn v\\u00ec ch\\u1ec9 c\\u00f3 v\\u00e0i ng\\u0103n n\\u1ed5i b\\u1eadt th\\u00f4i\"],\n [{\n            'v': 4,\n            'f': \"4\",\n        },\n\"t\\u00f4\\u0301t  ha\\u0300ng r\\u00e2\\u0301t ch\\u0103\\u0301n ch\\u0103\\u0301n phu\\u0300 h\\u01a1\\u0323p vs gia\\u0301 ti\\u00ea\\u0300n co\\u0301 \\u0111i\\u00ea\\u0300u co\\u0300n \\u0111\\u01b0\\u01a1\\u0300ng ke\\u0309 may ch\\u01b0a xo\\u0301a b\\u0103\\u0300ng vi\\u00ea\\u0301t nhu\\u0309 mi\\u0300nh ko xo\\u0301a \\u0111c h\\u00ean la\\u0300 ko ro\\u0303 l\\u0103\\u0301m\"],\n [{\n            'v': 4,\n            'f': \"4\",\n        },\n\"b\\u1ed1n sao  m\\u00ecnh nh\\u1eadn \\u0111\\u01b0\\u1ee3c h\\u00e0ng c\\u00e1c b\\u1ea1n g\\u1eedi r\\u1ed3i h\\u00e0ng nh\\u01b0 \\u1ea3nh d\\u00f9ng t\\u1ed1t xin c\\u1ea3m \\u01a1n\"],\n [{\n            'v': 5,\n            'f': \"5\",\n        },\n\"h\\u00e0ng r\\u1ebb m\\u00e0 ch\\u1ea5t l\\u01b0\\u1ee3ng  giao h\\u00e0ng c\\u1ef1c nhanh m\\u00ecnh cx k ng\\u1edd lu\\u00f4n ch\\u1ea5t l\\u01b0\\u1ee3ng qu\\u00e1 \\u1ed5n so v\\u1edbi m\\u1ee9c gi\\u00e1 \\u0111\\u01b0\\u1eddng may nh\\u00ecn kh\\u00e1 ch\\u1eafc ch\\u1eafn tuy nhi\\u00ean m\\u00e0u h\\u01a1i \\u0111\\u1eadm so v\\u1edbi h\\u00ecnh nh\\u01b0ng nh\\u00ecn cx ok l\\u1eafm s\\u1ebd \\u1ee7ng h\\u1ed9 h\\u00e0ng lata d\\u00e0i d\\u00e0i\"],\n [{\n            'v': 4,\n            'f': \"4\",\n        },\n\"t\\u00fai da m\\u1ec1m \\u0111\\u1eb9p  t\\u00fai \\u0111\\u1eb9p tuy nhi\\u00ean h\\u01a1i gi\\u00e0 d\\u00f9ng cho trung ni\\u00ean ph\\u00f9 h\\u1ee3p\"],\n [{\n            'v': 3,\n            'f': \"3\",\n        },\n\"ba sao  b\\u00ecnh th\\u01b0\\u1eddng\"],\n [{\n            'v': 4,\n            'f': \"4\",\n        },\n\"s\\u1ea3n ph\\u1ea9m v\\u1eeba \\u00fd d\\u00f9ng r\\u1ea5t ti\\u1ec7n l\\u1ee3i v\\u1eeba t\\u00fai ti\\u1ec1n v\\u1edbi c\\u00f4ng ch\\u1ee9c  s\\u1ea3n ph\\u1ea9m v\\u1eeba \\u00fd d\\u00f9ng r\\u1ea5t ti\\u1ec7n l\\u1ee3i v\\u1eeba t\\u00fai ti\\u1ec1n v\\u1edbi c\\u00f4ng ch\\u1ee9c\"],\n [{\n            'v': 4,\n            'f': \"4\",\n        },\n\"t\\u1ed1t\"],\n [{\n            'v': 5,\n            'f': \"5\",\n        },\n\"ok  h\\u00e0i l\\u00f2ng\"],\n [{\n            'v': 5,\n            'f': \"5\",\n        },\n\"\\u0111\\u1eb9p ch\\u1ea5t l\\u01b0\\u1ee3ng ok  t\\u00fai mk nh\\u1eadn \\u0111k y nh\\u01b0 h\\u00ecnh mk ch\\u1ecdn giao h\\u00e0ng ti\\u1ebft ki\\u1ec7m nh\\u01b0ng lazada giao h\\u00e0ng s\\u1edbm h\\u01a1n d\\u1ef1 ki\\u1ebfn <3da ch\\u1eafc ch\\u1eafn \\u0111\\u01b0\\u1eddng may c\\u0169ng \\u0111\\u1eb9p n\\u1eefa\"],\n [{\n            'v': 5,\n            'f': \"5\",\n        },\n\"r\\u1ea5t h\\u00e0i l\\u00f2ng  h\\u00e0ng \\u0111\\u1eb9p t\\u00fai v\\u1eeba ph\\u1ea3i \\u0111\\u1ef1ng v\\u1eeba ipad n\\u00f3i chung l\\u00e0 r\\u1ea5t th\\u00edch c\\u1ea3m \\u01a1n anh giao h\\u00e0ng th\\u00e2n thi\\u1ec7n \\u1ea1\"],\n [{\n            'v': 3,\n            'f': \"3\",\n        },\n\"ba sao  ch\\u1ea5t li\\u1ec7u \\u0111\\u1eb9p tuy nhi\\u00ean \\u0111\\u01b0\\u1eddng may h\\u01a1i s\\u00e2u n\\u00ean l\\u00f2ng t\\u00fai h\\u01a1i nh\\u1ecf n\\u00f3i chung l\\u00e0 ch\\u1ea5t l\\u01b0\\u1ee3ng v\\u00e0 gi\\u00e1 c\\u1ea3 h\\u1ee3p l\\u00fd\"],\n [{\n            'v': 3,\n            'f': \"3\",\n        },\n\"ba sao m\\u00ecnh r\\u1ea5t th\\u00edch s\\u1ea3n ph\\u1ea9m n\\u00e0y m\\u00ecnh th\\u1ea5y n\\u00f3 h\\u1ee3p v\\u1edbi m\\u00ecnh \\u0111\\u01a1n gi\\u1ea3n nh\\u01b0ng v\\u1eabn sang tr\\u1ecdng ch\\u1ea5t li\\u1ec7u da b\\u00f2 m\\u1ec1m m\\u1ea1i gi\\u00e1 c\\u1ea3 l\\u1ea1i r\\u1ebb h\\u01a1n minh mua ngo\\u00e0i c\\u00e1c c\\u1eeda h\\u00e0ng v\\u00e0 m\\u1eb7t kh\\u00e1ch giao h\\u00e0ng r\\u1ea5t nhanh ch\\u00f3ng n\\u00f3i chung c\\u0169ng m\\u1edbi mua m\\u1ed9t v\\u00e0 s\\u1ea3n ph\\u1ea9m nh\\u01b0ng m\\u00ecnh r\\u1ea5t th\\u00edch d\\u1ecbch v\\u1ee5 c\\u1ee7a lazada\"],\n [{\n            'v': 4,\n            'f': \"4\",\n        },\n\"b\\u1ed1n sao\"],\n [{\n            'v': 4,\n            'f': \"4\",\n        },\n\"h\\u00e0ng ch\\u1ea5t l\\u01b0\\u1ee3ng  h\\u00e0ng \\u0111\\u1eb9p gi\\u00e1 r\\u1ebb nv giao h\\u00e0ng nhanh\"],\n [{\n            'v': 4,\n            'f': \"4\",\n        },\n\"b\\u1ed1n sao  c\\u0169ng \\u0111\\u01b0\\u1ee3c\"],\n [{\n            'v': 5,\n            'f': \"5\",\n        },\n\"t\\u00f4t  h\\u00e0i l\\u00f2ng v\\u1edbi s\\u1ea3n ph\\u1ea9m\"],\n [{\n            'v': 5,\n            'f': \"5\",\n        },\n\"r\\u1ea5t t\\u1ed1t  t\\u00f4i \\u0111\\u00e3 d\\u00f9ng balo c\\u1ee7a lata \\u0111\\u01b0\\u1ee3c 2 n\\u0103m r\\u1ed3i m\\u00e0 v\\u1eabn ch\\u01b0a b\\u1ecb h\\u01b0 ch\\u1ea5t da v\\u00e0 \\u0111\\u01b0\\u1eddng may \\u0111\\u1ec1u t\\u1ed1t t\\u00f4i \\u0111\\u00e3 \\u0111\\u1eb7t 2 chi\\u1ebfc t\\u00fai n\\u00e0y cho t\\u00f4i v\\u00e0 cho ch\\u1ecb g\\u00e1i v\\u1edbi gi\\u00e1 khuy\\u1ebfn m\\u00e3i \\u0111\\u1eb7t h\\u00f4m qua h\\u00f4m nay \\u0111\\u00e3 nh\\u1eadn \\u0111\\u01b0\\u1ee3c r\\u1ed3i t\\u00f4i th\\u1eadt s\\u1ef1 r\\u1ea5t h\\u00e0i l\\u00f2ng v\\u1edbi s\\u1ea3n ph\\u1ea9m c\\u1ee7a lata\"],\n [{\n            'v': 5,\n            'f': \"5\",\n        },\n\"gi\\u1ed1ng v\\u1edbi \\u1ea3nh \\u0111\\u00e1ng mua  ch\\u1ea5t li\\u1ec7u \\u01b0ng \\u00fd h\\u00e0i l\\u00f2ng v\\u1edbi s\\u1ea3n ph\\u1ea9m\"],\n [{\n            'v': 3,\n            'f': \"3\",\n        },\n\"ba sao oke\"],\n [{\n            'v': 4,\n            'f': \"4\",\n        },\n\"b\\u1ed1n sao\"],\n [{\n            'v': 5,\n            'f': \"5\",\n        },\n\"n\\u0103m sao  t\\u1ed1t\"],\n [{\n            'v': 5,\n            'f': \"5\",\n        },\n\"tui deo cheo  tui deo cheo thuong hieu lata 3 mau deu rat dep chat luong rat tot gia ca qua re so voi tat ca nhung gi that tot cua san pham\"],\n [{\n            'v': 4,\n            'f': \"4\",\n        },\n\"t\\u00f4\\u0301t  \\u0111ep\"],\n [{\n            'v': 4,\n            'f': \"4\",\n        },\n\"b\\u1ed1n sao  s\\u1ea3n ph\\u1ea9m t\\u1ed1t \\u0111\\u1eb9p y h\\u00ecnh nh\\u01b0ng g\\u1eedi ch\\u1eadm so v\\u1edbi th\\u1eddi h\\u1ea1n 5 ng\\u00e0y ch\\u1edd m\\u00e3i m\\u00e0 ch\\u1ea3 nh\\u1eadn \\u0111\\u01b0\\u1ee3c t\\u01b0\\u1edfng tr\\u00f4i lu\\u00f4n ch\\u1edd \\u0111\\u00f3ng g\\u00f3i c\\u1ea9n th\\u1eadn\"],\n [{\n            'v': 5,\n            'f': \"5\",\n        },\n\"n\\u0103m sao  ch\\u1ea5t li\\u1ec7u okie\"],\n [{\n            'v': 5,\n            'f': \"5\",\n        },\n\"n\\u0103m sao  t\\u00fai \\u0111\\u1eb9p m\\u00ecnh r\\u1ea5t th\\u00edch nh\\u01b0ng b\\u00e9 m\\u00ecnh \\u0111\\u1ef1ng 1 c\\u00e1i v\\u00ed \\u0111t m\\u1ea5y th\\u1ecfi son v\\u00e0 h\\u0169 kem d\\u01b0\\u1ee1ng \\u1ea9m lo\\u1ea1i b\\u00e9 l\\u00e0 full r\\u1ed3i\"],\n [{\n            'v': 5,\n            'f': \"5\",\n        },\n\"good  tr\\u00ean c\\u1ea3 tuy\\u1ec7t v\\u1eddi\"],\n [{\n            'v': 4,\n            'f': \"4\",\n        },\n\"gi\\u00e1 \\u0111\\u1eb9p  m\\u1edbi mua l\\u00e0 115k gi\\u1edd l\\u00e0 99k h\\u00e0ng \\u0111\\u1eb9p \\u0111\\u00f3ng chuy\\u1ebfn h\\u00e0ng 99k v\\u1edbi ch\\u1ea5t l\\u01b0\\u1ee3ng k \\u0111\\u1ed5i c\\u1ea7n th\\u1eddi gian xem da c\\u00f3 b\\u1ecb n\\u1ed5 nhanh kcn b\\u00e2y gi\\u1edd th\\u1ea5y l\\u00e0 ok\"],\n [{\n            'v': 5,\n            'f': \"5\",\n        },\n\"r\\u1ea5t ok  r\\u1ea5t h\\u00e0i l\\u00f2ng\"],\n [{\n            'v': 4,\n            'f': \"4\",\n        },\n\"ok  gia thanh kinh mua luc tui sale c\\u00f2n 69k chat lieu day dan hop voi tui tien chi tiec la minh chon da bo nhat thi lzd lai giao cho da bo dam\"],\n [{\n            'v': 4,\n            'f': \"4\",\n        },\n\"chat lieu tot mau ma dep va giao hang nhanh hon du kien  san pham chat luong tot mau ma dep toi rat hai long\"],\n [{\n            'v': 4,\n            'f': \"4\",\n        },\n\"b\\u1ed1n sao  ch\\u1ea5t l\\u01b0\\u1ee3ng v\\u00e0 m\\u1eabu m\\u00e3 \\u1ed5n s\\u1ea3n ph\\u1ea9m gi\\u1ed1ng h\\u00ecnh ph\\u00f9 h\\u1ee3p \\u0111\\u1ec3 \\u0111i ch\\u01a1i b\\u1ea1n c\\u00f3 th\\u1ec3 \\u0111\\u1ec3 v\\u1eeba c\\u1ea3 lo\\u1ea1i v\\u00ed d\\u00e0i n\\u00ean mua\"],\n [{\n            'v': 5,\n            'f': \"5\",\n        },\n\"s\\u1ea3n ph\\u1ea9m r\\u1ea5t t\\u1ed1t h\\u1ee3p gi\\u00e1 ti\\u1ec1n  \\u0111\\u1eb9p\"],\n [{\n            'v': 4,\n            'f': \"4\",\n        },\n\"s\\u1ea3n ph\\u1ea9m d\\u00e9p  \\u0111\\u1eb7t h\\u00e0ng nhanh\"],\n [{\n            'v': 5,\n            'f': \"5\",\n        },\n\"tui chat luong  hang chat luong lazada nen phat huy nhe\"],\n [{\n            'v': 4,\n            'f': \"4\",\n        },\n\"tui dep vua y  dep\"],\n [{\n            'v': 3,\n            'f': \"3\",\n        },\n\"tien nao cua do cung ok lam  cung tot\"],\n [{\n            'v': 5,\n            'f': \"5\",\n        },\n\"n\\u0103m sao  t\\u00fai da b\\u00f2 nh\\u1ea1t n\\u00e0y \\u0111\\u1eb9p h\\u01a1n c\\u00e1i m\\u00e0u \\u0111\\u1eadm \\u0111\\u1ee3t r\\u1ed3i m\\u00ecnh mua \\u0111\\u00f3 m\\u00e0 s\\u1eed d\\u1ee5ng t\\u1ed1t n\\u00ean mua th\\u00eam cho em m\\u00ecnh m\\u1ed9t c\\u00e1i \\u0111\\u1ec3 d\\u00f9ng n\\u00f3i chung c\\u0169ng \\u0111\\u01b0\\u1ee3c x\\u00e0i t\\u1ed1t\"],\n [{\n            'v': 4,\n            'f': \"4\",\n        },\n\"\\u0111\\u1eb9p \\u0111\\u1eb9p \\u0111\\u00fang nh\\u01b0 h\\u00ecnh nh\\u1eefng c\\u00e1i v\\u00ed t\\u1eb7ng theo nh\\u00ecn kh\\u00f3 di\\u1ec5n t\\u1ea3 qu\\u00e1 d\"],\n [{\n            'v': 5,\n            'f': \"5\",\n        },\n\"r\\u1ea5t h\\u00e0i l\\u00f2ng  ch\\u1ea5t li\\u1ec7u da l\\u00e0m t\\u00fai trong kh\\u00f4ng \\u0111\\u01b0\\u1ee3c chu\\u1ea9n cho l\\u1eafm nh\\u01b0ng so v\\u1edbi gi\\u00e1 c\\u1ea3 th\\u00ec m\\u1ec1m r\\u1ed3i chi\\u1ebfc t\\u00fai m\\u00ecnh c\\u00f3 th\\u1ec3 mang \\u0111i l\\u00e0m c\\u0169ng h\\u1ee3p l\\u00fd m\\u00e0u s\\u1eafc chi\\u1ebfc t\\u00fai \\u0111\\u1eb9p d\\u00e2y \\u0111eo kh\\u00e1 c\\u1ee9ng c\\u00e1p\"],\n [{\n            'v': 5,\n            'f': \"5\",\n        },\n\"tuy\\u1ec7t v\\u1eddi  gi\\u00e1 100k m\\u00e0 \\u0111\\u01b0\\u1eddng ch\\u1ec9 ch\\u1eafc ch\\u1eafn d\\u1ea1 d\\u00e0y m\\u00ecnh c\\u1ef1c th\\u00edch ph\\u1ea7n b\\u00ean trong tuy\\u1ec7t s\\u1ebd ti\\u1ebfp t\\u1ee5c mua c\\u1ee7a lata\"],\n [{\n            'v': 5,\n            'f': \"5\",\n        },\n\"n\\u0103m sao  t\\u1ed1t\"],\n [{\n            'v': 4,\n            'f': \"4\",\n        },\n\"b\\u1ed1n sao  nhin ok gia lai re\"],\n [{\n            'v': 5,\n            'f': \"5\",\n        },\n\"n\\u0103m sao\"],\n [{\n            'v': 5,\n            'f': \"5\",\n        },\n\"tuy\\u1ec7t  \\u0111\\u00e3 nh\\u1eadn \\u0111\\u01b0\\u1ee3c h\\u00e0ng nh\\u00ecn chung r\\u1ea5t th\\u00edch\"],\n [{\n            'v': 5,\n            'f': \"5\",\n        },\n\"t\\u00fai lata vn03  m\\u00ecnh r\\u1ea5t r\\u1ea5t h\\u00e0i l\\u00f2ng v\\u1ec1 chi\\u1ebfc t\\u00fai n\\u00e0y ch\\u1ea5t li\\u1ec7u da m\\u1ec1m v\\u00e0 d\\u1ec5 th\\u01b0\\u01a1ng n\\u1eefa\"],\n [{\n            'v': 5,\n            'f': \"5\",\n        },\n\"5 sao  t\\u00fai da m\\u1ec1m r\\u1ebb v\\u00e0 \\u0111\\u1eb9p t\\u00f4i r\\u1ea5t h\\u00e0i l\\u00f2ng s\\u1ea3n ph\\u1ea9m n\\u00e0y\"],\n [{\n            'v': 5,\n            'f': \"5\",\n        },\n\"t\\u1ed1t c\\u1ef1c t\\u1ed1t  h\\u00e0ng \\u0111\\u00e3 nh\\u1eadn chi\\u1ec1u nay v\\u00e0 \\u0111\\u1eb7t th\\u00eam 11 c\\u00e1i m\\u00f4ng l\\u00e0 \\u0111\\u1eb9p gi\\u1ed1ng y v\\u1eady\"],\n [{\n            'v': 5,\n            'f': \"5\",\n        },\n\"h\\u00e0ng \\u0111\\u1eb9p ch\\u1ea5t l\\u01b0\\u1ee3ng\"],\n [{\n            'v': 5,\n            'f': \"5\",\n        },\n\"t\\u1ed1t  t\\u00fai \\u0111\\u1eb9p\"],\n [{\n            'v': 4,\n            'f': \"4\",\n        },\n\"b\\u1ed1n sao  t\\u1ed1t\"],\n [{\n            'v': 4,\n            'f': \"4\",\n        },\n\"ha\\u0300ng nh\\u01b0 mi\\u00eau ta\\u0309 ch\\u0103\\u0301c ch\\u0103\\u0301n giao ha\\u0300ng s\\u01a1\\u0301m  ca\\u0301c nh\\u00e2\\u0323n xe\\u0301t cu\\u0309a mo\\u0323i ng\\u01b0\\u01a1\\u0300i v\\u00ea\\u0300 \\u0111\\u01b0\\u01a1\\u0300ng may ch\\u0103\\u0301c ch\\u0103\\u0301n ch\\u00e2\\u0301t li\\u00ea\\u0323u \\u0111e\\u0323p va\\u0300 lo\\u0301t trong m\\u00ea\\u0300m da\\u0300y d\\u0103\\u0323n \\u0111\\u00ea\\u0300u \\u0111u\\u0301ng ca\\u0301c kho\\u0301a kh\\u01a1\\u0301p n\\u00f4\\u0301i da\\u0300y ch\\u0103\\u0301c giao ha\\u0300ng mi\\u00ea\\u0303n phi\\u0301 s\\u01a1\\u0301m m\\u00f4\\u0323t tu\\u00e2\\u0300n so v\\u01a1\\u0301i d\\u01b0\\u0323 ki\\u00ea\\u0301n d\\u00e2y \\u0111eo ch\\u0103\\u0301c nh\\u01b0ng \\u0111oa\\u0323n g\\u00e2\\u0323p\\u0111i\\u00ea\\u0300u chi\\u0309nh ch\\u01b0a \\u0111e\\u0323p l\\u0103\\u0301m so v\\u01a1\\u0301i tu\\u0301i n\\u00ean cho 45 sao t\\u00f4\\u0309ng th\\u00ea\\u0309 ha\\u0300i lo\\u0300ng v\\u01a1\\u0301i gia\\u0301 h\\u01a1\\u0323p ly\\u0301 85k free ship \\u0111\\u01a1\\u0323t khuy\\u00ea\\u0301n ma\\u0323i\"],\n [{\n            'v': 5,\n            'f': \"5\",\n        },\n\"d\\u00f9ng \\u0111\\u01b0\\u1ee3c  r\\u1ea5t \\u1ed5n so v\\u1edbi gi\\u00e1 ti\\u1ec1n\"],\n [{\n            'v': 3,\n            'f': \"3\",\n        },\n\"h\\u00e0ng c\\u0169ng \\u0111\\u01b0\\u1ee3c nh\\u01b0ng h\\u01a1i th\\u1ea5t v\\u1ecdng do qu\\u00e1 nh\\u1ecf ko \\u0111\\u1ef1ng \\u0111\\u01b0\\u1ee3c nhi\\u1ec1u \\u0111\\u1ed3 b\\u00ean trong ko gi\\u1ed1ng nh\\u01b0 m\\u00f4 t\\u1ea3\"],\n [{\n            'v': 5,\n            'f': \"5\",\n        },\n\"r\\u1ea5t h\\u00e0i l\\u00f2ng d\"],\n [{\n            'v': 5,\n            'f': \"5\",\n        },\n\"n\\u0103m sao  h\\u00e0i l\\u00f2ng\"],\n [{\n            'v': 5,\n            'f': \"5\",\n        },\n\"t\\u00fai c\\u00f3 thi\\u1ebft k\\u1ebf \\u0111\\u01a1n gi\\u1ea3n kh\\u00e1 \\u0111\\u1eb9p m\\u1eaft da b\\u00f2 \\u0111\\u1eb9p \\u0111eo nh\\u00ecn r\\u1ea5t n\\u0103ng \\u0111\\u1ed9ng tho\\u1ea3i m\\u00e1i \\u0111\\u1ef1ng \\u0111\\u01b0\\u1ee3c kh\\u00e1 nhi\\u1ec1u \\u0111\\u1ed3\"],\n [{\n            'v': 4,\n            'f': \"4\",\n        },\n\"t\\u1ed1t 1 n\\u0103m tr\\u01b0\\u1edbc \\u01b0u \\u0111i\\u1ec3m ch\\u1ea5t l\\u01b0\\u1ee3ng t\\u1ed1t h\\u00ecnh \\u1ea3nh gi\\u1ed1ng nh\\u01b0 h\\u00ecnh c\\u00f3 b\\u1ea3o h\\u00e0nh v\\u00e0 \\u0111\\u1ecba ch\\u1ec9 c\\u00f4ng ty s\\u1ea3n xu\\u1ea5t ch\\u01b0a h\\u00e0i l\\u00f2ng th\\u1ec3 t\\u00edch c\\u1ee7a t\\u00fai h\\u01a1i nh\\u1ecf\"],\n [{\n            'v': 5,\n            'f': \"5\",\n        },\n\"r\\u1ea5t t\\u1ed1t  t\\u00f4i h\\u00e0i l\\u00f2ng\"],\n [{\n            'v': 5,\n            'f': \"5\",\n        },\n\"r\\u1ea5t t\\u1ed1t  tuy nhi\\u00ean \\u0111\\u01b0\\u1eddng ch\\u1ec9 mai ch\\u01b0a ch\\u00ednh x\\u00e1c\"],\n [{\n            'v': 5,\n            'f': \"5\",\n        },\n\"lata  t\\u1ed1t\"],\n [{\n            'v': 5,\n            'f': \"5\",\n        },\n\"r\\u1ea5t th\\u00edch  h\\u00e0ng gi\\u1ed1ng h\\u00ecnh da m\\u1ec1m nh\\u00ecn \\u0111\\u1eb9p giao h\\u00e0ng si\\u00eau nhanh\"],\n [{\n            'v': 5,\n            'f': \"5\",\n        },\n\"t\\u1ed1t h\\u01a1n mong \\u0111\\u1ee3i  khi \\u0111\\u1eb7t h\\u00e0ng m\\u00ecnh ch\\u1ecdn ch\\u1ebf \\u0111\\u1ed9 giao h\\u00e0ng ti\\u1ebft ki\\u1ec7m n\\u00ean ngh\\u0129 c\\u1ea3 tu\\u1ea7n sau m\\u1edbi c\\u00f3 m\\u00ecnh \\u1edf b\\u00ecnh d\\u01b0\\u01a1ng ai d\\u00e8 2 ng\\u00e0y sau c\\u00f3 r n\\u00f3i chung r\\u1ea5t h\\u00e0i l\\u00f2ng ch\\u1ec9 l\\u00e0 g\\u00f3i s\\u1ea3n ph\\u1ea9m ko k\\u1ef9 cho l\\u1eafm d\\u1ec5 b\\u1ecb g\\u00e3y da c\\u1ee7a m\\u00ecnh nguy\\u00ean v\\u1eb9n ko g\\u00e3y h\\u00e0ng \\u0111\\u1eb9p da d\\u00e0y n\\u00f3i chung v\\u1edbi gi\\u00e1 91k m\\u00ecnh r\\u1ea5t h\\u00e0i l\\u00f2ng\"],\n [{\n            'v': 5,\n            'f': \"5\",\n        },\n\"n\\u0103m sao  t\\u00fai \\u0111\\u00fang nh\\u01b0 m\\u00f4 t\\u1ea3 da t\\u1ed1t\"],\n [{\n            'v': 4,\n            'f': \"4\",\n        },\n\"t\\u1ed1t  t\\u00fai nh\\u01b0 h\\u00ecnh ti\\u1ebfc l\\u00e0 mua ko \\u0111\\u00fang d\\u1ecbp lazada gi\\u1ea3m nhi\\u1ec1u nh\\u1ea5t\"],\n [{\n            'v': 5,\n            'f': \"5\",\n        },\n\"da m\\u1ec1m n\\u00f3i chung l\\u00e0 c\\u0169ng dk so vs gi\\u00e1 th\\u00e0nh\"],\n [{\n            'v': 5,\n            'f': \"5\",\n        },\n\"h\\u00e0i l\\u00f2ng v\\u1ec1 s\\u1ea3n ph\\u1ea9m\"],\n [{\n            'v': 5,\n            'f': \"5\",\n        },\n\"sp r\\u1ea5t \\u0111\\u1eb9p so v\\u1edbi ch\\u1ea5t l\\u01b0\\u1ee3ng th\\u00ec gi\\u00e1 ti\\u1ec1n r\\u1ea5t ok  \\u0111\\u1eb9p r\\u1ebb ch\\u1ea5t lg\"],\n [{\n            'v': 5,\n            'f': \"5\",\n        },\n\"sp r\\u1ea5t \\u0111\\u1eb9p b\\u00ean trong l\\u1edbp l\\u00f3t nhung d\\u00e0y d\\u1eb7n  n\\u00ean mua\"],\n [{\n            'v': 4,\n            'f': \"4\",\n        },\n\"b\\u1ed1n sao\"],\n [{\n            'v': 5,\n            'f': \"5\",\n        },\n\"t\\u1ed1t  m\\u00e0u \\u0111\\u1eb9p h\\u01a1n \\u1ea3nh ch\\u1ea5t li\\u1ec7u m\\u1ec1m m\\u1ea1i b\\u1ec1n \\u0111\\u01b0\\u1eddng may ch\\u1eafc ch\\u1eafn form ko \\u0111\\u1ee9ng l\\u1eafm n\\u00f3i chung l\\u00e0 ok\"],\n [{\n            'v': 4,\n            'f': \"4\",\n        },\n\"ok  s\\u1ea3n ph\\u1ea9m \\u0111\\u1eb9p gi\\u00e1 c\\u1ea3 h\\u1ee3p l\\u00fd\"],\n [{\n            'v': 3,\n            'f': \"3\",\n        },\n\"ba sao  san pham dep gia re\"],\n [{\n            'v': 5,\n            'f': \"5\",\n        },\n\"good  ch\\u1ea5t v\\u1ea3i d\\u00e0y l\\u1eafm \\u00e0 m\\u1ecdi ng tr\\u00ean \\u0111\\u00e2y r\\u1ebb ch\\u1ee9 ch\\u1ed7 kh\\u00e1c 150k tr\\u1edf l\\u00ean k ak\"],\n [{\n            'v': 5,\n            'f': \"5\",\n        },\n\"t\\u00fai \\u0111\\u1eb9p\"],\n [{\n            'v': 3,\n            'f': \"3\",\n        },\n\"kh\\u00e1 l\\u00e0 th\\u00edch s\\u1ea3n ph\\u1ea9m  ch\\u1ea5t li\\u1ec7u da l\\u00e0m t\\u00fai trong kh\\u00f4ng \\u0111\\u01b0\\u1ee3c chu\\u1ea9n cho l\\u1eafm nh\\u01b0ng so v\\u1edbi gi\\u00e1 c\\u1ea3 th\\u00ec m\\u1ec1m r\\u1ed3i chi\\u1ebfc t\\u00fai m\\u00ecnh c\\u00f3 th\\u1ec3 mang \\u0111i l\\u00e0m c\\u0169ng h\\u1ee3p l\\u00fd m\\u00e0u s\\u1eafc chi\\u1ebfc t\\u00fai \\u0111\\u1eb9p d\\u00e2y \\u0111eo kh\\u00e1 c\\u1ee9ng c\\u00e1p\"],\n [{\n            'v': 5,\n            'f': \"5\",\n        },\n\"tuy\\u1ec7t v\\u1eddi  h\\u00e0ng \\u0111\\u00f3ng g\\u00f3i r\\u1ea5t c\\u1ea9n th\\u1eadn m\\u1edf ra th\\u00ec t\\u00f4i \\u01b0ng \\u00fd c\\u1ef1c k\\u1ef3 lu\\u00f4n h\\u00e0ng gi\\u00e1 r\\u1ebb m\\u00e0 ch\\u1ea5t l\\u01b0\\u1ee3ng qu\\u00e1 ok lu\\u00f4n s\\u1eafm em t\\u00fai n\\u00e0y ban \\u0111\\u1ea7u m\\u1ee5c \\u0111\\u00edch \\u0111\\u1ec3 \\u0111i ch\\u00f9a c\\u01a1 m\\u00e0 \\u0111i ch\\u01a1i c\\u0169ng r\\u1ea5t ok\"],\n [{\n            'v': 5,\n            'f': \"5\",\n        },\n\"n\\u0103m sao\"],\n [{\n            'v': 3,\n            'f': \"3\",\n        },\n\"r\\u00e2\\u0301t ha\\u0300i lo\\u0300ng\"],\n [{\n            'v': 5,\n            'f': \"5\",\n        },\n\"h\\u00e0ng t\\u1ed1t 5 sp \\u0111\\u00fang m\\u00f4 t\\u1ea3 gi\\u00e1 r\\u1ebb\"],\n [{\n            'v': 5,\n            'f': \"5\",\n        },\n\"qua\\u0301 t\\u00f4\\u0301t  da m\\u00ea\\u0300m \\u0111e\\u0323p s\\u0103n \\u0111\\u01b0\\u01a1\\u0323c gia\\u0301 h\\u01a1\\u0300i 92k ma\\u0300 tu\\u0301i \\u0111e\\u0323p qua\\u0301 ch\\u01b0\\u0300ng ca\\u0309m \\u01a1n lata lazada\"],\n [{\n            'v': 5,\n            'f': \"5\",\n        },\n\"ok  tot\"],\n [{\n            'v': 4,\n            'f': \"4\",\n        },\n\"gi\\u00e1 r\\u1ebb m\\u00e0 \\u0111\\u1eb9p\"],\n [{\n            'v': 4,\n            'f': \"4\",\n        },\n\"tui dep cung kha hai long\"],\n [{\n            'v': 5,\n            'f': \"5\",\n        },\n\"r\\u1ea5t h\\u00e0i l\\u00f2ng  \\u1ee7ng h\\u1ed9 lata tuy\\u1ec7t \\u0111\\u1ed1i\"],\n [{\n            'v': 5,\n            'f': \"5\",\n        },\n\"h\\u00e0i l\\u00f2ng  m\\u00e0u t\\u00fai \\u0111\\u1eadm h\\u01a1n trong h\\u00ecnh t\\u00fai \\u0111\\u1eb9p c\\u00e1c \\u0111\\u01b0\\u1eddng may \\u0111\\u1ec1u \\u0111\\u1eb9p l\\u1edbp l\\u00f3t t\\u00fai \\u0111\\u1ee7 d\\u00e0y kh\\u00f3a tr\\u01a1n tru nh\\u00ecn chung s\\u1ea3n ph\\u1ea9m t\\u1ed1t mua l\\u00fac gia\\u0301 99k \\u0111\\u00e3 th\\u00e2\\u0301y r\\u1ebb r\\u1ed3i m\\u00e0 h c\\u00f2n 81k\"],\n [{\n            'v': 3,\n            'f': \"3\",\n        },\n\"ba sao 1 n\\u0103m tr\\u01b0\\u1edbc ok\"],\n [{\n            'v': 5,\n            'f': \"5\",\n        },\n\"t\\u1ed1t  giao h\\u00e0ng r\\u1ea5t nhanh v\\u00e0 b\\u1ea1n shipper n\\u00f3i chuy\\u1ec7n r\\u1ea5t th\\u00e2n thi\\u1ec7n s\\u1ea3n ph\\u1ea9m th\\u00ec m\\u00ecnh th\\u1ea5y ok \\u0111\\u1ee3i d\\u00f9ng 1 th\\u1eddi gian xem th\\u1ebf n\\u00e0o r\\u1ea5t \\u1ee7ng h\\u1ed9\"],\n [{\n            'v': 3,\n            'f': \"3\",\n        },\n\"ba sao  s\\u1ea3n ph\\u1ea9m gi\\u1ed1ng h\\u00ecnh s\\u1ea3n ph\\u1ea9m t\\u1ed1t gi\\u00e1 r\\u1ebb\"],\n [{\n            'v': 3,\n            'f': \"3\",\n        },\n\"t\\u1ed1t  t\\u00fai \\u0111\\u1eb9p h\\u00e0ng t\\u1ed1t gi\\u00e1 t\\u1ed1t\"],\n [{\n            'v': 5,\n            'f': \"5\",\n        },\n\"good ch\\u00e2\\u0301t l\\u01b0\\u01a1\\u0323ng sa\\u0309n ph\\u00e2\\u0309m v\\u01a1\\u0301i gia\\u0301 ch\\u00e2\\u0301p nh\\u00e2\\u0323n \\u0111\\u01b0\\u01a1\\u0323c re\\u0309 h\\u01a1n mua ngoa\\u0300i ch\\u01a1\\u0323 giao ha\\u0300ng t\\u00f4\\u0301t\"],\n [{\n            'v': 4,\n            'f': \"4\",\n        },\n\"t\\u1ed1t  sp y h\\u00ecnh ch\\u1ea5t l\\u01b0\\u1ee3ng t\\u1ed1t\"],\n [{\n            'v': 5,\n            'f': \"5\",\n        },\n\"ch\\u1ea5t l\\u01b0\\u1ee3ng t\\u1ed1t  giao h\\u00e0ng nhanh g\\u00f3i h\\u00e0ng c\\u0169ng \\u0111\\u1eb9p n\\u1eefa v\\u1ec1 chi\\u1ebfc t\\u00fai th\\u00ec m\\u1eabu m\\u00e3 gi\\u1ed1ng trong m\\u00f4 t\\u1ea3 d\\u00e2y \\u0111eo ch\\u1eafc ch\\u1eafn nh\\u01b0ng c\\u00f3 \\u0111i\\u1ec1u m\\u00e0u h\\u01a1i nh\\u1ea1t h\\u01a1n so v\\u1edbi trong h\\u00ecnh t\\u00fd nh\\u1eefng s\\u1ea3n ph\\u1ea9m ch\\u1ea5t l\\u01b0\\u1ee3ng r\\u1ea5t ok\"],\n [{\n            'v': 3,\n            'f': \"3\",\n        },\n\"ba sao  s\\u1ea3n ph\\u1ea9m gi\\u1ed1ng trong h\\u00ecnh t\\u1ed1t\"],\n [{\n            'v': 5,\n            'f': \"5\",\n        },\n\"n\\u0103m sao  tuy\\u1ec7t\"],\n [{\n            'v': 3,\n            'f': \"3\",\n        },\n\"ba sao  ch\\u1ea5t l\\u01b0\\u1ee3ng v\\u00e0 gi\\u00e1 c\\u1ea3 h\\u1ee3p l\\u00fd\"],\n [{\n            'v': 5,\n            'f': \"5\",\n        },\n\"t\\u00fai da r\\u1ea5t ok m\\u00ecnh r\\u1ea5t \\u01b0ng \\u00fd  ngo\\u00e0i s\\u1ef1 mong \\u0111\\u1ee3i r\\u1ea5t ok\"],\n [{\n            'v': 3,\n            'f': \"3\",\n        },\n\"lata  t\\u1ea1m h\\u00e0i l\\u00f2ng\"],\n [{\n            'v': 5,\n            'f': \"5\",\n        },\n\"n\\u0103m sao  s\\u1ea3n ph\\u1ea9m r\\u1ea5t t\\u1ed1t khi nh\\u1eadn \\u0111\\u01b0\\u1ee3c s\\u1ea3n ph\\u1ea9m v\\u00f4 c\\u00f9ng vui m\\u1eebng v\\u00ec mua h\\u00e0ng nhanh ch\\u1ea5t lg t\\u1ed1t ti\\u1ebft ki\\u1ec7m \\u0111\\u01b0\\u1ee3c th\\u1eddi gian l\\u1ef1a ch\\u1ecdn c\\u1ea3m \\u01a1n lazada\"],\n [{\n            'v': 4,\n            'f': \"4\",\n        },\n\"t\\u1ed1t m\\u00e0u \\u0111\\u1eb9p  s\\u1ea3n ph\\u1ea9m gi\\u1ed1ng v\\u1edbi h\\u00ecnh da m\\u1ec1m kh\\u00f3a ch\\u1eafc ch\\u1eafn \\u0111\\u01b0\\u1eddng ch\\u1ec9 may \\u0111\\u1eb9p\"],\n [{\n            'v': 5,\n            'f': \"5\",\n        },\n\"h\\u00e0i l\\u00f2ng  t\\u00fai d\\u00e0y d\\u1eb7n \\u0111\\u1eb9p gi\\u1ed1ng h\\u00ecnh m\\u00f9a \\u0111\\u01b0\\u1ee3c gi\\u00e1 r\\u1ebb n\\u1eefa\"],\n [{\n            'v': 3,\n            'f': \"3\",\n        },\n\"ok  h\\u00e0ng \\u0111\\u1eb9p giao nhanh\"],\n [{\n            'v': 5,\n            'f': \"5\",\n        },\n\"t\\u00fai mang ch\\u00e9o lata  h\\u00e0ng \\u0111\\u1ea1t y\\u00eau c\\u1ea7u giao h\\u00e0ng \\u0111\\u00fang h\\u1eb9n\"],\n [{\n            'v': 5,\n            'f': \"5\",\n        },\n\"ph\\u00f9 h\\u1ee3p v\\u1edbi gi\\u00e1  s\\u1ea3n ph\\u1ea9m h\\u00e0i l\\u00f2ng \\u0111\\u01b0\\u1eddng mai \\u0111\\u1eb9p\"],\n [{\n            'v': 3,\n            'f': \"3\",\n        },\n\"ba sao 1 n\\u0103m tr\\u01b0\\u1edbc d\\u00e2y \\u0111eo hoi nho v\\u00e0 y\\u1ebfu \\u1edbt\"],\n [{\n            'v': 5,\n            'f': \"5\",\n        },\n\"n\\u0103m sao  qu\\u1ea7n m\\u1ec1m m\\u1ea1i m\\u1eb7c d\\u1ec5 ch\\u1ecbu gi\\u00e1 r\\u1ebb tuy nhi\\u00ean c\\u00fac h\\u01a1i kh\\u00f3 hi\\u1ec3u\"],\n [{\n            'v': 5,\n            'f': \"5\",\n        },\n\"ok ok\"],\n [{\n            'v': 5,\n            'f': \"5\",\n        },\n\"n\\u0103m sao  t\\u00fai c\\u00f3 thi\\u1ebft k\\u1ebf \\u0111\\u01a1n gi\\u1ea3n kh\\u00e1 \\u0111\\u1eb9p m\\u1eaft da b\\u00f2 \\u0111\\u1eb9p \\u0111eo nh\\u00ecn r\\u1ea5t n\\u0103ng \\u0111\\u1ed9ng tho\\u1ea3i m\\u00e1i \\u0111\\u1ef1ng \\u0111\\u01b0\\u1ee3c kh\\u00e1 nhi\\u1ec1u \\u0111\\u1ed3\"],\n [{\n            'v': 5,\n            'f': \"5\",\n        },\n\"r\\u1ea5t \\u0111\\u00e1ng mua  ch\\u1ea5t li\\u1ec7u t\\u1ed1t \\u0111\\u01b0\\u1eddng may k\\u1ef9 c\\u00e0ng m\\u00e1u s\\u1eafc \\u0111\\u1eb9p\"],\n [{\n            'v': 2,\n            'f': \"2\",\n        },\n\"ti\\u1ec1n n\\u00e0o c\\u1ee7a n\\u1ea5y da x\\u1ea5u d\\u1ec5 r\\u00e1ch v\\u00e0 \\u0111\\u00e3 \\u0111\\u1ee9t quai sau 1 th\\u00e1ng s\\u1eed d\\u1ee5ng\"],\n [{\n            'v': 5,\n            'f': \"5\",\n        },\n\"n\\u0103m sao  giao hang nhanh da dept rat thich mua hang tai lazada\"],\n [{\n            'v': 3,\n            'f': \"3\",\n        },\n\"b\\u1ec1 ngo\\u00e0i t\\u00fai th\\u00ec ok nh\\u01b0ng b\\u00ean trong v\\u1ea3i h\\u01a1i x\\u1ea5u t\\u00fai h\\u01a1i c\\u1ee9ng\"],\n [{\n            'v': 4,\n            'f': \"4\",\n        },\n\"b\\u1ed1n sao  nh\\u00ecn \\u0111\\u1eb9p b\\u00ean trong t\\u00fai nh\\u00ecn sang b\\u00ean\"],\n [{\n            'v': 4,\n            'f': \"4\",\n        },\n\"good da t\\u1ed1t\"],\n [{\n            'v': 1,\n            'f': \"1\",\n        },\n\"ok  t\\u00f4i h\\u00e0i l\\u00f2ng\"],\n [{\n            'v': 5,\n            'f': \"5\",\n        },\n\"n\\u0103m sao  \\u0111\\u1eb9p i nh\\u01b0 h\\u00ecnh\"],\n [{\n            'v': 4,\n            'f': \"4\",\n        },\n\"h\\u00e0ng ok  m\\u1edbi \\u0111\\u1eb7t h\\u00e0ng 2 ng\\u00e0y \\u0111\\u00e3 c\\u00f3 t\\u1ea1i b\\u00ecnh thu\\u1eadn h\\u00e0ng r\\u1ebb m\\u00e0 r\\u1ea5t ok\"],\n [{\n            'v': 4,\n            'f': \"4\",\n        },\n\"b\\u1ed1n sao  t\\u00fai gi\\u1ed1ng nh\\u01b0 h\\u00ecnh \\u0111\\u1eb9p r\\u1ea5t th\\u00edch\"],\n [{\n            'v': 4,\n            'f': \"4\",\n        },\n\"s\\u1ea3n ph\\u1ea9m t\\u1ed1t  m\\u00ecnh kh\\u00e1 \\u01b0ng \\u00fd v\\u1edbi s\\u1ea3n ph\\u1ea9m gi\\u00e1 c\\u1ea3 ph\\u1ea3i ch\\u0103ng da m\\u1ec1m k\\u00edch th\\u01b0\\u1edbc h\\u1ee3p l\\u00fd m\\u00e0u s\\u1eafc h\\u01a1i t\\u1ed1i h\\u01a1n m\\u00ecnh ngh\\u0129 nh\\u01b0ng d\\u1ec5 ph\\u1ed1i \\u0111\\u1ed3 v\\u00ed t\\u1eb7ng k\\u00e8m c\\u00f9ng m\\u00e0u v\\u1edbi t\\u00fai n\\u00ean th\\u00e0nh 1 set \\u0111\\u1eb9p \\u0111\\u1ea5y\"],\n [{\n            'v': 1,\n            'f': \"1\",\n        },\n\"t\\u00fai m\\u00f9i kinh l\\u1eafm\"],\n [{\n            'v': 5,\n            'f': \"5\",\n        },\n\"t\\u1ed1t  ch\\u1ea5t l\\u01b0\\u1ee3ng t\\u1ed1t da \\u0111\\u1eb9p h\\u00e0ng giao \\u0111\\u00fang m\\u1eabu m\\u00e3\"],\n [{\n            'v': 4,\n            'f': \"4\",\n        },\n\"good  s\\u1ea3n ph\\u1ea9m nh\\u01b0 h\\u00ecnh \\u0111\\u01b0\\u1eddng may \\u0111\\u1eb9p v\\u00e0 ch\\u1eafc ch\\u1eafn\"],\n [{\n            'v': 5,\n            'f': \"5\",\n        },\n\"good  tu\\u0301i ok\"],\n [{\n            'v': 5,\n            'f': \"5\",\n        },\n\"n\\u0103m sao  ch\\u1ea5t l\\u01b0\\u1ee3ng r\\u1ea5t tuy\\u1ec7t v\\u1eddi\"],\n [{\n            'v': 3,\n            'f': \"3\",\n        },\n\"ba sao\"],\n [{\n            'v': 5,\n            'f': \"5\",\n        },\n\"n\\u0103m sao\"],\n [{\n            'v': 5,\n            'f': \"5\",\n        },\n\"sp t\\u1ed1t  gio xach dep hai long vua matduong may chac chan\"],\n [{\n            'v': 5,\n            'f': \"5\",\n        },\n\"good  good\"],\n [{\n            'v': 1,\n            'f': \"1\",\n        },\n\"qu\\u00e1 x\\u1ea5u so v\\u1edbi h\\u00ecnh l\\u1ea1i c\\u00f2n thi\\u1ebfu v\\u00ed km n\\u1eefa m\\u1ea5t Kh\\u00e1ch\"],\n [{\n            'v': 5,\n            'f': \"5\",\n        },\n\"tuy\\u1ec7t v\\u1eddi  s\\u1ea3n ph\\u1ea9m \\u0111\\u1eb9p b\\u1eaft m\\u1eaft m\\u1edbi \\u0111\\u1eb7t tr\\u01b0a h\\u00f4m qua h\\u00f4m nay \\u0111\\u00e3 c\\u00f3 m\\u1edbi n\\u00ean ch\\u01b0a bi\\u1ebft b\\u1ec1n kh\\u00f4ng nh\\u01b0ng c\\u1ea3m nh\\u1eadn \\u0111\\u1ea7u l\\u00e0 th\\u1ea5y \\u1ed5n \\u0111\\u00f3\"],\n [{\n            'v': 1,\n            'f': \"1\",\n        },\n\"mi\\u00eau t\\u1ea3 \\u0111\\u1eb9p ho\\u00e0nh tr\\u00e1ng l\\u1ec7 l\\u1eafm khi nh\\u1eadn th\\u00ec c\\u1ea3m th\\u1ea5y ch\\u1ec9 \\u0111c 1 sao\"],\n [{\n            'v': 4,\n            'f': \"4\",\n        },\n\"b\\u1ed1n sao  t\\u1ed1t\"],\n [{\n            'v': 5,\n            'f': \"5\",\n        },\n\"1 nh\\u1eadn h\\u00e0ng s\\u1edbm h\\u01a1n mong \\u0111\\u1ee3i 2 h\\u00e0ng r\\u1ea5t ok 3 nh\\u00e2n vi\\u00ean giao h\\u00e0ng r\\u1ea5t nhi\\u1ec7t t\\u00ecnh 4 c\\u1ea3m \\u01a1n h\\u1ec7 th\\u1ed1ng\"],\n [{\n            'v': 5,\n            'f': \"5\",\n        },\n\"n\\u0103m sao t\\u00f4i r\\u1ea5t h\\u00e0i l\\u00f2ng v\\u1ec1 gi\\u00e1 c\\u1ea3 c\\u0169ng nh\\u01b0 ch\\u1ea5t l\\u01b0\\u1ee3ng h\\u00e0ng m\\u00e0 t\\u00f4i \\u0111\\u00e3 mua\"],\n [{\n            'v': 2,\n            'f': \"2\",\n        },\n\"t\\u00fai b\\u1eb1ng ch\\u1ea5t li\\u1ec7u da qu\\u00e1 m\\u1ec1m k bi\\u1ebft do t\\u00fai nh\\u01b0 v\\u1eady hay do kh\\u00e2u \\u0111\\u00f3ng g\\u00f3i v\\u1eadn chuy\\u1ec3n m\\u00e0 l\\u00fac nh\\u1eadn \\u0111c h\\u00e0ng c\\u00e1i t\\u00fai nh\\u0103n nh\\u00e0u g\\u00e3y h\\u1ebft c\\u1ea3 t\\u00fai\"],\n [{\n            'v': 5,\n            'f': \"5\",\n        },\n\"n\\u0103m sao  sa\\u0309n ph\\u00e2\\u0309m c\\u01b0\\u0323c ki\\u0300 ch\\u00e2\\u0301t l\\u01b0\\u01a1\\u0323ng c\\u00e2\\u0300m \\u00eam tay \\u0111\\u01b0\\u01a1\\u0300ng may tinh t\\u00ea\\u0301 giao ha\\u0300ng nhanh\"],\n [{\n            'v': 5,\n            'f': \"5\",\n        },\n\"n\\u0103m sao  t\\u00fai \\u0111eo r\\u1ea5t \\u0111\\u1eb9p da c\\u0169ng l\\u00e0 h\\u00e0ng ch\\u1ea5t l\\u01b0\\u1ee3ng \\u0111\\u00f3 m\\u00ecnh d\\u00f9ng v\\u00e0i th\\u00e1ng r\\u1ed3i c\\u00f3 b\\u1ecb d\\u00ednh m\\u01b0a d\\u00ednh n\\u01b0\\u1edbc m\\u00e0 da v\\u1eabn kh\\u00f4ng sao r\\u1ea5t h\\u00e0i l\\u00f2ng nh\\u00e9\"],\n [{\n            'v': 5,\n            'f': \"5\",\n        },\n\"t\\u00fai x\\u00e1ch  r\\u1ea5t h\\u00e0i l\\u00f2ng c\\u00e1m \\u01a1n lzd\"],\n [{\n            'v': 3,\n            'f': \"3\",\n        },\n\"tam duoc\"],\n [{\n            'v': 4,\n            'f': \"4\",\n        },\n\"h\\u1ea3i l\\u00f2ng v\\u1ec1 s\\u1ea3n ph\\u1ea9m  h\\u00e0ng giao nhanh h\\u01a1n d\\u1ef1 ki\\u1ebfn t\\u00fai giao nh\\u01b0 h\\u00ecnh m\\u00e0u \\u0111\\u1eadm h\\u01a1n da m\\u1ec1m \\u0111\\u01b0\\u1eddng may \\u0111\\u1eb9p c\\u00f3 \\u0111i\\u1ec7u v\\u00ed t\\u1eb7ng k\\u00e8m kh\\u00f4ng \\u01b0ng \\u00fd l\\u1eafm g\\u00f3p \\u00fd v\\u1edbi lazada kh\\u00f4ng n\\u00ean t\\u1eb7ng k\\u00e8m v\\u00ed nh\\u01b0 v\\u1eady thay v\\u00ec t\\u1eb7ng k\\u00e8m v\\u00ed lazada c\\u00f3 th\\u1ec3 b\\u1edbt ti\\u1ec1n tr\\u00ean sp \\u0111\\u1ec3 t\\u0103ng uy t\\u00edn ho\\u1eb7c gi\\u00e1 tr\\u1ecb sp h\\u00e0ng d\\u00f9ng b\\u1ec1n hay kh\\u00f4ng th\\u00ec ch\\u01b0a th\\u1ec3 \\u0111\\u00e1nh gi\\u00e1 \\u0111\\u01b0\\u1ee3c nh\\u1eefng sp \\u0111\\u01b0\\u1ee3c b\\u1ea3o h\\u00e0nh tr\\u1ecdn \\u0111\\u1eddi th\\u00ec ok\"],\n [{\n            'v': 5,\n            'f': \"5\",\n        },\n\"tui dep hop gia tien  mau san pham dep da mem phia trong vai lot dep hop voi mau tui gia re so voi chat luong san pham nhan vien giao hang vui ve va nhiet tinh\"],\n [{\n            'v': 4,\n            'f': \"4\",\n        },\n\"h\\u00e0i l\\u00f2ng  giao h\\u00e0ng nhanh s\\u1ea3n ph\\u1ea9m nh\\u1eadn \\u0111\\u01b0\\u1ee3c \\u0111\\u00fang v\\u1edbi m\\u1eabu gi\\u00e1 th\\u00e0nh v\\u1eady l\\u00e0 ok\"],\n [{\n            'v': 5,\n            'f': \"5\",\n        },\n\"san pham tot ung y mau dep gia ca hop ly toi rat hai long  haonguyen\"],\n [{\n            'v': 5,\n            'f': \"5\",\n        },\n\"h\\u00e0i l\\u00f2ng v\\u1ec1 s\\u1ea3n ph\\u1ea9m giao h\\u00e0ng free nh\\u01b0ng kh\\u00e1 nhanh s\\u1ea3n ph\\u1ea9m nh\\u1eadn \\u0111\\u01b0\\u1ee3c \\u0111\\u00fang m\\u00f4 t\\u1ea3 ch\\u1ea5t li\\u1ec7u \\u0111\\u1eb9p gi\\u00e1 th\\u00e0nh r\\u1ebb h\\u00e0i l\\u00f2ng\"],\n [{\n            'v': 3,\n            'f': \"3\",\n        },\n\"t\\u00fai \\u0111eo ch\\u00e9o  khi nh\\u1ea5p chu\\u1ed9t \\u0111\\u1eb7t mua t\\u00fai v\\u1edbi gi\\u00e1 125k l\\u00fac thanh to\\u00e1n m\\u00ecnh ngh\\u0129 trong \\u0111\\u1ea7u t\\u00fai r\\u1ebb v\\u1eady mua th\\u1eed d\\u00f9ng t\\u1ea1m th\\u00f4i ch\\u1ee9 k h\\u1ec1 ngh\\u0129 khi nh\\u1eadn \\u0111\\u01b0\\u1ee3c h\\u00e0ng l\\u1ea1i c\\u1ea3m th\\u1ea5y ok \\u0111\\u1ebfn nh\\u01b0 v\\u1eady c\\u00e1c s\\u1ea3n ph\\u1ea9m kh\\u00e1c m\\u00ecnh kh\\u00f4ng bi\\u1ebft nh\\u01b0 n\\u00e0o nh\\u01b0ng khi nh\\u1eadn \\u0111c t\\u00fai \\u0111eo ch\\u00e9o n\\u00e0y m\\u00ecnh th\\u1ea5y h\\u00e0i l\\u00f2ng ch\\u1ea5t li\\u1ec7u ok ch\\u1eafc ch\\u1eafn v\\u00e0 \\u0111eo r\\u1ea5t h\\u1ee3p \\u0111\\u1ebfn c\\u1ea3 \\u00f4ng anh zai kh\\u00f3 t\\u00ednh c\\u1ee7a m\\u00ecnh c\\u00f2n n\\u00f3i l\\u00e0 ch\\u1ea5t \\u0111\\u01b0\\u1ee3c \\u0111\\u1ea5y n\\u00f3i chung l\\u00e0 qu\\u00e1 h\\u00e0i l\\u00f2ng \\u0111i\"],\n [{\n            'v': 5,\n            'f': \"5\",\n        },\n\"san pham tui cheo  hang duoc dong goi rat ky luong giao hang cung nhanh nua ve san pham thi minh rat ung y\"],\n [{\n            'v': 5,\n            'f': \"5\",\n        },\n\"t\\u1ed1t  sp \\u0111\\u1eb9p \\u0111\\u00fang nh\\u01b0 h\\u00ecnh m\\u00ecnh r\\u1ea5t h\\u00e0i l\\u00f2ng\"],\n [{\n            'v': 5,\n            'f': \"5\",\n        },\n\"r\\u1ea5t \\u0111\\u1eb9p  r\\u1ea5t l\\u00e0 \\u01b0ng \\u00fd \\u1ea1\"],\n [{\n            'v': 1,\n            'f': \"1\",\n        },\n\"t\\u00fai x\\u1ea5u\"],\n [{\n            'v': 5,\n            'f': \"5\",\n        },\n\"ha\\u0300i lo\\u0300g  re\\u0309 \\u0111e\\u0323p\"],\n [{\n            'v': 4,\n            'f': \"4\",\n        },\n\"\\u0111\\u01b0\\u1ee3c  minh moi nhan hang hom warat hai long ve gia ca va san pham\"],\n [{\n            'v': 4,\n            'f': \"4\",\n        },\n\"chi  m\\u00ecnh th\\u00edch t\\u00fai n\\u00e0y v\\u00ec v\\u1edbi gi\\u00e1 ti\\u1ec1n \\u0111\\u1ec3 mua \\u0111\\u01b0\\u1ee3c t\\u00fai da m\\u1ec1m v\\u00e0 m\\u00e0u s\\u1eafc gi\\u1ed1ng h\\u00ecnh th\\u00ec r\\u1ea5t h\\u00e0i l\\u00f2ng m\\u00ecnh c\\u0169ng th\\u00edch s\\u1ef1 nhanh ch\\u00f3ng c\\u1ee7a vi\\u1ec7c giao h\\u00e0ng lazada c\\u00e1m \\u01a1n\"],\n [{\n            'v': 4,\n            'f': \"4\",\n        },\n\"\\u0111\\u1eb9p giao h\\u00e0ng nhanh  nh\\u1eadn \\u0111c sp nhanh h\\u00e0ng \\u0111\\u1eb9p to h\\u01a1n so v\\u1edbi t\\u01b0\\u1edfng t\\u01b0\\u1ee3ng da m\\u1ec1m \\u0111\\u01b0\\u1eddng may ch\\u1eafc m\\u00e0u da h\\u01a1i nh\\u1ea1t so v\\u1edbi h\\u00ecnh\"],\n [{\n            'v': 5,\n            'f': \"5\",\n        },\n\"n\\u0103m sao  giao hang nhanh sp r\\u00e2\\u0301t ung y b\\u00ea\\u0300n trong r\\u00e2\\u0301t \\u0111e\\u0323p \\u0111uong chi chac chan\"],\n [{\n            'v': 3,\n            'f': \"3\",\n        },\n\"r\\u1ea5t t\\u1ed1t  t\\u00fai gi\\u1ed1ng y h\\u00ecnh ch\\u1ea5t l\\u01b0\\u1ee3ng c\\u0169ng r\\u1ea5t t\\u1ed1t m\\u00ecnh r\\u1ea5t h\\u00e0i l\\u00f2ng\"],\n [{\n            'v': 5,\n            'f': \"5\",\n        },\n\"t\\u00fai \\u0111\\u1eb9p r\\u1ea5t h\\u00e0i l\\u00f2ng\"],\n [{\n            'v': 2,\n            'f': \"2\",\n        },\n\"m\\u1edbi nh\\u1eadn h\\u00e0ng xong gi\\u1edd c\\u00f2n 70000 tiec wa\"],\n [{\n            'v': 5,\n            'f': \"5\",\n        },\n\"n\\u0103m sao  h\\u00e0i l\\u00f2ng s\\u1ea3n ph\\u1ea9m\"],\n [{\n            'v': 3,\n            'f': \"3\",\n        },\n\"anh  ba sao  binh thuong\"],\n [{\n            'v': 5,\n            'f': \"5\",\n        },\n\"s\\u1ea3n ph\\u1ea9m \\u0111\\u1eb9p gi\\u1ed1ng v\\u1edbi m\\u00f4 t\\u1ea3  ch\\u1ea5t l\\u01b0\\u1ee3ng t\\u1ed1t so v\\u1edbi t\\u1ea7m gi\\u00e1 n\\u00e0y thank lazada l\\u00e0m qu\\u00e0 t\\u1eb7ng r\\u1ea5t \\u00fd ngh\\u0129a\"],\n [{\n            'v': 5,\n            'f': \"5\",\n        },\n\"t\\u00fai r\\u1ebb \\u0111\\u1eb9p  t\\u00fai \\u0111\\u1eb9p ch\\u1eafc ch\\u1eafn d\\u00e0y d\\u1eb7n k\\u00edch th\\u01b0\\u1edbc v\\u1eeba ph\\u1ea3i ti\\u1ec7n d\\u1ee5ng cho m\\u00ecnh khi \\u0111i shopping\"],\n [{\n            'v': 4,\n            'f': \"4\",\n        },\n\"b\\u1ed1n sao  h\\u00e0i l\\u00f2ng v\\u1ec1 sp\"],\n [{\n            'v': 5,\n            'f': \"5\",\n        },\n\"good  good\"],\n [{\n            'v': 5,\n            'f': \"5\",\n        },\n\"s\\u1ea3n ph\\u1ea9m \\u0111\\u00fang m\\u00f4 t\\u1ea3 giao h\\u00e0ng nhanh gi\\u00e1 t\\u1ed1t  s\\u1ea3n ph\\u1ea9m r\\u1ea5t \\u0111\\u00fang mong \\u0111\\u1ee3i gi\\u00e1 t\\u1ed1t lazada c\\u1ea7n c\\u00f3 th\\u00eam nhi\\u1ec1u m\\u1eb7t h\\u00e0ng nh\\u01b0 v\\u1eady\"],\n [{\n            'v': 3,\n            'f': \"3\",\n        },\n\"chi  duoc thoi chua nh\\u01b0 mong mu\\u1ed1n\"],\n [{\n            'v': 5,\n            'f': \"5\",\n        },\n\"tuy\\u1ec7t v\\u1eddi  s\\u1ea3n ph\\u1ea9m nh\\u01b0 m\\u00f4 t\\u1ea3 h\\u00e0ng ch\\u1ea5t l\\u01b0\\u1ee3ng hi v\\u1ecdng shop s\\u1ebd lu\\u00f4n ph\\u1ee5c v\\u1ee5 v\\u00e0 \\u0111\\u00e1p \\u1ee9ng t\\u1ed1t nhu c\\u1ea7u ch\\u1ea5t l\\u01b0\\u1ee3ng c\\u1ee7a m\\u1ed7i s\\u1ea3n ph\\u1ea9m h\\u00e0ng gi\\u00e1 ph\\u1ea3i ch\\u0103ng t\\u00f4i r\\u1ea5t h\\u00e0i l\\u00f2ng v\\u1ec1 s\\u1ea3n ph\\u1ea9m\"],\n [{\n            'v': 5,\n            'f': \"5\",\n        },\n\"n\\u0103m sao  sp r\\u1ea5t \\u0111\\u1eb9p\"],\n [{\n            'v': 5,\n            'f': \"5\",\n        },\n\"hai long ve sp va dich vu cua lazada  tui xach dep gia re giao hang nhanh cam on lazada\"],\n [{\n            'v': 5,\n            'f': \"5\",\n        },\n\"n\\u0103m sao  h\\u00e0ng \\u0111\\u1eb9p r\\u1ea5t h\\u00e0i l\\u00f2ng\"],\n [{\n            'v': 4,\n            'f': \"4\",\n        },\n\"dep  dep\"],\n [{\n            'v': 5,\n            'f': \"5\",\n        },\n\"h\\u00e0i l\\u00f2ng  s\\u1ea3n ph\\u1ea9m \\u0111\\u00fang nh\\u01b0 h\\u00ecnh m\\u1eabu da m\\u1ec1m ki\\u1ec3u d\\u00e1ng \\u0111\\u1eb9p r\\u1ea5t n\\u00ean mua\"],\n [{\n            'v': 1,\n            'f': \"1\",\n        },\n\"t\\u00fai m\\u1ecfng d\\u1edfm n\\u00ean r\\u1ebb th\\u00edch h\\u1ee3p cho m\\u1ea5y b\\u1ea1n nh\\u1ecf \\u0111\\u1ef1ng b\\u00fat vi\\u1ebft\"],\n [{\n            'v': 5,\n            'f': \"5\",\n        },\n\"tuy\\u1ec7t v\\u1eddi  m\\u00ecnh v\\u00e0 b\\u1ea1n mua 3 c\\u00e1i h\\u00e0ng \\u0111\\u1eb9p \\u0111\\u01b0\\u1eddng ch\\u1ec9 \\u0111\\u1eb9p da m\\u1ec1m giao \\u0111\\u00fang h\\u1eb9n n\\u00f3i chung ok\"],\n [{\n            'v': 4,\n            'f': \"4\",\n        },\n\"r\\u1ea5t h\\u00e0i l\\u00f2ng  giao h\\u00e0ng \\u0111\\u00fang h\\u1eb9n m\\u00ecnh h\\u00e0i l\\u00f2ng v\\u1edbi d\\u1ecbch v\\u1ee5 t\\u00fai \\u0111eo nh\\u1eadn \\u0111\\u01b0\\u1ee3c gi\\u1ed1ng m\\u1eabu r\\u1ea5t \\u0111\\u1eb9p ki\\u1ec3u d\\u00e1ng \\u0111\\u1ed9c \\u0111\\u00e1o m\\u00ecnh r\\u1ea5t h\\u00e0i l\\u00f2ng v\\u1edbi s\\u1ea3n ph\\u1ea9m n\\u00e0y\"],\n [{\n            'v': 5,\n            'f': \"5\",\n        },\n\"\\u0111\\u1eb9p v\\u00e0 r\\u1ebb\"],\n [{\n            'v': 3,\n            'f': \"3\",\n        },\n\"ba sao  ok\"],\n [{\n            'v': 4,\n            'f': \"4\",\n        },\n\"t\\u1ed1t da d\\u00e0y \\u0111\\u1eb9p gi\\u1ed1ng trong h\\u00ecnh\"],\n [{\n            'v': 3,\n            'f': \"3\",\n        },\n\"ba sao  nh\\u00ecn th\\u1ea5y \\u1ed5n nh\\u01b0ng n\\u1eef s\\u1eed d\\u1ee5ng ti\\u1ec7n l\\u1ee3i h\\u01a1n\"],\n [{\n            'v': 1,\n            'f': \"1\",\n        },\n\"ch\\u1ea5t li\\u1ec7u ko gi\\u1ed1ng \\u1ea3nh ch\\u1ea5t li\\u1ec7u l\\u00e0 v\\u1ea3i da l\\u1ed9n nh\\u00ecn ko \\u0111\\u1eb9p ch\\u00fat n\\u00e0o\"],\n [{\n            'v': 5,\n            'f': \"5\",\n        },\n\"\\u0111\\u1eb9p gi\\u00e1 \\u1ed5n  r\\u1ea5t t\\u1ed1t khi nh\\u1eadn sp v\\u1eeba \\u00fd mong r\\u1eb1ng time s\\u1eed d\\u1ee5ng l\\u00e2u d\\u00e0i\"],\n [{\n            'v': 4,\n            'f': \"4\",\n        },\n\"ok  theo nx c\\u1ee7a m\\u00ecnh b\\u1ec1 ngo\\u00e0i ok l\\u00f2ng trong h\\u01a1i h\\u1eb9p kh\\u00f4ng r\\u1ed9ng r\\u00e3i nh\\u01b0 m\\u00ecnh ngh\\u0129 c\\u00f2n v\\u1ec1 ch\\u1ea5t l\\u01b0\\u1ee3ng l\\u00e2u d\\u00e0i m\\u1edbi bi\\u1ebft v\\u00ec m\\u00ecnh \\u0111\\u00e3 t\\u1eebng s\\u1eed d\\u1ee5ng t\\u00fai lata m\\u1ed9t l\\u1ea7n b\\u1ecb tr\\u00f3c keo t\\u00f9m lum t\\u1eb7ng ox m\\u00e0 nghe ch\\u00ea qu\\u00ea h\\u1ebft s\\u1ee9c\"],\n [{\n            'v': 5,\n            'f': \"5\",\n        },\n\"t\\u1ed1t  da m\\u1ec1m t\\u00fai \\u0111\\u1eb9p m\\u1eabu m\\u00e3 gi\\u1ed1ng h\\u00ecnh\"],\n [{\n            'v': 3,\n            'f': \"3\",\n        },\n\"ba sao  ph\\u00f9 h\\u1ee3p cho teen da t\\u1ed1t\"],\n [{\n            'v': 5,\n            'f': \"5\",\n        },\n\"h\\u00e0ng t\\u1ed1t  ch\\u1ea5t l\\u01b0\\u1ee3ng c\\u1ef1c k\\u1ef3 t\\u1ed1t so vs gi\\u00e1 ti\\u1ec1n ch\\u1ea5t li\\u1ec7u \\u0111\\u1eb9p \\u0111\\u01b0\\u1eddng may ch\\u1eafc ch\\u1eafn\"],\n [{\n            'v': 5,\n            'f': \"5\",\n        },\n\"\\u0111o\\u00e0n ch\\u1ea5t l\\u01b0\\u1ee3ng t\\u1ed1t  sp \\u0111\\u00fang h\\u00e3ng gi\\u00e1 r\\u1ebb h\\u01a1n r\\u1ea5t nhi\\u1ec1u so v\\u1edbi c\\u1eeda h\\u00e0ng nh\\u01b0ng v\\u1eabn \\u0111\\u01b0\\u1ee3c b\\u1ea3o h\\u00e0nh da \\u0111\\u1eb9p\"],\n [{\n            'v': 5,\n            'f': \"5\",\n        },\n\"ok \\u0111\\u1eb9p\"],\n [{\n            'v': 3,\n            'f': \"3\",\n        },\n\"tui dep\"],\n [{\n            'v': 5,\n            'f': \"5\",\n        },\n\"n\\u0103m sao  tuy\\u1ec7t v\\u1eddi h\\u01a1n c\\u1ea3 mong \\u0111\\u1ee3i c\\u00e1m \\u01a1n shop\"],\n [{\n            'v': 5,\n            'f': \"5\",\n        },\n\"\\u0111\\u1eb9p  t\\u00fai da \\u0111\\u1eb9p d\\u00e0y d\\u1eb7n m\\u00ecnh r\\u1ea5t th\\u00edch\"],\n [{\n            'v': 4,\n            'f': \"4\",\n        },\n\"v\\u1edbi gi\\u00e1 \\u0111\\u00f3 th\\u00ec s\\u1ea3n ph\\u1ea9m ok\"],\n [{\n            'v': 4,\n            'f': \"4\",\n        },\n\"h\\u00e0i l\\u00f2ng  \\u0111\\u1eb9p h\\u00e0i l\\u00f2ng v\\u1edbi chi\\u1ebfc m\\u1eabu m\\u00e3 nh\\u01b0 m\\u00ecnh \\u0111\\u00e3 xem tr\\u00ean h\\u00ecnh r\\u1ea5t gi\\u1ed1ng b\\u00ean trong c\\u00f3 nhi\\u1ec1u ng\\u0103n nh\\u1ecf \\u0111\\u1ef1ng d\\u1ee5ng c\\u1ee5 \\u0111i\\u1ec7n tho\\u1ea1i ch\\u1ebf \\u0111\\u1ed9 b\\u1ea3o h\\u00e0nh l\\u00e0m m\\u00ecnh y\\u00ean t\\u00e2m gi\\u00e1 chi\\u1ebfc t\\u00fai c\\u0169ng kh\\u00e1 l\\u00e0 h\\u1ee3p l\\u00fd c\\u1ea3m \\u01a1n lazada\"],\n [{\n            'v': 1,\n            'f': \"1\",\n        },\n\"nh\\u1ea3m nh\\u00ed  h\\u00e0ng gi\\u00e1 r\\u1ebb ghi th\\u00f4ng tin k n\\u00f3i ch\\u1ea5t g\\u00ec v\\u1edbi gi\\u00e1 nh\\u01b0 v\\u1eady ch\\u1ec9 c\\u00f3 ch\\u1ea5t pu d\\u00f9ng v\\u00e0i h\\u00f4m h\\u1ecfng mua cho ph\\u00ed ti\\u1ec1n\"],\n [{\n            'v': 5,\n            'f': \"5\",\n        },\n\"ok l\\u1eafm  gi\\u1ed1ng nh\\u01b0 m\\u00f4 t\\u1ea3 ch\\u1ea5t l\\u01b0\\u1ee3ng t\\u1ed1t da r\\u1ea5t t\\u1ed1t\"],\n [{\n            'v': 5,\n            'f': \"5\",\n        },\n\"t\\u1ed1t  s\\u1ea3n ph\\u1ea9m nh\\u01b0 h\\u00ecnh\"],\n [{\n            'v': 5,\n            'f': \"5\",\n        },\n\"r\\u1ea5t \\u0111\\u1eb9p  s\\u1ea3n ph\\u1ea9m gi\\u1ed1ng h\\u00ecnh da \\u0111\\u1eb9p \\u0111\\u01b0\\u1eddng ch\\u1ec9 may ch\\u1eafc ch\\u1eafn b\\u00ean trong l\\u00f3t l\\u1edbp v\\u1ea3i nhung r\\u1ea5t \\u0111\\u1eb9p nh\\u1eadn s\\u1ea3n ph\\u1ea9m xong m\\u00ecnh r\\u1ea5t h\\u00e0i l\\u00f2ng v\\u00e0 b\\u1ea1n b\\u00e8 \\u0111\\u1ed3ng nghi\\u1ec7p \\u0111\\u00e3 nh\\u1edd m\\u00ecnh mua \\u0111\\u1ebfn 5 c\\u00e1i n\\u1eefa mua c\\u1ea3 3 m\\u00e0u lu\\u00f4n sau khi m\\u00ecnh mua sp n\\u00e0y th\\u00ec b\\u1ea1n m\\u00ecnh \\u0111\\u00e3 t\\u00ecm \\u0111\\u1ebfn lazada \\u0111\\u1ec3 mua h\\u00e0ng r\\u1ea5t nhi\\u1ec1u\"],\n [{\n            'v': 5,\n            'f': \"5\",\n        },\n\"n\\u0103m sao  s\\u1ea3n ph\\u1ea9m t\\u1ed1t so v\\u1edbi gi\\u00e1\"],\n [{\n            'v': 4,\n            'f': \"4\",\n        },\n\"b\\u1ed1n sao  m\\u1eabu m\\u00e3 h\\u00e0ng nh\\u01b0 h\\u00ecnh giao h\\u00e0ng nhanh ch\\u00f3ng ch\\u1ea5t da \\u0111\\u1eb9p gi\\u00e1 v\\u1eeba t\\u00fai ti\\u1ec1n\"],\n [{\n            'v': 5,\n            'f': \"5\",\n        },\n\"n\\u0103m sao\"],\n [{\n            'v': 5,\n            'f': \"5\",\n        },\n\"t\\u1ed1t t\\u00f4i r\\u1ea5t h\\u00e0i l\\u00f2ng  s\\u1ea3n ph\\u1ea9m \\u0111\\u1eb9p da t\\u1ed1t lazada ph\\u1ee5c v\\u1ee5 r\\u1ea5t t\\u1eadn t\\u00ecnh giao h\\u00e0ng nhanh c\\u1ea3m \\u01a1n nh\\u00e2n vi\\u00ean giao h\\u00e0ng nh\\u00e9 r\\u1ea5t nhi\\u1ec7t t\\u00ecnh\"],\n [{\n            'v': 2,\n            'f': \"2\",\n        },\n\"hai sao  khi mua c\\u00e1i t\\u00fai n\\u00e0y \\u0111\\u1ea7u ti\\u00ean cho ch\\u1ecb hai m\\u00ecnh th\\u1ea5y r\\u1ea5t \\u0111\\u1eb9p n\\u00ean 1 n\\u0103m sau m\\u00ecnh \\u0111\\u1eb7t th\\u00eam 1 c\\u00e1i n\\u1eefa nh\\u01b0ng c\\u00e1i th\\u1ee9 2 m\\u00ecnh nh\\u1eadn \\u0111\\u01b0\\u1ee3c k\\u00e9m xa c\\u00e1i \\u0111\\u1ea7u ti\\u00ean m\\u00ecnh mua da th\\u00ec nh\\u0103n \\u0111\\u01b0\\u1eddng may th\\u00f4 kh\\u00f4ng c\\u00f2n \\u0111\\u1eb9p nh\\u01b0 tr\\u01b0\\u1edbc k\\u00edch th\\u01b0\\u1edbc c\\u0169ng kh\\u00e1c nhau c\\u00e1i t\\u00fai mua sau l\\u1ea1i tr\\u00f4ng c\\u0169 h\\u01a1n c\\u1ea3 c\\u00e1i t\\u00fai tr\\u01b0\\u1edbc m\\u00ecnh r\\u1ea5t th\\u1ea5t v\\u1ecdng\"],\n [{\n            'v': 5,\n            'f': \"5\",\n        },\n\"h\\u00e0i l\\u00f2ng  k\\u00edch th\\u01b0\\u1edbc v\\u1eeba ph\\u1ea3i d\\u00e2y \\u0111eo ch\\u1eafc ch\\u1eafn v\\u1ea3i l\\u00f3t d\\u00e0y v\\u00e0 \\u00eam gi\\u00e1 th\\u00ec qu\\u00e1 l\\u00e0 h\\u1ea1t d\\u1ebb n\\u00f3i chung l\\u00e0 qu\\u00e1 h\\u00e0i l\\u00f2ng c\\u00e1m \\u01a1n lazada\"],\n [{\n            'v': 4,\n            'f': \"4\",\n        },\n\"b\\u1ed1n sao  sp c\\u0169ng \\u0111c nh\\u01b0ng nh\\u00ecn th\\u00f4 qu\\u00e1 hok k\\u1ef9 v\\u00e0 \\u0111\\u1eb9p nh\\u01b0ng so v\\u1edbi gi\\u00e1 ti\\u1ec1n th\\u00ec sd \\u0111c\"],\n [{\n            'v': 1,\n            'f': \"1\",\n        },\n\"nh\\u0103n nheo x\\u1ea5u kh\\u00f4ng nh\\u01b0 \\u00fd h\\u01a1i th\\u1ea5t v\\u1ecdng x\\u1ea5u\"],\n [{\n            'v': 5,\n            'f': \"5\",\n        },\n\"r\\u1ea5t h\\u00e0i l\\u00f2ng  h\\u00ecnh sao h\\u00e0ng v\\u1eady tks lazada nhi\\u1ec1u\"],\n [{\n            'v': 4,\n            'f': \"4\",\n        },\n\"b\\u1ed1n sao  da r\\u1ea5t m\\u1ec1m m\\u00ecnh r\\u1ea5t th\\u00edch c\\u00e1i gi\\u1ecf x\\u00e1ch n\\u00e0y c\\u1ea3m \\u01a1n lazada\"],\n [{\n            'v': 5,\n            'f': \"5\",\n        },\n\"n\\u0103m sao  s\\u1ea3n ph\\u1ea9m b\\u00ean ngo\\u00e0i \\u0111\\u1eb9p h\\u01a1n trong h\\u00ecnh\"],\n [{\n            'v': 5,\n            'f': \"5\",\n        },\n\"n\\u0103m sao  t\\u00f4i h\\u00e0i l\\u00f2ng\"],\n [{\n            'v': 2,\n            'f': \"2\",\n        },\n\"hai sao  tui nho so voi hinh tam duoc\"],\n [{\n            'v': 5,\n            'f': \"5\",\n        },\n\"t\\u00fai lata  t\\u00fai d\\u00e0y ch\\u1ec9 may ch\\u1eafc ch\\u1eafn giao h\\u00e0ng \\u0111\\u00fang ng\\u00e0y h\\u00e0i l\\u00f2ng v\\u1edbi s\\u1ea3n ph\\u1ea9m\"],\n [{\n            'v': 4,\n            'f': \"4\",\n        },\n\"gi\\u00e1 t\\u1ed1t tr\\u01b0\\u1edbc t\\u00fai c\\u00f3 ch\\u1ea5t l\\u01b0\\u1ee3ng t\\u1ed1t so v\\u1edbi \\u0111\\u01a1n gi\\u00e1 99k tuy nhi\\u00ean m\\u00f9i da v\\u1eabn c\\u00f2n n\\u1ed3ng \\u0111\\u01b0\\u1eddng may c\\u00f3 m\\u0169i kim h\\u01a1i d\\u00e0i\"],\n [{\n            'v': 5,\n            'f': \"5\",\n        },\n\"n\\u0103m sao  t\\u00fai da b\\u00f2 nh\\u1ea1t n\\u00e0y \\u0111\\u1eb9p h\\u01a1n c\\u00e1i m\\u00e0u \\u0111\\u1eadm \\u0111\\u1ee3t r\\u1ed3i m\\u00ecnh mua \\u0111\\u00f3 m\\u00e0 s\\u1eed d\\u1ee5ng t\\u1ed1t n\\u00ean mua th\\u00eam cho em m\\u00ecnh m\\u1ed9t c\\u00e1i \\u0111\\u1ec3 d\\u00f9ng n\\u00f3i chung c\\u0169ng \\u0111\\u01b0\\u1ee3c x\\u00e0i t\\u1ed1t\"],\n [{\n            'v': 3,\n            'f': \"3\",\n        },\n\"t\\u00fai nh\\u00ecn tr\\u00f4ng th\\u00f4 nh\\u1ecf h\\u01a1n t\\u00ed n\\u1eefa th\\u00ec \\u0111\\u1eb9p\"],\n [{\n            'v': 5,\n            'f': \"5\",\n        },\n\"h\\u00e0ng t\\u1ed1t  v\\u1edbi gi\\u00e1 n\\u00e0y th\\u00ec l\\u00e0 qu\\u00e1 t\\u1ed1t t\\u00fai ho\\u00e0n thi\\u1ec7n c\\u0169ng \\u0111\\u1eb9p \\u0111\\u01b0\\u1eddng may ch\\u1eafc ch\\u1eafn\"],\n [{\n            'v': 5,\n            'f': \"5\",\n        },\n\"so dep  so dep duong chi may chac chan\"],\n [{\n            'v': 5,\n            'f': \"5\",\n        },\n\"r\\u1ea5t r\\u1ebb  r\\u1ea5t t\\u1ed1t\"],\n [{\n            'v': 5,\n            'f': \"5\",\n        },\n\"n\\u0103m sao  t\\u00fai \\u0111\\u1eb9p gi\\u1ed1ng h\\u00ecnh m\\u00ecnh th\\u00edch c\\u00e1i v\\u00ed qu\\u00e0 t\\u1eb7ng h\\u01a1n c\\u1ea3m \\u01a1n lazada nhe\"],\n [{\n            'v': 5,\n            'f': \"5\",\n        },\n\"hang y hinh  ok\"],\n [{\n            'v': 5,\n            'f': \"5\",\n        },\n\"n\\u0103m sao  t\\u00f4i h\\u00e0i l\\u00f2ng\"],\n [{\n            'v': 5,\n            'f': \"5\",\n        },\n\"tot  tot\"],\n [{\n            'v': 5,\n            'f': \"5\",\n        },\n\"h\\u00e0ng ok  t\\u00fai \\u0111\\u1eb9p giao h\\u00e0ng nhanh nh\\u00e2n vi\\u00ean nhi\\u1ec7t t\\u00ecnh m\\u00ecnh s\\u1ebd ti\\u1ebfp t\\u1ee5c \\u1ee7ng h\\u1ed9\"],\n [{\n            'v': 5,\n            'f': \"5\",\n        },\n\"n\\u0103m sao  t\\u00fai n\\u00e0y \\u0111eo g\\u1ecdn g\\u00e0ng m\\u00e0 ti\\u1ec7n l\\u1ee3i l\\u1eafm \\u0111\\u1ef1ng \\u0111\\u01b0\\u1ee3c nhi\\u1ec1u m\\u00f3n \\u0111\\u1ed3 c\\u1ea7n thi\\u1ebft h\\u1eb1ng ng\\u00e0y \\u0111\\u1ec3 mang \\u0111i m\\u00e0 l\\u1ea5y ra b\\u1ecf v\\u00f4 \\u0111\\u1ec1u r\\u1ea5t l\\u00e0 nhanh \\u0111\\u00e3 v\\u1eady c\\u00f2n \\u0111\\u01b0\\u1ee3c t\\u1eb7ng v\\u00ed c\\u1ea7m tay n\\u1eef c\\u1ea3 2 c\\u00e1i \\u0111\\u1ec1u d\\u00f9ng r\\u1ea5t l\\u00e0 ok\"],\n [{\n            'v': 5,\n            'f': \"5\",\n        },\n\"t\\u00fai \\u0111\\u1eb9p da d\\u00e0y d\\u1eb7n qu\\u00e1 t\\u1ed1t so v\\u1edbi gi\\u00e1\"],\n [{\n            'v': 5,\n            'f': \"5\",\n        },\n\"n\\u0103m sao 1 n\\u0103m tr\\u01b0\\u1edbc r\\u1ea5t h\\u00e0i l\\u00f2ng sp gi\\u1ed1ng h\\u00ecnh giao h\\u00e0ng nhanh gi\\u00e1 h\\u1ee3p l\\u00fd r\\u1ea5t ok\"],\n [{\n            'v': 5,\n            'f': \"5\",\n        },\n\"r\\u1ebb \\u0111\\u1eb9p  da m\\u1ec1m m\\u1eabu m\\u00e3 nh\\u01b0 h\\u00ecnh \\u0111\\u01b0\\u1eddng may ok gi\\u00e1 r\\u1ebb\"],\n [{\n            'v': 5,\n            'f': \"5\",\n        },\n\"good\"],\n [{\n            'v': 3,\n            'f': \"3\",\n        },\n\"sp t\\u1ea1m \\u0111c\"],\n [{\n            'v': 5,\n            'f': \"5\",\n        },\n\"n\\u0103m sao  r\\u1ea5t \\u0111\\u1eb9p\"],\n [{\n            'v': 3,\n            'f': \"3\",\n        },\n\"m\\u00e0u da x\\u1ea5u h\\u01a1n trong h\\u00ecnh ch\\u1ea5t da kh\\u00e1 \\u1ed5n\"],\n [{\n            'v': 5,\n            'f': \"5\",\n        },\n\"n\\u0103m sao  s\\u1ea3n ph\\u1ea9m gi\\u1ed1ng h\\u00ecnh ch\\u1ea5t li\\u1ec7u da v\\u00e0 \\u0111\\u01b0\\u1eddng may ok t\\u00f4i th\\u1eadt s\\u1ef1 r\\u1ea5t h\\u00e0i l\\u00f2ng v\\u1edbi s\\u1ea3n ph\\u1ea9m c\\u1ee7a lata\"],\n [{\n            'v': 5,\n            'f': \"5\",\n        },\n\"chat luong tot\"],\n [{\n            'v': 5,\n            'f': \"5\",\n        },\n\"n\\u0103m sao  t\\u00fai y h\\u00ecnh\\u0111a m\\u1ec1m h\\u1ee3p t\\u00fai ti\\u1ec1n giao h\\u00e0ng nhanh \\u1ee7ng h\\u1ed9 lazada\"],\n [{\n            'v': 5,\n            'f': \"5\",\n        },\n\"r\\u1ebb \\u0111\\u1eb9p  m\\u00ecnh mua \\u0111\\u00fang h\\u00f4m gi\\u1ea3m c\\u00f2n 99k nay nh\\u1eadn h\\u00e0ng r\\u1ea5t l\\u00e0 \\u01b0ng lu\\u00f4n \\u00fd\"],\n [{\n            'v': 4,\n            'f': \"4\",\n        },\n\"s\\u1ea3n ph\\u1ea9m t\\u1ed1t  s\\u1ea3n ph\\u1ea9m t\\u1ed1t\"],\n [{\n            'v': 4,\n            'f': \"4\",\n        },\n\"\\u0111\\u00e1nh gi\\u00e1 s\\u1ea3n ph\\u1ea9m  nh\\u00ecn chung th\\u00ec lazada c\\u0169ng n\\u1ed5i ti\\u1ebfng t\\u1eeb l\\u00e2u r m\\u00ecnh c\\u1ea3m th\\u1ea5y y\\u00ean t\\u00e2m khi mua h\\u00e0ng v\\u1ec1 ph\\u1ea7n s\\u1ea3n ph\\u1ea9m th\\u00ec ok h\\u00e0ng y h\\u00ecnh ch\\u1ea5t l\\u01b0\\u1ee3ng t\\u1ed1t mong r\\u1eb1ng cty ti\\u1ebfp t\\u1ee5c pt\"]],\n        columns: [[\"number\", \"label\"], [\"string\", \"combine\"]],\n        columnOptions: [],\n        rowsPerPage: 10,\n        helpUrl: \"https://colab.research.google.com/notebooks/data_table.ipynb\",\n        suppressOutputScrolling: true,\n        minimumWidth: undefined,\n      });\n    ",
            "text/plain": [
              "<google.colab.data_table.DataTable object>"
            ]
          },
          "metadata": {},
          "execution_count": 29
        }
      ],
      "source": [
        "from google.colab import data_table\n",
        "data_table.DataTable(data_embedding, include_index=False, num_rows_per_page=10)"
      ]
    },
    {
      "cell_type": "markdown",
      "source": [
        "# Preprocessing"
      ],
      "metadata": {
        "id": "RkkXkiXCac37"
      }
    },
    {
      "cell_type": "code",
      "source": [
        "!pip install underthesea"
      ],
      "metadata": {
        "colab": {
          "base_uri": "https://localhost:8080/"
        },
        "id": "nyjnTQylabya",
        "outputId": "9361007d-daf7-482c-e67a-611a1275f56d"
      },
      "execution_count": null,
      "outputs": [
        {
          "output_type": "stream",
          "name": "stdout",
          "text": [
            "Looking in indexes: https://pypi.org/simple, https://us-python.pkg.dev/colab-wheels/public/simple/\n",
            "Collecting underthesea\n",
            "  Downloading underthesea-1.3.4-py3-none-any.whl (7.6 MB)\n",
            "\u001b[K     |████████████████████████████████| 7.6 MB 10.9 MB/s \n",
            "\u001b[?25hRequirement already satisfied: scikit-learn in /usr/local/lib/python3.7/dist-packages (from underthesea) (1.0.2)\n",
            "Collecting underthesea-core==0.0.4_alpha.10\n",
            "  Downloading underthesea_core-0.0.4_alpha.10-cp37-cp37m-manylinux2010_x86_64.whl (581 kB)\n",
            "\u001b[K     |████████████████████████████████| 581 kB 40.5 MB/s \n",
            "\u001b[?25hRequirement already satisfied: tqdm in /usr/local/lib/python3.7/dist-packages (from underthesea) (4.64.0)\n",
            "Collecting unidecode\n",
            "  Downloading Unidecode-1.3.4-py3-none-any.whl (235 kB)\n",
            "\u001b[K     |████████████████████████████████| 235 kB 48.6 MB/s \n",
            "\u001b[?25hRequirement already satisfied: python-crfsuite>=0.9.6 in /usr/local/lib/python3.7/dist-packages (from underthesea) (0.9.8)\n",
            "Requirement already satisfied: requests in /usr/local/lib/python3.7/dist-packages (from underthesea) (2.23.0)\n",
            "Requirement already satisfied: PyYAML in /usr/local/lib/python3.7/dist-packages (from underthesea) (6.0)\n",
            "Requirement already satisfied: joblib in /usr/local/lib/python3.7/dist-packages (from underthesea) (1.1.0)\n",
            "Requirement already satisfied: nltk in /usr/local/lib/python3.7/dist-packages (from underthesea) (3.7)\n",
            "Requirement already satisfied: Click>=6.0 in /usr/local/lib/python3.7/dist-packages (from underthesea) (7.1.2)\n",
            "Requirement already satisfied: regex>=2021.8.3 in /usr/local/lib/python3.7/dist-packages (from nltk->underthesea) (2022.6.2)\n",
            "Requirement already satisfied: idna<3,>=2.5 in /usr/local/lib/python3.7/dist-packages (from requests->underthesea) (2.10)\n",
            "Requirement already satisfied: certifi>=2017.4.17 in /usr/local/lib/python3.7/dist-packages (from requests->underthesea) (2022.6.15)\n",
            "Requirement already satisfied: chardet<4,>=3.0.2 in /usr/local/lib/python3.7/dist-packages (from requests->underthesea) (3.0.4)\n",
            "Requirement already satisfied: urllib3!=1.25.0,!=1.25.1,<1.26,>=1.21.1 in /usr/local/lib/python3.7/dist-packages (from requests->underthesea) (1.24.3)\n",
            "Requirement already satisfied: numpy>=1.14.6 in /usr/local/lib/python3.7/dist-packages (from scikit-learn->underthesea) (1.21.6)\n",
            "Requirement already satisfied: scipy>=1.1.0 in /usr/local/lib/python3.7/dist-packages (from scikit-learn->underthesea) (1.4.1)\n",
            "Requirement already satisfied: threadpoolctl>=2.0.0 in /usr/local/lib/python3.7/dist-packages (from scikit-learn->underthesea) (3.1.0)\n",
            "Installing collected packages: unidecode, underthesea-core, underthesea\n",
            "Successfully installed underthesea-1.3.4 underthesea-core-0.0.4a10 unidecode-1.3.4\n"
          ]
        }
      ]
    },
    {
      "cell_type": "code",
      "source": [
        "import regex as re\n",
        "import numpy as np\n",
        "from underthesea import ner\n",
        "from underthesea import word_tokenize"
      ],
      "metadata": {
        "id": "nvgSe04rapeO"
      },
      "execution_count": null,
      "outputs": []
    },
    {
      "cell_type": "code",
      "source": [
        "regex_vn_lowcase = '[aăâáắấàằầảẳẩãẵẫạặậđeêéếèềẻểẽễẹệiíìỉĩịoôơóốớòồờỏổởõỗỡọộợuưúứùừủửũữụựyýỳỷỹỵaăâáắấàằầảẳẩãẵẫạặậđeêéếèềẻểẽễẹệiíìỉĩịoôơóốớòồờỏổởõỗỡọộợuưúứùừủửũữụựyýỳỷỹỵaăâáắấàằầảẳẩãẵẫạặậđeêéếèềẻểẽễẹệiíìỉĩịoôơóốớòồờỏổởõỗỡọộợuưúứùừủửũữụựyýỳỷỹỵaăâáắấàằầảẳẩãẵẫạặậđeêéếèềẻểẽễẹệiíìỉĩịoôơóốớòồờỏổởõỗỡọộợuưúứùừủửũữụựyýỳỷỹỵaăâáắấàằầảẳẩãẵẫạặậđeêéếèềẻểẽễẹệiíìỉĩịoôơóốớòồờỏổởõỗỡọộợuưúứùừủửũữụựyýỳỷỹỵaăâáắấàằầảẳẩãẵẫạặậđeêéếèềẻểẽễẹệiíìỉĩịoôơóốớòồờỏổởõỗỡọộợuưúứùừủửũữụựyýỳỷỹỵa-z]'\n",
        "regex_vn_upcase = '[AĂÂÁẮẤÀẰẦẢẲẨÃẴẪẠẶẬĐEÊÉẾÈỀẺỂẼỄẸỆIÍÌỈĨỊOÔƠÓỐỚÒỒỜỎỔỞÕỖỠỌỘỢUƯÚỨÙỪỦỬŨỮỤỰYÝỲỶỸỴAĂÂÁẮẤÀẰẦẢẲẨÃẴẪẠẶẬĐEÊÉẾÈỀẺỂẼỄẸỆIÍÌỈĨỊOÔƠÓỐỚÒỒỜỎỔỞÕỖỠỌỘỢUƯÚỨÙỪỦỬŨỮỤỰYÝỲỶỸỴAĂÂÁẮẤÀẰẦẢẲẨÃẴẪẠẶẬĐEÊÉẾÈỀẺỂẼỄẸỆIÍÌỈĨỊOÔƠÓỐỚÒỒỜỎỔỞÕỖỠỌỘỢUƯÚỨÙỪỦỬŨỮỤỰYÝỲỶỸỴAĂÂÁẮẤÀẰẦẢẲẨÃẴẪẠẶẬĐEÊÉẾÈỀẺỂẼỄẸỆIÍÌỈĨỊOÔƠÓỐỚÒỒỜỎỔỞÕỖỠỌỘỢUƯÚỨÙỪỦỬŨỮỤỰYÝỲỶỸỴAĂÂÁẮẤÀẰẦẢẲẨÃẴẪẠẶẬĐEÊÉẾÈỀẺỂẼỄẸỆIÍÌỈĨỊOÔƠÓỐỚÒỒỜỎỔỞÕỖỠỌỘỢUƯÚỨÙỪỦỬŨỮỤỰYÝỲỶỸỴAĂÂÁẮẤÀẰẦẢẲẨÃẴẪẠẶẬĐEÊÉẾÈỀẺỂẼỄẸỆIÍÌỈĨỊOÔƠÓỐỚÒỒỜỎỔỞÕỖỠỌỘỢUƯÚỨÙỪỦỬŨỮỤỰYÝỲỶỸỴA-Z]'\n",
        "regex_vn = '[AĂÂÁẮẤÀẰẦẢẲẨÃẴẪẠẶẬĐEÊÉẾÈỀẺỂẼỄẸỆIÍÌỈĨỊOÔƠÓỐỚÒỒỜỎỔỞÕỖỠỌỘỢUƯÚỨÙỪỦỬŨỮỤỰYÝỲỶỸỴAĂÂÁẮẤÀẰẦẢẲẨÃẴẪẠẶẬĐEÊÉẾÈỀẺỂẼỄẸỆIÍÌỈĨỊOÔƠÓỐỚÒỒỜỎỔỞÕỖỠỌỘỢUƯÚỨÙỪỦỬŨỮỤỰYÝỲỶỸỴAĂÂÁẮẤÀẰẦẢẲẨÃẴẪẠẶẬĐEÊÉẾÈỀẺỂẼỄẸỆIÍÌỈĨỊOÔƠÓỐỚÒỒỜỎỔỞÕỖỠỌỘỢUƯÚỨÙỪỦỬŨỮỤỰYÝỲỶỸỴAĂÂÁẮẤÀẰẦẢẲẨÃẴẪẠẶẬĐEÊÉẾÈỀẺỂẼỄẸỆIÍÌỈĨỊOÔƠÓỐỚÒỒỜỎỔỞÕỖỠỌỘỢUƯÚỨÙỪỦỬŨỮỤỰYÝỲỶỸỴAĂÂÁẮẤÀẰẦẢẲẨÃẴẪẠẶẬĐEÊÉẾÈỀẺỂẼỄẸỆIÍÌỈĨỊOÔƠÓỐỚÒỒỜỎỔỞÕỖỠỌỘỢUƯÚỨÙỪỦỬŨỮỤỰYÝỲỶỸỴAĂÂÁẮẤÀẰẦẢẲẨÃẴẪẠẶẬĐEÊÉẾÈỀẺỂẼỄẸỆIÍÌỈĨỊOÔƠÓỐỚÒỒỜỎỔỞÕỖỠỌỘỢUƯÚỨÙỪỦỬŨỮỤỰYÝỲỶỸỴA-Z]*[aăâáắấàằầảẳẩãẵẫạặậđeêéếèềẻểẽễẹệiíìỉĩịoôơóốớòồờỏổởõỗỡọộợuưúứùừủửũữụựyýỳỷỹỵaăâáắấàằầảẳẩãẵẫạặậđeêéếèềẻểẽễẹệiíìỉĩịoôơóốớòồờỏổởõỗỡọộợuưúứùừủửũữụựyýỳỷỹỵaăâáắấàằầảẳẩãẵẫạặậđeêéếèềẻểẽễẹệiíìỉĩịoôơóốớòồờỏổởõỗỡọộợuưúứùừủửũữụựyýỳỷỹỵaăâáắấàằầảẳẩãẵẫạặậđeêéếèềẻểẽễẹệiíìỉĩịoôơóốớòồờỏổởõỗỡọộợuưúứùừủửũữụựyýỳỷỹỵaăâáắấàằầảẳẩãẵẫạặậđeêéếèềẻểẽễẹệiíìỉĩịoôơóốớòồờỏổởõỗỡọộợuưúứùừủửũữụựyýỳỷỹỵaăâáắấàằầảẳẩãẵẫạặậđeêéếèềẻểẽễẹệiíìỉĩịoôơóốớòồờỏổởõỗỡọộợuưúứùừủửũữụựyýỳỷỹỵa-z]+[\\-]*[0-9]*'\n",
        "regex_vn_special_characters = \"[^AĂÂÁẮẤÀẰẦẢẲẨÃẴẪẠẶẬĐEÊÉẾÈỀẺỂẼỄẸỆIÍÌỈĨỊOÔƠÓỐỚÒỒỜỎỔỞÕỖỠỌỘỢUƯÚỨÙỪỦỬŨỮỤỰYÝỲỶỸỴAĂÂÁẮẤÀẰẦẢẲẨÃẴẪẠẶẬĐEÊÉẾÈỀẺỂẼỄẸỆIÍÌỈĨỊOÔƠÓỐỚÒỒỜỎỔỞÕỖỠỌỘỢUƯÚỨÙỪỦỬŨỮỤỰYÝỲỶỸỴAĂÂÁẮẤÀẰẦẢẲẨÃẴẪẠẶẬĐEÊÉẾÈỀẺỂẼỄẸỆIÍÌỈĨỊOÔƠÓỐỚÒỒỜỎỔỞÕỖỠỌỘỢUƯÚỨÙỪỦỬŨỮỤỰYÝỲỶỸỴAĂÂÁẮẤÀẰẦẢẲẨÃẴẪẠẶẬĐEÊÉẾÈỀẺỂẼỄẸỆIÍÌỈĨỊOÔƠÓỐỚÒỒỜỎỔỞÕỖỠỌỘỢUƯÚỨÙỪỦỬŨỮỤỰYÝỲỶỸỴAĂÂÁẮẤÀẰẦẢẲẨÃẴẪẠẶẬĐEÊÉẾÈỀẺỂẼỄẸỆIÍÌỈĨỊOÔƠÓỐỚÒỒỜỎỔỞÕỖỠỌỘỢUƯÚỨÙỪỦỬŨỮỤỰYÝỲỶỸỴAĂÂÁẮẤÀẰẦẢẲẨÃẴẪẠẶẬĐEÊÉẾÈỀẺỂẼỄẸỆIÍÌỈĨỊOÔƠÓỐỚÒỒỜỎỔỞÕỖỠỌỘỢUƯÚỨÙỪỦỬŨỮỤỰYÝỲỶỸỴA-Zaăâáắấàằầảẳẩãẵẫạặậđeêéếèềẻểẽễẹệiíìỉĩịoôơóốớòồờỏổởõỗỡọộợuưúứùừủửũữụựyýỳỷỹỵaăâáắấàằầảẳẩãẵẫạặậđeêéếèềẻểẽễẹệiíìỉĩịoôơóốớòồờỏổởõỗỡọộợuưúứùừủửũữụựyýỳỷỹỵaăâáắấàằầảẳẩãẵẫạặậđeêéếèềẻểẽễẹệiíìỉĩịoôơóốớòồờỏổởõỗỡọộợuưúứùừủửũữụựyýỳỷỹỵaăâáắấàằầảẳẩãẵẫạặậđeêéếèềẻểẽễẹệiíìỉĩịoôơóốớòồờỏổởõỗỡọộợuưúứùừủửũữụựyýỳỷỹỵaăâáắấàằầảẳẩãẵẫạặậđeêéếèềẻểẽễẹệiíìỉĩịoôơóốớòồờỏổởõỗỡọộợuưúứùừủửũữụựyýỳỷỹỵaăâáắấàằầảẳẩãẵẫạặậđeêéếèềẻểẽễẹệiíìỉĩịoôơóốớòồờỏổởõỗỡọộợuưúứùừủửũữụựyýỳỷỹỵa-z\\s\\.\\,\\?]*\""
      ],
      "metadata": {
        "id": "I8rQuk1NatM2"
      },
      "execution_count": null,
      "outputs": []
    },
    {
      "cell_type": "code",
      "source": [
        "from tqdm import tqdm\n",
        "tqdm.pandas()\n",
        "\n",
        "def shuffle_data(data_frame):\n",
        "  np.random.seed(40)\n",
        "  data_frame = data_frame.sample(frac=1).reset_index(drop=True)\n",
        "  return data_frame\n",
        "\n",
        "# check entity name in a text, return a list of entity names (Np)\n",
        "def check_entity_name(text):\n",
        "    if text == text:\n",
        "      list_segment = ner(text)\n",
        "      res = [x[0] for x in list_segment if 'Np' in x]\n",
        "      return res\n",
        "    else: return []\n",
        "\n",
        "# replace all entity names in a comment by \"\" <=> remove list of string entity names in a text => return a text without enity name\n",
        "def replace_all(text, entity_names):\n",
        "  if text == text:\n",
        "    res = text\n",
        "    for e in entity_names:\n",
        "      res = res.replace(e, \"\")\n",
        "    return res.replace(\"\", \"\")\n",
        "  else: return text\n",
        "\n",
        "def preprocessing_str(s):\n",
        "  s = re.sub(\"\\https\\:\\/\\/[^\\s]*\", \"\", s)\n",
        "  s = re.sub(\"\\(([^\\s]*\\s*)*\\)\", \"\", s)\n",
        "  s = re.sub(regex_vn_special_characters, \"\", s)\n",
        "  s = re.sub(r\"([\\s])\\1+\", r\"\\1\", s)\n",
        "  return s\n",
        "\n",
        "def lower(s):\n",
        "    s = s.lower()\n",
        "    return s\n",
        "\n",
        "def all_function(data_frame, col):\n",
        "  data_frame[col] = data_frame[col].progress_apply(lambda x : preprocessing_str(x))\n",
        "  data_frame[col] = data_frame[col].progress_apply(lambda x : replace_all(x, check_entity_name(x)))\n",
        "  data_frame[col] = data_frame[col].progress_apply(lambda x : lower(x))\n",
        "  return data_frame\n"
      ],
      "metadata": {
        "id": "fzIVxpBha046"
      },
      "execution_count": null,
      "outputs": []
    },
    {
      "cell_type": "code",
      "source": [
        "data_prep = pd.read_csv('/content/drive/MyDrive/Colab Notebooks/sentiment analysis/data/train_lazada.csv')\n",
        "data_prep = shuffle_data(data_prep)\n",
        "data_prep = all_function(data_prep, \"combine\")\n",
        "data_prep.to_csv(\"/content/drive/MyDrive/Colab Notebooks/sentiment analysis/data/train_lazada_prep.csv\")"
      ],
      "metadata": {
        "colab": {
          "base_uri": "https://localhost:8080/"
        },
        "id": "t9JvXEVtbfPL",
        "outputId": "f9ced468-6cc2-446a-df51-d7226edad0f8"
      },
      "execution_count": null,
      "outputs": [
        {
          "output_type": "stream",
          "name": "stderr",
          "text": [
            "100%|██████████| 980/980 [00:00<00:00, 3310.96it/s]\n",
            "100%|██████████| 980/980 [00:37<00:00, 25.83it/s]\n",
            "100%|██████████| 980/980 [00:00<00:00, 194391.96it/s]\n"
          ]
        }
      ]
    },
    {
      "cell_type": "markdown",
      "source": [
        "# Stop Words"
      ],
      "metadata": {
        "id": "zJAg6rcDl0GP"
      }
    },
    {
      "cell_type": "code",
      "source": [
        "list_stop_words = open(\"/content/drive/MyDrive/Colab Notebooks/sentiment analysis/data/stop_word.txt\", \"r\")\n",
        "list_stop_words = list_stop_words.read().split(\"\\n\")"
      ],
      "metadata": {
        "id": "s86HY2z4lzcA"
      },
      "execution_count": null,
      "outputs": []
    },
    {
      "cell_type": "code",
      "source": [
        "def remove_stopwords(line):\n",
        "  words = []\n",
        "  for word in line.strip().split():\n",
        "    if word not in list_stop_words:\n",
        "      words.append(word)\n",
        "  return ' '.join(words)"
      ],
      "metadata": {
        "id": "8cI7_g-Ala0_"
      },
      "execution_count": null,
      "outputs": []
    },
    {
      "cell_type": "code",
      "source": [
        "data_prep['combine'] = data_prep['combine'].apply(lambda x: remove_stopwords(str(x)))\n",
        "data_prep.head()"
      ],
      "metadata": {
        "colab": {
          "base_uri": "https://localhost:8080/",
          "height": 206
        },
        "id": "5mBuQzfwlbh8",
        "outputId": "f00929b1-9dd0-4db8-facc-17590320c192"
      },
      "execution_count": null,
      "outputs": [
        {
          "output_type": "execute_result",
          "data": {
            "text/plain": [
              "   label                                            combine\n",
              "0      5               bao thất vọng .rất hài ủng hộ shop .\n",
              "1      2  tui ổn mẫu đen giao màu bò đậm. hài chút nào. ...\n",
              "2      5  túi đẹp , dày dặn, da mềm, màu sắc hình, ưng s...\n",
              "3      5                                       đẹp màu hình\n",
              "4      5                                    hàng ok mua mng"
            ],
            "text/html": [
              "\n",
              "  <div id=\"df-74bea7a3-ea95-46c7-9897-58f26ad024d0\">\n",
              "    <div class=\"colab-df-container\">\n",
              "      <div>\n",
              "<style scoped>\n",
              "    .dataframe tbody tr th:only-of-type {\n",
              "        vertical-align: middle;\n",
              "    }\n",
              "\n",
              "    .dataframe tbody tr th {\n",
              "        vertical-align: top;\n",
              "    }\n",
              "\n",
              "    .dataframe thead th {\n",
              "        text-align: right;\n",
              "    }\n",
              "</style>\n",
              "<table border=\"1\" class=\"dataframe\">\n",
              "  <thead>\n",
              "    <tr style=\"text-align: right;\">\n",
              "      <th></th>\n",
              "      <th>label</th>\n",
              "      <th>combine</th>\n",
              "    </tr>\n",
              "  </thead>\n",
              "  <tbody>\n",
              "    <tr>\n",
              "      <th>0</th>\n",
              "      <td>5</td>\n",
              "      <td>bao thất vọng .rất hài ủng hộ shop .</td>\n",
              "    </tr>\n",
              "    <tr>\n",
              "      <th>1</th>\n",
              "      <td>2</td>\n",
              "      <td>tui ổn mẫu đen giao màu bò đậm. hài chút nào. ...</td>\n",
              "    </tr>\n",
              "    <tr>\n",
              "      <th>2</th>\n",
              "      <td>5</td>\n",
              "      <td>túi đẹp , dày dặn, da mềm, màu sắc hình, ưng s...</td>\n",
              "    </tr>\n",
              "    <tr>\n",
              "      <th>3</th>\n",
              "      <td>5</td>\n",
              "      <td>đẹp màu hình</td>\n",
              "    </tr>\n",
              "    <tr>\n",
              "      <th>4</th>\n",
              "      <td>5</td>\n",
              "      <td>hàng ok mua mng</td>\n",
              "    </tr>\n",
              "  </tbody>\n",
              "</table>\n",
              "</div>\n",
              "      <button class=\"colab-df-convert\" onclick=\"convertToInteractive('df-74bea7a3-ea95-46c7-9897-58f26ad024d0')\"\n",
              "              title=\"Convert this dataframe to an interactive table.\"\n",
              "              style=\"display:none;\">\n",
              "        \n",
              "  <svg xmlns=\"http://www.w3.org/2000/svg\" height=\"24px\"viewBox=\"0 0 24 24\"\n",
              "       width=\"24px\">\n",
              "    <path d=\"M0 0h24v24H0V0z\" fill=\"none\"/>\n",
              "    <path d=\"M18.56 5.44l.94 2.06.94-2.06 2.06-.94-2.06-.94-.94-2.06-.94 2.06-2.06.94zm-11 1L8.5 8.5l.94-2.06 2.06-.94-2.06-.94L8.5 2.5l-.94 2.06-2.06.94zm10 10l.94 2.06.94-2.06 2.06-.94-2.06-.94-.94-2.06-.94 2.06-2.06.94z\"/><path d=\"M17.41 7.96l-1.37-1.37c-.4-.4-.92-.59-1.43-.59-.52 0-1.04.2-1.43.59L10.3 9.45l-7.72 7.72c-.78.78-.78 2.05 0 2.83L4 21.41c.39.39.9.59 1.41.59.51 0 1.02-.2 1.41-.59l7.78-7.78 2.81-2.81c.8-.78.8-2.07 0-2.86zM5.41 20L4 18.59l7.72-7.72 1.47 1.35L5.41 20z\"/>\n",
              "  </svg>\n",
              "      </button>\n",
              "      \n",
              "  <style>\n",
              "    .colab-df-container {\n",
              "      display:flex;\n",
              "      flex-wrap:wrap;\n",
              "      gap: 12px;\n",
              "    }\n",
              "\n",
              "    .colab-df-convert {\n",
              "      background-color: #E8F0FE;\n",
              "      border: none;\n",
              "      border-radius: 50%;\n",
              "      cursor: pointer;\n",
              "      display: none;\n",
              "      fill: #1967D2;\n",
              "      height: 32px;\n",
              "      padding: 0 0 0 0;\n",
              "      width: 32px;\n",
              "    }\n",
              "\n",
              "    .colab-df-convert:hover {\n",
              "      background-color: #E2EBFA;\n",
              "      box-shadow: 0px 1px 2px rgba(60, 64, 67, 0.3), 0px 1px 3px 1px rgba(60, 64, 67, 0.15);\n",
              "      fill: #174EA6;\n",
              "    }\n",
              "\n",
              "    [theme=dark] .colab-df-convert {\n",
              "      background-color: #3B4455;\n",
              "      fill: #D2E3FC;\n",
              "    }\n",
              "\n",
              "    [theme=dark] .colab-df-convert:hover {\n",
              "      background-color: #434B5C;\n",
              "      box-shadow: 0px 1px 3px 1px rgba(0, 0, 0, 0.15);\n",
              "      filter: drop-shadow(0px 1px 2px rgba(0, 0, 0, 0.3));\n",
              "      fill: #FFFFFF;\n",
              "    }\n",
              "  </style>\n",
              "\n",
              "      <script>\n",
              "        const buttonEl =\n",
              "          document.querySelector('#df-74bea7a3-ea95-46c7-9897-58f26ad024d0 button.colab-df-convert');\n",
              "        buttonEl.style.display =\n",
              "          google.colab.kernel.accessAllowed ? 'block' : 'none';\n",
              "\n",
              "        async function convertToInteractive(key) {\n",
              "          const element = document.querySelector('#df-74bea7a3-ea95-46c7-9897-58f26ad024d0');\n",
              "          const dataTable =\n",
              "            await google.colab.kernel.invokeFunction('convertToInteractive',\n",
              "                                                     [key], {});\n",
              "          if (!dataTable) return;\n",
              "\n",
              "          const docLinkHtml = 'Like what you see? Visit the ' +\n",
              "            '<a target=\"_blank\" href=https://colab.research.google.com/notebooks/data_table.ipynb>data table notebook</a>'\n",
              "            + ' to learn more about interactive tables.';\n",
              "          element.innerHTML = '';\n",
              "          dataTable['output_type'] = 'display_data';\n",
              "          await google.colab.output.renderOutput(dataTable, element);\n",
              "          const docLink = document.createElement('div');\n",
              "          docLink.innerHTML = docLinkHtml;\n",
              "          element.appendChild(docLink);\n",
              "        }\n",
              "      </script>\n",
              "    </div>\n",
              "  </div>\n",
              "  "
            ]
          },
          "metadata": {},
          "execution_count": 141
        }
      ]
    },
    {
      "cell_type": "markdown",
      "source": [
        "# Embedding"
      ],
      "metadata": {
        "id": "XDnmqahyafld"
      }
    },
    {
      "cell_type": "code",
      "source": [
        "# data_copy_ = pd.read_csv(\"/content/drive/MyDrive/Colab Notebooks/sentiment analysis/data/train_lazada_copy.csv\")\n",
        "# data_embedding_clean = data_prep.copy()\n",
        "# data_embedding_clean.head()"
      ],
      "metadata": {
        "id": "n1kWksLedJrq"
      },
      "execution_count": null,
      "outputs": []
    },
    {
      "cell_type": "code",
      "execution_count": null,
      "metadata": {
        "colab": {
          "base_uri": "https://localhost:8080/",
          "height": 206
        },
        "id": "p-vaR9DxPLw7",
        "outputId": "a7bbbf5d-10d3-4c8e-c584-30211c4b978b"
      },
      "outputs": [
        {
          "output_type": "execute_result",
          "data": {
            "text/plain": [
              "   label                              combine\n",
              "0      4  bốn sao mẫu_mã và chất_lượng y hình\n",
              "1      5                          năm sao đẹp\n",
              "2      5          năm sau very nice i love it\n",
              "3      5       tot san pham giong hinh da dep\n",
              "4      5                          năm sao đẹp"
            ],
            "text/html": [
              "\n",
              "  <div id=\"df-400cab9d-47fb-4d42-a091-02fc5a7dbcd6\">\n",
              "    <div class=\"colab-df-container\">\n",
              "      <div>\n",
              "<style scoped>\n",
              "    .dataframe tbody tr th:only-of-type {\n",
              "        vertical-align: middle;\n",
              "    }\n",
              "\n",
              "    .dataframe tbody tr th {\n",
              "        vertical-align: top;\n",
              "    }\n",
              "\n",
              "    .dataframe thead th {\n",
              "        text-align: right;\n",
              "    }\n",
              "</style>\n",
              "<table border=\"1\" class=\"dataframe\">\n",
              "  <thead>\n",
              "    <tr style=\"text-align: right;\">\n",
              "      <th></th>\n",
              "      <th>label</th>\n",
              "      <th>combine</th>\n",
              "    </tr>\n",
              "  </thead>\n",
              "  <tbody>\n",
              "    <tr>\n",
              "      <th>0</th>\n",
              "      <td>4</td>\n",
              "      <td>bốn sao mẫu_mã và chất_lượng y hình</td>\n",
              "    </tr>\n",
              "    <tr>\n",
              "      <th>1</th>\n",
              "      <td>5</td>\n",
              "      <td>năm sao đẹp</td>\n",
              "    </tr>\n",
              "    <tr>\n",
              "      <th>2</th>\n",
              "      <td>5</td>\n",
              "      <td>năm sau very nice i love it</td>\n",
              "    </tr>\n",
              "    <tr>\n",
              "      <th>3</th>\n",
              "      <td>5</td>\n",
              "      <td>tot san pham giong hinh da dep</td>\n",
              "    </tr>\n",
              "    <tr>\n",
              "      <th>4</th>\n",
              "      <td>5</td>\n",
              "      <td>năm sao đẹp</td>\n",
              "    </tr>\n",
              "  </tbody>\n",
              "</table>\n",
              "</div>\n",
              "      <button class=\"colab-df-convert\" onclick=\"convertToInteractive('df-400cab9d-47fb-4d42-a091-02fc5a7dbcd6')\"\n",
              "              title=\"Convert this dataframe to an interactive table.\"\n",
              "              style=\"display:none;\">\n",
              "        \n",
              "  <svg xmlns=\"http://www.w3.org/2000/svg\" height=\"24px\"viewBox=\"0 0 24 24\"\n",
              "       width=\"24px\">\n",
              "    <path d=\"M0 0h24v24H0V0z\" fill=\"none\"/>\n",
              "    <path d=\"M18.56 5.44l.94 2.06.94-2.06 2.06-.94-2.06-.94-.94-2.06-.94 2.06-2.06.94zm-11 1L8.5 8.5l.94-2.06 2.06-.94-2.06-.94L8.5 2.5l-.94 2.06-2.06.94zm10 10l.94 2.06.94-2.06 2.06-.94-2.06-.94-.94-2.06-.94 2.06-2.06.94z\"/><path d=\"M17.41 7.96l-1.37-1.37c-.4-.4-.92-.59-1.43-.59-.52 0-1.04.2-1.43.59L10.3 9.45l-7.72 7.72c-.78.78-.78 2.05 0 2.83L4 21.41c.39.39.9.59 1.41.59.51 0 1.02-.2 1.41-.59l7.78-7.78 2.81-2.81c.8-.78.8-2.07 0-2.86zM5.41 20L4 18.59l7.72-7.72 1.47 1.35L5.41 20z\"/>\n",
              "  </svg>\n",
              "      </button>\n",
              "      \n",
              "  <style>\n",
              "    .colab-df-container {\n",
              "      display:flex;\n",
              "      flex-wrap:wrap;\n",
              "      gap: 12px;\n",
              "    }\n",
              "\n",
              "    .colab-df-convert {\n",
              "      background-color: #E8F0FE;\n",
              "      border: none;\n",
              "      border-radius: 50%;\n",
              "      cursor: pointer;\n",
              "      display: none;\n",
              "      fill: #1967D2;\n",
              "      height: 32px;\n",
              "      padding: 0 0 0 0;\n",
              "      width: 32px;\n",
              "    }\n",
              "\n",
              "    .colab-df-convert:hover {\n",
              "      background-color: #E2EBFA;\n",
              "      box-shadow: 0px 1px 2px rgba(60, 64, 67, 0.3), 0px 1px 3px 1px rgba(60, 64, 67, 0.15);\n",
              "      fill: #174EA6;\n",
              "    }\n",
              "\n",
              "    [theme=dark] .colab-df-convert {\n",
              "      background-color: #3B4455;\n",
              "      fill: #D2E3FC;\n",
              "    }\n",
              "\n",
              "    [theme=dark] .colab-df-convert:hover {\n",
              "      background-color: #434B5C;\n",
              "      box-shadow: 0px 1px 3px 1px rgba(0, 0, 0, 0.15);\n",
              "      filter: drop-shadow(0px 1px 2px rgba(0, 0, 0, 0.3));\n",
              "      fill: #FFFFFF;\n",
              "    }\n",
              "  </style>\n",
              "\n",
              "      <script>\n",
              "        const buttonEl =\n",
              "          document.querySelector('#df-400cab9d-47fb-4d42-a091-02fc5a7dbcd6 button.colab-df-convert');\n",
              "        buttonEl.style.display =\n",
              "          google.colab.kernel.accessAllowed ? 'block' : 'none';\n",
              "\n",
              "        async function convertToInteractive(key) {\n",
              "          const element = document.querySelector('#df-400cab9d-47fb-4d42-a091-02fc5a7dbcd6');\n",
              "          const dataTable =\n",
              "            await google.colab.kernel.invokeFunction('convertToInteractive',\n",
              "                                                     [key], {});\n",
              "          if (!dataTable) return;\n",
              "\n",
              "          const docLinkHtml = 'Like what you see? Visit the ' +\n",
              "            '<a target=\"_blank\" href=https://colab.research.google.com/notebooks/data_table.ipynb>data table notebook</a>'\n",
              "            + ' to learn more about interactive tables.';\n",
              "          element.innerHTML = '';\n",
              "          dataTable['output_type'] = 'display_data';\n",
              "          await google.colab.output.renderOutput(dataTable, element);\n",
              "          const docLink = document.createElement('div');\n",
              "          docLink.innerHTML = docLinkHtml;\n",
              "          element.appendChild(docLink);\n",
              "        }\n",
              "      </script>\n",
              "    </div>\n",
              "  </div>\n",
              "  "
            ]
          },
          "metadata": {},
          "execution_count": 30
        }
      ],
      "source": [
        "from pyvi.ViTokenizer import tokenize\n",
        "\n",
        "data_embedding['combine'] = data_embedding['combine'].apply(lambda x: tokenize(str(x)))\n",
        "data_embedding.head()"
      ]
    },
    {
      "cell_type": "code",
      "execution_count": null,
      "metadata": {
        "colab": {
          "base_uri": "https://localhost:8080/"
        },
        "id": "GiE2yGNfrvS2",
        "outputId": "46c3127f-de23-41d9-846b-b2da5b39499d"
      },
      "outputs": [
        {
          "output_type": "execute_result",
          "data": {
            "text/plain": [
              "5    274\n",
              "4    119\n",
              "3     61\n",
              "1     30\n",
              "2     14\n",
              "Name: label, dtype: int64"
            ]
          },
          "metadata": {},
          "execution_count": 31
        }
      ],
      "source": [
        "data_embedding['label'].value_counts()"
      ]
    },
    {
      "cell_type": "code",
      "execution_count": null,
      "metadata": {
        "colab": {
          "base_uri": "https://localhost:8080/",
          "height": 262
        },
        "id": "b27z-qNFsuPW",
        "outputId": "95c5972a-59d2-40d5-d685-8105b5326ff0"
      },
      "outputs": [
        {
          "output_type": "display_data",
          "data": {
            "text/plain": [
              "<Figure size 432x288 with 1 Axes>"
            ],
            "image/png": "[encoded data removed]"
          },
          "metadata": {
            "needs_background": "light"
          }
        }
      ],
      "source": [
        "import matplotlib.pyplot as plt\n",
        "fig,ax = plt.subplots()\n",
        "data_embedding['label'].value_counts().plot(ax = ax, kind = 'bar', ylabel = 'frequency')\n",
        "plt.show()"
      ]
    },
    {
      "cell_type": "code",
      "execution_count": null,
      "metadata": {
        "colab": {
          "base_uri": "https://localhost:8080/",
          "height": 313,
          "referenced_widgets": [
            "8b2b94cb318247c29993d36389e857e5",
            "c448b8f88abd41cf910b414ecac047a8",
            "1ec313a0c81b462c992ee2af54eacf94",
            "47f3c1e00aee4ade90907c2f2c3af7a9",
            "da7dc015f41847c9b765dd57a9a0d007",
            "dfc4ba1357a5412ebe9a49b4c42e7db9",
            "dc6091613cf74429aded9d8bedcbb6f8",
            "7be2478271494cc19cab8d8665848d6c",
            "b321b0e903dd47878a7e559206418593",
            "ed3b91481faf45d684261f758a6c3697",
            "bd5f7bfda0d244e783b39936b026d3fb",
            "af2d1ba8eed5400bb634bf28aa97f24b",
            "6e0e958f11fe4a6ba345af5f12f96abd",
            "d25542fe7aa44348b42617182012ce4d",
            "247c9bd295e04879a6a8654187fec95e",
            "e8c02d5df22a480b9961379f6e60777d",
            "aca96f08c3794a92a50be3eb609c2cf5",
            "e2321e6adb1e488f91231bc9e444cd3c",
            "5e72ac246b59421e89cd836605450397",
            "4b6832d26cb74705b519f8abf31d61d5",
            "117880963c9b487cadbe02f83ce22021",
            "6845f8daaf79423781adf3f7a74c652b",
            "a81da4e745b64edfa668298f908e3fb0",
            "619882a67fb44fbf9a76c4a33c7ad573",
            "1bcdb6a7034d4cdca311c028d52bff0c",
            "b6aa56ee1d5344c783141f5ec6bfa72b",
            "de0b62110102474fb020d9427e9b6f3d",
            "432190fffb2d4680a37dba97cb665646",
            "f5766f714d8b4370a3a2abbc0b544216",
            "a6ded274bb7b4694a07e08f9b59ecc63",
            "56986ec63afd4d4fb049a4ec9f862828",
            "95903d2b0dbc4cd8aa87791cf64f5393",
            "65ae0313a8f3416c83bb0f89919b352c",
            "8bc18aa3d4ce4ab3bf1adb8b561345f7",
            "6d2e954acb9b4871b77cce9d3786f42b",
            "1a2457a0dd254700a4948abb453d79d5",
            "6e48e4c19571484da054ca74f7c95069",
            "8a4e96eeb0d841c69f47be5377041c30",
            "43bfaa5dd8b947279688e1ad91d21d5b",
            "0cfabf90f17a4c8c82644cbb49c233da",
            "80e891a919cc47419f36f5a09143ed1f",
            "79cce228ce474e8ebb735e98fcf07933",
            "a0786c20271549569ac90d71e5d6e73a",
            "8fdd733dd21a4b839d10a09f23dde223",
            "764e8aa3812644d08d0b52358a810c0e",
            "2e74c50d360b44bbab5c1b07a0616f8d",
            "5b9761c3fa184b589832772d025a75c9",
            "be229f26e9aa4f958cc37eaff02a48c1",
            "3674afebcbbe4b50b711aa9133ebd765",
            "97be635706644fd6a8b9c163595726b3",
            "75bd27dc08b54288b9e49de3fdc0abd5",
            "4a5485f7ada34c1babb746bd51d55c20",
            "9ace0878b6df45cd8c2c962f56a23710",
            "42db149434a64806afcaadac8ee7bab4",
            "d2201fc9c21a45038de3681f4faba4c8",
            "1f20d1f7b4604e0f8648ea311e70c91e",
            "9fbda27da589436797dc75e852c27a18",
            "de0823c1ff804f27b79b5469d377806e",
            "77fc4c60143d40648b9009fade4f6f5d",
            "b71b3216d75448a381293229f6a9cdc1",
            "3ad5c1f0c0024634ba76d328c0f0df86",
            "1bbef6c237b140738bb2631dd7bcf315",
            "e13d530c2de94fca81f129704ba20277",
            "a074a8c5207d41bd83e777e6b72fa9bd",
            "6c7f5ceca4e54c678d4216bb818c95da",
            "b992bc731a624084995d83332f419aeb",
            "d261b45f4e4e458eab2352e33fd84913",
            "19a1bf5cd85044b28ea62b2f1037ae72",
            "6ee95af5ad8a4a13a0d9167e30e4b686",
            "f574475f50184b329366569c97b3f93c",
            "b9ac1c9d44c0465a9a67995d87d644f4",
            "00e1866a3c1c4453bf955d72c3683ec1",
            "250f5d0ee4294bce858cc6651f376577",
            "94200be34e134b1c884c587f25731ee7",
            "f34183ff8a464bcc94485e3a97068062",
            "25e74a2406ea41b49f22dad41814dd49",
            "705f48618080460cbc2b9285f13ed7d9"
          ]
        },
        "id": "Nb5iJeTNMHKR",
        "outputId": "1d8b62cb-3817-4f89-9702-6de06106d972"
      },
      "outputs": [
        {
          "output_type": "display_data",
          "data": {
            "text/plain": [
              "Downloading:   0%|          | 0.00/270 [00:00<?, ?B/s]"
            ],
            "application/vnd.jupyter.widget-view+json": {
              "version_major": 2,
              "version_minor": 0,
              "model_id": "8b2b94cb318247c29993d36389e857e5"
            }
          },
          "metadata": {}
        },
        {
          "output_type": "display_data",
          "data": {
            "text/plain": [
              "Downloading:   0%|          | 0.00/731 [00:00<?, ?B/s]"
            ],
            "application/vnd.jupyter.widget-view+json": {
              "version_major": 2,
              "version_minor": 0,
              "model_id": "af2d1ba8eed5400bb634bf28aa97f24b"
            }
          },
          "metadata": {}
        },
        {
          "output_type": "display_data",
          "data": {
            "text/plain": [
              "Downloading:   0%|          | 0.00/874k [00:00<?, ?B/s]"
            ],
            "application/vnd.jupyter.widget-view+json": {
              "version_major": 2,
              "version_minor": 0,
              "model_id": "a81da4e745b64edfa668298f908e3fb0"
            }
          },
          "metadata": {}
        },
        {
          "output_type": "display_data",
          "data": {
            "text/plain": [
              "Downloading:   0%|          | 0.00/1.08M [00:00<?, ?B/s]"
            ],
            "application/vnd.jupyter.widget-view+json": {
              "version_major": 2,
              "version_minor": 0,
              "model_id": "8bc18aa3d4ce4ab3bf1adb8b561345f7"
            }
          },
          "metadata": {}
        },
        {
          "output_type": "display_data",
          "data": {
            "text/plain": [
              "Downloading:   0%|          | 0.00/17.0 [00:00<?, ?B/s]"
            ],
            "application/vnd.jupyter.widget-view+json": {
              "version_major": 2,
              "version_minor": 0,
              "model_id": "764e8aa3812644d08d0b52358a810c0e"
            }
          },
          "metadata": {}
        },
        {
          "output_type": "display_data",
          "data": {
            "text/plain": [
              "Downloading:   0%|          | 0.00/150 [00:00<?, ?B/s]"
            ],
            "application/vnd.jupyter.widget-view+json": {
              "version_major": 2,
              "version_minor": 0,
              "model_id": "1f20d1f7b4604e0f8648ea311e70c91e"
            }
          },
          "metadata": {}
        },
        {
          "output_type": "display_data",
          "data": {
            "text/plain": [
              "Downloading:   0%|          | 0.00/517M [00:00<?, ?B/s]"
            ],
            "application/vnd.jupyter.widget-view+json": {
              "version_major": 2,
              "version_minor": 0,
              "model_id": "d261b45f4e4e458eab2352e33fd84913"
            }
          },
          "metadata": {}
        },
        {
          "output_type": "stream",
          "name": "stderr",
          "text": [
            "Some weights of the model checkpoint at VoVanPhuc/sup-SimCSE-VietNamese-phobert-base were not used when initializing RobertaModel: ['mlp.dense.bias', 'mlp.dense.weight']\n",
            "- This IS expected if you are initializing RobertaModel from the checkpoint of a model trained on another task or with another architecture (e.g. initializing a BertForSequenceClassification model from a BertForPreTraining model).\n",
            "- This IS NOT expected if you are initializing RobertaModel from the checkpoint of a model that you expect to be exactly identical (initializing a BertForSequenceClassification model from a BertForSequenceClassification model).\n"
          ]
        }
      ],
      "source": [
        "import torch\n",
        "from transformers import AutoModel, AutoTokenizer\n",
        "\n",
        "PhobertTokenizer = AutoTokenizer.from_pretrained(\"VoVanPhuc/sup-SimCSE-VietNamese-phobert-base\")\n",
        "model = AutoModel.from_pretrained(\"VoVanPhuc/sup-SimCSE-VietNamese-phobert-base\")\n"
      ]
    },
    {
      "cell_type": "code",
      "execution_count": null,
      "metadata": {
        "id": "VfbhQQCsPVlI"
      },
      "outputs": [],
      "source": [
        "def extract_features(s):\n",
        "  vector = \"\"\n",
        "  inputs = PhobertTokenizer(s, padding=True, truncation=True, return_tensors=\"pt\")\n",
        "  with torch.no_grad():\n",
        "      doc = model(**inputs, output_hidden_states=True, return_dict=True).pooler_output\n",
        "  return doc[0].numpy()\n",
        "  \n",
        "def convert_to_array(data_frame, col):\n",
        "  return np.array(data_frame[col].tolist())\n",
        "\n",
        "from tqdm import tqdm\n",
        "tqdm.pandas()\n",
        "\n",
        "def vector_column(data_frame, col1, col2):\n",
        "  data_frame[col2] = data_frame[col1].progress_apply(lambda x: np.array(extract_features(x))) \n",
        "  return data_frame"
      ]
    },
    {
      "cell_type": "code",
      "execution_count": null,
      "metadata": {
        "colab": {
          "base_uri": "https://localhost:8080/"
        },
        "id": "WPzFQF06PaKP",
        "outputId": "166e1824-4571-4b29-bb4f-4791f010238a"
      },
      "outputs": [
        {
          "output_type": "stream",
          "name": "stderr",
          "text": [
            "100%|██████████| 498/498 [00:56<00:00,  8.86it/s]\n"
          ]
        }
      ],
      "source": [
        "data_embedding_ = vector_column(data_embedding, 'combine', 'vector')"
      ]
    },
    {
      "cell_type": "code",
      "execution_count": null,
      "metadata": {
        "id": "z_JoCuTKPeJS"
      },
      "outputs": [],
      "source": [
        "X_data = convert_to_array(data_embedding_, 'vector')\n",
        "np.save('/content/drive/MyDrive/Colab Notebooks/sentiment analysis/data/phobert_embedding_training_clean.npy', X_data, allow_pickle=True)"
      ]
    },
    {
      "cell_type": "code",
      "source": [
        "X_data = convert_to_array(data_embedding_, 'vector')"
      ],
      "metadata": {
        "id": "mFFTptd8n4ZX"
      },
      "execution_count": null,
      "outputs": []
    },
    {
      "cell_type": "markdown",
      "metadata": {
        "id": "yWLUREQ8P70Z"
      },
      "source": [
        "# Machine Learning"
      ]
    },
    {
      "cell_type": "code",
      "execution_count": null,
      "metadata": {
        "id": "s8QxcZEGP-Hh"
      },
      "outputs": [],
      "source": [
        "X_data = np.load('/content/drive/MyDrive/Colab Notebooks/sentiment analysis/data/phobert_embedding_training_clean.npy', allow_pickle=True)"
      ]
    },
    {
      "cell_type": "code",
      "execution_count": null,
      "metadata": {
        "id": "mQ9f7fK_QGcu"
      },
      "outputs": [],
      "source": [
        "from sklearn import preprocessing\n",
        "le = preprocessing.LabelEncoder()\n",
        "data_embedding_['label'] = le.fit_transform(data_embedding_['label'].astype(str))"
      ]
    },
    {
      "cell_type": "code",
      "execution_count": null,
      "metadata": {
        "id": "IHccfOEWQG9z"
      },
      "outputs": [],
      "source": [
        "from sklearn.model_selection import train_test_split\n",
        "x_train, x_test, y_train, y_test = train_test_split(X_data, data_embedding_['label'], test_size=0.2, shuffle=True) "
      ]
    },
    {
      "cell_type": "code",
      "source": [
        "from sklearn.model_selection import KFold\n",
        "kf = KFold(n_splits=2)\n",
        "kf.get_n_splits(X_data)\n",
        "print(kf)\n",
        "KFold(n_splits=5, random_state=None, shuffle=False)"
      ],
      "metadata": {
        "colab": {
          "base_uri": "https://localhost:8080/"
        },
        "id": "RT0_DLL_BfEo",
        "outputId": "c6a0b627-14bb-49d8-f137-3ed3ec234c06"
      },
      "execution_count": null,
      "outputs": [
        {
          "output_type": "stream",
          "name": "stdout",
          "text": [
            "KFold(n_splits=2, random_state=None, shuffle=False)\n"
          ]
        },
        {
          "output_type": "execute_result",
          "data": {
            "text/plain": [
              "KFold(n_splits=5, random_state=None, shuffle=False)"
            ]
          },
          "metadata": {},
          "execution_count": 63
        }
      ]
    },
    {
      "cell_type": "code",
      "source": [
        "for train_index, test_index in kf.split(X_data):\n",
        "    print(\"TRAIN:\", train_index, \"TEST:\", test_index)\n",
        "    X_train, X_test = X_data[train_index], X_data[test_index]"
      ],
      "metadata": {
        "colab": {
          "base_uri": "https://localhost:8080/"
        },
        "id": "qECrPEDwCuAL",
        "outputId": "8a1976af-ef40-464b-dd06-1345dac07b49"
      },
      "execution_count": null,
      "outputs": [
        {
          "output_type": "stream",
          "name": "stdout",
          "text": [
            "TRAIN: [249 250 251 252 253 254 255 256 257 258 259 260 261 262 263 264 265 266\n",
            " 267 268 269 270 271 272 273 274 275 276 277 278 279 280 281 282 283 284\n",
            " 285 286 287 288 289 290 291 292 293 294 295 296 297 298 299 300 301 302\n",
            " 303 304 305 306 307 308 309 310 311 312 313 314 315 316 317 318 319 320\n",
            " 321 322 323 324 325 326 327 328 329 330 331 332 333 334 335 336 337 338\n",
            " 339 340 341 342 343 344 345 346 347 348 349 350 351 352 353 354 355 356\n",
            " 357 358 359 360 361 362 363 364 365 366 367 368 369 370 371 372 373 374\n",
            " 375 376 377 378 379 380 381 382 383 384 385 386 387 388 389 390 391 392\n",
            " 393 394 395 396 397 398 399 400 401 402 403 404 405 406 407 408 409 410\n",
            " 411 412 413 414 415 416 417 418 419 420 421 422 423 424 425 426 427 428\n",
            " 429 430 431 432 433 434 435 436 437 438 439 440 441 442 443 444 445 446\n",
            " 447 448 449 450 451 452 453 454 455 456 457 458 459 460 461 462 463 464\n",
            " 465 466 467 468 469 470 471 472 473 474 475 476 477 478 479 480 481 482\n",
            " 483 484 485 486 487 488 489 490 491 492 493 494 495 496 497] TEST: [  0   1   2   3   4   5   6   7   8   9  10  11  12  13  14  15  16  17\n",
            "  18  19  20  21  22  23  24  25  26  27  28  29  30  31  32  33  34  35\n",
            "  36  37  38  39  40  41  42  43  44  45  46  47  48  49  50  51  52  53\n",
            "  54  55  56  57  58  59  60  61  62  63  64  65  66  67  68  69  70  71\n",
            "  72  73  74  75  76  77  78  79  80  81  82  83  84  85  86  87  88  89\n",
            "  90  91  92  93  94  95  96  97  98  99 100 101 102 103 104 105 106 107\n",
            " 108 109 110 111 112 113 114 115 116 117 118 119 120 121 122 123 124 125\n",
            " 126 127 128 129 130 131 132 133 134 135 136 137 138 139 140 141 142 143\n",
            " 144 145 146 147 148 149 150 151 152 153 154 155 156 157 158 159 160 161\n",
            " 162 163 164 165 166 167 168 169 170 171 172 173 174 175 176 177 178 179\n",
            " 180 181 182 183 184 185 186 187 188 189 190 191 192 193 194 195 196 197\n",
            " 198 199 200 201 202 203 204 205 206 207 208 209 210 211 212 213 214 215\n",
            " 216 217 218 219 220 221 222 223 224 225 226 227 228 229 230 231 232 233\n",
            " 234 235 236 237 238 239 240 241 242 243 244 245 246 247 248]\n",
            "TRAIN: [  0   1   2   3   4   5   6   7   8   9  10  11  12  13  14  15  16  17\n",
            "  18  19  20  21  22  23  24  25  26  27  28  29  30  31  32  33  34  35\n",
            "  36  37  38  39  40  41  42  43  44  45  46  47  48  49  50  51  52  53\n",
            "  54  55  56  57  58  59  60  61  62  63  64  65  66  67  68  69  70  71\n",
            "  72  73  74  75  76  77  78  79  80  81  82  83  84  85  86  87  88  89\n",
            "  90  91  92  93  94  95  96  97  98  99 100 101 102 103 104 105 106 107\n",
            " 108 109 110 111 112 113 114 115 116 117 118 119 120 121 122 123 124 125\n",
            " 126 127 128 129 130 131 132 133 134 135 136 137 138 139 140 141 142 143\n",
            " 144 145 146 147 148 149 150 151 152 153 154 155 156 157 158 159 160 161\n",
            " 162 163 164 165 166 167 168 169 170 171 172 173 174 175 176 177 178 179\n",
            " 180 181 182 183 184 185 186 187 188 189 190 191 192 193 194 195 196 197\n",
            " 198 199 200 201 202 203 204 205 206 207 208 209 210 211 212 213 214 215\n",
            " 216 217 218 219 220 221 222 223 224 225 226 227 228 229 230 231 232 233\n",
            " 234 235 236 237 238 239 240 241 242 243 244 245 246 247 248] TEST: [249 250 251 252 253 254 255 256 257 258 259 260 261 262 263 264 265 266\n",
            " 267 268 269 270 271 272 273 274 275 276 277 278 279 280 281 282 283 284\n",
            " 285 286 287 288 289 290 291 292 293 294 295 296 297 298 299 300 301 302\n",
            " 303 304 305 306 307 308 309 310 311 312 313 314 315 316 317 318 319 320\n",
            " 321 322 323 324 325 326 327 328 329 330 331 332 333 334 335 336 337 338\n",
            " 339 340 341 342 343 344 345 346 347 348 349 350 351 352 353 354 355 356\n",
            " 357 358 359 360 361 362 363 364 365 366 367 368 369 370 371 372 373 374\n",
            " 375 376 377 378 379 380 381 382 383 384 385 386 387 388 389 390 391 392\n",
            " 393 394 395 396 397 398 399 400 401 402 403 404 405 406 407 408 409 410\n",
            " 411 412 413 414 415 416 417 418 419 420 421 422 423 424 425 426 427 428\n",
            " 429 430 431 432 433 434 435 436 437 438 439 440 441 442 443 444 445 446\n",
            " 447 448 449 450 451 452 453 454 455 456 457 458 459 460 461 462 463 464\n",
            " 465 466 467 468 469 470 471 472 473 474 475 476 477 478 479 480 481 482\n",
            " 483 484 485 486 487 488 489 490 491 492 493 494 495 496 497]\n"
          ]
        }
      ]
    },
    {
      "cell_type": "code",
      "source": [
        "from sklearn.svm import SVC\n",
        "\n",
        "svc_model = SVC(decision_function_shape = 'ovo', verbose=10)\n",
        "svc_model.fit(x_train, y_train)\n",
        "\n",
        "y_predict = svc_model.predict(x_test)\n",
        "\n",
        "print(classification_report(y_test, y_predict, labels= [0,1,2,3,4], digits = 4))"
      ],
      "metadata": {
        "id": "na7Zs3QUB-Y0"
      },
      "execution_count": null,
      "outputs": []
    },
    {
      "cell_type": "code",
      "execution_count": null,
      "metadata": {
        "colab": {
          "base_uri": "https://localhost:8080/"
        },
        "id": "-JgOChJ7QKN1",
        "outputId": "3e357f38-5d81-42e7-c3df-6598dad4f1bd"
      },
      "outputs": [
        {
          "output_type": "stream",
          "name": "stdout",
          "text": [
            "              precision    recall  f1-score   support\n",
            "\n",
            "           0     0.8333    0.7143    0.7692         7\n",
            "           1     0.0000    0.0000    0.0000         2\n",
            "           2     0.8333    0.4167    0.5556        12\n",
            "           3     0.4348    0.5000    0.4651        20\n",
            "           4     0.7812    0.8475    0.8130        59\n",
            "\n",
            "    accuracy                         0.7000       100\n",
            "   macro avg     0.5765    0.4957    0.5206       100\n",
            "weighted avg     0.7062    0.7000    0.6932       100\n",
            "\n"
          ]
        },
        {
          "output_type": "stream",
          "name": "stderr",
          "text": [
            "/usr/local/lib/python3.7/dist-packages/scipy/optimize/linesearch.py:314: LineSearchWarning: The line search algorithm did not converge\n",
            "  warn('The line search algorithm did not converge', LineSearchWarning)\n",
            "/usr/local/lib/python3.7/dist-packages/sklearn/utils/optimize.py:203: UserWarning: Line Search failed\n",
            "  warnings.warn(\"Line Search failed\")\n"
          ]
        }
      ],
      "source": [
        "from sklearn.linear_model import LogisticRegression\n",
        "from sklearn.metrics import classification_report, f1_score\n",
        "\n",
        "lr_model = LogisticRegression(multi_class='multinomial', solver='newton-cg')\n",
        "lr_model.fit(x_train, y_train)\n",
        "\n",
        "y_predict = lr_model.predict(x_test)\n",
        "\n",
        "print(classification_report(y_test, y_predict, labels= [0,1,2,3,4], digits = 4))"
      ]
    },
    {
      "cell_type": "code",
      "execution_count": null,
      "metadata": {
        "colab": {
          "base_uri": "https://localhost:8080/"
        },
        "id": "cQpS6SuaQs1m",
        "outputId": "bbb3f908-618b-4c10-c0c0-6fb6df907d1e"
      },
      "outputs": [
        {
          "output_type": "stream",
          "name": "stdout",
          "text": [
            "[LibSVM]              precision    recall  f1-score   support\n",
            "\n",
            "           0     0.6667    0.5714    0.6154         7\n",
            "           1     0.0000    0.0000    0.0000         2\n",
            "           2     1.0000    0.3333    0.5000        12\n",
            "           3     0.8000    0.4000    0.5333        20\n",
            "           4     0.7250    0.9831    0.8345        59\n",
            "\n",
            "    accuracy                         0.7400       100\n",
            "   macro avg     0.6383    0.4576    0.4967       100\n",
            "weighted avg     0.7544    0.7400    0.7021       100\n",
            "\n"
          ]
        },
        {
          "output_type": "stream",
          "name": "stderr",
          "text": [
            "/usr/local/lib/python3.7/dist-packages/sklearn/metrics/_classification.py:1318: UndefinedMetricWarning: Precision and F-score are ill-defined and being set to 0.0 in labels with no predicted samples. Use `zero_division` parameter to control this behavior.\n",
            "  _warn_prf(average, modifier, msg_start, len(result))\n",
            "/usr/local/lib/python3.7/dist-packages/sklearn/metrics/_classification.py:1318: UndefinedMetricWarning: Precision and F-score are ill-defined and being set to 0.0 in labels with no predicted samples. Use `zero_division` parameter to control this behavior.\n",
            "  _warn_prf(average, modifier, msg_start, len(result))\n",
            "/usr/local/lib/python3.7/dist-packages/sklearn/metrics/_classification.py:1318: UndefinedMetricWarning: Precision and F-score are ill-defined and being set to 0.0 in labels with no predicted samples. Use `zero_division` parameter to control this behavior.\n",
            "  _warn_prf(average, modifier, msg_start, len(result))\n"
          ]
        }
      ],
      "source": [
        "from sklearn.svm import SVC\n",
        "\n",
        "svc_model = SVC(decision_function_shape = 'ovo', verbose=10, class_weight = {0:5, 1:0, 2:1.5, 3:1.5, 4:5})\n",
        "svc_model.fit(x_train, y_train)\n",
        "\n",
        "y_predict = svc_model.predict(x_test)\n",
        "\n",
        "print(classification_report(y_test, y_predict, labels= [0,1,2,3,4], digits = 4))"
      ]
    },
    {
      "cell_type": "code",
      "execution_count": null,
      "metadata": {
        "colab": {
          "base_uri": "https://localhost:8080/"
        },
        "id": "1PScSKLVQz8-",
        "outputId": "6662ca8e-7e3f-4609-cd82-e3c7fc3fd12b"
      },
      "outputs": [
        {
          "output_type": "stream",
          "name": "stdout",
          "text": [
            "              precision    recall  f1-score   support\n",
            "\n",
            "           0     1.0000    0.2000    0.3333         5\n",
            "           1     0.0000    0.0000    0.0000         4\n",
            "           2     0.7500    0.2500    0.3750        12\n",
            "           3     0.4286    0.1667    0.2400        18\n",
            "           4     0.6818    0.9836    0.8054        61\n",
            "\n",
            "    accuracy                         0.6700       100\n",
            "   macro avg     0.5721    0.3201    0.3507       100\n",
            "weighted avg     0.6331    0.6700    0.5961       100\n",
            "\n"
          ]
        },
        {
          "output_type": "stream",
          "name": "stderr",
          "text": [
            "/usr/local/lib/python3.7/dist-packages/sklearn/metrics/_classification.py:1318: UndefinedMetricWarning: Precision and F-score are ill-defined and being set to 0.0 in labels with no predicted samples. Use `zero_division` parameter to control this behavior.\n",
            "  _warn_prf(average, modifier, msg_start, len(result))\n",
            "/usr/local/lib/python3.7/dist-packages/sklearn/metrics/_classification.py:1318: UndefinedMetricWarning: Precision and F-score are ill-defined and being set to 0.0 in labels with no predicted samples. Use `zero_division` parameter to control this behavior.\n",
            "  _warn_prf(average, modifier, msg_start, len(result))\n",
            "/usr/local/lib/python3.7/dist-packages/sklearn/metrics/_classification.py:1318: UndefinedMetricWarning: Precision and F-score are ill-defined and being set to 0.0 in labels with no predicted samples. Use `zero_division` parameter to control this behavior.\n",
            "  _warn_prf(average, modifier, msg_start, len(result))\n"
          ]
        }
      ],
      "source": [
        "from sklearn.ensemble import RandomForestClassifier\n",
        "rfc = RandomForestClassifier(max_depth=None, random_state=0)\n",
        "rfc.fit(x_train, y_train)\n",
        "\n",
        "y_predict = rfc.predict(x_test)\n",
        "\n",
        "print(classification_report(y_test, y_predict, labels= [0,1,2,3,4], digits = 4))"
      ]
    },
    {
      "cell_type": "code",
      "execution_count": null,
      "metadata": {
        "colab": {
          "base_uri": "https://localhost:8080/"
        },
        "id": "NZSys26HQ7KP",
        "outputId": "e809bf7e-f957-45a0-e969-525e5803863b"
      },
      "outputs": [
        {
          "output_type": "stream",
          "name": "stdout",
          "text": [
            "Looking in indexes: https://pypi.org/simple, https://us-python.pkg.dev/colab-wheels/public/simple/\n",
            "Requirement already satisfied: xgboost in /usr/local/lib/python3.7/dist-packages (0.90)\n",
            "Requirement already satisfied: numpy in /usr/local/lib/python3.7/dist-packages (from xgboost) (1.21.6)\n",
            "Requirement already satisfied: scipy in /usr/local/lib/python3.7/dist-packages (from xgboost) (1.4.1)\n"
          ]
        }
      ],
      "source": [
        "!pip install xgboost"
      ]
    },
    {
      "cell_type": "code",
      "source": [
        ""
      ],
      "metadata": {
        "id": "XQbnYUSrEvsQ"
      },
      "execution_count": null,
      "outputs": []
    },
    {
      "cell_type": "code",
      "execution_count": null,
      "metadata": {
        "colab": {
          "base_uri": "https://localhost:8080/"
        },
        "id": "eoHxy4tWQ9d6",
        "outputId": "080dc27a-1645-4472-b210-694add06d10c"
      },
      "outputs": [
        {
          "output_type": "stream",
          "name": "stdout",
          "text": [
            "              precision    recall  f1-score   support\n",
            "\n",
            "           0       0.71      0.71      0.71         7\n",
            "           1       0.00      0.00      0.00         2\n",
            "           2       0.67      0.33      0.44        12\n",
            "           3       0.53      0.45      0.49        20\n",
            "           4       0.76      0.90      0.82        59\n",
            "\n",
            "    accuracy                           0.71       100\n",
            "   macro avg       0.53      0.48      0.49       100\n",
            "weighted avg       0.68      0.71      0.69       100\n",
            "\n"
          ]
        },
        {
          "output_type": "stream",
          "name": "stderr",
          "text": [
            "/usr/local/lib/python3.7/dist-packages/sklearn/metrics/_classification.py:1318: UndefinedMetricWarning: Precision and F-score are ill-defined and being set to 0.0 in labels with no predicted samples. Use `zero_division` parameter to control this behavior.\n",
            "  _warn_prf(average, modifier, msg_start, len(result))\n",
            "/usr/local/lib/python3.7/dist-packages/sklearn/metrics/_classification.py:1318: UndefinedMetricWarning: Precision and F-score are ill-defined and being set to 0.0 in labels with no predicted samples. Use `zero_division` parameter to control this behavior.\n",
            "  _warn_prf(average, modifier, msg_start, len(result))\n",
            "/usr/local/lib/python3.7/dist-packages/sklearn/metrics/_classification.py:1318: UndefinedMetricWarning: Precision and F-score are ill-defined and being set to 0.0 in labels with no predicted samples. Use `zero_division` parameter to control this behavior.\n",
            "  _warn_prf(average, modifier, msg_start, len(result))\n"
          ]
        }
      ],
      "source": [
        "import xgboost as xgb\n",
        "\n",
        "dtrain = xgb.DMatrix(data=x_train, label=y_train)\n",
        "dtest = xgb.DMatrix(data=x_test)\n",
        "\n",
        "params = {\n",
        "    'max_depth': 100,\n",
        "    'objective': 'multi:softmax',  \n",
        "    'num_class': 5,\n",
        "    'n_gpus': 0,\n",
        "    'learning_rate': 0.5,\n",
        "    'n_estimators': 100,\n",
        "    'eta':0.1,\n",
        "    'subsample':0.8\n",
        "}\n",
        "# num_round = 2\n",
        "\n",
        "# cv_analysis = xgb.cv(params, dtrain, num_round, nfold=5, seed=0)\n",
        "\n",
        "bst = xgb.train(params, dtrain)\n",
        "\n",
        "y_predict = bst.predict(dtest)\n",
        "\n",
        "print(classification_report(y_test, y_predict, labels= [0,1,2,3,4]))"
      ]
    },
    {
      "cell_type": "code",
      "source": [
        "from sklearn.model_selection import cross_val_predict\n",
        "from sklearn.model_selection import cross_val_score, GridSearchCV, KFold, RandomizedSearchCV, train_test_split\n",
        "xgb_cl=xgb.XGBClassifier(colsample_bytree=0.8, learning_rate=0.4, max_depth=4)\n",
        "cvs=cross_val_score(xgb_cl,x_train,y_train,scoring='accuracy',cv=10)\n",
        "print('cross_val_scores=  ',cvs.mean())\n",
        "y_pred=cross_val_predict(xgb_cl,x_test,y_test,cv=10)\n",
        "conf_mat=confusion_matrix(y_pred,y_test)\n",
        "conf_mat"
      ],
      "metadata": {
        "colab": {
          "base_uri": "https://localhost:8080/",
          "height": 289
        },
        "id": "dmI-Bc4BEaFQ",
        "outputId": "900c1d10-2cf1-4e57-9208-1e177d870a2b"
      },
      "execution_count": null,
      "outputs": [
        {
          "output_type": "stream",
          "name": "stdout",
          "text": [
            "cross_val_scores=   0.6156410256410256\n"
          ]
        },
        {
          "output_type": "stream",
          "name": "stderr",
          "text": [
            "/usr/local/lib/python3.7/dist-packages/sklearn/model_selection/_split.py:680: UserWarning: The least populated class in y has only 2 members, which is less than n_splits=10.\n",
            "  UserWarning,\n"
          ]
        },
        {
          "output_type": "error",
          "ename": "NameError",
          "evalue": "ignored",
          "traceback": [
            "\u001b[0;31m---------------------------------------------------------------------------\u001b[0m",
            "\u001b[0;31mNameError\u001b[0m                                 Traceback (most recent call last)",
            "\u001b[0;32m<ipython-input-71-b43f4c7830fc>\u001b[0m in \u001b[0;36m<module>\u001b[0;34m()\u001b[0m\n\u001b[1;32m      5\u001b[0m \u001b[0mprint\u001b[0m\u001b[0;34m(\u001b[0m\u001b[0;34m'cross_val_scores=  '\u001b[0m\u001b[0;34m,\u001b[0m\u001b[0mcvs\u001b[0m\u001b[0;34m.\u001b[0m\u001b[0mmean\u001b[0m\u001b[0;34m(\u001b[0m\u001b[0;34m)\u001b[0m\u001b[0;34m)\u001b[0m\u001b[0;34m\u001b[0m\u001b[0;34m\u001b[0m\u001b[0m\n\u001b[1;32m      6\u001b[0m \u001b[0my_pred\u001b[0m\u001b[0;34m=\u001b[0m\u001b[0mcross_val_predict\u001b[0m\u001b[0;34m(\u001b[0m\u001b[0mxgb_cl\u001b[0m\u001b[0;34m,\u001b[0m\u001b[0mx_test\u001b[0m\u001b[0;34m,\u001b[0m\u001b[0my_test\u001b[0m\u001b[0;34m,\u001b[0m\u001b[0mcv\u001b[0m\u001b[0;34m=\u001b[0m\u001b[0;36m10\u001b[0m\u001b[0;34m)\u001b[0m\u001b[0;34m\u001b[0m\u001b[0;34m\u001b[0m\u001b[0m\n\u001b[0;32m----> 7\u001b[0;31m \u001b[0mconf_mat\u001b[0m\u001b[0;34m=\u001b[0m\u001b[0mconfusion_matrix\u001b[0m\u001b[0;34m(\u001b[0m\u001b[0my_pred\u001b[0m\u001b[0;34m,\u001b[0m\u001b[0my_test\u001b[0m\u001b[0;34m)\u001b[0m\u001b[0;34m\u001b[0m\u001b[0;34m\u001b[0m\u001b[0m\n\u001b[0m\u001b[1;32m      8\u001b[0m \u001b[0mconf_mat\u001b[0m\u001b[0;34m\u001b[0m\u001b[0;34m\u001b[0m\u001b[0m\n",
            "\u001b[0;31mNameError\u001b[0m: name 'confusion_matrix' is not defined"
          ]
        }
      ]
    }
  ],
  "metadata": {
    "colab": {
      "collapsed_sections": [
        "RkkXkiXCac37",
        "zJAg6rcDl0GP"
      ],
      "name": "BERT_ML",
      "provenance": [],
      "include_colab_link": true
    },
    "gpuClass": "standard",
    "kernelspec": {
      "display_name": "Python 3",
      "name": "python3"
    },
    "language_info": {
      "name": "python"
    },
    "widgets": {
      "application/vnd.jupyter.widget-state+json": {
        "021ce889c15c41018ec390b8b9e9a5d7": {
          "model_module": "@jupyter-widgets/base",
          "model_module_version": "1.2.0",
          "model_name": "LayoutModel",
          "state": {
            "_model_module": "@jupyter-widgets/base",
            "_model_module_version": "1.2.0",
            "_model_name": "LayoutModel",
            "_view_count": null,
            "_view_module": "@jupyter-widgets/base",
            "_view_module_version": "1.2.0",
            "_view_name": "LayoutView",
            "align_content": null,
            "align_items": null,
            "align_self": null,
            "border": null,
            "bottom": null,
            "display": null,
            "flex": null,
            "flex_flow": null,
            "grid_area": null,
            "grid_auto_columns": null,
            "grid_auto_flow": null,
            "grid_auto_rows": null,
            "grid_column": null,
            "grid_gap": null,
            "grid_row": null,
            "grid_template_areas": null,
            "grid_template_columns": null,
            "grid_template_rows": null,
            "height": null,
            "justify_content": null,
            "justify_items": null,
            "left": null,
            "margin": null,
            "max_height": null,
            "max_width": null,
            "min_height": null,
            "min_width": null,
            "object_fit": null,
            "object_position": null,
            "order": null,
            "overflow": null,
            "overflow_x": null,
            "overflow_y": null,
            "padding": null,
            "right": null,
            "top": null,
            "visibility": null,
            "width": null
          }
        },
        "0442b14c719844bfa3816e0fbe1e8e32": {
          "model_module": "@jupyter-widgets/controls",
          "model_module_version": "1.5.0",
          "model_name": "HTMLModel",
          "state": {
            "_dom_classes": [],
            "_model_module": "@jupyter-widgets/controls",
            "_model_module_version": "1.5.0",
            "_model_name": "HTMLModel",
            "_view_count": null,
            "_view_module": "@jupyter-widgets/controls",
            "_view_module_version": "1.5.0",
            "_view_name": "HTMLView",
            "description": "",
            "description_tooltip": null,
            "layout": "IPY_MODEL_b0b7f60b516d409c895e2a64906e131c",
            "placeholder": "​",
            "style": "IPY_MODEL_f27362e834754caa9334f3c5fa124fbb",
            "value": ""
          }
        },
        "057acadb1828485d8f35263b6dd0b7c2": {
          "model_module": "@jupyter-widgets/base",
          "model_module_version": "1.2.0",
          "model_name": "LayoutModel",
          "state": {
            "_model_module": "@jupyter-widgets/base",
            "_model_module_version": "1.2.0",
            "_model_name": "LayoutModel",
            "_view_count": null,
            "_view_module": "@jupyter-widgets/base",
            "_view_module_version": "1.2.0",
            "_view_name": "LayoutView",
            "align_content": null,
            "align_items": null,
            "align_self": null,
            "border": null,
            "bottom": null,
            "display": null,
            "flex": null,
            "flex_flow": null,
            "grid_area": null,
            "grid_auto_columns": null,
            "grid_auto_flow": null,
            "grid_auto_rows": null,
            "grid_column": null,
            "grid_gap": null,
            "grid_row": null,
            "grid_template_areas": null,
            "grid_template_columns": null,
            "grid_template_rows": null,
            "height": null,
            "justify_content": null,
            "justify_items": null,
            "left": null,
            "margin": null,
            "max_height": null,
            "max_width": null,
            "min_height": null,
            "min_width": null,
            "object_fit": null,
            "object_position": null,
            "order": null,
            "overflow": null,
            "overflow_x": null,
            "overflow_y": null,
            "padding": null,
            "right": null,
            "top": null,
            "visibility": null,
            "width": null
          }
        },
        "05bd70e9944749c7adc6f499d8183ebc": {
          "model_module": "@jupyter-widgets/controls",
          "model_module_version": "1.5.0",
          "model_name": "HTMLModel",
          "state": {
            "_dom_classes": [],
            "_model_module": "@jupyter-widgets/controls",
            "_model_module_version": "1.5.0",
            "_model_name": "HTMLModel",
            "_view_count": null,
            "_view_module": "@jupyter-widgets/controls",
            "_view_module_version": "1.5.0",
            "_view_name": "HTMLView",
            "description": "",
            "description_tooltip": null,
            "layout": "IPY_MODEL_c7b1a591ebc74e4c9258ce5b2b969308",
            "placeholder": "​",
            "style": "IPY_MODEL_84837bb6b5654874881fa63b1eaae768",
            "value": ""
          }
        },
        "08f420271a164d8dbd1f5679b8a3628f": {
          "model_module": "@jupyter-widgets/controls",
          "model_module_version": "1.5.0",
          "model_name": "ProgressStyleModel",
          "state": {
            "_model_module": "@jupyter-widgets/controls",
            "_model_module_version": "1.5.0",
            "_model_name": "ProgressStyleModel",
            "_view_count": null,
            "_view_module": "@jupyter-widgets/base",
            "_view_module_version": "1.2.0",
            "_view_name": "StyleView",
            "bar_color": null,
            "description_width": ""
          }
        },
        "117f8ebb970f4d718514ddc5c475497d": {
          "model_module": "@jupyter-widgets/base",
          "model_module_version": "1.2.0",
          "model_name": "LayoutModel",
          "state": {
            "_model_module": "@jupyter-widgets/base",
            "_model_module_version": "1.2.0",
            "_model_name": "LayoutModel",
            "_view_count": null,
            "_view_module": "@jupyter-widgets/base",
            "_view_module_version": "1.2.0",
            "_view_name": "LayoutView",
            "align_content": null,
            "align_items": null,
            "align_self": null,
            "border": null,
            "bottom": null,
            "display": null,
            "flex": null,
            "flex_flow": null,
            "grid_area": null,
            "grid_auto_columns": null,
            "grid_auto_flow": null,
            "grid_auto_rows": null,
            "grid_column": null,
            "grid_gap": null,
            "grid_row": null,
            "grid_template_areas": null,
            "grid_template_columns": null,
            "grid_template_rows": null,
            "height": null,
            "justify_content": null,
            "justify_items": null,
            "left": null,
            "margin": null,
            "max_height": null,
            "max_width": null,
            "min_height": null,
            "min_width": null,
            "object_fit": null,
            "object_position": null,
            "order": null,
            "overflow": null,
            "overflow_x": null,
            "overflow_y": null,
            "padding": null,
            "right": null,
            "top": null,
            "visibility": null,
            "width": null
          }
        },
        "14b12ffc207740eb95b51633762400a1": {
          "model_module": "@jupyter-widgets/controls",
          "model_module_version": "1.5.0",
          "model_name": "HTMLModel",
          "state": {
            "_dom_classes": [],
            "_model_module": "@jupyter-widgets/controls",
            "_model_module_version": "1.5.0",
            "_model_name": "HTMLModel",
            "_view_count": null,
            "_view_module": "@jupyter-widgets/controls",
            "_view_module_version": "1.5.0",
            "_view_name": "HTMLView",
            "description": "",
            "description_tooltip": null,
            "layout": "IPY_MODEL_88323369a3734ec789e3d82926e0ca80",
            "placeholder": "​",
            "style": "IPY_MODEL_5b73c52eae5d45d9b82aef9c82650c0b",
            "value": ""
          }
        },
        "14dc2507566e4e6ea064ec916fffa03d": {
          "model_module": "@jupyter-widgets/controls",
          "model_module_version": "1.5.0",
          "model_name": "HBoxModel",
          "state": {
            "_dom_classes": [],
            "_model_module": "@jupyter-widgets/controls",
            "_model_module_version": "1.5.0",
            "_model_name": "HBoxModel",
            "_view_count": null,
            "_view_module": "@jupyter-widgets/controls",
            "_view_module_version": "1.5.0",
            "_view_name": "HBoxView",
            "box_style": "",
            "children": [
              "IPY_MODEL_0442b14c719844bfa3816e0fbe1e8e32",
              "IPY_MODEL_a0ad6048a57b4535a757e8364454063f",
              "IPY_MODEL_575abe1259dd4feebcbffbdb63ac4f4f"
            ],
            "layout": "IPY_MODEL_535578d493604efe8846059c51c2f643"
          }
        },
        "1a6f2f735c0a4c0d8d45fb1c708e3704": {
          "model_module": "@jupyter-widgets/base",
          "model_module_version": "1.2.0",
          "model_name": "LayoutModel",
          "state": {
            "_model_module": "@jupyter-widgets/base",
            "_model_module_version": "1.2.0",
            "_model_name": "LayoutModel",
            "_view_count": null,
            "_view_module": "@jupyter-widgets/base",
            "_view_module_version": "1.2.0",
            "_view_name": "LayoutView",
            "align_content": null,
            "align_items": null,
            "align_self": null,
            "border": null,
            "bottom": null,
            "display": null,
            "flex": null,
            "flex_flow": null,
            "grid_area": null,
            "grid_auto_columns": null,
            "grid_auto_flow": null,
            "grid_auto_rows": null,
            "grid_column": null,
            "grid_gap": null,
            "grid_row": null,
            "grid_template_areas": null,
            "grid_template_columns": null,
            "grid_template_rows": null,
            "height": null,
            "justify_content": null,
            "justify_items": null,
            "left": null,
            "margin": null,
            "max_height": null,
            "max_width": null,
            "min_height": null,
            "min_width": null,
            "object_fit": null,
            "object_position": null,
            "order": null,
            "overflow": null,
            "overflow_x": null,
            "overflow_y": null,
            "padding": null,
            "right": null,
            "top": null,
            "visibility": null,
            "width": null
          }
        },
        "1bc8b540206b4047b7b525e349adee12": {
          "model_module": "@jupyter-widgets/controls",
          "model_module_version": "1.5.0",
          "model_name": "HBoxModel",
          "state": {
            "_dom_classes": [],
            "_model_module": "@jupyter-widgets/controls",
            "_model_module_version": "1.5.0",
            "_model_name": "HBoxModel",
            "_view_count": null,
            "_view_module": "@jupyter-widgets/controls",
            "_view_module_version": "1.5.0",
            "_view_name": "HBoxView",
            "box_style": "",
            "children": [
              "IPY_MODEL_05bd70e9944749c7adc6f499d8183ebc",
              "IPY_MODEL_f66881a401ec478a81d9fd800e71b391",
              "IPY_MODEL_fd6278951b3f4b648c38003de8a16f67"
            ],
            "layout": "IPY_MODEL_1a6f2f735c0a4c0d8d45fb1c708e3704"
          }
        },
        "1d012f8d3cfc4542a55e2939acdd5382": {
          "model_module": "@jupyter-widgets/base",
          "model_module_version": "1.2.0",
          "model_name": "LayoutModel",
          "state": {
            "_model_module": "@jupyter-widgets/base",
            "_model_module_version": "1.2.0",
            "_model_name": "LayoutModel",
            "_view_count": null,
            "_view_module": "@jupyter-widgets/base",
            "_view_module_version": "1.2.0",
            "_view_name": "LayoutView",
            "align_content": null,
            "align_items": null,
            "align_self": null,
            "border": null,
            "bottom": null,
            "display": null,
            "flex": null,
            "flex_flow": null,
            "grid_area": null,
            "grid_auto_columns": null,
            "grid_auto_flow": null,
            "grid_auto_rows": null,
            "grid_column": null,
            "grid_gap": null,
            "grid_row": null,
            "grid_template_areas": null,
            "grid_template_columns": null,
            "grid_template_rows": null,
            "height": null,
            "justify_content": null,
            "justify_items": null,
            "left": null,
            "margin": null,
            "max_height": null,
            "max_width": null,
            "min_height": null,
            "min_width": null,
            "object_fit": null,
            "object_position": null,
            "order": null,
            "overflow": null,
            "overflow_x": null,
            "overflow_y": null,
            "padding": null,
            "right": null,
            "top": null,
            "visibility": null,
            "width": null
          }
        },
        "20bd6b5e8a394dcd9a1e776bc50f8d53": {
          "model_module": "@jupyter-widgets/controls",
          "model_module_version": "1.5.0",
          "model_name": "FloatProgressModel",
          "state": {
            "_dom_classes": [],
            "_model_module": "@jupyter-widgets/controls",
            "_model_module_version": "1.5.0",
            "_model_name": "FloatProgressModel",
            "_view_count": null,
            "_view_module": "@jupyter-widgets/controls",
            "_view_module_version": "1.5.0",
            "_view_name": "ProgressView",
            "bar_style": "success",
            "description": "",
            "description_tooltip": null,
            "layout": "IPY_MODEL_f13c4f39f4e7473e81170e4f8891cfb0",
            "max": 1,
            "min": 0,
            "orientation": "horizontal",
            "style": "IPY_MODEL_d3068c089352472d9beb220e52f11473",
            "value": 1
          }
        },
        "22ea7f77a2ef4161b77d84a58d258f5e": {
          "model_module": "@jupyter-widgets/controls",
          "model_module_version": "1.5.0",
          "model_name": "ProgressStyleModel",
          "state": {
            "_model_module": "@jupyter-widgets/controls",
            "_model_module_version": "1.5.0",
            "_model_name": "ProgressStyleModel",
            "_view_count": null,
            "_view_module": "@jupyter-widgets/base",
            "_view_module_version": "1.2.0",
            "_view_name": "StyleView",
            "bar_color": null,
            "description_width": ""
          }
        },
        "24201e54d9bf48b1a5bed86fb8ba87e4": {
          "model_module": "@jupyter-widgets/base",
          "model_module_version": "1.2.0",
          "model_name": "LayoutModel",
          "state": {
            "_model_module": "@jupyter-widgets/base",
            "_model_module_version": "1.2.0",
            "_model_name": "LayoutModel",
            "_view_count": null,
            "_view_module": "@jupyter-widgets/base",
            "_view_module_version": "1.2.0",
            "_view_name": "LayoutView",
            "align_content": null,
            "align_items": null,
            "align_self": null,
            "border": null,
            "bottom": null,
            "display": null,
            "flex": null,
            "flex_flow": null,
            "grid_area": null,
            "grid_auto_columns": null,
            "grid_auto_flow": null,
            "grid_auto_rows": null,
            "grid_column": null,
            "grid_gap": null,
            "grid_row": null,
            "grid_template_areas": null,
            "grid_template_columns": null,
            "grid_template_rows": null,
            "height": null,
            "justify_content": null,
            "justify_items": null,
            "left": null,
            "margin": null,
            "max_height": null,
            "max_width": null,
            "min_height": null,
            "min_width": null,
            "object_fit": null,
            "object_position": null,
            "order": null,
            "overflow": null,
            "overflow_x": null,
            "overflow_y": null,
            "padding": null,
            "right": null,
            "top": null,
            "visibility": null,
            "width": "20px"
          }
        },
        "25001255de4d43d1ac5fcfc659595f2e": {
          "model_module": "@jupyter-widgets/base",
          "model_module_version": "1.2.0",
          "model_name": "LayoutModel",
          "state": {
            "_model_module": "@jupyter-widgets/base",
            "_model_module_version": "1.2.0",
            "_model_name": "LayoutModel",
            "_view_count": null,
            "_view_module": "@jupyter-widgets/base",
            "_view_module_version": "1.2.0",
            "_view_name": "LayoutView",
            "align_content": null,
            "align_items": null,
            "align_self": null,
            "border": null,
            "bottom": null,
            "display": null,
            "flex": null,
            "flex_flow": null,
            "grid_area": null,
            "grid_auto_columns": null,
            "grid_auto_flow": null,
            "grid_auto_rows": null,
            "grid_column": null,
            "grid_gap": null,
            "grid_row": null,
            "grid_template_areas": null,
            "grid_template_columns": null,
            "grid_template_rows": null,
            "height": null,
            "justify_content": null,
            "justify_items": null,
            "left": null,
            "margin": null,
            "max_height": null,
            "max_width": null,
            "min_height": null,
            "min_width": null,
            "object_fit": null,
            "object_position": null,
            "order": null,
            "overflow": null,
            "overflow_x": null,
            "overflow_y": null,
            "padding": null,
            "right": null,
            "top": null,
            "visibility": null,
            "width": null
          }
        },
        "2fc88596deaa4ba6abf20311eb621c1e": {
          "model_module": "@jupyter-widgets/controls",
          "model_module_version": "1.5.0",
          "model_name": "DescriptionStyleModel",
          "state": {
            "_model_module": "@jupyter-widgets/controls",
            "_model_module_version": "1.5.0",
            "_model_name": "DescriptionStyleModel",
            "_view_count": null,
            "_view_module": "@jupyter-widgets/base",
            "_view_module_version": "1.2.0",
            "_view_name": "StyleView",
            "description_width": ""
          }
        },
        "304621b4a3934208833a153a9da1044a": {
          "model_module": "@jupyter-widgets/controls",
          "model_module_version": "1.5.0",
          "model_name": "ProgressStyleModel",
          "state": {
            "_model_module": "@jupyter-widgets/controls",
            "_model_module_version": "1.5.0",
            "_model_name": "ProgressStyleModel",
            "_view_count": null,
            "_view_module": "@jupyter-widgets/base",
            "_view_module_version": "1.2.0",
            "_view_name": "StyleView",
            "bar_color": null,
            "description_width": ""
          }
        },
        "31c60e12ea5b47b2879c59650d3f3471": {
          "model_module": "@jupyter-widgets/controls",
          "model_module_version": "1.5.0",
          "model_name": "DescriptionStyleModel",
          "state": {
            "_model_module": "@jupyter-widgets/controls",
            "_model_module_version": "1.5.0",
            "_model_name": "DescriptionStyleModel",
            "_view_count": null,
            "_view_module": "@jupyter-widgets/base",
            "_view_module_version": "1.2.0",
            "_view_name": "StyleView",
            "description_width": ""
          }
        },
        "329b6008f30a414db7a8406f5000d778": {
          "model_module": "@jupyter-widgets/base",
          "model_module_version": "1.2.0",
          "model_name": "LayoutModel",
          "state": {
            "_model_module": "@jupyter-widgets/base",
            "_model_module_version": "1.2.0",
            "_model_name": "LayoutModel",
            "_view_count": null,
            "_view_module": "@jupyter-widgets/base",
            "_view_module_version": "1.2.0",
            "_view_name": "LayoutView",
            "align_content": null,
            "align_items": null,
            "align_self": null,
            "border": null,
            "bottom": null,
            "display": null,
            "flex": null,
            "flex_flow": null,
            "grid_area": null,
            "grid_auto_columns": null,
            "grid_auto_flow": null,
            "grid_auto_rows": null,
            "grid_column": null,
            "grid_gap": null,
            "grid_row": null,
            "grid_template_areas": null,
            "grid_template_columns": null,
            "grid_template_rows": null,
            "height": null,
            "justify_content": null,
            "justify_items": null,
            "left": null,
            "margin": null,
            "max_height": null,
            "max_width": null,
            "min_height": null,
            "min_width": null,
            "object_fit": null,
            "object_position": null,
            "order": null,
            "overflow": null,
            "overflow_x": null,
            "overflow_y": null,
            "padding": null,
            "right": null,
            "top": null,
            "visibility": null,
            "width": null
          }
        },
        "3658ad6606e246a1bf9ed666ee261b73": {
          "model_module": "@jupyter-widgets/controls",
          "model_module_version": "1.5.0",
          "model_name": "HBoxModel",
          "state": {
            "_dom_classes": [],
            "_model_module": "@jupyter-widgets/controls",
            "_model_module_version": "1.5.0",
            "_model_name": "HBoxModel",
            "_view_count": null,
            "_view_module": "@jupyter-widgets/controls",
            "_view_module_version": "1.5.0",
            "_view_name": "HBoxView",
            "box_style": "",
            "children": [
              "IPY_MODEL_14b12ffc207740eb95b51633762400a1",
              "IPY_MODEL_7d87959a7e504f15be6e07479285524c",
              "IPY_MODEL_cc118dd741754ece902b550999b59538"
            ],
            "layout": "IPY_MODEL_432d4354a0e94044b4ab7965e8bcdb4b"
          }
        },
        "38ccfa33000545c899aedfd2d055832a": {
          "model_module": "@jupyter-widgets/controls",
          "model_module_version": "1.5.0",
          "model_name": "HTMLModel",
          "state": {
            "_dom_classes": [],
            "_model_module": "@jupyter-widgets/controls",
            "_model_module_version": "1.5.0",
            "_model_name": "HTMLModel",
            "_view_count": null,
            "_view_module": "@jupyter-widgets/controls",
            "_view_module_version": "1.5.0",
            "_view_name": "HTMLView",
            "description": "",
            "description_tooltip": null,
            "layout": "IPY_MODEL_fcc3fb767dc0407fbfb4398a24fec6b7",
            "placeholder": "​",
            "style": "IPY_MODEL_47f3668117b947dfb00af8d95554558c",
            "value": " 35/? [00:22&lt;00:00,  1.99it/s]"
          }
        },
        "38ecfb4b218543548eb985c9da6064bb": {
          "model_module": "@jupyter-widgets/controls",
          "model_module_version": "1.5.0",
          "model_name": "DescriptionStyleModel",
          "state": {
            "_model_module": "@jupyter-widgets/controls",
            "_model_module_version": "1.5.0",
            "_model_name": "DescriptionStyleModel",
            "_view_count": null,
            "_view_module": "@jupyter-widgets/base",
            "_view_module_version": "1.2.0",
            "_view_name": "StyleView",
            "description_width": ""
          }
        },
        "3dd44bca932f424b8a11d62fa52683c3": {
          "model_module": "@jupyter-widgets/base",
          "model_module_version": "1.2.0",
          "model_name": "LayoutModel",
          "state": {
            "_model_module": "@jupyter-widgets/base",
            "_model_module_version": "1.2.0",
            "_model_name": "LayoutModel",
            "_view_count": null,
            "_view_module": "@jupyter-widgets/base",
            "_view_module_version": "1.2.0",
            "_view_name": "LayoutView",
            "align_content": null,
            "align_items": null,
            "align_self": null,
            "border": null,
            "bottom": null,
            "display": null,
            "flex": null,
            "flex_flow": null,
            "grid_area": null,
            "grid_auto_columns": null,
            "grid_auto_flow": null,
            "grid_auto_rows": null,
            "grid_column": null,
            "grid_gap": null,
            "grid_row": null,
            "grid_template_areas": null,
            "grid_template_columns": null,
            "grid_template_rows": null,
            "height": null,
            "justify_content": null,
            "justify_items": null,
            "left": null,
            "margin": null,
            "max_height": null,
            "max_width": null,
            "min_height": null,
            "min_width": null,
            "object_fit": null,
            "object_position": null,
            "order": null,
            "overflow": null,
            "overflow_x": null,
            "overflow_y": null,
            "padding": null,
            "right": null,
            "top": null,
            "visibility": null,
            "width": null
          }
        },
        "42c867e189154ec3a296a5fb03299285": {
          "model_module": "@jupyter-widgets/controls",
          "model_module_version": "1.5.0",
          "model_name": "DescriptionStyleModel",
          "state": {
            "_model_module": "@jupyter-widgets/controls",
            "_model_module_version": "1.5.0",
            "_model_name": "DescriptionStyleModel",
            "_view_count": null,
            "_view_module": "@jupyter-widgets/base",
            "_view_module_version": "1.2.0",
            "_view_name": "StyleView",
            "description_width": ""
          }
        },
        "432d4354a0e94044b4ab7965e8bcdb4b": {
          "model_module": "@jupyter-widgets/base",
          "model_module_version": "1.2.0",
          "model_name": "LayoutModel",
          "state": {
            "_model_module": "@jupyter-widgets/base",
            "_model_module_version": "1.2.0",
            "_model_name": "LayoutModel",
            "_view_count": null,
            "_view_module": "@jupyter-widgets/base",
            "_view_module_version": "1.2.0",
            "_view_name": "LayoutView",
            "align_content": null,
            "align_items": null,
            "align_self": null,
            "border": null,
            "bottom": null,
            "display": null,
            "flex": null,
            "flex_flow": null,
            "grid_area": null,
            "grid_auto_columns": null,
            "grid_auto_flow": null,
            "grid_auto_rows": null,
            "grid_column": null,
            "grid_gap": null,
            "grid_row": null,
            "grid_template_areas": null,
            "grid_template_columns": null,
            "grid_template_rows": null,
            "height": null,
            "justify_content": null,
            "justify_items": null,
            "left": null,
            "margin": null,
            "max_height": null,
            "max_width": null,
            "min_height": null,
            "min_width": null,
            "object_fit": null,
            "object_position": null,
            "order": null,
            "overflow": null,
            "overflow_x": null,
            "overflow_y": null,
            "padding": null,
            "right": null,
            "top": null,
            "visibility": null,
            "width": null
          }
        },
        "47f3668117b947dfb00af8d95554558c": {
          "model_module": "@jupyter-widgets/controls",
          "model_module_version": "1.5.0",
          "model_name": "DescriptionStyleModel",
          "state": {
            "_model_module": "@jupyter-widgets/controls",
            "_model_module_version": "1.5.0",
            "_model_name": "DescriptionStyleModel",
            "_view_count": null,
            "_view_module": "@jupyter-widgets/base",
            "_view_module_version": "1.2.0",
            "_view_name": "StyleView",
            "description_width": ""
          }
        },
        "4bdfa88f587c47af9b7d39b97e2edffb": {
          "model_module": "@jupyter-widgets/controls",
          "model_module_version": "1.5.0",
          "model_name": "HBoxModel",
          "state": {
            "_dom_classes": [],
            "_model_module": "@jupyter-widgets/controls",
            "_model_module_version": "1.5.0",
            "_model_name": "HBoxModel",
            "_view_count": null,
            "_view_module": "@jupyter-widgets/controls",
            "_view_module_version": "1.5.0",
            "_view_name": "HBoxView",
            "box_style": "",
            "children": [
              "IPY_MODEL_5d10a280956e427a818b3f5db65b1ca2",
              "IPY_MODEL_70279f1b646d46efafb7c6d2688d5997",
              "IPY_MODEL_b8a9e44cfad549c1b51d0df5385f1605"
            ],
            "layout": "IPY_MODEL_e8298cdca3ef42f09bdc50ca20c2ce3e"
          }
        },
        "4c3cd3e5ef27442da38f1a43a31af3b7": {
          "model_module": "@jupyter-widgets/controls",
          "model_module_version": "1.5.0",
          "model_name": "FloatProgressModel",
          "state": {
            "_dom_classes": [],
            "_model_module": "@jupyter-widgets/controls",
            "_model_module_version": "1.5.0",
            "_model_name": "FloatProgressModel",
            "_view_count": null,
            "_view_module": "@jupyter-widgets/controls",
            "_view_module_version": "1.5.0",
            "_view_name": "ProgressView",
            "bar_style": "success",
            "description": "",
            "description_tooltip": null,
            "layout": "IPY_MODEL_aad31cf9f05f4604baafae4072da4dfe",
            "max": 1,
            "min": 0,
            "orientation": "horizontal",
            "style": "IPY_MODEL_304621b4a3934208833a153a9da1044a",
            "value": 1
          }
        },
        "4cf9207a0e644a4caea8138ff352afb4": {
          "model_module": "@jupyter-widgets/base",
          "model_module_version": "1.2.0",
          "model_name": "LayoutModel",
          "state": {
            "_model_module": "@jupyter-widgets/base",
            "_model_module_version": "1.2.0",
            "_model_name": "LayoutModel",
            "_view_count": null,
            "_view_module": "@jupyter-widgets/base",
            "_view_module_version": "1.2.0",
            "_view_name": "LayoutView",
            "align_content": null,
            "align_items": null,
            "align_self": null,
            "border": null,
            "bottom": null,
            "display": null,
            "flex": null,
            "flex_flow": null,
            "grid_area": null,
            "grid_auto_columns": null,
            "grid_auto_flow": null,
            "grid_auto_rows": null,
            "grid_column": null,
            "grid_gap": null,
            "grid_row": null,
            "grid_template_areas": null,
            "grid_template_columns": null,
            "grid_template_rows": null,
            "height": null,
            "justify_content": null,
            "justify_items": null,
            "left": null,
            "margin": null,
            "max_height": null,
            "max_width": null,
            "min_height": null,
            "min_width": null,
            "object_fit": null,
            "object_position": null,
            "order": null,
            "overflow": null,
            "overflow_x": null,
            "overflow_y": null,
            "padding": null,
            "right": null,
            "top": null,
            "visibility": null,
            "width": null
          }
        },
        "521350b6887249b298bec20075a2fe6a": {
          "model_module": "@jupyter-widgets/controls",
          "model_module_version": "1.5.0",
          "model_name": "HTMLModel",
          "state": {
            "_dom_classes": [],
            "_model_module": "@jupyter-widgets/controls",
            "_model_module_version": "1.5.0",
            "_model_name": "HTMLModel",
            "_view_count": null,
            "_view_module": "@jupyter-widgets/controls",
            "_view_module_version": "1.5.0",
            "_view_name": "HTMLView",
            "description": "",
            "description_tooltip": null,
            "layout": "IPY_MODEL_1d012f8d3cfc4542a55e2939acdd5382",
            "placeholder": "​",
            "style": "IPY_MODEL_fcf5349cae3b4816b225b5564d28de6a",
            "value": " 35/? [00:22&lt;00:00,  2.05it/s]"
          }
        },
        "5266eb7c643f41b9906161b1eae3e211": {
          "model_module": "@jupyter-widgets/controls",
          "model_module_version": "1.5.0",
          "model_name": "ProgressStyleModel",
          "state": {
            "_model_module": "@jupyter-widgets/controls",
            "_model_module_version": "1.5.0",
            "_model_name": "ProgressStyleModel",
            "_view_count": null,
            "_view_module": "@jupyter-widgets/base",
            "_view_module_version": "1.2.0",
            "_view_name": "StyleView",
            "bar_color": null,
            "description_width": ""
          }
        },
        "535578d493604efe8846059c51c2f643": {
          "model_module": "@jupyter-widgets/base",
          "model_module_version": "1.2.0",
          "model_name": "LayoutModel",
          "state": {
            "_model_module": "@jupyter-widgets/base",
            "_model_module_version": "1.2.0",
            "_model_name": "LayoutModel",
            "_view_count": null,
            "_view_module": "@jupyter-widgets/base",
            "_view_module_version": "1.2.0",
            "_view_name": "LayoutView",
            "align_content": null,
            "align_items": null,
            "align_self": null,
            "border": null,
            "bottom": null,
            "display": null,
            "flex": null,
            "flex_flow": null,
            "grid_area": null,
            "grid_auto_columns": null,
            "grid_auto_flow": null,
            "grid_auto_rows": null,
            "grid_column": null,
            "grid_gap": null,
            "grid_row": null,
            "grid_template_areas": null,
            "grid_template_columns": null,
            "grid_template_rows": null,
            "height": null,
            "justify_content": null,
            "justify_items": null,
            "left": null,
            "margin": null,
            "max_height": null,
            "max_width": null,
            "min_height": null,
            "min_width": null,
            "object_fit": null,
            "object_position": null,
            "order": null,
            "overflow": null,
            "overflow_x": null,
            "overflow_y": null,
            "padding": null,
            "right": null,
            "top": null,
            "visibility": null,
            "width": null
          }
        },
        "53b9488921184548b4dcfb25341b640f": {
          "model_module": "@jupyter-widgets/controls",
          "model_module_version": "1.5.0",
          "model_name": "DescriptionStyleModel",
          "state": {
            "_model_module": "@jupyter-widgets/controls",
            "_model_module_version": "1.5.0",
            "_model_name": "DescriptionStyleModel",
            "_view_count": null,
            "_view_module": "@jupyter-widgets/base",
            "_view_module_version": "1.2.0",
            "_view_name": "StyleView",
            "description_width": ""
          }
        },
        "55ee3c12c0ba405baac1463910fbba4c": {
          "model_module": "@jupyter-widgets/base",
          "model_module_version": "1.2.0",
          "model_name": "LayoutModel",
          "state": {
            "_model_module": "@jupyter-widgets/base",
            "_model_module_version": "1.2.0",
            "_model_name": "LayoutModel",
            "_view_count": null,
            "_view_module": "@jupyter-widgets/base",
            "_view_module_version": "1.2.0",
            "_view_name": "LayoutView",
            "align_content": null,
            "align_items": null,
            "align_self": null,
            "border": null,
            "bottom": null,
            "display": null,
            "flex": null,
            "flex_flow": null,
            "grid_area": null,
            "grid_auto_columns": null,
            "grid_auto_flow": null,
            "grid_auto_rows": null,
            "grid_column": null,
            "grid_gap": null,
            "grid_row": null,
            "grid_template_areas": null,
            "grid_template_columns": null,
            "grid_template_rows": null,
            "height": null,
            "justify_content": null,
            "justify_items": null,
            "left": null,
            "margin": null,
            "max_height": null,
            "max_width": null,
            "min_height": null,
            "min_width": null,
            "object_fit": null,
            "object_position": null,
            "order": null,
            "overflow": null,
            "overflow_x": null,
            "overflow_y": null,
            "padding": null,
            "right": null,
            "top": null,
            "visibility": null,
            "width": null
          }
        },
        "5654e3e100f2422fbc927f5811c7d5f1": {
          "model_module": "@jupyter-widgets/controls",
          "model_module_version": "1.5.0",
          "model_name": "DescriptionStyleModel",
          "state": {
            "_model_module": "@jupyter-widgets/controls",
            "_model_module_version": "1.5.0",
            "_model_name": "DescriptionStyleModel",
            "_view_count": null,
            "_view_module": "@jupyter-widgets/base",
            "_view_module_version": "1.2.0",
            "_view_name": "StyleView",
            "description_width": ""
          }
        },
        "575abe1259dd4feebcbffbdb63ac4f4f": {
          "model_module": "@jupyter-widgets/controls",
          "model_module_version": "1.5.0",
          "model_name": "HTMLModel",
          "state": {
            "_dom_classes": [],
            "_model_module": "@jupyter-widgets/controls",
            "_model_module_version": "1.5.0",
            "_model_name": "HTMLModel",
            "_view_count": null,
            "_view_module": "@jupyter-widgets/controls",
            "_view_module_version": "1.5.0",
            "_view_name": "HTMLView",
            "description": "",
            "description_tooltip": null,
            "layout": "IPY_MODEL_a8d5b4ff302c4758a7b798136208d776",
            "placeholder": "​",
            "style": "IPY_MODEL_ad1a0375503949e5ae9a5f01130683c5",
            "value": " 35/? [00:22&lt;00:00,  2.03it/s]"
          }
        },
        "5aa9c859f9d041f2ae257ccab1cbd54a": {
          "model_module": "@jupyter-widgets/controls",
          "model_module_version": "1.5.0",
          "model_name": "DescriptionStyleModel",
          "state": {
            "_model_module": "@jupyter-widgets/controls",
            "_model_module_version": "1.5.0",
            "_model_name": "DescriptionStyleModel",
            "_view_count": null,
            "_view_module": "@jupyter-widgets/base",
            "_view_module_version": "1.2.0",
            "_view_name": "StyleView",
            "description_width": ""
          }
        },
        "5abf211a57a34009af6e5ce37ec06ac8": {
          "model_module": "@jupyter-widgets/controls",
          "model_module_version": "1.5.0",
          "model_name": "HTMLModel",
          "state": {
            "_dom_classes": [],
            "_model_module": "@jupyter-widgets/controls",
            "_model_module_version": "1.5.0",
            "_model_name": "HTMLModel",
            "_view_count": null,
            "_view_module": "@jupyter-widgets/controls",
            "_view_module_version": "1.5.0",
            "_view_name": "HTMLView",
            "description": "",
            "description_tooltip": null,
            "layout": "IPY_MODEL_bfc41b61805347b0b899112019bad6b6",
            "placeholder": "​",
            "style": "IPY_MODEL_42c867e189154ec3a296a5fb03299285",
            "value": " 35/? [00:23&lt;00:00,  2.01it/s]"
          }
        },
        "5b73c52eae5d45d9b82aef9c82650c0b": {
          "model_module": "@jupyter-widgets/controls",
          "model_module_version": "1.5.0",
          "model_name": "DescriptionStyleModel",
          "state": {
            "_model_module": "@jupyter-widgets/controls",
            "_model_module_version": "1.5.0",
            "_model_name": "DescriptionStyleModel",
            "_view_count": null,
            "_view_module": "@jupyter-widgets/base",
            "_view_module_version": "1.2.0",
            "_view_name": "StyleView",
            "description_width": ""
          }
        },
        "5d10a280956e427a818b3f5db65b1ca2": {
          "model_module": "@jupyter-widgets/controls",
          "model_module_version": "1.5.0",
          "model_name": "HTMLModel",
          "state": {
            "_dom_classes": [],
            "_model_module": "@jupyter-widgets/controls",
            "_model_module_version": "1.5.0",
            "_model_name": "HTMLModel",
            "_view_count": null,
            "_view_module": "@jupyter-widgets/controls",
            "_view_module_version": "1.5.0",
            "_view_name": "HTMLView",
            "description": "",
            "description_tooltip": null,
            "layout": "IPY_MODEL_55ee3c12c0ba405baac1463910fbba4c",
            "placeholder": "​",
            "style": "IPY_MODEL_5aa9c859f9d041f2ae257ccab1cbd54a",
            "value": ""
          }
        },
        "64f6902c348948ba952293d766efe26d": {
          "model_module": "@jupyter-widgets/controls",
          "model_module_version": "1.5.0",
          "model_name": "HBoxModel",
          "state": {
            "_dom_classes": [],
            "_model_module": "@jupyter-widgets/controls",
            "_model_module_version": "1.5.0",
            "_model_name": "HBoxModel",
            "_view_count": null,
            "_view_module": "@jupyter-widgets/controls",
            "_view_module_version": "1.5.0",
            "_view_name": "HBoxView",
            "box_style": "",
            "children": [
              "IPY_MODEL_ac1a2dbc61c548638cde7a4e5bb57f23",
              "IPY_MODEL_ebc3e4b3586b45efa95796d7cac79b08",
              "IPY_MODEL_875c31a369504e8dad3becc904d786b0"
            ],
            "layout": "IPY_MODEL_890d1cb1151e44fdb79631d81bfddebf"
          }
        },
        "6949cc2658ec465ab009ed5595b54bd4": {
          "model_module": "@jupyter-widgets/base",
          "model_module_version": "1.2.0",
          "model_name": "LayoutModel",
          "state": {
            "_model_module": "@jupyter-widgets/base",
            "_model_module_version": "1.2.0",
            "_model_name": "LayoutModel",
            "_view_count": null,
            "_view_module": "@jupyter-widgets/base",
            "_view_module_version": "1.2.0",
            "_view_name": "LayoutView",
            "align_content": null,
            "align_items": null,
            "align_self": null,
            "border": null,
            "bottom": null,
            "display": null,
            "flex": null,
            "flex_flow": null,
            "grid_area": null,
            "grid_auto_columns": null,
            "grid_auto_flow": null,
            "grid_auto_rows": null,
            "grid_column": null,
            "grid_gap": null,
            "grid_row": null,
            "grid_template_areas": null,
            "grid_template_columns": null,
            "grid_template_rows": null,
            "height": null,
            "justify_content": null,
            "justify_items": null,
            "left": null,
            "margin": null,
            "max_height": null,
            "max_width": null,
            "min_height": null,
            "min_width": null,
            "object_fit": null,
            "object_position": null,
            "order": null,
            "overflow": null,
            "overflow_x": null,
            "overflow_y": null,
            "padding": null,
            "right": null,
            "top": null,
            "visibility": null,
            "width": null
          }
        },
        "6d3bcb449f66413496c4acccbc5ef488": {
          "model_module": "@jupyter-widgets/controls",
          "model_module_version": "1.5.0",
          "model_name": "ProgressStyleModel",
          "state": {
            "_model_module": "@jupyter-widgets/controls",
            "_model_module_version": "1.5.0",
            "_model_name": "ProgressStyleModel",
            "_view_count": null,
            "_view_module": "@jupyter-widgets/base",
            "_view_module_version": "1.2.0",
            "_view_name": "StyleView",
            "bar_color": null,
            "description_width": ""
          }
        },
        "70279f1b646d46efafb7c6d2688d5997": {
          "model_module": "@jupyter-widgets/controls",
          "model_module_version": "1.5.0",
          "model_name": "FloatProgressModel",
          "state": {
            "_dom_classes": [],
            "_model_module": "@jupyter-widgets/controls",
            "_model_module_version": "1.5.0",
            "_model_name": "FloatProgressModel",
            "_view_count": null,
            "_view_module": "@jupyter-widgets/controls",
            "_view_module_version": "1.5.0",
            "_view_name": "ProgressView",
            "bar_style": "success",
            "description": "",
            "description_tooltip": null,
            "layout": "IPY_MODEL_dc0ead94413044b8a1ed2ba08b964618",
            "max": 1,
            "min": 0,
            "orientation": "horizontal",
            "style": "IPY_MODEL_22ea7f77a2ef4161b77d84a58d258f5e",
            "value": 1
          }
        },
        "703a963f462e4f0b9f14618462a15837": {
          "model_module": "@jupyter-widgets/controls",
          "model_module_version": "1.5.0",
          "model_name": "HTMLModel",
          "state": {
            "_dom_classes": [],
            "_model_module": "@jupyter-widgets/controls",
            "_model_module_version": "1.5.0",
            "_model_name": "HTMLModel",
            "_view_count": null,
            "_view_module": "@jupyter-widgets/controls",
            "_view_module_version": "1.5.0",
            "_view_name": "HTMLView",
            "description": "",
            "description_tooltip": null,
            "layout": "IPY_MODEL_bfc25adbb9c34bc7b5365907ab8634f7",
            "placeholder": "​",
            "style": "IPY_MODEL_fd3d900fdac94a1fb2545cc7c9d14ff3",
            "value": ""
          }
        },
        "70ce73a6bc8a4fd685cab22c5b8ea1e0": {
          "model_module": "@jupyter-widgets/base",
          "model_module_version": "1.2.0",
          "model_name": "LayoutModel",
          "state": {
            "_model_module": "@jupyter-widgets/base",
            "_model_module_version": "1.2.0",
            "_model_name": "LayoutModel",
            "_view_count": null,
            "_view_module": "@jupyter-widgets/base",
            "_view_module_version": "1.2.0",
            "_view_name": "LayoutView",
            "align_content": null,
            "align_items": null,
            "align_self": null,
            "border": null,
            "bottom": null,
            "display": null,
            "flex": null,
            "flex_flow": null,
            "grid_area": null,
            "grid_auto_columns": null,
            "grid_auto_flow": null,
            "grid_auto_rows": null,
            "grid_column": null,
            "grid_gap": null,
            "grid_row": null,
            "grid_template_areas": null,
            "grid_template_columns": null,
            "grid_template_rows": null,
            "height": null,
            "justify_content": null,
            "justify_items": null,
            "left": null,
            "margin": null,
            "max_height": null,
            "max_width": null,
            "min_height": null,
            "min_width": null,
            "object_fit": null,
            "object_position": null,
            "order": null,
            "overflow": null,
            "overflow_x": null,
            "overflow_y": null,
            "padding": null,
            "right": null,
            "top": null,
            "visibility": null,
            "width": null
          }
        },
        "7a7ce0525dfe4a54a2bb33d923acbd1e": {
          "model_module": "@jupyter-widgets/controls",
          "model_module_version": "1.5.0",
          "model_name": "HTMLModel",
          "state": {
            "_dom_classes": [],
            "_model_module": "@jupyter-widgets/controls",
            "_model_module_version": "1.5.0",
            "_model_name": "HTMLModel",
            "_view_count": null,
            "_view_module": "@jupyter-widgets/controls",
            "_view_module_version": "1.5.0",
            "_view_name": "HTMLView",
            "description": "",
            "description_tooltip": null,
            "layout": "IPY_MODEL_a02e802162bf41f68ef2ef5299d7c2bb",
            "placeholder": "​",
            "style": "IPY_MODEL_53b9488921184548b4dcfb25341b640f",
            "value": " 35/? [00:22&lt;00:00,  2.05it/s]"
          }
        },
        "7b43cea3579a4a8697c5b28efa68912b": {
          "model_module": "@jupyter-widgets/controls",
          "model_module_version": "1.5.0",
          "model_name": "FloatProgressModel",
          "state": {
            "_dom_classes": [],
            "_model_module": "@jupyter-widgets/controls",
            "_model_module_version": "1.5.0",
            "_model_name": "FloatProgressModel",
            "_view_count": null,
            "_view_module": "@jupyter-widgets/controls",
            "_view_module_version": "1.5.0",
            "_view_name": "ProgressView",
            "bar_style": "success",
            "description": "",
            "description_tooltip": null,
            "layout": "IPY_MODEL_c01a28d6620540ca9b121f6972f4dc96",
            "max": 1,
            "min": 0,
            "orientation": "horizontal",
            "style": "IPY_MODEL_cbef9066485848c9b4fd17e1cd99f9b7",
            "value": 1
          }
        },
        "7b7ac86c73584e0b89c8b80f4b670393": {
          "model_module": "@jupyter-widgets/controls",
          "model_module_version": "1.5.0",
          "model_name": "HTMLModel",
          "state": {
            "_dom_classes": [],
            "_model_module": "@jupyter-widgets/controls",
            "_model_module_version": "1.5.0",
            "_model_name": "HTMLModel",
            "_view_count": null,
            "_view_module": "@jupyter-widgets/controls",
            "_view_module_version": "1.5.0",
            "_view_name": "HTMLView",
            "description": "",
            "description_tooltip": null,
            "layout": "IPY_MODEL_4cf9207a0e644a4caea8138ff352afb4",
            "placeholder": "​",
            "style": "IPY_MODEL_ea362ddf3091425bb9fe4f621b5e591b",
            "value": " 35/? [00:22&lt;00:00,  1.53it/s]"
          }
        },
        "7d87959a7e504f15be6e07479285524c": {
          "model_module": "@jupyter-widgets/controls",
          "model_module_version": "1.5.0",
          "model_name": "FloatProgressModel",
          "state": {
            "_dom_classes": [],
            "_model_module": "@jupyter-widgets/controls",
            "_model_module_version": "1.5.0",
            "_model_name": "FloatProgressModel",
            "_view_count": null,
            "_view_module": "@jupyter-widgets/controls",
            "_view_module_version": "1.5.0",
            "_view_name": "ProgressView",
            "bar_style": "success",
            "description": "",
            "description_tooltip": null,
            "layout": "IPY_MODEL_24201e54d9bf48b1a5bed86fb8ba87e4",
            "max": 1,
            "min": 0,
            "orientation": "horizontal",
            "style": "IPY_MODEL_08f420271a164d8dbd1f5679b8a3628f",
            "value": 1
          }
        },
        "7f14fe880bcc4bc69593cb28fbc8f9b7": {
          "model_module": "@jupyter-widgets/controls",
          "model_module_version": "1.5.0",
          "model_name": "DescriptionStyleModel",
          "state": {
            "_model_module": "@jupyter-widgets/controls",
            "_model_module_version": "1.5.0",
            "_model_name": "DescriptionStyleModel",
            "_view_count": null,
            "_view_module": "@jupyter-widgets/base",
            "_view_module_version": "1.2.0",
            "_view_name": "StyleView",
            "description_width": ""
          }
        },
        "82800cfcd5a549f49d0a55cefff149d5": {
          "model_module": "@jupyter-widgets/controls",
          "model_module_version": "1.5.0",
          "model_name": "DescriptionStyleModel",
          "state": {
            "_model_module": "@jupyter-widgets/controls",
            "_model_module_version": "1.5.0",
            "_model_name": "DescriptionStyleModel",
            "_view_count": null,
            "_view_module": "@jupyter-widgets/base",
            "_view_module_version": "1.2.0",
            "_view_name": "StyleView",
            "description_width": ""
          }
        },
        "846948c328774409ab51f0843f288b0a": {
          "model_module": "@jupyter-widgets/controls",
          "model_module_version": "1.5.0",
          "model_name": "HBoxModel",
          "state": {
            "_dom_classes": [],
            "_model_module": "@jupyter-widgets/controls",
            "_model_module_version": "1.5.0",
            "_model_name": "HBoxModel",
            "_view_count": null,
            "_view_module": "@jupyter-widgets/controls",
            "_view_module_version": "1.5.0",
            "_view_name": "HBoxView",
            "box_style": "",
            "children": [
              "IPY_MODEL_cbeae56bafd3450289550bfe023d69c4",
              "IPY_MODEL_ead4f6397ac64da09f65ca194573ed71",
              "IPY_MODEL_5abf211a57a34009af6e5ce37ec06ac8"
            ],
            "layout": "IPY_MODEL_25001255de4d43d1ac5fcfc659595f2e"
          }
        },
        "8481aae59ffb4368afb5c7cd51be3cc4": {
          "model_module": "@jupyter-widgets/controls",
          "model_module_version": "1.5.0",
          "model_name": "HBoxModel",
          "state": {
            "_dom_classes": [],
            "_model_module": "@jupyter-widgets/controls",
            "_model_module_version": "1.5.0",
            "_model_name": "HBoxModel",
            "_view_count": null,
            "_view_module": "@jupyter-widgets/controls",
            "_view_module_version": "1.5.0",
            "_view_name": "HBoxView",
            "box_style": "",
            "children": [
              "IPY_MODEL_8ae51380753141d7a7706ee9aacdfd84",
              "IPY_MODEL_947e6085d2b241a9a5ccfbef19483a43",
              "IPY_MODEL_7a7ce0525dfe4a54a2bb33d923acbd1e"
            ],
            "layout": "IPY_MODEL_70ce73a6bc8a4fd685cab22c5b8ea1e0"
          }
        },
        "84837bb6b5654874881fa63b1eaae768": {
          "model_module": "@jupyter-widgets/controls",
          "model_module_version": "1.5.0",
          "model_name": "DescriptionStyleModel",
          "state": {
            "_model_module": "@jupyter-widgets/controls",
            "_model_module_version": "1.5.0",
            "_model_name": "DescriptionStyleModel",
            "_view_count": null,
            "_view_module": "@jupyter-widgets/base",
            "_view_module_version": "1.2.0",
            "_view_name": "StyleView",
            "description_width": ""
          }
        },
        "875c31a369504e8dad3becc904d786b0": {
          "model_module": "@jupyter-widgets/controls",
          "model_module_version": "1.5.0",
          "model_name": "HTMLModel",
          "state": {
            "_dom_classes": [],
            "_model_module": "@jupyter-widgets/controls",
            "_model_module_version": "1.5.0",
            "_model_name": "HTMLModel",
            "_view_count": null,
            "_view_module": "@jupyter-widgets/controls",
            "_view_module_version": "1.5.0",
            "_view_name": "HTMLView",
            "description": "",
            "description_tooltip": null,
            "layout": "IPY_MODEL_3dd44bca932f424b8a11d62fa52683c3",
            "placeholder": "​",
            "style": "IPY_MODEL_38ecfb4b218543548eb985c9da6064bb",
            "value": " 35/? [00:22&lt;00:00,  2.05it/s]"
          }
        },
        "88323369a3734ec789e3d82926e0ca80": {
          "model_module": "@jupyter-widgets/base",
          "model_module_version": "1.2.0",
          "model_name": "LayoutModel",
          "state": {
            "_model_module": "@jupyter-widgets/base",
            "_model_module_version": "1.2.0",
            "_model_name": "LayoutModel",
            "_view_count": null,
            "_view_module": "@jupyter-widgets/base",
            "_view_module_version": "1.2.0",
            "_view_name": "LayoutView",
            "align_content": null,
            "align_items": null,
            "align_self": null,
            "border": null,
            "bottom": null,
            "display": null,
            "flex": null,
            "flex_flow": null,
            "grid_area": null,
            "grid_auto_columns": null,
            "grid_auto_flow": null,
            "grid_auto_rows": null,
            "grid_column": null,
            "grid_gap": null,
            "grid_row": null,
            "grid_template_areas": null,
            "grid_template_columns": null,
            "grid_template_rows": null,
            "height": null,
            "justify_content": null,
            "justify_items": null,
            "left": null,
            "margin": null,
            "max_height": null,
            "max_width": null,
            "min_height": null,
            "min_width": null,
            "object_fit": null,
            "object_position": null,
            "order": null,
            "overflow": null,
            "overflow_x": null,
            "overflow_y": null,
            "padding": null,
            "right": null,
            "top": null,
            "visibility": null,
            "width": null
          }
        },
        "890d1cb1151e44fdb79631d81bfddebf": {
          "model_module": "@jupyter-widgets/base",
          "model_module_version": "1.2.0",
          "model_name": "LayoutModel",
          "state": {
            "_model_module": "@jupyter-widgets/base",
            "_model_module_version": "1.2.0",
            "_model_name": "LayoutModel",
            "_view_count": null,
            "_view_module": "@jupyter-widgets/base",
            "_view_module_version": "1.2.0",
            "_view_name": "LayoutView",
            "align_content": null,
            "align_items": null,
            "align_self": null,
            "border": null,
            "bottom": null,
            "display": null,
            "flex": null,
            "flex_flow": null,
            "grid_area": null,
            "grid_auto_columns": null,
            "grid_auto_flow": null,
            "grid_auto_rows": null,
            "grid_column": null,
            "grid_gap": null,
            "grid_row": null,
            "grid_template_areas": null,
            "grid_template_columns": null,
            "grid_template_rows": null,
            "height": null,
            "justify_content": null,
            "justify_items": null,
            "left": null,
            "margin": null,
            "max_height": null,
            "max_width": null,
            "min_height": null,
            "min_width": null,
            "object_fit": null,
            "object_position": null,
            "order": null,
            "overflow": null,
            "overflow_x": null,
            "overflow_y": null,
            "padding": null,
            "right": null,
            "top": null,
            "visibility": null,
            "width": null
          }
        },
        "8ae51380753141d7a7706ee9aacdfd84": {
          "model_module": "@jupyter-widgets/controls",
          "model_module_version": "1.5.0",
          "model_name": "HTMLModel",
          "state": {
            "_dom_classes": [],
            "_model_module": "@jupyter-widgets/controls",
            "_model_module_version": "1.5.0",
            "_model_name": "HTMLModel",
            "_view_count": null,
            "_view_module": "@jupyter-widgets/controls",
            "_view_module_version": "1.5.0",
            "_view_name": "HTMLView",
            "description": "",
            "description_tooltip": null,
            "layout": "IPY_MODEL_329b6008f30a414db7a8406f5000d778",
            "placeholder": "​",
            "style": "IPY_MODEL_2fc88596deaa4ba6abf20311eb621c1e",
            "value": ""
          }
        },
        "8b883dbe2af24908985da08a762536bd": {
          "model_module": "@jupyter-widgets/controls",
          "model_module_version": "1.5.0",
          "model_name": "HTMLModel",
          "state": {
            "_dom_classes": [],
            "_model_module": "@jupyter-widgets/controls",
            "_model_module_version": "1.5.0",
            "_model_name": "HTMLModel",
            "_view_count": null,
            "_view_module": "@jupyter-widgets/controls",
            "_view_module_version": "1.5.0",
            "_view_name": "HTMLView",
            "description": "",
            "description_tooltip": null,
            "layout": "IPY_MODEL_6949cc2658ec465ab009ed5595b54bd4",
            "placeholder": "​",
            "style": "IPY_MODEL_9e14eecdfb69421789e7f3ac4f75358a",
            "value": ""
          }
        },
        "8cfc0cc953d4424e8fd0731e082b2aa9": {
          "model_module": "@jupyter-widgets/controls",
          "model_module_version": "1.5.0",
          "model_name": "HBoxModel",
          "state": {
            "_dom_classes": [],
            "_model_module": "@jupyter-widgets/controls",
            "_model_module_version": "1.5.0",
            "_model_name": "HBoxModel",
            "_view_count": null,
            "_view_module": "@jupyter-widgets/controls",
            "_view_module_version": "1.5.0",
            "_view_name": "HBoxView",
            "box_style": "",
            "children": [
              "IPY_MODEL_703a963f462e4f0b9f14618462a15837",
              "IPY_MODEL_4c3cd3e5ef27442da38f1a43a31af3b7",
              "IPY_MODEL_521350b6887249b298bec20075a2fe6a"
            ],
            "layout": "IPY_MODEL_057acadb1828485d8f35263b6dd0b7c2"
          }
        },
        "9348ff83b4274101bd3d725a10a0e1e6": {
          "model_module": "@jupyter-widgets/base",
          "model_module_version": "1.2.0",
          "model_name": "LayoutModel",
          "state": {
            "_model_module": "@jupyter-widgets/base",
            "_model_module_version": "1.2.0",
            "_model_name": "LayoutModel",
            "_view_count": null,
            "_view_module": "@jupyter-widgets/base",
            "_view_module_version": "1.2.0",
            "_view_name": "LayoutView",
            "align_content": null,
            "align_items": null,
            "align_self": null,
            "border": null,
            "bottom": null,
            "display": null,
            "flex": null,
            "flex_flow": null,
            "grid_area": null,
            "grid_auto_columns": null,
            "grid_auto_flow": null,
            "grid_auto_rows": null,
            "grid_column": null,
            "grid_gap": null,
            "grid_row": null,
            "grid_template_areas": null,
            "grid_template_columns": null,
            "grid_template_rows": null,
            "height": null,
            "justify_content": null,
            "justify_items": null,
            "left": null,
            "margin": null,
            "max_height": null,
            "max_width": null,
            "min_height": null,
            "min_width": null,
            "object_fit": null,
            "object_position": null,
            "order": null,
            "overflow": null,
            "overflow_x": null,
            "overflow_y": null,
            "padding": null,
            "right": null,
            "top": null,
            "visibility": null,
            "width": null
          }
        },
        "947e6085d2b241a9a5ccfbef19483a43": {
          "model_module": "@jupyter-widgets/controls",
          "model_module_version": "1.5.0",
          "model_name": "FloatProgressModel",
          "state": {
            "_dom_classes": [],
            "_model_module": "@jupyter-widgets/controls",
            "_model_module_version": "1.5.0",
            "_model_name": "FloatProgressModel",
            "_view_count": null,
            "_view_module": "@jupyter-widgets/controls",
            "_view_module_version": "1.5.0",
            "_view_name": "ProgressView",
            "bar_style": "success",
            "description": "",
            "description_tooltip": null,
            "layout": "IPY_MODEL_f9c9b62ada264baf8df3a74e02ba9bae",
            "max": 1,
            "min": 0,
            "orientation": "horizontal",
            "style": "IPY_MODEL_5266eb7c643f41b9906161b1eae3e211",
            "value": 1
          }
        },
        "9e14eecdfb69421789e7f3ac4f75358a": {
          "model_module": "@jupyter-widgets/controls",
          "model_module_version": "1.5.0",
          "model_name": "DescriptionStyleModel",
          "state": {
            "_model_module": "@jupyter-widgets/controls",
            "_model_module_version": "1.5.0",
            "_model_name": "DescriptionStyleModel",
            "_view_count": null,
            "_view_module": "@jupyter-widgets/base",
            "_view_module_version": "1.2.0",
            "_view_name": "StyleView",
            "description_width": ""
          }
        },
        "9eac2e1b748f496783916e390353f8ea": {
          "model_module": "@jupyter-widgets/base",
          "model_module_version": "1.2.0",
          "model_name": "LayoutModel",
          "state": {
            "_model_module": "@jupyter-widgets/base",
            "_model_module_version": "1.2.0",
            "_model_name": "LayoutModel",
            "_view_count": null,
            "_view_module": "@jupyter-widgets/base",
            "_view_module_version": "1.2.0",
            "_view_name": "LayoutView",
            "align_content": null,
            "align_items": null,
            "align_self": null,
            "border": null,
            "bottom": null,
            "display": null,
            "flex": null,
            "flex_flow": null,
            "grid_area": null,
            "grid_auto_columns": null,
            "grid_auto_flow": null,
            "grid_auto_rows": null,
            "grid_column": null,
            "grid_gap": null,
            "grid_row": null,
            "grid_template_areas": null,
            "grid_template_columns": null,
            "grid_template_rows": null,
            "height": null,
            "justify_content": null,
            "justify_items": null,
            "left": null,
            "margin": null,
            "max_height": null,
            "max_width": null,
            "min_height": null,
            "min_width": null,
            "object_fit": null,
            "object_position": null,
            "order": null,
            "overflow": null,
            "overflow_x": null,
            "overflow_y": null,
            "padding": null,
            "right": null,
            "top": null,
            "visibility": null,
            "width": "20px"
          }
        },
        "a02dde1df7fb4b80988c2eb75f117020": {
          "model_module": "@jupyter-widgets/controls",
          "model_module_version": "1.5.0",
          "model_name": "HBoxModel",
          "state": {
            "_dom_classes": [],
            "_model_module": "@jupyter-widgets/controls",
            "_model_module_version": "1.5.0",
            "_model_name": "HBoxModel",
            "_view_count": null,
            "_view_module": "@jupyter-widgets/controls",
            "_view_module_version": "1.5.0",
            "_view_name": "HBoxView",
            "box_style": "",
            "children": [
              "IPY_MODEL_8b883dbe2af24908985da08a762536bd",
              "IPY_MODEL_20bd6b5e8a394dcd9a1e776bc50f8d53",
              "IPY_MODEL_38ccfa33000545c899aedfd2d055832a"
            ],
            "layout": "IPY_MODEL_edf1095849f84c92803f96d0635cf4ad"
          }
        },
        "a02e802162bf41f68ef2ef5299d7c2bb": {
          "model_module": "@jupyter-widgets/base",
          "model_module_version": "1.2.0",
          "model_name": "LayoutModel",
          "state": {
            "_model_module": "@jupyter-widgets/base",
            "_model_module_version": "1.2.0",
            "_model_name": "LayoutModel",
            "_view_count": null,
            "_view_module": "@jupyter-widgets/base",
            "_view_module_version": "1.2.0",
            "_view_name": "LayoutView",
            "align_content": null,
            "align_items": null,
            "align_self": null,
            "border": null,
            "bottom": null,
            "display": null,
            "flex": null,
            "flex_flow": null,
            "grid_area": null,
            "grid_auto_columns": null,
            "grid_auto_flow": null,
            "grid_auto_rows": null,
            "grid_column": null,
            "grid_gap": null,
            "grid_row": null,
            "grid_template_areas": null,
            "grid_template_columns": null,
            "grid_template_rows": null,
            "height": null,
            "justify_content": null,
            "justify_items": null,
            "left": null,
            "margin": null,
            "max_height": null,
            "max_width": null,
            "min_height": null,
            "min_width": null,
            "object_fit": null,
            "object_position": null,
            "order": null,
            "overflow": null,
            "overflow_x": null,
            "overflow_y": null,
            "padding": null,
            "right": null,
            "top": null,
            "visibility": null,
            "width": null
          }
        },
        "a0ad6048a57b4535a757e8364454063f": {
          "model_module": "@jupyter-widgets/controls",
          "model_module_version": "1.5.0",
          "model_name": "FloatProgressModel",
          "state": {
            "_dom_classes": [],
            "_model_module": "@jupyter-widgets/controls",
            "_model_module_version": "1.5.0",
            "_model_name": "FloatProgressModel",
            "_view_count": null,
            "_view_module": "@jupyter-widgets/controls",
            "_view_module_version": "1.5.0",
            "_view_name": "ProgressView",
            "bar_style": "success",
            "description": "",
            "description_tooltip": null,
            "layout": "IPY_MODEL_afbaac64b417432da1dc5859aaca6572",
            "max": 1,
            "min": 0,
            "orientation": "horizontal",
            "style": "IPY_MODEL_6d3bcb449f66413496c4acccbc5ef488",
            "value": 1
          }
        },
        "a5f8d699cf9d4eeda2dd919c11c328bc": {
          "model_module": "@jupyter-widgets/base",
          "model_module_version": "1.2.0",
          "model_name": "LayoutModel",
          "state": {
            "_model_module": "@jupyter-widgets/base",
            "_model_module_version": "1.2.0",
            "_model_name": "LayoutModel",
            "_view_count": null,
            "_view_module": "@jupyter-widgets/base",
            "_view_module_version": "1.2.0",
            "_view_name": "LayoutView",
            "align_content": null,
            "align_items": null,
            "align_self": null,
            "border": null,
            "bottom": null,
            "display": null,
            "flex": null,
            "flex_flow": null,
            "grid_area": null,
            "grid_auto_columns": null,
            "grid_auto_flow": null,
            "grid_auto_rows": null,
            "grid_column": null,
            "grid_gap": null,
            "grid_row": null,
            "grid_template_areas": null,
            "grid_template_columns": null,
            "grid_template_rows": null,
            "height": null,
            "justify_content": null,
            "justify_items": null,
            "left": null,
            "margin": null,
            "max_height": null,
            "max_width": null,
            "min_height": null,
            "min_width": null,
            "object_fit": null,
            "object_position": null,
            "order": null,
            "overflow": null,
            "overflow_x": null,
            "overflow_y": null,
            "padding": null,
            "right": null,
            "top": null,
            "visibility": null,
            "width": null
          }
        },
        "a8d5b4ff302c4758a7b798136208d776": {
          "model_module": "@jupyter-widgets/base",
          "model_module_version": "1.2.0",
          "model_name": "LayoutModel",
          "state": {
            "_model_module": "@jupyter-widgets/base",
            "_model_module_version": "1.2.0",
            "_model_name": "LayoutModel",
            "_view_count": null,
            "_view_module": "@jupyter-widgets/base",
            "_view_module_version": "1.2.0",
            "_view_name": "LayoutView",
            "align_content": null,
            "align_items": null,
            "align_self": null,
            "border": null,
            "bottom": null,
            "display": null,
            "flex": null,
            "flex_flow": null,
            "grid_area": null,
            "grid_auto_columns": null,
            "grid_auto_flow": null,
            "grid_auto_rows": null,
            "grid_column": null,
            "grid_gap": null,
            "grid_row": null,
            "grid_template_areas": null,
            "grid_template_columns": null,
            "grid_template_rows": null,
            "height": null,
            "justify_content": null,
            "justify_items": null,
            "left": null,
            "margin": null,
            "max_height": null,
            "max_width": null,
            "min_height": null,
            "min_width": null,
            "object_fit": null,
            "object_position": null,
            "order": null,
            "overflow": null,
            "overflow_x": null,
            "overflow_y": null,
            "padding": null,
            "right": null,
            "top": null,
            "visibility": null,
            "width": null
          }
        },
        "aad31cf9f05f4604baafae4072da4dfe": {
          "model_module": "@jupyter-widgets/base",
          "model_module_version": "1.2.0",
          "model_name": "LayoutModel",
          "state": {
            "_model_module": "@jupyter-widgets/base",
            "_model_module_version": "1.2.0",
            "_model_name": "LayoutModel",
            "_view_count": null,
            "_view_module": "@jupyter-widgets/base",
            "_view_module_version": "1.2.0",
            "_view_name": "LayoutView",
            "align_content": null,
            "align_items": null,
            "align_self": null,
            "border": null,
            "bottom": null,
            "display": null,
            "flex": null,
            "flex_flow": null,
            "grid_area": null,
            "grid_auto_columns": null,
            "grid_auto_flow": null,
            "grid_auto_rows": null,
            "grid_column": null,
            "grid_gap": null,
            "grid_row": null,
            "grid_template_areas": null,
            "grid_template_columns": null,
            "grid_template_rows": null,
            "height": null,
            "justify_content": null,
            "justify_items": null,
            "left": null,
            "margin": null,
            "max_height": null,
            "max_width": null,
            "min_height": null,
            "min_width": null,
            "object_fit": null,
            "object_position": null,
            "order": null,
            "overflow": null,
            "overflow_x": null,
            "overflow_y": null,
            "padding": null,
            "right": null,
            "top": null,
            "visibility": null,
            "width": "20px"
          }
        },
        "ac1a2dbc61c548638cde7a4e5bb57f23": {
          "model_module": "@jupyter-widgets/controls",
          "model_module_version": "1.5.0",
          "model_name": "HTMLModel",
          "state": {
            "_dom_classes": [],
            "_model_module": "@jupyter-widgets/controls",
            "_model_module_version": "1.5.0",
            "_model_name": "HTMLModel",
            "_view_count": null,
            "_view_module": "@jupyter-widgets/controls",
            "_view_module_version": "1.5.0",
            "_view_name": "HTMLView",
            "description": "",
            "description_tooltip": null,
            "layout": "IPY_MODEL_117f8ebb970f4d718514ddc5c475497d",
            "placeholder": "​",
            "style": "IPY_MODEL_b106f308c5ef4d75b5b46691193fc6f9",
            "value": ""
          }
        },
        "ad1a0375503949e5ae9a5f01130683c5": {
          "model_module": "@jupyter-widgets/controls",
          "model_module_version": "1.5.0",
          "model_name": "DescriptionStyleModel",
          "state": {
            "_model_module": "@jupyter-widgets/controls",
            "_model_module_version": "1.5.0",
            "_model_name": "DescriptionStyleModel",
            "_view_count": null,
            "_view_module": "@jupyter-widgets/base",
            "_view_module_version": "1.2.0",
            "_view_name": "StyleView",
            "description_width": ""
          }
        },
        "afbaac64b417432da1dc5859aaca6572": {
          "model_module": "@jupyter-widgets/base",
          "model_module_version": "1.2.0",
          "model_name": "LayoutModel",
          "state": {
            "_model_module": "@jupyter-widgets/base",
            "_model_module_version": "1.2.0",
            "_model_name": "LayoutModel",
            "_view_count": null,
            "_view_module": "@jupyter-widgets/base",
            "_view_module_version": "1.2.0",
            "_view_name": "LayoutView",
            "align_content": null,
            "align_items": null,
            "align_self": null,
            "border": null,
            "bottom": null,
            "display": null,
            "flex": null,
            "flex_flow": null,
            "grid_area": null,
            "grid_auto_columns": null,
            "grid_auto_flow": null,
            "grid_auto_rows": null,
            "grid_column": null,
            "grid_gap": null,
            "grid_row": null,
            "grid_template_areas": null,
            "grid_template_columns": null,
            "grid_template_rows": null,
            "height": null,
            "justify_content": null,
            "justify_items": null,
            "left": null,
            "margin": null,
            "max_height": null,
            "max_width": null,
            "min_height": null,
            "min_width": null,
            "object_fit": null,
            "object_position": null,
            "order": null,
            "overflow": null,
            "overflow_x": null,
            "overflow_y": null,
            "padding": null,
            "right": null,
            "top": null,
            "visibility": null,
            "width": "20px"
          }
        },
        "b0b7f60b516d409c895e2a64906e131c": {
          "model_module": "@jupyter-widgets/base",
          "model_module_version": "1.2.0",
          "model_name": "LayoutModel",
          "state": {
            "_model_module": "@jupyter-widgets/base",
            "_model_module_version": "1.2.0",
            "_model_name": "LayoutModel",
            "_view_count": null,
            "_view_module": "@jupyter-widgets/base",
            "_view_module_version": "1.2.0",
            "_view_name": "LayoutView",
            "align_content": null,
            "align_items": null,
            "align_self": null,
            "border": null,
            "bottom": null,
            "display": null,
            "flex": null,
            "flex_flow": null,
            "grid_area": null,
            "grid_auto_columns": null,
            "grid_auto_flow": null,
            "grid_auto_rows": null,
            "grid_column": null,
            "grid_gap": null,
            "grid_row": null,
            "grid_template_areas": null,
            "grid_template_columns": null,
            "grid_template_rows": null,
            "height": null,
            "justify_content": null,
            "justify_items": null,
            "left": null,
            "margin": null,
            "max_height": null,
            "max_width": null,
            "min_height": null,
            "min_width": null,
            "object_fit": null,
            "object_position": null,
            "order": null,
            "overflow": null,
            "overflow_x": null,
            "overflow_y": null,
            "padding": null,
            "right": null,
            "top": null,
            "visibility": null,
            "width": null
          }
        },
        "b102e9044ef84be58cecc188c92f3434": {
          "model_module": "@jupyter-widgets/base",
          "model_module_version": "1.2.0",
          "model_name": "LayoutModel",
          "state": {
            "_model_module": "@jupyter-widgets/base",
            "_model_module_version": "1.2.0",
            "_model_name": "LayoutModel",
            "_view_count": null,
            "_view_module": "@jupyter-widgets/base",
            "_view_module_version": "1.2.0",
            "_view_name": "LayoutView",
            "align_content": null,
            "align_items": null,
            "align_self": null,
            "border": null,
            "bottom": null,
            "display": null,
            "flex": null,
            "flex_flow": null,
            "grid_area": null,
            "grid_auto_columns": null,
            "grid_auto_flow": null,
            "grid_auto_rows": null,
            "grid_column": null,
            "grid_gap": null,
            "grid_row": null,
            "grid_template_areas": null,
            "grid_template_columns": null,
            "grid_template_rows": null,
            "height": null,
            "justify_content": null,
            "justify_items": null,
            "left": null,
            "margin": null,
            "max_height": null,
            "max_width": null,
            "min_height": null,
            "min_width": null,
            "object_fit": null,
            "object_position": null,
            "order": null,
            "overflow": null,
            "overflow_x": null,
            "overflow_y": null,
            "padding": null,
            "right": null,
            "top": null,
            "visibility": null,
            "width": null
          }
        },
        "b106f308c5ef4d75b5b46691193fc6f9": {
          "model_module": "@jupyter-widgets/controls",
          "model_module_version": "1.5.0",
          "model_name": "DescriptionStyleModel",
          "state": {
            "_model_module": "@jupyter-widgets/controls",
            "_model_module_version": "1.5.0",
            "_model_name": "DescriptionStyleModel",
            "_view_count": null,
            "_view_module": "@jupyter-widgets/base",
            "_view_module_version": "1.2.0",
            "_view_name": "StyleView",
            "description_width": ""
          }
        },
        "b8a9e44cfad549c1b51d0df5385f1605": {
          "model_module": "@jupyter-widgets/controls",
          "model_module_version": "1.5.0",
          "model_name": "HTMLModel",
          "state": {
            "_dom_classes": [],
            "_model_module": "@jupyter-widgets/controls",
            "_model_module_version": "1.5.0",
            "_model_name": "HTMLModel",
            "_view_count": null,
            "_view_module": "@jupyter-widgets/controls",
            "_view_module_version": "1.5.0",
            "_view_name": "HTMLView",
            "description": "",
            "description_tooltip": null,
            "layout": "IPY_MODEL_9348ff83b4274101bd3d725a10a0e1e6",
            "placeholder": "​",
            "style": "IPY_MODEL_c8a438860f4e4579b99783a797023781",
            "value": " 35/? [00:22&lt;00:00,  1.92it/s]"
          }
        },
        "bfc25adbb9c34bc7b5365907ab8634f7": {
          "model_module": "@jupyter-widgets/base",
          "model_module_version": "1.2.0",
          "model_name": "LayoutModel",
          "state": {
            "_model_module": "@jupyter-widgets/base",
            "_model_module_version": "1.2.0",
            "_model_name": "LayoutModel",
            "_view_count": null,
            "_view_module": "@jupyter-widgets/base",
            "_view_module_version": "1.2.0",
            "_view_name": "LayoutView",
            "align_content": null,
            "align_items": null,
            "align_self": null,
            "border": null,
            "bottom": null,
            "display": null,
            "flex": null,
            "flex_flow": null,
            "grid_area": null,
            "grid_auto_columns": null,
            "grid_auto_flow": null,
            "grid_auto_rows": null,
            "grid_column": null,
            "grid_gap": null,
            "grid_row": null,
            "grid_template_areas": null,
            "grid_template_columns": null,
            "grid_template_rows": null,
            "height": null,
            "justify_content": null,
            "justify_items": null,
            "left": null,
            "margin": null,
            "max_height": null,
            "max_width": null,
            "min_height": null,
            "min_width": null,
            "object_fit": null,
            "object_position": null,
            "order": null,
            "overflow": null,
            "overflow_x": null,
            "overflow_y": null,
            "padding": null,
            "right": null,
            "top": null,
            "visibility": null,
            "width": null
          }
        },
        "bfc41b61805347b0b899112019bad6b6": {
          "model_module": "@jupyter-widgets/base",
          "model_module_version": "1.2.0",
          "model_name": "LayoutModel",
          "state": {
            "_model_module": "@jupyter-widgets/base",
            "_model_module_version": "1.2.0",
            "_model_name": "LayoutModel",
            "_view_count": null,
            "_view_module": "@jupyter-widgets/base",
            "_view_module_version": "1.2.0",
            "_view_name": "LayoutView",
            "align_content": null,
            "align_items": null,
            "align_self": null,
            "border": null,
            "bottom": null,
            "display": null,
            "flex": null,
            "flex_flow": null,
            "grid_area": null,
            "grid_auto_columns": null,
            "grid_auto_flow": null,
            "grid_auto_rows": null,
            "grid_column": null,
            "grid_gap": null,
            "grid_row": null,
            "grid_template_areas": null,
            "grid_template_columns": null,
            "grid_template_rows": null,
            "height": null,
            "justify_content": null,
            "justify_items": null,
            "left": null,
            "margin": null,
            "max_height": null,
            "max_width": null,
            "min_height": null,
            "min_width": null,
            "object_fit": null,
            "object_position": null,
            "order": null,
            "overflow": null,
            "overflow_x": null,
            "overflow_y": null,
            "padding": null,
            "right": null,
            "top": null,
            "visibility": null,
            "width": null
          }
        },
        "c01a28d6620540ca9b121f6972f4dc96": {
          "model_module": "@jupyter-widgets/base",
          "model_module_version": "1.2.0",
          "model_name": "LayoutModel",
          "state": {
            "_model_module": "@jupyter-widgets/base",
            "_model_module_version": "1.2.0",
            "_model_name": "LayoutModel",
            "_view_count": null,
            "_view_module": "@jupyter-widgets/base",
            "_view_module_version": "1.2.0",
            "_view_name": "LayoutView",
            "align_content": null,
            "align_items": null,
            "align_self": null,
            "border": null,
            "bottom": null,
            "display": null,
            "flex": null,
            "flex_flow": null,
            "grid_area": null,
            "grid_auto_columns": null,
            "grid_auto_flow": null,
            "grid_auto_rows": null,
            "grid_column": null,
            "grid_gap": null,
            "grid_row": null,
            "grid_template_areas": null,
            "grid_template_columns": null,
            "grid_template_rows": null,
            "height": null,
            "justify_content": null,
            "justify_items": null,
            "left": null,
            "margin": null,
            "max_height": null,
            "max_width": null,
            "min_height": null,
            "min_width": null,
            "object_fit": null,
            "object_position": null,
            "order": null,
            "overflow": null,
            "overflow_x": null,
            "overflow_y": null,
            "padding": null,
            "right": null,
            "top": null,
            "visibility": null,
            "width": "20px"
          }
        },
        "c5ea4b323b61402e9eebb18d6bf9eba8": {
          "model_module": "@jupyter-widgets/controls",
          "model_module_version": "1.5.0",
          "model_name": "ProgressStyleModel",
          "state": {
            "_model_module": "@jupyter-widgets/controls",
            "_model_module_version": "1.5.0",
            "_model_name": "ProgressStyleModel",
            "_view_count": null,
            "_view_module": "@jupyter-widgets/base",
            "_view_module_version": "1.2.0",
            "_view_name": "StyleView",
            "bar_color": null,
            "description_width": ""
          }
        },
        "c6ccf247322f4559b90939e31d0c02e4": {
          "model_module": "@jupyter-widgets/base",
          "model_module_version": "1.2.0",
          "model_name": "LayoutModel",
          "state": {
            "_model_module": "@jupyter-widgets/base",
            "_model_module_version": "1.2.0",
            "_model_name": "LayoutModel",
            "_view_count": null,
            "_view_module": "@jupyter-widgets/base",
            "_view_module_version": "1.2.0",
            "_view_name": "LayoutView",
            "align_content": null,
            "align_items": null,
            "align_self": null,
            "border": null,
            "bottom": null,
            "display": null,
            "flex": null,
            "flex_flow": null,
            "grid_area": null,
            "grid_auto_columns": null,
            "grid_auto_flow": null,
            "grid_auto_rows": null,
            "grid_column": null,
            "grid_gap": null,
            "grid_row": null,
            "grid_template_areas": null,
            "grid_template_columns": null,
            "grid_template_rows": null,
            "height": null,
            "justify_content": null,
            "justify_items": null,
            "left": null,
            "margin": null,
            "max_height": null,
            "max_width": null,
            "min_height": null,
            "min_width": null,
            "object_fit": null,
            "object_position": null,
            "order": null,
            "overflow": null,
            "overflow_x": null,
            "overflow_y": null,
            "padding": null,
            "right": null,
            "top": null,
            "visibility": null,
            "width": null
          }
        },
        "c7b1a591ebc74e4c9258ce5b2b969308": {
          "model_module": "@jupyter-widgets/base",
          "model_module_version": "1.2.0",
          "model_name": "LayoutModel",
          "state": {
            "_model_module": "@jupyter-widgets/base",
            "_model_module_version": "1.2.0",
            "_model_name": "LayoutModel",
            "_view_count": null,
            "_view_module": "@jupyter-widgets/base",
            "_view_module_version": "1.2.0",
            "_view_name": "LayoutView",
            "align_content": null,
            "align_items": null,
            "align_self": null,
            "border": null,
            "bottom": null,
            "display": null,
            "flex": null,
            "flex_flow": null,
            "grid_area": null,
            "grid_auto_columns": null,
            "grid_auto_flow": null,
            "grid_auto_rows": null,
            "grid_column": null,
            "grid_gap": null,
            "grid_row": null,
            "grid_template_areas": null,
            "grid_template_columns": null,
            "grid_template_rows": null,
            "height": null,
            "justify_content": null,
            "justify_items": null,
            "left": null,
            "margin": null,
            "max_height": null,
            "max_width": null,
            "min_height": null,
            "min_width": null,
            "object_fit": null,
            "object_position": null,
            "order": null,
            "overflow": null,
            "overflow_x": null,
            "overflow_y": null,
            "padding": null,
            "right": null,
            "top": null,
            "visibility": null,
            "width": null
          }
        },
        "c8a438860f4e4579b99783a797023781": {
          "model_module": "@jupyter-widgets/controls",
          "model_module_version": "1.5.0",
          "model_name": "DescriptionStyleModel",
          "state": {
            "_model_module": "@jupyter-widgets/controls",
            "_model_module_version": "1.5.0",
            "_model_name": "DescriptionStyleModel",
            "_view_count": null,
            "_view_module": "@jupyter-widgets/base",
            "_view_module_version": "1.2.0",
            "_view_name": "StyleView",
            "description_width": ""
          }
        },
        "cbeae56bafd3450289550bfe023d69c4": {
          "model_module": "@jupyter-widgets/controls",
          "model_module_version": "1.5.0",
          "model_name": "HTMLModel",
          "state": {
            "_dom_classes": [],
            "_model_module": "@jupyter-widgets/controls",
            "_model_module_version": "1.5.0",
            "_model_name": "HTMLModel",
            "_view_count": null,
            "_view_module": "@jupyter-widgets/controls",
            "_view_module_version": "1.5.0",
            "_view_name": "HTMLView",
            "description": "",
            "description_tooltip": null,
            "layout": "IPY_MODEL_d50d3fffab864a5db20f2df0fe458349",
            "placeholder": "​",
            "style": "IPY_MODEL_5654e3e100f2422fbc927f5811c7d5f1",
            "value": ""
          }
        },
        "cbef9066485848c9b4fd17e1cd99f9b7": {
          "model_module": "@jupyter-widgets/controls",
          "model_module_version": "1.5.0",
          "model_name": "ProgressStyleModel",
          "state": {
            "_model_module": "@jupyter-widgets/controls",
            "_model_module_version": "1.5.0",
            "_model_name": "ProgressStyleModel",
            "_view_count": null,
            "_view_module": "@jupyter-widgets/base",
            "_view_module_version": "1.2.0",
            "_view_name": "StyleView",
            "bar_color": null,
            "description_width": ""
          }
        },
        "cc118dd741754ece902b550999b59538": {
          "model_module": "@jupyter-widgets/controls",
          "model_module_version": "1.5.0",
          "model_name": "HTMLModel",
          "state": {
            "_dom_classes": [],
            "_model_module": "@jupyter-widgets/controls",
            "_model_module_version": "1.5.0",
            "_model_name": "HTMLModel",
            "_view_count": null,
            "_view_module": "@jupyter-widgets/controls",
            "_view_module_version": "1.5.0",
            "_view_name": "HTMLView",
            "description": "",
            "description_tooltip": null,
            "layout": "IPY_MODEL_021ce889c15c41018ec390b8b9e9a5d7",
            "placeholder": "​",
            "style": "IPY_MODEL_7f14fe880bcc4bc69593cb28fbc8f9b7",
            "value": " 35/? [00:22&lt;00:00,  2.03it/s]"
          }
        },
        "d3068c089352472d9beb220e52f11473": {
          "model_module": "@jupyter-widgets/controls",
          "model_module_version": "1.5.0",
          "model_name": "ProgressStyleModel",
          "state": {
            "_model_module": "@jupyter-widgets/controls",
            "_model_module_version": "1.5.0",
            "_model_name": "ProgressStyleModel",
            "_view_count": null,
            "_view_module": "@jupyter-widgets/base",
            "_view_module_version": "1.2.0",
            "_view_name": "StyleView",
            "bar_color": null,
            "description_width": ""
          }
        },
        "d50d3fffab864a5db20f2df0fe458349": {
          "model_module": "@jupyter-widgets/base",
          "model_module_version": "1.2.0",
          "model_name": "LayoutModel",
          "state": {
            "_model_module": "@jupyter-widgets/base",
            "_model_module_version": "1.2.0",
            "_model_name": "LayoutModel",
            "_view_count": null,
            "_view_module": "@jupyter-widgets/base",
            "_view_module_version": "1.2.0",
            "_view_name": "LayoutView",
            "align_content": null,
            "align_items": null,
            "align_self": null,
            "border": null,
            "bottom": null,
            "display": null,
            "flex": null,
            "flex_flow": null,
            "grid_area": null,
            "grid_auto_columns": null,
            "grid_auto_flow": null,
            "grid_auto_rows": null,
            "grid_column": null,
            "grid_gap": null,
            "grid_row": null,
            "grid_template_areas": null,
            "grid_template_columns": null,
            "grid_template_rows": null,
            "height": null,
            "justify_content": null,
            "justify_items": null,
            "left": null,
            "margin": null,
            "max_height": null,
            "max_width": null,
            "min_height": null,
            "min_width": null,
            "object_fit": null,
            "object_position": null,
            "order": null,
            "overflow": null,
            "overflow_x": null,
            "overflow_y": null,
            "padding": null,
            "right": null,
            "top": null,
            "visibility": null,
            "width": null
          }
        },
        "db434763a05f47c481380ee059a7bbb5": {
          "model_module": "@jupyter-widgets/controls",
          "model_module_version": "1.5.0",
          "model_name": "HBoxModel",
          "state": {
            "_dom_classes": [],
            "_model_module": "@jupyter-widgets/controls",
            "_model_module_version": "1.5.0",
            "_model_name": "HBoxModel",
            "_view_count": null,
            "_view_module": "@jupyter-widgets/controls",
            "_view_module_version": "1.5.0",
            "_view_name": "HBoxView",
            "box_style": "",
            "children": [
              "IPY_MODEL_fbd62c0a16844bc88da1dd7458685748",
              "IPY_MODEL_7b43cea3579a4a8697c5b28efa68912b",
              "IPY_MODEL_7b7ac86c73584e0b89c8b80f4b670393"
            ],
            "layout": "IPY_MODEL_a5f8d699cf9d4eeda2dd919c11c328bc"
          }
        },
        "dc0ead94413044b8a1ed2ba08b964618": {
          "model_module": "@jupyter-widgets/base",
          "model_module_version": "1.2.0",
          "model_name": "LayoutModel",
          "state": {
            "_model_module": "@jupyter-widgets/base",
            "_model_module_version": "1.2.0",
            "_model_name": "LayoutModel",
            "_view_count": null,
            "_view_module": "@jupyter-widgets/base",
            "_view_module_version": "1.2.0",
            "_view_name": "LayoutView",
            "align_content": null,
            "align_items": null,
            "align_self": null,
            "border": null,
            "bottom": null,
            "display": null,
            "flex": null,
            "flex_flow": null,
            "grid_area": null,
            "grid_auto_columns": null,
            "grid_auto_flow": null,
            "grid_auto_rows": null,
            "grid_column": null,
            "grid_gap": null,
            "grid_row": null,
            "grid_template_areas": null,
            "grid_template_columns": null,
            "grid_template_rows": null,
            "height": null,
            "justify_content": null,
            "justify_items": null,
            "left": null,
            "margin": null,
            "max_height": null,
            "max_width": null,
            "min_height": null,
            "min_width": null,
            "object_fit": null,
            "object_position": null,
            "order": null,
            "overflow": null,
            "overflow_x": null,
            "overflow_y": null,
            "padding": null,
            "right": null,
            "top": null,
            "visibility": null,
            "width": "20px"
          }
        },
        "df2f139e86124f7180f215a6637b2a06": {
          "model_module": "@jupyter-widgets/controls",
          "model_module_version": "1.5.0",
          "model_name": "ProgressStyleModel",
          "state": {
            "_model_module": "@jupyter-widgets/controls",
            "_model_module_version": "1.5.0",
            "_model_name": "ProgressStyleModel",
            "_view_count": null,
            "_view_module": "@jupyter-widgets/base",
            "_view_module_version": "1.2.0",
            "_view_name": "StyleView",
            "bar_color": null,
            "description_width": ""
          }
        },
        "e15fb858c1f743e991a5792d9589b5f2": {
          "model_module": "@jupyter-widgets/base",
          "model_module_version": "1.2.0",
          "model_name": "LayoutModel",
          "state": {
            "_model_module": "@jupyter-widgets/base",
            "_model_module_version": "1.2.0",
            "_model_name": "LayoutModel",
            "_view_count": null,
            "_view_module": "@jupyter-widgets/base",
            "_view_module_version": "1.2.0",
            "_view_name": "LayoutView",
            "align_content": null,
            "align_items": null,
            "align_self": null,
            "border": null,
            "bottom": null,
            "display": null,
            "flex": null,
            "flex_flow": null,
            "grid_area": null,
            "grid_auto_columns": null,
            "grid_auto_flow": null,
            "grid_auto_rows": null,
            "grid_column": null,
            "grid_gap": null,
            "grid_row": null,
            "grid_template_areas": null,
            "grid_template_columns": null,
            "grid_template_rows": null,
            "height": null,
            "justify_content": null,
            "justify_items": null,
            "left": null,
            "margin": null,
            "max_height": null,
            "max_width": null,
            "min_height": null,
            "min_width": null,
            "object_fit": null,
            "object_position": null,
            "order": null,
            "overflow": null,
            "overflow_x": null,
            "overflow_y": null,
            "padding": null,
            "right": null,
            "top": null,
            "visibility": null,
            "width": "20px"
          }
        },
        "e8298cdca3ef42f09bdc50ca20c2ce3e": {
          "model_module": "@jupyter-widgets/base",
          "model_module_version": "1.2.0",
          "model_name": "LayoutModel",
          "state": {
            "_model_module": "@jupyter-widgets/base",
            "_model_module_version": "1.2.0",
            "_model_name": "LayoutModel",
            "_view_count": null,
            "_view_module": "@jupyter-widgets/base",
            "_view_module_version": "1.2.0",
            "_view_name": "LayoutView",
            "align_content": null,
            "align_items": null,
            "align_self": null,
            "border": null,
            "bottom": null,
            "display": null,
            "flex": null,
            "flex_flow": null,
            "grid_area": null,
            "grid_auto_columns": null,
            "grid_auto_flow": null,
            "grid_auto_rows": null,
            "grid_column": null,
            "grid_gap": null,
            "grid_row": null,
            "grid_template_areas": null,
            "grid_template_columns": null,
            "grid_template_rows": null,
            "height": null,
            "justify_content": null,
            "justify_items": null,
            "left": null,
            "margin": null,
            "max_height": null,
            "max_width": null,
            "min_height": null,
            "min_width": null,
            "object_fit": null,
            "object_position": null,
            "order": null,
            "overflow": null,
            "overflow_x": null,
            "overflow_y": null,
            "padding": null,
            "right": null,
            "top": null,
            "visibility": null,
            "width": null
          }
        },
        "ea362ddf3091425bb9fe4f621b5e591b": {
          "model_module": "@jupyter-widgets/controls",
          "model_module_version": "1.5.0",
          "model_name": "DescriptionStyleModel",
          "state": {
            "_model_module": "@jupyter-widgets/controls",
            "_model_module_version": "1.5.0",
            "_model_name": "DescriptionStyleModel",
            "_view_count": null,
            "_view_module": "@jupyter-widgets/base",
            "_view_module_version": "1.2.0",
            "_view_name": "StyleView",
            "description_width": ""
          }
        },
        "ead4f6397ac64da09f65ca194573ed71": {
          "model_module": "@jupyter-widgets/controls",
          "model_module_version": "1.5.0",
          "model_name": "FloatProgressModel",
          "state": {
            "_dom_classes": [],
            "_model_module": "@jupyter-widgets/controls",
            "_model_module_version": "1.5.0",
            "_model_name": "FloatProgressModel",
            "_view_count": null,
            "_view_module": "@jupyter-widgets/controls",
            "_view_module_version": "1.5.0",
            "_view_name": "ProgressView",
            "bar_style": "success",
            "description": "",
            "description_tooltip": null,
            "layout": "IPY_MODEL_9eac2e1b748f496783916e390353f8ea",
            "max": 1,
            "min": 0,
            "orientation": "horizontal",
            "style": "IPY_MODEL_c5ea4b323b61402e9eebb18d6bf9eba8",
            "value": 1
          }
        },
        "ebc3e4b3586b45efa95796d7cac79b08": {
          "model_module": "@jupyter-widgets/controls",
          "model_module_version": "1.5.0",
          "model_name": "FloatProgressModel",
          "state": {
            "_dom_classes": [],
            "_model_module": "@jupyter-widgets/controls",
            "_model_module_version": "1.5.0",
            "_model_name": "FloatProgressModel",
            "_view_count": null,
            "_view_module": "@jupyter-widgets/controls",
            "_view_module_version": "1.5.0",
            "_view_name": "ProgressView",
            "bar_style": "success",
            "description": "",
            "description_tooltip": null,
            "layout": "IPY_MODEL_f751b7ed81f743fc853408f06e78e463",
            "max": 1,
            "min": 0,
            "orientation": "horizontal",
            "style": "IPY_MODEL_df2f139e86124f7180f215a6637b2a06",
            "value": 1
          }
        },
        "ece26e6cff54445d94247855b8fa785d": {
          "model_module": "@jupyter-widgets/controls",
          "model_module_version": "1.5.0",
          "model_name": "ProgressStyleModel",
          "state": {
            "_model_module": "@jupyter-widgets/controls",
            "_model_module_version": "1.5.0",
            "_model_name": "ProgressStyleModel",
            "_view_count": null,
            "_view_module": "@jupyter-widgets/base",
            "_view_module_version": "1.2.0",
            "_view_name": "StyleView",
            "bar_color": null,
            "description_width": ""
          }
        },
        "edf1095849f84c92803f96d0635cf4ad": {
          "model_module": "@jupyter-widgets/base",
          "model_module_version": "1.2.0",
          "model_name": "LayoutModel",
          "state": {
            "_model_module": "@jupyter-widgets/base",
            "_model_module_version": "1.2.0",
            "_model_name": "LayoutModel",
            "_view_count": null,
            "_view_module": "@jupyter-widgets/base",
            "_view_module_version": "1.2.0",
            "_view_name": "LayoutView",
            "align_content": null,
            "align_items": null,
            "align_self": null,
            "border": null,
            "bottom": null,
            "display": null,
            "flex": null,
            "flex_flow": null,
            "grid_area": null,
            "grid_auto_columns": null,
            "grid_auto_flow": null,
            "grid_auto_rows": null,
            "grid_column": null,
            "grid_gap": null,
            "grid_row": null,
            "grid_template_areas": null,
            "grid_template_columns": null,
            "grid_template_rows": null,
            "height": null,
            "justify_content": null,
            "justify_items": null,
            "left": null,
            "margin": null,
            "max_height": null,
            "max_width": null,
            "min_height": null,
            "min_width": null,
            "object_fit": null,
            "object_position": null,
            "order": null,
            "overflow": null,
            "overflow_x": null,
            "overflow_y": null,
            "padding": null,
            "right": null,
            "top": null,
            "visibility": null,
            "width": null
          }
        },
        "f13c4f39f4e7473e81170e4f8891cfb0": {
          "model_module": "@jupyter-widgets/base",
          "model_module_version": "1.2.0",
          "model_name": "LayoutModel",
          "state": {
            "_model_module": "@jupyter-widgets/base",
            "_model_module_version": "1.2.0",
            "_model_name": "LayoutModel",
            "_view_count": null,
            "_view_module": "@jupyter-widgets/base",
            "_view_module_version": "1.2.0",
            "_view_name": "LayoutView",
            "align_content": null,
            "align_items": null,
            "align_self": null,
            "border": null,
            "bottom": null,
            "display": null,
            "flex": null,
            "flex_flow": null,
            "grid_area": null,
            "grid_auto_columns": null,
            "grid_auto_flow": null,
            "grid_auto_rows": null,
            "grid_column": null,
            "grid_gap": null,
            "grid_row": null,
            "grid_template_areas": null,
            "grid_template_columns": null,
            "grid_template_rows": null,
            "height": null,
            "justify_content": null,
            "justify_items": null,
            "left": null,
            "margin": null,
            "max_height": null,
            "max_width": null,
            "min_height": null,
            "min_width": null,
            "object_fit": null,
            "object_position": null,
            "order": null,
            "overflow": null,
            "overflow_x": null,
            "overflow_y": null,
            "padding": null,
            "right": null,
            "top": null,
            "visibility": null,
            "width": "20px"
          }
        },
        "f27362e834754caa9334f3c5fa124fbb": {
          "model_module": "@jupyter-widgets/controls",
          "model_module_version": "1.5.0",
          "model_name": "DescriptionStyleModel",
          "state": {
            "_model_module": "@jupyter-widgets/controls",
            "_model_module_version": "1.5.0",
            "_model_name": "DescriptionStyleModel",
            "_view_count": null,
            "_view_module": "@jupyter-widgets/base",
            "_view_module_version": "1.2.0",
            "_view_name": "StyleView",
            "description_width": ""
          }
        },
        "f66881a401ec478a81d9fd800e71b391": {
          "model_module": "@jupyter-widgets/controls",
          "model_module_version": "1.5.0",
          "model_name": "FloatProgressModel",
          "state": {
            "_dom_classes": [],
            "_model_module": "@jupyter-widgets/controls",
            "_model_module_version": "1.5.0",
            "_model_name": "FloatProgressModel",
            "_view_count": null,
            "_view_module": "@jupyter-widgets/controls",
            "_view_module_version": "1.5.0",
            "_view_name": "ProgressView",
            "bar_style": "success",
            "description": "",
            "description_tooltip": null,
            "layout": "IPY_MODEL_e15fb858c1f743e991a5792d9589b5f2",
            "max": 1,
            "min": 0,
            "orientation": "horizontal",
            "style": "IPY_MODEL_ece26e6cff54445d94247855b8fa785d",
            "value": 1
          }
        },
        "f751b7ed81f743fc853408f06e78e463": {
          "model_module": "@jupyter-widgets/base",
          "model_module_version": "1.2.0",
          "model_name": "LayoutModel",
          "state": {
            "_model_module": "@jupyter-widgets/base",
            "_model_module_version": "1.2.0",
            "_model_name": "LayoutModel",
            "_view_count": null,
            "_view_module": "@jupyter-widgets/base",
            "_view_module_version": "1.2.0",
            "_view_name": "LayoutView",
            "align_content": null,
            "align_items": null,
            "align_self": null,
            "border": null,
            "bottom": null,
            "display": null,
            "flex": null,
            "flex_flow": null,
            "grid_area": null,
            "grid_auto_columns": null,
            "grid_auto_flow": null,
            "grid_auto_rows": null,
            "grid_column": null,
            "grid_gap": null,
            "grid_row": null,
            "grid_template_areas": null,
            "grid_template_columns": null,
            "grid_template_rows": null,
            "height": null,
            "justify_content": null,
            "justify_items": null,
            "left": null,
            "margin": null,
            "max_height": null,
            "max_width": null,
            "min_height": null,
            "min_width": null,
            "object_fit": null,
            "object_position": null,
            "order": null,
            "overflow": null,
            "overflow_x": null,
            "overflow_y": null,
            "padding": null,
            "right": null,
            "top": null,
            "visibility": null,
            "width": "20px"
          }
        },
        "f9c9b62ada264baf8df3a74e02ba9bae": {
          "model_module": "@jupyter-widgets/base",
          "model_module_version": "1.2.0",
          "model_name": "LayoutModel",
          "state": {
            "_model_module": "@jupyter-widgets/base",
            "_model_module_version": "1.2.0",
            "_model_name": "LayoutModel",
            "_view_count": null,
            "_view_module": "@jupyter-widgets/base",
            "_view_module_version": "1.2.0",
            "_view_name": "LayoutView",
            "align_content": null,
            "align_items": null,
            "align_self": null,
            "border": null,
            "bottom": null,
            "display": null,
            "flex": null,
            "flex_flow": null,
            "grid_area": null,
            "grid_auto_columns": null,
            "grid_auto_flow": null,
            "grid_auto_rows": null,
            "grid_column": null,
            "grid_gap": null,
            "grid_row": null,
            "grid_template_areas": null,
            "grid_template_columns": null,
            "grid_template_rows": null,
            "height": null,
            "justify_content": null,
            "justify_items": null,
            "left": null,
            "margin": null,
            "max_height": null,
            "max_width": null,
            "min_height": null,
            "min_width": null,
            "object_fit": null,
            "object_position": null,
            "order": null,
            "overflow": null,
            "overflow_x": null,
            "overflow_y": null,
            "padding": null,
            "right": null,
            "top": null,
            "visibility": null,
            "width": "20px"
          }
        },
        "fbd62c0a16844bc88da1dd7458685748": {
          "model_module": "@jupyter-widgets/controls",
          "model_module_version": "1.5.0",
          "model_name": "HTMLModel",
          "state": {
            "_dom_classes": [],
            "_model_module": "@jupyter-widgets/controls",
            "_model_module_version": "1.5.0",
            "_model_name": "HTMLModel",
            "_view_count": null,
            "_view_module": "@jupyter-widgets/controls",
            "_view_module_version": "1.5.0",
            "_view_name": "HTMLView",
            "description": "",
            "description_tooltip": null,
            "layout": "IPY_MODEL_c6ccf247322f4559b90939e31d0c02e4",
            "placeholder": "​",
            "style": "IPY_MODEL_82800cfcd5a549f49d0a55cefff149d5",
            "value": ""
          }
        },
        "fcc3fb767dc0407fbfb4398a24fec6b7": {
          "model_module": "@jupyter-widgets/base",
          "model_module_version": "1.2.0",
          "model_name": "LayoutModel",
          "state": {
            "_model_module": "@jupyter-widgets/base",
            "_model_module_version": "1.2.0",
            "_model_name": "LayoutModel",
            "_view_count": null,
            "_view_module": "@jupyter-widgets/base",
            "_view_module_version": "1.2.0",
            "_view_name": "LayoutView",
            "align_content": null,
            "align_items": null,
            "align_self": null,
            "border": null,
            "bottom": null,
            "display": null,
            "flex": null,
            "flex_flow": null,
            "grid_area": null,
            "grid_auto_columns": null,
            "grid_auto_flow": null,
            "grid_auto_rows": null,
            "grid_column": null,
            "grid_gap": null,
            "grid_row": null,
            "grid_template_areas": null,
            "grid_template_columns": null,
            "grid_template_rows": null,
            "height": null,
            "justify_content": null,
            "justify_items": null,
            "left": null,
            "margin": null,
            "max_height": null,
            "max_width": null,
            "min_height": null,
            "min_width": null,
            "object_fit": null,
            "object_position": null,
            "order": null,
            "overflow": null,
            "overflow_x": null,
            "overflow_y": null,
            "padding": null,
            "right": null,
            "top": null,
            "visibility": null,
            "width": null
          }
        },
        "fcf5349cae3b4816b225b5564d28de6a": {
          "model_module": "@jupyter-widgets/controls",
          "model_module_version": "1.5.0",
          "model_name": "DescriptionStyleModel",
          "state": {
            "_model_module": "@jupyter-widgets/controls",
            "_model_module_version": "1.5.0",
            "_model_name": "DescriptionStyleModel",
            "_view_count": null,
            "_view_module": "@jupyter-widgets/base",
            "_view_module_version": "1.2.0",
            "_view_name": "StyleView",
            "description_width": ""
          }
        },
        "fd3d900fdac94a1fb2545cc7c9d14ff3": {
          "model_module": "@jupyter-widgets/controls",
          "model_module_version": "1.5.0",
          "model_name": "DescriptionStyleModel",
          "state": {
            "_model_module": "@jupyter-widgets/controls",
            "_model_module_version": "1.5.0",
            "_model_name": "DescriptionStyleModel",
            "_view_count": null,
            "_view_module": "@jupyter-widgets/base",
            "_view_module_version": "1.2.0",
            "_view_name": "StyleView",
            "description_width": ""
          }
        },
        "fd6278951b3f4b648c38003de8a16f67": {
          "model_module": "@jupyter-widgets/controls",
          "model_module_version": "1.5.0",
          "model_name": "HTMLModel",
          "state": {
            "_dom_classes": [],
            "_model_module": "@jupyter-widgets/controls",
            "_model_module_version": "1.5.0",
            "_model_name": "HTMLModel",
            "_view_count": null,
            "_view_module": "@jupyter-widgets/controls",
            "_view_module_version": "1.5.0",
            "_view_name": "HTMLView",
            "description": "",
            "description_tooltip": null,
            "layout": "IPY_MODEL_b102e9044ef84be58cecc188c92f3434",
            "placeholder": "​",
            "style": "IPY_MODEL_31c60e12ea5b47b2879c59650d3f3471",
            "value": " 35/? [00:22&lt;00:00,  2.04it/s]"
          }
        },
        "8b2b94cb318247c29993d36389e857e5": {
          "model_module": "@jupyter-widgets/controls",
          "model_name": "HBoxModel",
          "model_module_version": "1.5.0",
          "state": {
            "_dom_classes": [],
            "_model_module": "@jupyter-widgets/controls",
            "_model_module_version": "1.5.0",
            "_model_name": "HBoxModel",
            "_view_count": null,
            "_view_module": "@jupyter-widgets/controls",
            "_view_module_version": "1.5.0",
            "_view_name": "HBoxView",
            "box_style": "",
            "children": [
              "IPY_MODEL_c448b8f88abd41cf910b414ecac047a8",
              "IPY_MODEL_1ec313a0c81b462c992ee2af54eacf94",
              "IPY_MODEL_47f3c1e00aee4ade90907c2f2c3af7a9"
            ],
            "layout": "IPY_MODEL_da7dc015f41847c9b765dd57a9a0d007"
          }
        },
        "c448b8f88abd41cf910b414ecac047a8": {
          "model_module": "@jupyter-widgets/controls",
          "model_name": "HTMLModel",
          "model_module_version": "1.5.0",
          "state": {
            "_dom_classes": [],
            "_model_module": "@jupyter-widgets/controls",
            "_model_module_version": "1.5.0",
            "_model_name": "HTMLModel",
            "_view_count": null,
            "_view_module": "@jupyter-widgets/controls",
            "_view_module_version": "1.5.0",
            "_view_name": "HTMLView",
            "description": "",
            "description_tooltip": null,
            "layout": "IPY_MODEL_dfc4ba1357a5412ebe9a49b4c42e7db9",
            "placeholder": "​",
            "style": "IPY_MODEL_dc6091613cf74429aded9d8bedcbb6f8",
            "value": "Downloading: 100%"
          }
        },
        "1ec313a0c81b462c992ee2af54eacf94": {
          "model_module": "@jupyter-widgets/controls",
          "model_name": "FloatProgressModel",
          "model_module_version": "1.5.0",
          "state": {
            "_dom_classes": [],
            "_model_module": "@jupyter-widgets/controls",
            "_model_module_version": "1.5.0",
            "_model_name": "FloatProgressModel",
            "_view_count": null,
            "_view_module": "@jupyter-widgets/controls",
            "_view_module_version": "1.5.0",
            "_view_name": "ProgressView",
            "bar_style": "success",
            "description": "",
            "description_tooltip": null,
            "layout": "IPY_MODEL_7be2478271494cc19cab8d8665848d6c",
            "max": 270,
            "min": 0,
            "orientation": "horizontal",
            "style": "IPY_MODEL_b321b0e903dd47878a7e559206418593",
            "value": 270
          }
        },
        "47f3c1e00aee4ade90907c2f2c3af7a9": {
          "model_module": "@jupyter-widgets/controls",
          "model_name": "HTMLModel",
          "model_module_version": "1.5.0",
          "state": {
            "_dom_classes": [],
            "_model_module": "@jupyter-widgets/controls",
            "_model_module_version": "1.5.0",
            "_model_name": "HTMLModel",
            "_view_count": null,
            "_view_module": "@jupyter-widgets/controls",
            "_view_module_version": "1.5.0",
            "_view_name": "HTMLView",
            "description": "",
            "description_tooltip": null,
            "layout": "IPY_MODEL_ed3b91481faf45d684261f758a6c3697",
            "placeholder": "​",
            "style": "IPY_MODEL_bd5f7bfda0d244e783b39936b026d3fb",
            "value": " 270/270 [00:00&lt;00:00, 5.96kB/s]"
          }
        },
        "da7dc015f41847c9b765dd57a9a0d007": {
          "model_module": "@jupyter-widgets/base",
          "model_name": "LayoutModel",
          "model_module_version": "1.2.0",
          "state": {
            "_model_module": "@jupyter-widgets/base",
            "_model_module_version": "1.2.0",
            "_model_name": "LayoutModel",
            "_view_count": null,
            "_view_module": "@jupyter-widgets/base",
            "_view_module_version": "1.2.0",
            "_view_name": "LayoutView",
            "align_content": null,
            "align_items": null,
            "align_self": null,
            "border": null,
            "bottom": null,
            "display": null,
            "flex": null,
            "flex_flow": null,
            "grid_area": null,
            "grid_auto_columns": null,
            "grid_auto_flow": null,
            "grid_auto_rows": null,
            "grid_column": null,
            "grid_gap": null,
            "grid_row": null,
            "grid_template_areas": null,
            "grid_template_columns": null,
            "grid_template_rows": null,
            "height": null,
            "justify_content": null,
            "justify_items": null,
            "left": null,
            "margin": null,
            "max_height": null,
            "max_width": null,
            "min_height": null,
            "min_width": null,
            "object_fit": null,
            "object_position": null,
            "order": null,
            "overflow": null,
            "overflow_x": null,
            "overflow_y": null,
            "padding": null,
            "right": null,
            "top": null,
            "visibility": null,
            "width": null
          }
        },
        "dfc4ba1357a5412ebe9a49b4c42e7db9": {
          "model_module": "@jupyter-widgets/base",
          "model_name": "LayoutModel",
          "model_module_version": "1.2.0",
          "state": {
            "_model_module": "@jupyter-widgets/base",
            "_model_module_version": "1.2.0",
            "_model_name": "LayoutModel",
            "_view_count": null,
            "_view_module": "@jupyter-widgets/base",
            "_view_module_version": "1.2.0",
            "_view_name": "LayoutView",
            "align_content": null,
            "align_items": null,
            "align_self": null,
            "border": null,
            "bottom": null,
            "display": null,
            "flex": null,
            "flex_flow": null,
            "grid_area": null,
            "grid_auto_columns": null,
            "grid_auto_flow": null,
            "grid_auto_rows": null,
            "grid_column": null,
            "grid_gap": null,
            "grid_row": null,
            "grid_template_areas": null,
            "grid_template_columns": null,
            "grid_template_rows": null,
            "height": null,
            "justify_content": null,
            "justify_items": null,
            "left": null,
            "margin": null,
            "max_height": null,
            "max_width": null,
            "min_height": null,
            "min_width": null,
            "object_fit": null,
            "object_position": null,
            "order": null,
            "overflow": null,
            "overflow_x": null,
            "overflow_y": null,
            "padding": null,
            "right": null,
            "top": null,
            "visibility": null,
            "width": null
          }
        },
        "dc6091613cf74429aded9d8bedcbb6f8": {
          "model_module": "@jupyter-widgets/controls",
          "model_name": "DescriptionStyleModel",
          "model_module_version": "1.5.0",
          "state": {
            "_model_module": "@jupyter-widgets/controls",
            "_model_module_version": "1.5.0",
            "_model_name": "DescriptionStyleModel",
            "_view_count": null,
            "_view_module": "@jupyter-widgets/base",
            "_view_module_version": "1.2.0",
            "_view_name": "StyleView",
            "description_width": ""
          }
        },
        "7be2478271494cc19cab8d8665848d6c": {
          "model_module": "@jupyter-widgets/base",
          "model_name": "LayoutModel",
          "model_module_version": "1.2.0",
          "state": {
            "_model_module": "@jupyter-widgets/base",
            "_model_module_version": "1.2.0",
            "_model_name": "LayoutModel",
            "_view_count": null,
            "_view_module": "@jupyter-widgets/base",
            "_view_module_version": "1.2.0",
            "_view_name": "LayoutView",
            "align_content": null,
            "align_items": null,
            "align_self": null,
            "border": null,
            "bottom": null,
            "display": null,
            "flex": null,
            "flex_flow": null,
            "grid_area": null,
            "grid_auto_columns": null,
            "grid_auto_flow": null,
            "grid_auto_rows": null,
            "grid_column": null,
            "grid_gap": null,
            "grid_row": null,
            "grid_template_areas": null,
            "grid_template_columns": null,
            "grid_template_rows": null,
            "height": null,
            "justify_content": null,
            "justify_items": null,
            "left": null,
            "margin": null,
            "max_height": null,
            "max_width": null,
            "min_height": null,
            "min_width": null,
            "object_fit": null,
            "object_position": null,
            "order": null,
            "overflow": null,
            "overflow_x": null,
            "overflow_y": null,
            "padding": null,
            "right": null,
            "top": null,
            "visibility": null,
            "width": null
          }
        },
        "b321b0e903dd47878a7e559206418593": {
          "model_module": "@jupyter-widgets/controls",
          "model_name": "ProgressStyleModel",
          "model_module_version": "1.5.0",
          "state": {
            "_model_module": "@jupyter-widgets/controls",
            "_model_module_version": "1.5.0",
            "_model_name": "ProgressStyleModel",
            "_view_count": null,
            "_view_module": "@jupyter-widgets/base",
            "_view_module_version": "1.2.0",
            "_view_name": "StyleView",
            "bar_color": null,
            "description_width": ""
          }
        },
        "ed3b91481faf45d684261f758a6c3697": {
          "model_module": "@jupyter-widgets/base",
          "model_name": "LayoutModel",
          "model_module_version": "1.2.0",
          "state": {
            "_model_module": "@jupyter-widgets/base",
            "_model_module_version": "1.2.0",
            "_model_name": "LayoutModel",
            "_view_count": null,
            "_view_module": "@jupyter-widgets/base",
            "_view_module_version": "1.2.0",
            "_view_name": "LayoutView",
            "align_content": null,
            "align_items": null,
            "align_self": null,
            "border": null,
            "bottom": null,
            "display": null,
            "flex": null,
            "flex_flow": null,
            "grid_area": null,
            "grid_auto_columns": null,
            "grid_auto_flow": null,
            "grid_auto_rows": null,
            "grid_column": null,
            "grid_gap": null,
            "grid_row": null,
            "grid_template_areas": null,
            "grid_template_columns": null,
            "grid_template_rows": null,
            "height": null,
            "justify_content": null,
            "justify_items": null,
            "left": null,
            "margin": null,
            "max_height": null,
            "max_width": null,
            "min_height": null,
            "min_width": null,
            "object_fit": null,
            "object_position": null,
            "order": null,
            "overflow": null,
            "overflow_x": null,
            "overflow_y": null,
            "padding": null,
            "right": null,
            "top": null,
            "visibility": null,
            "width": null
          }
        },
        "bd5f7bfda0d244e783b39936b026d3fb": {
          "model_module": "@jupyter-widgets/controls",
          "model_name": "DescriptionStyleModel",
          "model_module_version": "1.5.0",
          "state": {
            "_model_module": "@jupyter-widgets/controls",
            "_model_module_version": "1.5.0",
            "_model_name": "DescriptionStyleModel",
            "_view_count": null,
            "_view_module": "@jupyter-widgets/base",
            "_view_module_version": "1.2.0",
            "_view_name": "StyleView",
            "description_width": ""
          }
        },
        "af2d1ba8eed5400bb634bf28aa97f24b": {
          "model_module": "@jupyter-widgets/controls",
          "model_name": "HBoxModel",
          "model_module_version": "1.5.0",
          "state": {
            "_dom_classes": [],
            "_model_module": "@jupyter-widgets/controls",
            "_model_module_version": "1.5.0",
            "_model_name": "HBoxModel",
            "_view_count": null,
            "_view_module": "@jupyter-widgets/controls",
            "_view_module_version": "1.5.0",
            "_view_name": "HBoxView",
            "box_style": "",
            "children": [
              "IPY_MODEL_6e0e958f11fe4a6ba345af5f12f96abd",
              "IPY_MODEL_d25542fe7aa44348b42617182012ce4d",
              "IPY_MODEL_247c9bd295e04879a6a8654187fec95e"
            ],
            "layout": "IPY_MODEL_e8c02d5df22a480b9961379f6e60777d"
          }
        },
        "6e0e958f11fe4a6ba345af5f12f96abd": {
          "model_module": "@jupyter-widgets/controls",
          "model_name": "HTMLModel",
          "model_module_version": "1.5.0",
          "state": {
            "_dom_classes": [],
            "_model_module": "@jupyter-widgets/controls",
            "_model_module_version": "1.5.0",
            "_model_name": "HTMLModel",
            "_view_count": null,
            "_view_module": "@jupyter-widgets/controls",
            "_view_module_version": "1.5.0",
            "_view_name": "HTMLView",
            "description": "",
            "description_tooltip": null,
            "layout": "IPY_MODEL_aca96f08c3794a92a50be3eb609c2cf5",
            "placeholder": "​",
            "style": "IPY_MODEL_e2321e6adb1e488f91231bc9e444cd3c",
            "value": "Downloading: 100%"
          }
        },
        "d25542fe7aa44348b42617182012ce4d": {
          "model_module": "@jupyter-widgets/controls",
          "model_name": "FloatProgressModel",
          "model_module_version": "1.5.0",
          "state": {
            "_dom_classes": [],
            "_model_module": "@jupyter-widgets/controls",
            "_model_module_version": "1.5.0",
            "_model_name": "FloatProgressModel",
            "_view_count": null,
            "_view_module": "@jupyter-widgets/controls",
            "_view_module_version": "1.5.0",
            "_view_name": "ProgressView",
            "bar_style": "success",
            "description": "",
            "description_tooltip": null,
            "layout": "IPY_MODEL_5e72ac246b59421e89cd836605450397",
            "max": 731,
            "min": 0,
            "orientation": "horizontal",
            "style": "IPY_MODEL_4b6832d26cb74705b519f8abf31d61d5",
            "value": 731
          }
        },
        "247c9bd295e04879a6a8654187fec95e": {
          "model_module": "@jupyter-widgets/controls",
          "model_name": "HTMLModel",
          "model_module_version": "1.5.0",
          "state": {
            "_dom_classes": [],
            "_model_module": "@jupyter-widgets/controls",
            "_model_module_version": "1.5.0",
            "_model_name": "HTMLModel",
            "_view_count": null,
            "_view_module": "@jupyter-widgets/controls",
            "_view_module_version": "1.5.0",
            "_view_name": "HTMLView",
            "description": "",
            "description_tooltip": null,
            "layout": "IPY_MODEL_117880963c9b487cadbe02f83ce22021",
            "placeholder": "​",
            "style": "IPY_MODEL_6845f8daaf79423781adf3f7a74c652b",
            "value": " 731/731 [00:00&lt;00:00, 13.6kB/s]"
          }
        },
        "e8c02d5df22a480b9961379f6e60777d": {
          "model_module": "@jupyter-widgets/base",
          "model_name": "LayoutModel",
          "model_module_version": "1.2.0",
          "state": {
            "_model_module": "@jupyter-widgets/base",
            "_model_module_version": "1.2.0",
            "_model_name": "LayoutModel",
            "_view_count": null,
            "_view_module": "@jupyter-widgets/base",
            "_view_module_version": "1.2.0",
            "_view_name": "LayoutView",
            "align_content": null,
            "align_items": null,
            "align_self": null,
            "border": null,
            "bottom": null,
            "display": null,
            "flex": null,
            "flex_flow": null,
            "grid_area": null,
            "grid_auto_columns": null,
            "grid_auto_flow": null,
            "grid_auto_rows": null,
            "grid_column": null,
            "grid_gap": null,
            "grid_row": null,
            "grid_template_areas": null,
            "grid_template_columns": null,
            "grid_template_rows": null,
            "height": null,
            "justify_content": null,
            "justify_items": null,
            "left": null,
            "margin": null,
            "max_height": null,
            "max_width": null,
            "min_height": null,
            "min_width": null,
            "object_fit": null,
            "object_position": null,
            "order": null,
            "overflow": null,
            "overflow_x": null,
            "overflow_y": null,
            "padding": null,
            "right": null,
            "top": null,
            "visibility": null,
            "width": null
          }
        },
        "aca96f08c3794a92a50be3eb609c2cf5": {
          "model_module": "@jupyter-widgets/base",
          "model_name": "LayoutModel",
          "model_module_version": "1.2.0",
          "state": {
            "_model_module": "@jupyter-widgets/base",
            "_model_module_version": "1.2.0",
            "_model_name": "LayoutModel",
            "_view_count": null,
            "_view_module": "@jupyter-widgets/base",
            "_view_module_version": "1.2.0",
            "_view_name": "LayoutView",
            "align_content": null,
            "align_items": null,
            "align_self": null,
            "border": null,
            "bottom": null,
            "display": null,
            "flex": null,
            "flex_flow": null,
            "grid_area": null,
            "grid_auto_columns": null,
            "grid_auto_flow": null,
            "grid_auto_rows": null,
            "grid_column": null,
            "grid_gap": null,
            "grid_row": null,
            "grid_template_areas": null,
            "grid_template_columns": null,
            "grid_template_rows": null,
            "height": null,
            "justify_content": null,
            "justify_items": null,
            "left": null,
            "margin": null,
            "max_height": null,
            "max_width": null,
            "min_height": null,
            "min_width": null,
            "object_fit": null,
            "object_position": null,
            "order": null,
            "overflow": null,
            "overflow_x": null,
            "overflow_y": null,
            "padding": null,
            "right": null,
            "top": null,
            "visibility": null,
            "width": null
          }
        },
        "e2321e6adb1e488f91231bc9e444cd3c": {
          "model_module": "@jupyter-widgets/controls",
          "model_name": "DescriptionStyleModel",
          "model_module_version": "1.5.0",
          "state": {
            "_model_module": "@jupyter-widgets/controls",
            "_model_module_version": "1.5.0",
            "_model_name": "DescriptionStyleModel",
            "_view_count": null,
            "_view_module": "@jupyter-widgets/base",
            "_view_module_version": "1.2.0",
            "_view_name": "StyleView",
            "description_width": ""
          }
        },
        "5e72ac246b59421e89cd836605450397": {
          "model_module": "@jupyter-widgets/base",
          "model_name": "LayoutModel",
          "model_module_version": "1.2.0",
          "state": {
            "_model_module": "@jupyter-widgets/base",
            "_model_module_version": "1.2.0",
            "_model_name": "LayoutModel",
            "_view_count": null,
            "_view_module": "@jupyter-widgets/base",
            "_view_module_version": "1.2.0",
            "_view_name": "LayoutView",
            "align_content": null,
            "align_items": null,
            "align_self": null,
            "border": null,
            "bottom": null,
            "display": null,
            "flex": null,
            "flex_flow": null,
            "grid_area": null,
            "grid_auto_columns": null,
            "grid_auto_flow": null,
            "grid_auto_rows": null,
            "grid_column": null,
            "grid_gap": null,
            "grid_row": null,
            "grid_template_areas": null,
            "grid_template_columns": null,
            "grid_template_rows": null,
            "height": null,
            "justify_content": null,
            "justify_items": null,
            "left": null,
            "margin": null,
            "max_height": null,
            "max_width": null,
            "min_height": null,
            "min_width": null,
            "object_fit": null,
            "object_position": null,
            "order": null,
            "overflow": null,
            "overflow_x": null,
            "overflow_y": null,
            "padding": null,
            "right": null,
            "top": null,
            "visibility": null,
            "width": null
          }
        },
        "4b6832d26cb74705b519f8abf31d61d5": {
          "model_module": "@jupyter-widgets/controls",
          "model_name": "ProgressStyleModel",
          "model_module_version": "1.5.0",
          "state": {
            "_model_module": "@jupyter-widgets/controls",
            "_model_module_version": "1.5.0",
            "_model_name": "ProgressStyleModel",
            "_view_count": null,
            "_view_module": "@jupyter-widgets/base",
            "_view_module_version": "1.2.0",
            "_view_name": "StyleView",
            "bar_color": null,
            "description_width": ""
          }
        },
        "117880963c9b487cadbe02f83ce22021": {
          "model_module": "@jupyter-widgets/base",
          "model_name": "LayoutModel",
          "model_module_version": "1.2.0",
          "state": {
            "_model_module": "@jupyter-widgets/base",
            "_model_module_version": "1.2.0",
            "_model_name": "LayoutModel",
            "_view_count": null,
            "_view_module": "@jupyter-widgets/base",
            "_view_module_version": "1.2.0",
            "_view_name": "LayoutView",
            "align_content": null,
            "align_items": null,
            "align_self": null,
            "border": null,
            "bottom": null,
            "display": null,
            "flex": null,
            "flex_flow": null,
            "grid_area": null,
            "grid_auto_columns": null,
            "grid_auto_flow": null,
            "grid_auto_rows": null,
            "grid_column": null,
            "grid_gap": null,
            "grid_row": null,
            "grid_template_areas": null,
            "grid_template_columns": null,
            "grid_template_rows": null,
            "height": null,
            "justify_content": null,
            "justify_items": null,
            "left": null,
            "margin": null,
            "max_height": null,
            "max_width": null,
            "min_height": null,
            "min_width": null,
            "object_fit": null,
            "object_position": null,
            "order": null,
            "overflow": null,
            "overflow_x": null,
            "overflow_y": null,
            "padding": null,
            "right": null,
            "top": null,
            "visibility": null,
            "width": null
          }
        },
        "6845f8daaf79423781adf3f7a74c652b": {
          "model_module": "@jupyter-widgets/controls",
          "model_name": "DescriptionStyleModel",
          "model_module_version": "1.5.0",
          "state": {
            "_model_module": "@jupyter-widgets/controls",
            "_model_module_version": "1.5.0",
            "_model_name": "DescriptionStyleModel",
            "_view_count": null,
            "_view_module": "@jupyter-widgets/base",
            "_view_module_version": "1.2.0",
            "_view_name": "StyleView",
            "description_width": ""
          }
        },
        "a81da4e745b64edfa668298f908e3fb0": {
          "model_module": "@jupyter-widgets/controls",
          "model_name": "HBoxModel",
          "model_module_version": "1.5.0",
          "state": {
            "_dom_classes": [],
            "_model_module": "@jupyter-widgets/controls",
            "_model_module_version": "1.5.0",
            "_model_name": "HBoxModel",
            "_view_count": null,
            "_view_module": "@jupyter-widgets/controls",
            "_view_module_version": "1.5.0",
            "_view_name": "HBoxView",
            "box_style": "",
            "children": [
              "IPY_MODEL_619882a67fb44fbf9a76c4a33c7ad573",
              "IPY_MODEL_1bcdb6a7034d4cdca311c028d52bff0c",
              "IPY_MODEL_b6aa56ee1d5344c783141f5ec6bfa72b"
            ],
            "layout": "IPY_MODEL_de0b62110102474fb020d9427e9b6f3d"
          }
        },
        "619882a67fb44fbf9a76c4a33c7ad573": {
          "model_module": "@jupyter-widgets/controls",
          "model_name": "HTMLModel",
          "model_module_version": "1.5.0",
          "state": {
            "_dom_classes": [],
            "_model_module": "@jupyter-widgets/controls",
            "_model_module_version": "1.5.0",
            "_model_name": "HTMLModel",
            "_view_count": null,
            "_view_module": "@jupyter-widgets/controls",
            "_view_module_version": "1.5.0",
            "_view_name": "HTMLView",
            "description": "",
            "description_tooltip": null,
            "layout": "IPY_MODEL_432190fffb2d4680a37dba97cb665646",
            "placeholder": "​",
            "style": "IPY_MODEL_f5766f714d8b4370a3a2abbc0b544216",
            "value": "Downloading: 100%"
          }
        },
        "1bcdb6a7034d4cdca311c028d52bff0c": {
          "model_module": "@jupyter-widgets/controls",
          "model_name": "FloatProgressModel",
          "model_module_version": "1.5.0",
          "state": {
            "_dom_classes": [],
            "_model_module": "@jupyter-widgets/controls",
            "_model_module_version": "1.5.0",
            "_model_name": "FloatProgressModel",
            "_view_count": null,
            "_view_module": "@jupyter-widgets/controls",
            "_view_module_version": "1.5.0",
            "_view_name": "ProgressView",
            "bar_style": "success",
            "description": "",
            "description_tooltip": null,
            "layout": "IPY_MODEL_a6ded274bb7b4694a07e08f9b59ecc63",
            "max": 895321,
            "min": 0,
            "orientation": "horizontal",
            "style": "IPY_MODEL_56986ec63afd4d4fb049a4ec9f862828",
            "value": 895321
          }
        },
        "b6aa56ee1d5344c783141f5ec6bfa72b": {
          "model_module": "@jupyter-widgets/controls",
          "model_name": "HTMLModel",
          "model_module_version": "1.5.0",
          "state": {
            "_dom_classes": [],
            "_model_module": "@jupyter-widgets/controls",
            "_model_module_version": "1.5.0",
            "_model_name": "HTMLModel",
            "_view_count": null,
            "_view_module": "@jupyter-widgets/controls",
            "_view_module_version": "1.5.0",
            "_view_name": "HTMLView",
            "description": "",
            "description_tooltip": null,
            "layout": "IPY_MODEL_95903d2b0dbc4cd8aa87791cf64f5393",
            "placeholder": "​",
            "style": "IPY_MODEL_65ae0313a8f3416c83bb0f89919b352c",
            "value": " 874k/874k [00:00&lt;00:00, 2.01MB/s]"
          }
        },
        "de0b62110102474fb020d9427e9b6f3d": {
          "model_module": "@jupyter-widgets/base",
          "model_name": "LayoutModel",
          "model_module_version": "1.2.0",
          "state": {
            "_model_module": "@jupyter-widgets/base",
            "_model_module_version": "1.2.0",
            "_model_name": "LayoutModel",
            "_view_count": null,
            "_view_module": "@jupyter-widgets/base",
            "_view_module_version": "1.2.0",
            "_view_name": "LayoutView",
            "align_content": null,
            "align_items": null,
            "align_self": null,
            "border": null,
            "bottom": null,
            "display": null,
            "flex": null,
            "flex_flow": null,
            "grid_area": null,
            "grid_auto_columns": null,
            "grid_auto_flow": null,
            "grid_auto_rows": null,
            "grid_column": null,
            "grid_gap": null,
            "grid_row": null,
            "grid_template_areas": null,
            "grid_template_columns": null,
            "grid_template_rows": null,
            "height": null,
            "justify_content": null,
            "justify_items": null,
            "left": null,
            "margin": null,
            "max_height": null,
            "max_width": null,
            "min_height": null,
            "min_width": null,
            "object_fit": null,
            "object_position": null,
            "order": null,
            "overflow": null,
            "overflow_x": null,
            "overflow_y": null,
            "padding": null,
            "right": null,
            "top": null,
            "visibility": null,
            "width": null
          }
        },
        "432190fffb2d4680a37dba97cb665646": {
          "model_module": "@jupyter-widgets/base",
          "model_name": "LayoutModel",
          "model_module_version": "1.2.0",
          "state": {
            "_model_module": "@jupyter-widgets/base",
            "_model_module_version": "1.2.0",
            "_model_name": "LayoutModel",
            "_view_count": null,
            "_view_module": "@jupyter-widgets/base",
            "_view_module_version": "1.2.0",
            "_view_name": "LayoutView",
            "align_content": null,
            "align_items": null,
            "align_self": null,
            "border": null,
            "bottom": null,
            "display": null,
            "flex": null,
            "flex_flow": null,
            "grid_area": null,
            "grid_auto_columns": null,
            "grid_auto_flow": null,
            "grid_auto_rows": null,
            "grid_column": null,
            "grid_gap": null,
            "grid_row": null,
            "grid_template_areas": null,
            "grid_template_columns": null,
            "grid_template_rows": null,
            "height": null,
            "justify_content": null,
            "justify_items": null,
            "left": null,
            "margin": null,
            "max_height": null,
            "max_width": null,
            "min_height": null,
            "min_width": null,
            "object_fit": null,
            "object_position": null,
            "order": null,
            "overflow": null,
            "overflow_x": null,
            "overflow_y": null,
            "padding": null,
            "right": null,
            "top": null,
            "visibility": null,
            "width": null
          }
        },
        "f5766f714d8b4370a3a2abbc0b544216": {
          "model_module": "@jupyter-widgets/controls",
          "model_name": "DescriptionStyleModel",
          "model_module_version": "1.5.0",
          "state": {
            "_model_module": "@jupyter-widgets/controls",
            "_model_module_version": "1.5.0",
            "_model_name": "DescriptionStyleModel",
            "_view_count": null,
            "_view_module": "@jupyter-widgets/base",
            "_view_module_version": "1.2.0",
            "_view_name": "StyleView",
            "description_width": ""
          }
        },
        "a6ded274bb7b4694a07e08f9b59ecc63": {
          "model_module": "@jupyter-widgets/base",
          "model_name": "LayoutModel",
          "model_module_version": "1.2.0",
          "state": {
            "_model_module": "@jupyter-widgets/base",
            "_model_module_version": "1.2.0",
            "_model_name": "LayoutModel",
            "_view_count": null,
            "_view_module": "@jupyter-widgets/base",
            "_view_module_version": "1.2.0",
            "_view_name": "LayoutView",
            "align_content": null,
            "align_items": null,
            "align_self": null,
            "border": null,
            "bottom": null,
            "display": null,
            "flex": null,
            "flex_flow": null,
            "grid_area": null,
            "grid_auto_columns": null,
            "grid_auto_flow": null,
            "grid_auto_rows": null,
            "grid_column": null,
            "grid_gap": null,
            "grid_row": null,
            "grid_template_areas": null,
            "grid_template_columns": null,
            "grid_template_rows": null,
            "height": null,
            "justify_content": null,
            "justify_items": null,
            "left": null,
            "margin": null,
            "max_height": null,
            "max_width": null,
            "min_height": null,
            "min_width": null,
            "object_fit": null,
            "object_position": null,
            "order": null,
            "overflow": null,
            "overflow_x": null,
            "overflow_y": null,
            "padding": null,
            "right": null,
            "top": null,
            "visibility": null,
            "width": null
          }
        },
        "56986ec63afd4d4fb049a4ec9f862828": {
          "model_module": "@jupyter-widgets/controls",
          "model_name": "ProgressStyleModel",
          "model_module_version": "1.5.0",
          "state": {
            "_model_module": "@jupyter-widgets/controls",
            "_model_module_version": "1.5.0",
            "_model_name": "ProgressStyleModel",
            "_view_count": null,
            "_view_module": "@jupyter-widgets/base",
            "_view_module_version": "1.2.0",
            "_view_name": "StyleView",
            "bar_color": null,
            "description_width": ""
          }
        },
        "95903d2b0dbc4cd8aa87791cf64f5393": {
          "model_module": "@jupyter-widgets/base",
          "model_name": "LayoutModel",
          "model_module_version": "1.2.0",
          "state": {
            "_model_module": "@jupyter-widgets/base",
            "_model_module_version": "1.2.0",
            "_model_name": "LayoutModel",
            "_view_count": null,
            "_view_module": "@jupyter-widgets/base",
            "_view_module_version": "1.2.0",
            "_view_name": "LayoutView",
            "align_content": null,
            "align_items": null,
            "align_self": null,
            "border": null,
            "bottom": null,
            "display": null,
            "flex": null,
            "flex_flow": null,
            "grid_area": null,
            "grid_auto_columns": null,
            "grid_auto_flow": null,
            "grid_auto_rows": null,
            "grid_column": null,
            "grid_gap": null,
            "grid_row": null,
            "grid_template_areas": null,
            "grid_template_columns": null,
            "grid_template_rows": null,
            "height": null,
            "justify_content": null,
            "justify_items": null,
            "left": null,
            "margin": null,
            "max_height": null,
            "max_width": null,
            "min_height": null,
            "min_width": null,
            "object_fit": null,
            "object_position": null,
            "order": null,
            "overflow": null,
            "overflow_x": null,
            "overflow_y": null,
            "padding": null,
            "right": null,
            "top": null,
            "visibility": null,
            "width": null
          }
        },
        "65ae0313a8f3416c83bb0f89919b352c": {
          "model_module": "@jupyter-widgets/controls",
          "model_name": "DescriptionStyleModel",
          "model_module_version": "1.5.0",
          "state": {
            "_model_module": "@jupyter-widgets/controls",
            "_model_module_version": "1.5.0",
            "_model_name": "DescriptionStyleModel",
            "_view_count": null,
            "_view_module": "@jupyter-widgets/base",
            "_view_module_version": "1.2.0",
            "_view_name": "StyleView",
            "description_width": ""
          }
        },
        "8bc18aa3d4ce4ab3bf1adb8b561345f7": {
          "model_module": "@jupyter-widgets/controls",
          "model_name": "HBoxModel",
          "model_module_version": "1.5.0",
          "state": {
            "_dom_classes": [],
            "_model_module": "@jupyter-widgets/controls",
            "_model_module_version": "1.5.0",
            "_model_name": "HBoxModel",
            "_view_count": null,
            "_view_module": "@jupyter-widgets/controls",
            "_view_module_version": "1.5.0",
            "_view_name": "HBoxView",
            "box_style": "",
            "children": [
              "IPY_MODEL_6d2e954acb9b4871b77cce9d3786f42b",
              "IPY_MODEL_1a2457a0dd254700a4948abb453d79d5",
              "IPY_MODEL_6e48e4c19571484da054ca74f7c95069"
            ],
            "layout": "IPY_MODEL_8a4e96eeb0d841c69f47be5377041c30"
          }
        },
        "6d2e954acb9b4871b77cce9d3786f42b": {
          "model_module": "@jupyter-widgets/controls",
          "model_name": "HTMLModel",
          "model_module_version": "1.5.0",
          "state": {
            "_dom_classes": [],
            "_model_module": "@jupyter-widgets/controls",
            "_model_module_version": "1.5.0",
            "_model_name": "HTMLModel",
            "_view_count": null,
            "_view_module": "@jupyter-widgets/controls",
            "_view_module_version": "1.5.0",
            "_view_name": "HTMLView",
            "description": "",
            "description_tooltip": null,
            "layout": "IPY_MODEL_43bfaa5dd8b947279688e1ad91d21d5b",
            "placeholder": "​",
            "style": "IPY_MODEL_0cfabf90f17a4c8c82644cbb49c233da",
            "value": "Downloading: 100%"
          }
        },
        "1a2457a0dd254700a4948abb453d79d5": {
          "model_module": "@jupyter-widgets/controls",
          "model_name": "FloatProgressModel",
          "model_module_version": "1.5.0",
          "state": {
            "_dom_classes": [],
            "_model_module": "@jupyter-widgets/controls",
            "_model_module_version": "1.5.0",
            "_model_name": "FloatProgressModel",
            "_view_count": null,
            "_view_module": "@jupyter-widgets/controls",
            "_view_module_version": "1.5.0",
            "_view_name": "ProgressView",
            "bar_style": "success",
            "description": "",
            "description_tooltip": null,
            "layout": "IPY_MODEL_80e891a919cc47419f36f5a09143ed1f",
            "max": 1135173,
            "min": 0,
            "orientation": "horizontal",
            "style": "IPY_MODEL_79cce228ce474e8ebb735e98fcf07933",
            "value": 1135173
          }
        },
        "6e48e4c19571484da054ca74f7c95069": {
          "model_module": "@jupyter-widgets/controls",
          "model_name": "HTMLModel",
          "model_module_version": "1.5.0",
          "state": {
            "_dom_classes": [],
            "_model_module": "@jupyter-widgets/controls",
            "_model_module_version": "1.5.0",
            "_model_name": "HTMLModel",
            "_view_count": null,
            "_view_module": "@jupyter-widgets/controls",
            "_view_module_version": "1.5.0",
            "_view_name": "HTMLView",
            "description": "",
            "description_tooltip": null,
            "layout": "IPY_MODEL_a0786c20271549569ac90d71e5d6e73a",
            "placeholder": "​",
            "style": "IPY_MODEL_8fdd733dd21a4b839d10a09f23dde223",
            "value": " 1.08M/1.08M [00:00&lt;00:00, 3.08MB/s]"
          }
        },
        "8a4e96eeb0d841c69f47be5377041c30": {
          "model_module": "@jupyter-widgets/base",
          "model_name": "LayoutModel",
          "model_module_version": "1.2.0",
          "state": {
            "_model_module": "@jupyter-widgets/base",
            "_model_module_version": "1.2.0",
            "_model_name": "LayoutModel",
            "_view_count": null,
            "_view_module": "@jupyter-widgets/base",
            "_view_module_version": "1.2.0",
            "_view_name": "LayoutView",
            "align_content": null,
            "align_items": null,
            "align_self": null,
            "border": null,
            "bottom": null,
            "display": null,
            "flex": null,
            "flex_flow": null,
            "grid_area": null,
            "grid_auto_columns": null,
            "grid_auto_flow": null,
            "grid_auto_rows": null,
            "grid_column": null,
            "grid_gap": null,
            "grid_row": null,
            "grid_template_areas": null,
            "grid_template_columns": null,
            "grid_template_rows": null,
            "height": null,
            "justify_content": null,
            "justify_items": null,
            "left": null,
            "margin": null,
            "max_height": null,
            "max_width": null,
            "min_height": null,
            "min_width": null,
            "object_fit": null,
            "object_position": null,
            "order": null,
            "overflow": null,
            "overflow_x": null,
            "overflow_y": null,
            "padding": null,
            "right": null,
            "top": null,
            "visibility": null,
            "width": null
          }
        },
        "43bfaa5dd8b947279688e1ad91d21d5b": {
          "model_module": "@jupyter-widgets/base",
          "model_name": "LayoutModel",
          "model_module_version": "1.2.0",
          "state": {
            "_model_module": "@jupyter-widgets/base",
            "_model_module_version": "1.2.0",
            "_model_name": "LayoutModel",
            "_view_count": null,
            "_view_module": "@jupyter-widgets/base",
            "_view_module_version": "1.2.0",
            "_view_name": "LayoutView",
            "align_content": null,
            "align_items": null,
            "align_self": null,
            "border": null,
            "bottom": null,
            "display": null,
            "flex": null,
            "flex_flow": null,
            "grid_area": null,
            "grid_auto_columns": null,
            "grid_auto_flow": null,
            "grid_auto_rows": null,
            "grid_column": null,
            "grid_gap": null,
            "grid_row": null,
            "grid_template_areas": null,
            "grid_template_columns": null,
            "grid_template_rows": null,
            "height": null,
            "justify_content": null,
            "justify_items": null,
            "left": null,
            "margin": null,
            "max_height": null,
            "max_width": null,
            "min_height": null,
            "min_width": null,
            "object_fit": null,
            "object_position": null,
            "order": null,
            "overflow": null,
            "overflow_x": null,
            "overflow_y": null,
            "padding": null,
            "right": null,
            "top": null,
            "visibility": null,
            "width": null
          }
        },
        "0cfabf90f17a4c8c82644cbb49c233da": {
          "model_module": "@jupyter-widgets/controls",
          "model_name": "DescriptionStyleModel",
          "model_module_version": "1.5.0",
          "state": {
            "_model_module": "@jupyter-widgets/controls",
            "_model_module_version": "1.5.0",
            "_model_name": "DescriptionStyleModel",
            "_view_count": null,
            "_view_module": "@jupyter-widgets/base",
            "_view_module_version": "1.2.0",
            "_view_name": "StyleView",
            "description_width": ""
          }
        },
        "80e891a919cc47419f36f5a09143ed1f": {
          "model_module": "@jupyter-widgets/base",
          "model_name": "LayoutModel",
          "model_module_version": "1.2.0",
          "state": {
            "_model_module": "@jupyter-widgets/base",
            "_model_module_version": "1.2.0",
            "_model_name": "LayoutModel",
            "_view_count": null,
            "_view_module": "@jupyter-widgets/base",
            "_view_module_version": "1.2.0",
            "_view_name": "LayoutView",
            "align_content": null,
            "align_items": null,
            "align_self": null,
            "border": null,
            "bottom": null,
            "display": null,
            "flex": null,
            "flex_flow": null,
            "grid_area": null,
            "grid_auto_columns": null,
            "grid_auto_flow": null,
            "grid_auto_rows": null,
            "grid_column": null,
            "grid_gap": null,
            "grid_row": null,
            "grid_template_areas": null,
            "grid_template_columns": null,
            "grid_template_rows": null,
            "height": null,
            "justify_content": null,
            "justify_items": null,
            "left": null,
            "margin": null,
            "max_height": null,
            "max_width": null,
            "min_height": null,
            "min_width": null,
            "object_fit": null,
            "object_position": null,
            "order": null,
            "overflow": null,
            "overflow_x": null,
            "overflow_y": null,
            "padding": null,
            "right": null,
            "top": null,
            "visibility": null,
            "width": null
          }
        },
        "79cce228ce474e8ebb735e98fcf07933": {
          "model_module": "@jupyter-widgets/controls",
          "model_name": "ProgressStyleModel",
          "model_module_version": "1.5.0",
          "state": {
            "_model_module": "@jupyter-widgets/controls",
            "_model_module_version": "1.5.0",
            "_model_name": "ProgressStyleModel",
            "_view_count": null,
            "_view_module": "@jupyter-widgets/base",
            "_view_module_version": "1.2.0",
            "_view_name": "StyleView",
            "bar_color": null,
            "description_width": ""
          }
        },
        "a0786c20271549569ac90d71e5d6e73a": {
          "model_module": "@jupyter-widgets/base",
          "model_name": "LayoutModel",
          "model_module_version": "1.2.0",
          "state": {
            "_model_module": "@jupyter-widgets/base",
            "_model_module_version": "1.2.0",
            "_model_name": "LayoutModel",
            "_view_count": null,
            "_view_module": "@jupyter-widgets/base",
            "_view_module_version": "1.2.0",
            "_view_name": "LayoutView",
            "align_content": null,
            "align_items": null,
            "align_self": null,
            "border": null,
            "bottom": null,
            "display": null,
            "flex": null,
            "flex_flow": null,
            "grid_area": null,
            "grid_auto_columns": null,
            "grid_auto_flow": null,
            "grid_auto_rows": null,
            "grid_column": null,
            "grid_gap": null,
            "grid_row": null,
            "grid_template_areas": null,
            "grid_template_columns": null,
            "grid_template_rows": null,
            "height": null,
            "justify_content": null,
            "justify_items": null,
            "left": null,
            "margin": null,
            "max_height": null,
            "max_width": null,
            "min_height": null,
            "min_width": null,
            "object_fit": null,
            "object_position": null,
            "order": null,
            "overflow": null,
            "overflow_x": null,
            "overflow_y": null,
            "padding": null,
            "right": null,
            "top": null,
            "visibility": null,
            "width": null
          }
        },
        "8fdd733dd21a4b839d10a09f23dde223": {
          "model_module": "@jupyter-widgets/controls",
          "model_name": "DescriptionStyleModel",
          "model_module_version": "1.5.0",
          "state": {
            "_model_module": "@jupyter-widgets/controls",
            "_model_module_version": "1.5.0",
            "_model_name": "DescriptionStyleModel",
            "_view_count": null,
            "_view_module": "@jupyter-widgets/base",
            "_view_module_version": "1.2.0",
            "_view_name": "StyleView",
            "description_width": ""
          }
        },
        "764e8aa3812644d08d0b52358a810c0e": {
          "model_module": "@jupyter-widgets/controls",
          "model_name": "HBoxModel",
          "model_module_version": "1.5.0",
          "state": {
            "_dom_classes": [],
            "_model_module": "@jupyter-widgets/controls",
            "_model_module_version": "1.5.0",
            "_model_name": "HBoxModel",
            "_view_count": null,
            "_view_module": "@jupyter-widgets/controls",
            "_view_module_version": "1.5.0",
            "_view_name": "HBoxView",
            "box_style": "",
            "children": [
              "IPY_MODEL_2e74c50d360b44bbab5c1b07a0616f8d",
              "IPY_MODEL_5b9761c3fa184b589832772d025a75c9",
              "IPY_MODEL_be229f26e9aa4f958cc37eaff02a48c1"
            ],
            "layout": "IPY_MODEL_3674afebcbbe4b50b711aa9133ebd765"
          }
        },
        "2e74c50d360b44bbab5c1b07a0616f8d": {
          "model_module": "@jupyter-widgets/controls",
          "model_name": "HTMLModel",
          "model_module_version": "1.5.0",
          "state": {
            "_dom_classes": [],
            "_model_module": "@jupyter-widgets/controls",
            "_model_module_version": "1.5.0",
            "_model_name": "HTMLModel",
            "_view_count": null,
            "_view_module": "@jupyter-widgets/controls",
            "_view_module_version": "1.5.0",
            "_view_name": "HTMLView",
            "description": "",
            "description_tooltip": null,
            "layout": "IPY_MODEL_97be635706644fd6a8b9c163595726b3",
            "placeholder": "​",
            "style": "IPY_MODEL_75bd27dc08b54288b9e49de3fdc0abd5",
            "value": "Downloading: 100%"
          }
        },
        "5b9761c3fa184b589832772d025a75c9": {
          "model_module": "@jupyter-widgets/controls",
          "model_name": "FloatProgressModel",
          "model_module_version": "1.5.0",
          "state": {
            "_dom_classes": [],
            "_model_module": "@jupyter-widgets/controls",
            "_model_module_version": "1.5.0",
            "_model_name": "FloatProgressModel",
            "_view_count": null,
            "_view_module": "@jupyter-widgets/controls",
            "_view_module_version": "1.5.0",
            "_view_name": "ProgressView",
            "bar_style": "success",
            "description": "",
            "description_tooltip": null,
            "layout": "IPY_MODEL_4a5485f7ada34c1babb746bd51d55c20",
            "max": 17,
            "min": 0,
            "orientation": "horizontal",
            "style": "IPY_MODEL_9ace0878b6df45cd8c2c962f56a23710",
            "value": 17
          }
        },
        "be229f26e9aa4f958cc37eaff02a48c1": {
          "model_module": "@jupyter-widgets/controls",
          "model_name": "HTMLModel",
          "model_module_version": "1.5.0",
          "state": {
            "_dom_classes": [],
            "_model_module": "@jupyter-widgets/controls",
            "_model_module_version": "1.5.0",
            "_model_name": "HTMLModel",
            "_view_count": null,
            "_view_module": "@jupyter-widgets/controls",
            "_view_module_version": "1.5.0",
            "_view_name": "HTMLView",
            "description": "",
            "description_tooltip": null,
            "layout": "IPY_MODEL_42db149434a64806afcaadac8ee7bab4",
            "placeholder": "​",
            "style": "IPY_MODEL_d2201fc9c21a45038de3681f4faba4c8",
            "value": " 17.0/17.0 [00:00&lt;00:00, 196B/s]"
          }
        },
        "3674afebcbbe4b50b711aa9133ebd765": {
          "model_module": "@jupyter-widgets/base",
          "model_name": "LayoutModel",
          "model_module_version": "1.2.0",
          "state": {
            "_model_module": "@jupyter-widgets/base",
            "_model_module_version": "1.2.0",
            "_model_name": "LayoutModel",
            "_view_count": null,
            "_view_module": "@jupyter-widgets/base",
            "_view_module_version": "1.2.0",
            "_view_name": "LayoutView",
            "align_content": null,
            "align_items": null,
            "align_self": null,
            "border": null,
            "bottom": null,
            "display": null,
            "flex": null,
            "flex_flow": null,
            "grid_area": null,
            "grid_auto_columns": null,
            "grid_auto_flow": null,
            "grid_auto_rows": null,
            "grid_column": null,
            "grid_gap": null,
            "grid_row": null,
            "grid_template_areas": null,
            "grid_template_columns": null,
            "grid_template_rows": null,
            "height": null,
            "justify_content": null,
            "justify_items": null,
            "left": null,
            "margin": null,
            "max_height": null,
            "max_width": null,
            "min_height": null,
            "min_width": null,
            "object_fit": null,
            "object_position": null,
            "order": null,
            "overflow": null,
            "overflow_x": null,
            "overflow_y": null,
            "padding": null,
            "right": null,
            "top": null,
            "visibility": null,
            "width": null
          }
        },
        "97be635706644fd6a8b9c163595726b3": {
          "model_module": "@jupyter-widgets/base",
          "model_name": "LayoutModel",
          "model_module_version": "1.2.0",
          "state": {
            "_model_module": "@jupyter-widgets/base",
            "_model_module_version": "1.2.0",
            "_model_name": "LayoutModel",
            "_view_count": null,
            "_view_module": "@jupyter-widgets/base",
            "_view_module_version": "1.2.0",
            "_view_name": "LayoutView",
            "align_content": null,
            "align_items": null,
            "align_self": null,
            "border": null,
            "bottom": null,
            "display": null,
            "flex": null,
            "flex_flow": null,
            "grid_area": null,
            "grid_auto_columns": null,
            "grid_auto_flow": null,
            "grid_auto_rows": null,
            "grid_column": null,
            "grid_gap": null,
            "grid_row": null,
            "grid_template_areas": null,
            "grid_template_columns": null,
            "grid_template_rows": null,
            "height": null,
            "justify_content": null,
            "justify_items": null,
            "left": null,
            "margin": null,
            "max_height": null,
            "max_width": null,
            "min_height": null,
            "min_width": null,
            "object_fit": null,
            "object_position": null,
            "order": null,
            "overflow": null,
            "overflow_x": null,
            "overflow_y": null,
            "padding": null,
            "right": null,
            "top": null,
            "visibility": null,
            "width": null
          }
        },
        "75bd27dc08b54288b9e49de3fdc0abd5": {
          "model_module": "@jupyter-widgets/controls",
          "model_name": "DescriptionStyleModel",
          "model_module_version": "1.5.0",
          "state": {
            "_model_module": "@jupyter-widgets/controls",
            "_model_module_version": "1.5.0",
            "_model_name": "DescriptionStyleModel",
            "_view_count": null,
            "_view_module": "@jupyter-widgets/base",
            "_view_module_version": "1.2.0",
            "_view_name": "StyleView",
            "description_width": ""
          }
        },
        "4a5485f7ada34c1babb746bd51d55c20": {
          "model_module": "@jupyter-widgets/base",
          "model_name": "LayoutModel",
          "model_module_version": "1.2.0",
          "state": {
            "_model_module": "@jupyter-widgets/base",
            "_model_module_version": "1.2.0",
            "_model_name": "LayoutModel",
            "_view_count": null,
            "_view_module": "@jupyter-widgets/base",
            "_view_module_version": "1.2.0",
            "_view_name": "LayoutView",
            "align_content": null,
            "align_items": null,
            "align_self": null,
            "border": null,
            "bottom": null,
            "display": null,
            "flex": null,
            "flex_flow": null,
            "grid_area": null,
            "grid_auto_columns": null,
            "grid_auto_flow": null,
            "grid_auto_rows": null,
            "grid_column": null,
            "grid_gap": null,
            "grid_row": null,
            "grid_template_areas": null,
            "grid_template_columns": null,
            "grid_template_rows": null,
            "height": null,
            "justify_content": null,
            "justify_items": null,
            "left": null,
            "margin": null,
            "max_height": null,
            "max_width": null,
            "min_height": null,
            "min_width": null,
            "object_fit": null,
            "object_position": null,
            "order": null,
            "overflow": null,
            "overflow_x": null,
            "overflow_y": null,
            "padding": null,
            "right": null,
            "top": null,
            "visibility": null,
            "width": null
          }
        },
        "9ace0878b6df45cd8c2c962f56a23710": {
          "model_module": "@jupyter-widgets/controls",
          "model_name": "ProgressStyleModel",
          "model_module_version": "1.5.0",
          "state": {
            "_model_module": "@jupyter-widgets/controls",
            "_model_module_version": "1.5.0",
            "_model_name": "ProgressStyleModel",
            "_view_count": null,
            "_view_module": "@jupyter-widgets/base",
            "_view_module_version": "1.2.0",
            "_view_name": "StyleView",
            "bar_color": null,
            "description_width": ""
          }
        },
        "42db149434a64806afcaadac8ee7bab4": {
          "model_module": "@jupyter-widgets/base",
          "model_name": "LayoutModel",
          "model_module_version": "1.2.0",
          "state": {
            "_model_module": "@jupyter-widgets/base",
            "_model_module_version": "1.2.0",
            "_model_name": "LayoutModel",
            "_view_count": null,
            "_view_module": "@jupyter-widgets/base",
            "_view_module_version": "1.2.0",
            "_view_name": "LayoutView",
            "align_content": null,
            "align_items": null,
            "align_self": null,
            "border": null,
            "bottom": null,
            "display": null,
            "flex": null,
            "flex_flow": null,
            "grid_area": null,
            "grid_auto_columns": null,
            "grid_auto_flow": null,
            "grid_auto_rows": null,
            "grid_column": null,
            "grid_gap": null,
            "grid_row": null,
            "grid_template_areas": null,
            "grid_template_columns": null,
            "grid_template_rows": null,
            "height": null,
            "justify_content": null,
            "justify_items": null,
            "left": null,
            "margin": null,
            "max_height": null,
            "max_width": null,
            "min_height": null,
            "min_width": null,
            "object_fit": null,
            "object_position": null,
            "order": null,
            "overflow": null,
            "overflow_x": null,
            "overflow_y": null,
            "padding": null,
            "right": null,
            "top": null,
            "visibility": null,
            "width": null
          }
        },
        "d2201fc9c21a45038de3681f4faba4c8": {
          "model_module": "@jupyter-widgets/controls",
          "model_name": "DescriptionStyleModel",
          "model_module_version": "1.5.0",
          "state": {
            "_model_module": "@jupyter-widgets/controls",
            "_model_module_version": "1.5.0",
            "_model_name": "DescriptionStyleModel",
            "_view_count": null,
            "_view_module": "@jupyter-widgets/base",
            "_view_module_version": "1.2.0",
            "_view_name": "StyleView",
            "description_width": ""
          }
        },
        "1f20d1f7b4604e0f8648ea311e70c91e": {
          "model_module": "@jupyter-widgets/controls",
          "model_name": "HBoxModel",
          "model_module_version": "1.5.0",
          "state": {
            "_dom_classes": [],
            "_model_module": "@jupyter-widgets/controls",
            "_model_module_version": "1.5.0",
            "_model_name": "HBoxModel",
            "_view_count": null,
            "_view_module": "@jupyter-widgets/controls",
            "_view_module_version": "1.5.0",
            "_view_name": "HBoxView",
            "box_style": "",
            "children": [
              "IPY_MODEL_9fbda27da589436797dc75e852c27a18",
              "IPY_MODEL_de0823c1ff804f27b79b5469d377806e",
              "IPY_MODEL_77fc4c60143d40648b9009fade4f6f5d"
            ],
            "layout": "IPY_MODEL_b71b3216d75448a381293229f6a9cdc1"
          }
        },
        "9fbda27da589436797dc75e852c27a18": {
          "model_module": "@jupyter-widgets/controls",
          "model_name": "HTMLModel",
          "model_module_version": "1.5.0",
          "state": {
            "_dom_classes": [],
            "_model_module": "@jupyter-widgets/controls",
            "_model_module_version": "1.5.0",
            "_model_name": "HTMLModel",
            "_view_count": null,
            "_view_module": "@jupyter-widgets/controls",
            "_view_module_version": "1.5.0",
            "_view_name": "HTMLView",
            "description": "",
            "description_tooltip": null,
            "layout": "IPY_MODEL_3ad5c1f0c0024634ba76d328c0f0df86",
            "placeholder": "​",
            "style": "IPY_MODEL_1bbef6c237b140738bb2631dd7bcf315",
            "value": "Downloading: 100%"
          }
        },
        "de0823c1ff804f27b79b5469d377806e": {
          "model_module": "@jupyter-widgets/controls",
          "model_name": "FloatProgressModel",
          "model_module_version": "1.5.0",
          "state": {
            "_dom_classes": [],
            "_model_module": "@jupyter-widgets/controls",
            "_model_module_version": "1.5.0",
            "_model_name": "FloatProgressModel",
            "_view_count": null,
            "_view_module": "@jupyter-widgets/controls",
            "_view_module_version": "1.5.0",
            "_view_name": "ProgressView",
            "bar_style": "success",
            "description": "",
            "description_tooltip": null,
            "layout": "IPY_MODEL_e13d530c2de94fca81f129704ba20277",
            "max": 150,
            "min": 0,
            "orientation": "horizontal",
            "style": "IPY_MODEL_a074a8c5207d41bd83e777e6b72fa9bd",
            "value": 150
          }
        },
        "77fc4c60143d40648b9009fade4f6f5d": {
          "model_module": "@jupyter-widgets/controls",
          "model_name": "HTMLModel",
          "model_module_version": "1.5.0",
          "state": {
            "_dom_classes": [],
            "_model_module": "@jupyter-widgets/controls",
            "_model_module_version": "1.5.0",
            "_model_name": "HTMLModel",
            "_view_count": null,
            "_view_module": "@jupyter-widgets/controls",
            "_view_module_version": "1.5.0",
            "_view_name": "HTMLView",
            "description": "",
            "description_tooltip": null,
            "layout": "IPY_MODEL_6c7f5ceca4e54c678d4216bb818c95da",
            "placeholder": "​",
            "style": "IPY_MODEL_b992bc731a624084995d83332f419aeb",
            "value": " 150/150 [00:00&lt;00:00, 3.25kB/s]"
          }
        },
        "b71b3216d75448a381293229f6a9cdc1": {
          "model_module": "@jupyter-widgets/base",
          "model_name": "LayoutModel",
          "model_module_version": "1.2.0",
          "state": {
            "_model_module": "@jupyter-widgets/base",
            "_model_module_version": "1.2.0",
            "_model_name": "LayoutModel",
            "_view_count": null,
            "_view_module": "@jupyter-widgets/base",
            "_view_module_version": "1.2.0",
            "_view_name": "LayoutView",
            "align_content": null,
            "align_items": null,
            "align_self": null,
            "border": null,
            "bottom": null,
            "display": null,
            "flex": null,
            "flex_flow": null,
            "grid_area": null,
            "grid_auto_columns": null,
            "grid_auto_flow": null,
            "grid_auto_rows": null,
            "grid_column": null,
            "grid_gap": null,
            "grid_row": null,
            "grid_template_areas": null,
            "grid_template_columns": null,
            "grid_template_rows": null,
            "height": null,
            "justify_content": null,
            "justify_items": null,
            "left": null,
            "margin": null,
            "max_height": null,
            "max_width": null,
            "min_height": null,
            "min_width": null,
            "object_fit": null,
            "object_position": null,
            "order": null,
            "overflow": null,
            "overflow_x": null,
            "overflow_y": null,
            "padding": null,
            "right": null,
            "top": null,
            "visibility": null,
            "width": null
          }
        },
        "3ad5c1f0c0024634ba76d328c0f0df86": {
          "model_module": "@jupyter-widgets/base",
          "model_name": "LayoutModel",
          "model_module_version": "1.2.0",
          "state": {
            "_model_module": "@jupyter-widgets/base",
            "_model_module_version": "1.2.0",
            "_model_name": "LayoutModel",
            "_view_count": null,
            "_view_module": "@jupyter-widgets/base",
            "_view_module_version": "1.2.0",
            "_view_name": "LayoutView",
            "align_content": null,
            "align_items": null,
            "align_self": null,
            "border": null,
            "bottom": null,
            "display": null,
            "flex": null,
            "flex_flow": null,
            "grid_area": null,
            "grid_auto_columns": null,
            "grid_auto_flow": null,
            "grid_auto_rows": null,
            "grid_column": null,
            "grid_gap": null,
            "grid_row": null,
            "grid_template_areas": null,
            "grid_template_columns": null,
            "grid_template_rows": null,
            "height": null,
            "justify_content": null,
            "justify_items": null,
            "left": null,
            "margin": null,
            "max_height": null,
            "max_width": null,
            "min_height": null,
            "min_width": null,
            "object_fit": null,
            "object_position": null,
            "order": null,
            "overflow": null,
            "overflow_x": null,
            "overflow_y": null,
            "padding": null,
            "right": null,
            "top": null,
            "visibility": null,
            "width": null
          }
        },
        "1bbef6c237b140738bb2631dd7bcf315": {
          "model_module": "@jupyter-widgets/controls",
          "model_name": "DescriptionStyleModel",
          "model_module_version": "1.5.0",
          "state": {
            "_model_module": "@jupyter-widgets/controls",
            "_model_module_version": "1.5.0",
            "_model_name": "DescriptionStyleModel",
            "_view_count": null,
            "_view_module": "@jupyter-widgets/base",
            "_view_module_version": "1.2.0",
            "_view_name": "StyleView",
            "description_width": ""
          }
        },
        "e13d530c2de94fca81f129704ba20277": {
          "model_module": "@jupyter-widgets/base",
          "model_name": "LayoutModel",
          "model_module_version": "1.2.0",
          "state": {
            "_model_module": "@jupyter-widgets/base",
            "_model_module_version": "1.2.0",
            "_model_name": "LayoutModel",
            "_view_count": null,
            "_view_module": "@jupyter-widgets/base",
            "_view_module_version": "1.2.0",
            "_view_name": "LayoutView",
            "align_content": null,
            "align_items": null,
            "align_self": null,
            "border": null,
            "bottom": null,
            "display": null,
            "flex": null,
            "flex_flow": null,
            "grid_area": null,
            "grid_auto_columns": null,
            "grid_auto_flow": null,
            "grid_auto_rows": null,
            "grid_column": null,
            "grid_gap": null,
            "grid_row": null,
            "grid_template_areas": null,
            "grid_template_columns": null,
            "grid_template_rows": null,
            "height": null,
            "justify_content": null,
            "justify_items": null,
            "left": null,
            "margin": null,
            "max_height": null,
            "max_width": null,
            "min_height": null,
            "min_width": null,
            "object_fit": null,
            "object_position": null,
            "order": null,
            "overflow": null,
            "overflow_x": null,
            "overflow_y": null,
            "padding": null,
            "right": null,
            "top": null,
            "visibility": null,
            "width": null
          }
        },
        "a074a8c5207d41bd83e777e6b72fa9bd": {
          "model_module": "@jupyter-widgets/controls",
          "model_name": "ProgressStyleModel",
          "model_module_version": "1.5.0",
          "state": {
            "_model_module": "@jupyter-widgets/controls",
            "_model_module_version": "1.5.0",
            "_model_name": "ProgressStyleModel",
            "_view_count": null,
            "_view_module": "@jupyter-widgets/base",
            "_view_module_version": "1.2.0",
            "_view_name": "StyleView",
            "bar_color": null,
            "description_width": ""
          }
        },
        "6c7f5ceca4e54c678d4216bb818c95da": {
          "model_module": "@jupyter-widgets/base",
          "model_name": "LayoutModel",
          "model_module_version": "1.2.0",
          "state": {
            "_model_module": "@jupyter-widgets/base",
            "_model_module_version": "1.2.0",
            "_model_name": "LayoutModel",
            "_view_count": null,
            "_view_module": "@jupyter-widgets/base",
            "_view_module_version": "1.2.0",
            "_view_name": "LayoutView",
            "align_content": null,
            "align_items": null,
            "align_self": null,
            "border": null,
            "bottom": null,
            "display": null,
            "flex": null,
            "flex_flow": null,
            "grid_area": null,
            "grid_auto_columns": null,
            "grid_auto_flow": null,
            "grid_auto_rows": null,
            "grid_column": null,
            "grid_gap": null,
            "grid_row": null,
            "grid_template_areas": null,
            "grid_template_columns": null,
            "grid_template_rows": null,
            "height": null,
            "justify_content": null,
            "justify_items": null,
            "left": null,
            "margin": null,
            "max_height": null,
            "max_width": null,
            "min_height": null,
            "min_width": null,
            "object_fit": null,
            "object_position": null,
            "order": null,
            "overflow": null,
            "overflow_x": null,
            "overflow_y": null,
            "padding": null,
            "right": null,
            "top": null,
            "visibility": null,
            "width": null
          }
        },
        "b992bc731a624084995d83332f419aeb": {
          "model_module": "@jupyter-widgets/controls",
          "model_name": "DescriptionStyleModel",
          "model_module_version": "1.5.0",
          "state": {
            "_model_module": "@jupyter-widgets/controls",
            "_model_module_version": "1.5.0",
            "_model_name": "DescriptionStyleModel",
            "_view_count": null,
            "_view_module": "@jupyter-widgets/base",
            "_view_module_version": "1.2.0",
            "_view_name": "StyleView",
            "description_width": ""
          }
        },
        "d261b45f4e4e458eab2352e33fd84913": {
          "model_module": "@jupyter-widgets/controls",
          "model_name": "HBoxModel",
          "model_module_version": "1.5.0",
          "state": {
            "_dom_classes": [],
            "_model_module": "@jupyter-widgets/controls",
            "_model_module_version": "1.5.0",
            "_model_name": "HBoxModel",
            "_view_count": null,
            "_view_module": "@jupyter-widgets/controls",
            "_view_module_version": "1.5.0",
            "_view_name": "HBoxView",
            "box_style": "",
            "children": [
              "IPY_MODEL_19a1bf5cd85044b28ea62b2f1037ae72",
              "IPY_MODEL_6ee95af5ad8a4a13a0d9167e30e4b686",
              "IPY_MODEL_f574475f50184b329366569c97b3f93c"
            ],
            "layout": "IPY_MODEL_b9ac1c9d44c0465a9a67995d87d644f4"
          }
        },
        "19a1bf5cd85044b28ea62b2f1037ae72": {
          "model_module": "@jupyter-widgets/controls",
          "model_name": "HTMLModel",
          "model_module_version": "1.5.0",
          "state": {
            "_dom_classes": [],
            "_model_module": "@jupyter-widgets/controls",
            "_model_module_version": "1.5.0",
            "_model_name": "HTMLModel",
            "_view_count": null,
            "_view_module": "@jupyter-widgets/controls",
            "_view_module_version": "1.5.0",
            "_view_name": "HTMLView",
            "description": "",
            "description_tooltip": null,
            "layout": "IPY_MODEL_00e1866a3c1c4453bf955d72c3683ec1",
            "placeholder": "​",
            "style": "IPY_MODEL_250f5d0ee4294bce858cc6651f376577",
            "value": "Downloading: 100%"
          }
        },
        "6ee95af5ad8a4a13a0d9167e30e4b686": {
          "model_module": "@jupyter-widgets/controls",
          "model_name": "FloatProgressModel",
          "model_module_version": "1.5.0",
          "state": {
            "_dom_classes": [],
            "_model_module": "@jupyter-widgets/controls",
            "_model_module_version": "1.5.0",
            "_model_name": "FloatProgressModel",
            "_view_count": null,
            "_view_module": "@jupyter-widgets/controls",
            "_view_module_version": "1.5.0",
            "_view_name": "ProgressView",
            "bar_style": "success",
            "description": "",
            "description_tooltip": null,
            "layout": "IPY_MODEL_94200be34e134b1c884c587f25731ee7",
            "max": 542443775,
            "min": 0,
            "orientation": "horizontal",
            "style": "IPY_MODEL_f34183ff8a464bcc94485e3a97068062",
            "value": 542443775
          }
        },
        "f574475f50184b329366569c97b3f93c": {
          "model_module": "@jupyter-widgets/controls",
          "model_name": "HTMLModel",
          "model_module_version": "1.5.0",
          "state": {
            "_dom_classes": [],
            "_model_module": "@jupyter-widgets/controls",
            "_model_module_version": "1.5.0",
            "_model_name": "HTMLModel",
            "_view_count": null,
            "_view_module": "@jupyter-widgets/controls",
            "_view_module_version": "1.5.0",
            "_view_name": "HTMLView",
            "description": "",
            "description_tooltip": null,
            "layout": "IPY_MODEL_25e74a2406ea41b49f22dad41814dd49",
            "placeholder": "​",
            "style": "IPY_MODEL_705f48618080460cbc2b9285f13ed7d9",
            "value": " 517M/517M [00:13&lt;00:00, 45.0MB/s]"
          }
        },
        "b9ac1c9d44c0465a9a67995d87d644f4": {
          "model_module": "@jupyter-widgets/base",
          "model_name": "LayoutModel",
          "model_module_version": "1.2.0",
          "state": {
            "_model_module": "@jupyter-widgets/base",
            "_model_module_version": "1.2.0",
            "_model_name": "LayoutModel",
            "_view_count": null,
            "_view_module": "@jupyter-widgets/base",
            "_view_module_version": "1.2.0",
            "_view_name": "LayoutView",
            "align_content": null,
            "align_items": null,
            "align_self": null,
            "border": null,
            "bottom": null,
            "display": null,
            "flex": null,
            "flex_flow": null,
            "grid_area": null,
            "grid_auto_columns": null,
            "grid_auto_flow": null,
            "grid_auto_rows": null,
            "grid_column": null,
            "grid_gap": null,
            "grid_row": null,
            "grid_template_areas": null,
            "grid_template_columns": null,
            "grid_template_rows": null,
            "height": null,
            "justify_content": null,
            "justify_items": null,
            "left": null,
            "margin": null,
            "max_height": null,
            "max_width": null,
            "min_height": null,
            "min_width": null,
            "object_fit": null,
            "object_position": null,
            "order": null,
            "overflow": null,
            "overflow_x": null,
            "overflow_y": null,
            "padding": null,
            "right": null,
            "top": null,
            "visibility": null,
            "width": null
          }
        },
        "00e1866a3c1c4453bf955d72c3683ec1": {
          "model_module": "@jupyter-widgets/base",
          "model_name": "LayoutModel",
          "model_module_version": "1.2.0",
          "state": {
            "_model_module": "@jupyter-widgets/base",
            "_model_module_version": "1.2.0",
            "_model_name": "LayoutModel",
            "_view_count": null,
            "_view_module": "@jupyter-widgets/base",
            "_view_module_version": "1.2.0",
            "_view_name": "LayoutView",
            "align_content": null,
            "align_items": null,
            "align_self": null,
            "border": null,
            "bottom": null,
            "display": null,
            "flex": null,
            "flex_flow": null,
            "grid_area": null,
            "grid_auto_columns": null,
            "grid_auto_flow": null,
            "grid_auto_rows": null,
            "grid_column": null,
            "grid_gap": null,
            "grid_row": null,
            "grid_template_areas": null,
            "grid_template_columns": null,
            "grid_template_rows": null,
            "height": null,
            "justify_content": null,
            "justify_items": null,
            "left": null,
            "margin": null,
            "max_height": null,
            "max_width": null,
            "min_height": null,
            "min_width": null,
            "object_fit": null,
            "object_position": null,
            "order": null,
            "overflow": null,
            "overflow_x": null,
            "overflow_y": null,
            "padding": null,
            "right": null,
            "top": null,
            "visibility": null,
            "width": null
          }
        },
        "250f5d0ee4294bce858cc6651f376577": {
          "model_module": "@jupyter-widgets/controls",
          "model_name": "DescriptionStyleModel",
          "model_module_version": "1.5.0",
          "state": {
            "_model_module": "@jupyter-widgets/controls",
            "_model_module_version": "1.5.0",
            "_model_name": "DescriptionStyleModel",
            "_view_count": null,
            "_view_module": "@jupyter-widgets/base",
            "_view_module_version": "1.2.0",
            "_view_name": "StyleView",
            "description_width": ""
          }
        },
        "94200be34e134b1c884c587f25731ee7": {
          "model_module": "@jupyter-widgets/base",
          "model_name": "LayoutModel",
          "model_module_version": "1.2.0",
          "state": {
            "_model_module": "@jupyter-widgets/base",
            "_model_module_version": "1.2.0",
            "_model_name": "LayoutModel",
            "_view_count": null,
            "_view_module": "@jupyter-widgets/base",
            "_view_module_version": "1.2.0",
            "_view_name": "LayoutView",
            "align_content": null,
            "align_items": null,
            "align_self": null,
            "border": null,
            "bottom": null,
            "display": null,
            "flex": null,
            "flex_flow": null,
            "grid_area": null,
            "grid_auto_columns": null,
            "grid_auto_flow": null,
            "grid_auto_rows": null,
            "grid_column": null,
            "grid_gap": null,
            "grid_row": null,
            "grid_template_areas": null,
            "grid_template_columns": null,
            "grid_template_rows": null,
            "height": null,
            "justify_content": null,
            "justify_items": null,
            "left": null,
            "margin": null,
            "max_height": null,
            "max_width": null,
            "min_height": null,
            "min_width": null,
            "object_fit": null,
            "object_position": null,
            "order": null,
            "overflow": null,
            "overflow_x": null,
            "overflow_y": null,
            "padding": null,
            "right": null,
            "top": null,
            "visibility": null,
            "width": null
          }
        },
        "f34183ff8a464bcc94485e3a97068062": {
          "model_module": "@jupyter-widgets/controls",
          "model_name": "ProgressStyleModel",
          "model_module_version": "1.5.0",
          "state": {
            "_model_module": "@jupyter-widgets/controls",
            "_model_module_version": "1.5.0",
            "_model_name": "ProgressStyleModel",
            "_view_count": null,
            "_view_module": "@jupyter-widgets/base",
            "_view_module_version": "1.2.0",
            "_view_name": "StyleView",
            "bar_color": null,
            "description_width": ""
          }
        },
        "25e74a2406ea41b49f22dad41814dd49": {
          "model_module": "@jupyter-widgets/base",
          "model_name": "LayoutModel",
          "model_module_version": "1.2.0",
          "state": {
            "_model_module": "@jupyter-widgets/base",
            "_model_module_version": "1.2.0",
            "_model_name": "LayoutModel",
            "_view_count": null,
            "_view_module": "@jupyter-widgets/base",
            "_view_module_version": "1.2.0",
            "_view_name": "LayoutView",
            "align_content": null,
            "align_items": null,
            "align_self": null,
            "border": null,
            "bottom": null,
            "display": null,
            "flex": null,
            "flex_flow": null,
            "grid_area": null,
            "grid_auto_columns": null,
            "grid_auto_flow": null,
            "grid_auto_rows": null,
            "grid_column": null,
            "grid_gap": null,
            "grid_row": null,
            "grid_template_areas": null,
            "grid_template_columns": null,
            "grid_template_rows": null,
            "height": null,
            "justify_content": null,
            "justify_items": null,
            "left": null,
            "margin": null,
            "max_height": null,
            "max_width": null,
            "min_height": null,
            "min_width": null,
            "object_fit": null,
            "object_position": null,
            "order": null,
            "overflow": null,
            "overflow_x": null,
            "overflow_y": null,
            "padding": null,
            "right": null,
            "top": null,
            "visibility": null,
            "width": null
          }
        },
        "705f48618080460cbc2b9285f13ed7d9": {
          "model_module": "@jupyter-widgets/controls",
          "model_name": "DescriptionStyleModel",
          "model_module_version": "1.5.0",
          "state": {
            "_model_module": "@jupyter-widgets/controls",
            "_model_module_version": "1.5.0",
            "_model_name": "DescriptionStyleModel",
            "_view_count": null,
            "_view_module": "@jupyter-widgets/base",
            "_view_module_version": "1.2.0",
            "_view_name": "StyleView",
            "description_width": ""
          }
        }
      }
    }
  },
  "nbformat": 4,
  "nbformat_minor": 0
}